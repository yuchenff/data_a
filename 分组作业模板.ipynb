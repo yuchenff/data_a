{
 "cells": [
  {
   "cell_type": "markdown",
   "id": "bf17deca",
   "metadata": {},
   "source": [
    "# 1. 基本情况\n",
    "\n",
    "## 题目：\n",
    "\n",
    "## 日期：\n",
    "\n",
    "## 成员：\n",
    "\n",
    "序号 | 学号 | 姓名 | 主要工作 | 贡献度\n",
    ":-:|:-:|:-:|:-|:-:\n",
    "1 |20222752 |鲁哲予 |获取数据和处理 |15% \n",
    "2 | | |15% | \n",
    "3 | | |14% | \n",
    "4 | | |14% | \n",
    "5 | | |14% | \n",
    "6 | | |14% |\n",
    "7 | | |14%\n",
    "\n",
    ">说明：\n",
    ">1. 主要工作简要写明每位成员承担的工作内容。\n",
    ">2. 按成员的贡献给出百分比，贡献度总和=100%"
   ]
  },
  {
   "cell_type": "markdown",
   "id": "f7933531",
   "metadata": {},
   "source": [
    "# 2. 选题的目的与意义"
   ]
  },
  {
   "cell_type": "markdown",
   "id": "a05d388b",
   "metadata": {},
   "source": [
    ">注：为什么要选择这个题目？意义是什么？\n"
   ]
  },
  {
   "cell_type": "markdown",
   "id": "46bdf172",
   "metadata": {},
   "source": [
    "# 3. 实现目标\n",
    "对北京二手房数据进行分析和预测\n"
   ]
  },
  {
   "cell_type": "markdown",
   "id": "b00f0ab4",
   "metadata": {},
   "source": [
    "# 4. 版本说明\n",
    "- pandas 2.2.2\n",
    "- matplotlib 3.8.4\n",
    "- seaborn 0.13.2\n",
    "- scikit-learn 1.4.2\n",
    "- plotly 6.0.1\n",
    "- numpy 1.26.4\n",
    "\n"
   ]
  },
  {
   "cell_type": "code",
   "execution_count": null,
   "id": "62b6ce5c",
   "metadata": {
    "ExecuteTime": {
     "end_time": "2023-04-18T12:37:01.950922Z",
     "start_time": "2023-04-18T12:37:01.943202Z"
    }
   },
   "outputs": [],
   "source": [
    "# 引入包，将作业使用的包都放在这里一并引入\n",
    "# 如有可视化设置，也在这里写明\n",
    "import pandas as pd\n",
    "import numpy as np\n",
    "import matplotlib.pyplot as plt\n",
    "import seaborn as sns\n",
    "import plotly.express as px\n",
    "from sklearn import svm\n",
    "from sklearn.preprocessing import LabelEncoder\n",
    "from sklearn.model_selection import train_test_split\n",
    "from sklearn.ensemble import RandomForestRegressor\n",
    "from sklearn.model_selection import RandomizedSearchCV\n",
    "from sklearn.metrics import mean_squared_error, explained_variance_score, mean_absolute_error"
   ]
  },
  {
   "cell_type": "markdown",
   "id": "db683f73",
   "metadata": {},
   "source": [
    "# 5. 数据来源\n",
    "\n",
    ">注：\n",
    ">1. 说明数据的获取方法，使用的语句。\n",
    ">2. 将数据源保存成 _csv_ 格式的文件，与作业一起上交。"
   ]
  },
  {
   "cell_type": "code",
   "execution_count": null,
   "id": "083fdf60",
   "metadata": {},
   "outputs": [],
   "source": [
    "LianjiaDf = pd.read_csv(\"lianjia_beijing_ershoufangshuju.csv\")\n",
    "print(LianjiaDf .dtypes)\n",
    "print(LianjiaDf.info)\n",
    "print(LianjiaDf.describe())"
   ]
  },
  {
   "cell_type": "markdown",
   "id": "3e191984",
   "metadata": {},
   "source": [
    "# 6. 数据分析过程\n",
    "\n",
    ">注：写清楚数据分析、处理、转换、可视化的流程、步骤、关键语句、可视化结果及结论。"
   ]
  },
  {
   "cell_type": "code",
   "execution_count": 22,
   "id": "30251007",
   "metadata": {},
   "outputs": [
    {
     "name": "stdout",
     "output_type": "stream",
     "text": [
      "ID              int64\n",
      "Direction      object\n",
      "Community      object\n",
      "Elevator       object\n",
      "Floor          object\n",
      "TotalFloor      int64\n",
      "Layout         object\n",
      "Price         float64\n",
      "Region         object\n",
      "Renovation     object\n",
      "Size          float64\n",
      "Year          float64\n",
      "dtype: object\n",
      "<bound method DataFrame.info of                 ID Direction Community Elevator Floor  TotalFloor Layout  \\\n",
      "0     101122188414        南北   首开常青藤二期        有   低楼层           6   3室1厅   \n",
      "1     101121748777        南北    北街家园八区        有   中楼层          17   2室1厅   \n",
      "2     101121548718         西    万年花城三期        有    底层          16   2室1厅   \n",
      "3     101123385956         南    中海金玺公馆        有   高楼层          15   2室1厅   \n",
      "4     101119770315        南北  草桥东路16号楼        有   中楼层          14   2室1厅   \n",
      "...            ...       ...       ...      ...   ...         ...    ...   \n",
      "2995  101123179603       南西北   广安﹒康馨家园        有   中楼层          28   3室2厅   \n",
      "2996  101120905559        南北      美景东方        有   低楼层          12   1室1厅   \n",
      "2997  101123332648        东南      莲花小区        有   中楼层          28   2室2厅   \n",
      "2998  101123446292         南      东方雅苑        有    底层          18   1室0厅   \n",
      "2999  101123729845         西    南庭新苑南区        有   高楼层          15   1室1厅   \n",
      "\n",
      "      Price Region Renovation    Size    Year  \n",
      "0     650.0     朝阳         简装   91.19  2013.0  \n",
      "1     356.0     昌平         精装   87.77     NaN  \n",
      "2     420.0     丰台         精装   79.89  2006.0  \n",
      "3     598.0    石景山         简装   89.78  2017.0  \n",
      "4     386.0     丰台         简装   63.45     NaN  \n",
      "...     ...    ...        ...     ...     ...  \n",
      "2995  478.0     丰台         精装   93.89  2015.0  \n",
      "2996  350.0     朝阳         精装   62.57     NaN  \n",
      "2997  736.0     海淀         精装  100.83     NaN  \n",
      "2998  331.0     朝阳         简装   47.81  2006.0  \n",
      "2999  168.0     丰台         简装   51.14     NaN  \n",
      "\n",
      "[3000 rows x 12 columns]>\n",
      "                 ID   TotalFloor        Price         Size         Year\n",
      "count  3.000000e+03  3000.000000  3000.000000  3000.000000  1411.000000\n",
      "mean   1.011229e+11    13.830000   458.162633    81.604440  2001.056697\n",
      "std    1.289083e+06     8.069333   336.814033    32.628129    11.012806\n",
      "min    1.011133e+11     1.000000    56.000000    11.390000  1949.000000\n",
      "25%    1.011223e+11     6.000000   258.000000    58.917500  1993.000000\n",
      "50%    1.011233e+11    12.000000   369.000000    76.090000  2003.000000\n",
      "75%    1.011238e+11    20.000000   538.000000    94.082500  2010.000000\n",
      "max    1.011243e+11    35.000000  3350.000000   288.650000  2022.000000\n"
     ]
    }
   ],
   "source": [
    "LianjiaDf = pd.read_csv(\"lianjia_beijing_ershoufangshuju.csv\")\n",
    "print(LianjiaDf .dtypes)\n",
    "print(LianjiaDf.info)\n",
    "print(LianjiaDf.describe())"
   ]
  },
  {
   "cell_type": "code",
   "execution_count": 23,
   "id": "07f86d78",
   "metadata": {},
   "outputs": [
    {
     "name": "stdout",
     "output_type": "stream",
     "text": [
      "重复数据的的数量： 798\n",
      "ID               0\n",
      "Direction        0\n",
      "Community        0\n",
      "Elevator         1\n",
      "Floor            0\n",
      "TotalFloor       0\n",
      "Layout           0\n",
      "Price            0\n",
      "Region           0\n",
      "Renovation       0\n",
      "Size             0\n",
      "Year          1180\n",
      "PerPrice         0\n",
      "dtype: int64\n",
      "ID            0\n",
      "Direction     0\n",
      "Community     0\n",
      "Elevator      0\n",
      "Floor         0\n",
      "TotalFloor    0\n",
      "Layout        0\n",
      "Price         0\n",
      "Region        0\n",
      "Renovation    0\n",
      "Size          0\n",
      "Year          0\n",
      "PerPrice      0\n",
      "dtype: int64\n",
      "处理后重复数据的的数量： 0\n",
      "ID            1022\n",
      "Direction     1022\n",
      "Community     1022\n",
      "Elevator      1022\n",
      "Floor         1022\n",
      "TotalFloor    1022\n",
      "Layout        1022\n",
      "Price         1022\n",
      "Region        1022\n",
      "Renovation    1022\n",
      "Size          1022\n",
      "Year          1022\n",
      "PerPrice      1022\n",
      "dtype: int64\n"
     ]
    }
   ],
   "source": [
    "df = LianjiaDf.copy()\n",
    "df['PerPrice'] = (LianjiaDf['Price']/LianjiaDf['Size'])*10000\n",
    "df.head(n=10)\n",
    "print(\"重复数据的的数量：\",df.duplicated().sum())\n",
    "df = df.drop_duplicates()\n",
    "print(df.isnull().sum())\n",
    "df = df.dropna()\n",
    "print(df.isnull().sum())\n",
    "print(\"处理后重复数据的的数量：\",df.duplicated().sum())\n",
    "print(df.count())"
   ]
  },
  {
   "cell_type": "code",
   "execution_count": 24,
   "id": "f6594505",
   "metadata": {},
   "outputs": [],
   "source": [
    "df_house_number_count = df.groupby(\"Region\")[\"Price\"].count().sort_values(ascending=False).to_frame().reset_index()\n",
    "df_house_per_price = df.groupby(\"Region\")['PerPrice'].mean().sort_values(ascending=False).to_frame().reset_index()"
   ]
  },
  {
   "cell_type": "code",
   "execution_count": 25,
   "id": "8ce7aa0c",
   "metadata": {},
   "outputs": [
    {
     "data": {
      "text/html": [
       "<div>\n",
       "<style scoped>\n",
       "    .dataframe tbody tr th:only-of-type {\n",
       "        vertical-align: middle;\n",
       "    }\n",
       "\n",
       "    .dataframe tbody tr th {\n",
       "        vertical-align: top;\n",
       "    }\n",
       "\n",
       "    .dataframe thead th {\n",
       "        text-align: right;\n",
       "    }\n",
       "</style>\n",
       "<table border=\"1\" class=\"dataframe\">\n",
       "  <thead>\n",
       "    <tr style=\"text-align: right;\">\n",
       "      <th></th>\n",
       "      <th>Region</th>\n",
       "      <th>Number</th>\n",
       "    </tr>\n",
       "  </thead>\n",
       "  <tbody>\n",
       "    <tr>\n",
       "      <th>0</th>\n",
       "      <td>朝阳</td>\n",
       "      <td>304</td>\n",
       "    </tr>\n",
       "    <tr>\n",
       "      <th>1</th>\n",
       "      <td>丰台</td>\n",
       "      <td>122</td>\n",
       "    </tr>\n",
       "    <tr>\n",
       "      <th>2</th>\n",
       "      <td>海淀</td>\n",
       "      <td>106</td>\n",
       "    </tr>\n",
       "    <tr>\n",
       "      <th>3</th>\n",
       "      <td>通州</td>\n",
       "      <td>80</td>\n",
       "    </tr>\n",
       "    <tr>\n",
       "      <th>4</th>\n",
       "      <td>昌平</td>\n",
       "      <td>79</td>\n",
       "    </tr>\n",
       "    <tr>\n",
       "      <th>5</th>\n",
       "      <td>房山</td>\n",
       "      <td>71</td>\n",
       "    </tr>\n",
       "    <tr>\n",
       "      <th>6</th>\n",
       "      <td>大兴</td>\n",
       "      <td>61</td>\n",
       "    </tr>\n",
       "    <tr>\n",
       "      <th>7</th>\n",
       "      <td>西城</td>\n",
       "      <td>56</td>\n",
       "    </tr>\n",
       "    <tr>\n",
       "      <th>8</th>\n",
       "      <td>顺义</td>\n",
       "      <td>43</td>\n",
       "    </tr>\n",
       "    <tr>\n",
       "      <th>9</th>\n",
       "      <td>石景山</td>\n",
       "      <td>37</td>\n",
       "    </tr>\n",
       "    <tr>\n",
       "      <th>10</th>\n",
       "      <td>东城</td>\n",
       "      <td>26</td>\n",
       "    </tr>\n",
       "    <tr>\n",
       "      <th>11</th>\n",
       "      <td>亦庄开发区</td>\n",
       "      <td>12</td>\n",
       "    </tr>\n",
       "    <tr>\n",
       "      <th>12</th>\n",
       "      <td>门头沟</td>\n",
       "      <td>9</td>\n",
       "    </tr>\n",
       "    <tr>\n",
       "      <th>13</th>\n",
       "      <td>密云</td>\n",
       "      <td>8</td>\n",
       "    </tr>\n",
       "    <tr>\n",
       "      <th>14</th>\n",
       "      <td>怀柔</td>\n",
       "      <td>8</td>\n",
       "    </tr>\n",
       "  </tbody>\n",
       "</table>\n",
       "</div>"
      ],
      "text/plain": [
       "   Region  Number\n",
       "0      朝阳     304\n",
       "1      丰台     122\n",
       "2      海淀     106\n",
       "3      通州      80\n",
       "4      昌平      79\n",
       "5      房山      71\n",
       "6      大兴      61\n",
       "7      西城      56\n",
       "8      顺义      43\n",
       "9     石景山      37\n",
       "10     东城      26\n",
       "11  亦庄开发区      12\n",
       "12    门头沟       9\n",
       "13     密云       8\n",
       "14     怀柔       8"
      ]
     },
     "execution_count": 25,
     "metadata": {},
     "output_type": "execute_result"
    }
   ],
   "source": [
    "df_house_number_count.rename(columns={'Price':\"Number\"},inplace=True)\n",
    "df_house_number_count"
   ]
  },
  {
   "cell_type": "code",
   "execution_count": 27,
   "id": "74bdcec2",
   "metadata": {},
   "outputs": [
    {
     "ename": "ValueError",
     "evalue": "Mime type rendering requires nbformat>=4.2.0 but it is not installed",
     "output_type": "error",
     "traceback": [
      "\u001b[31m---------------------------------------------------------------------------\u001b[39m",
      "\u001b[31mValueError\u001b[39m                                Traceback (most recent call last)",
      "\u001b[36mFile \u001b[39m\u001b[32mc:\\Users\\57177\\AppData\\Local\\Programs\\Python\\Python312\\Lib\\site-packages\\IPython\\core\\formatters.py:984\u001b[39m, in \u001b[36mIPythonDisplayFormatter.__call__\u001b[39m\u001b[34m(self, obj)\u001b[39m\n\u001b[32m    982\u001b[39m method = get_real_method(obj, \u001b[38;5;28mself\u001b[39m.print_method)\n\u001b[32m    983\u001b[39m \u001b[38;5;28;01mif\u001b[39;00m method \u001b[38;5;129;01mis\u001b[39;00m \u001b[38;5;129;01mnot\u001b[39;00m \u001b[38;5;28;01mNone\u001b[39;00m:\n\u001b[32m--> \u001b[39m\u001b[32m984\u001b[39m     \u001b[43mmethod\u001b[49m\u001b[43m(\u001b[49m\u001b[43m)\u001b[49m\n\u001b[32m    985\u001b[39m     \u001b[38;5;28;01mreturn\u001b[39;00m \u001b[38;5;28;01mTrue\u001b[39;00m\n",
      "\u001b[36mFile \u001b[39m\u001b[32mc:\\Users\\57177\\AppData\\Local\\Programs\\Python\\Python312\\Lib\\site-packages\\plotly\\basedatatypes.py:833\u001b[39m, in \u001b[36mBaseFigure._ipython_display_\u001b[39m\u001b[34m(self)\u001b[39m\n\u001b[32m    830\u001b[39m \u001b[38;5;28;01mimport\u001b[39;00m \u001b[34;01mplotly\u001b[39;00m\u001b[34;01m.\u001b[39;00m\u001b[34;01mio\u001b[39;00m \u001b[38;5;28;01mas\u001b[39;00m \u001b[34;01mpio\u001b[39;00m\n\u001b[32m    832\u001b[39m \u001b[38;5;28;01mif\u001b[39;00m pio.renderers.render_on_display \u001b[38;5;129;01mand\u001b[39;00m pio.renderers.default:\n\u001b[32m--> \u001b[39m\u001b[32m833\u001b[39m     \u001b[43mpio\u001b[49m\u001b[43m.\u001b[49m\u001b[43mshow\u001b[49m\u001b[43m(\u001b[49m\u001b[38;5;28;43mself\u001b[39;49m\u001b[43m)\u001b[49m\n\u001b[32m    834\u001b[39m \u001b[38;5;28;01melse\u001b[39;00m:\n\u001b[32m    835\u001b[39m     \u001b[38;5;28mprint\u001b[39m(\u001b[38;5;28mrepr\u001b[39m(\u001b[38;5;28mself\u001b[39m))\n",
      "\u001b[36mFile \u001b[39m\u001b[32mc:\\Users\\57177\\AppData\\Local\\Programs\\Python\\Python312\\Lib\\site-packages\\plotly\\io\\_renderers.py:425\u001b[39m, in \u001b[36mshow\u001b[39m\u001b[34m(fig, renderer, validate, **kwargs)\u001b[39m\n\u001b[32m    420\u001b[39m     \u001b[38;5;28;01mraise\u001b[39;00m \u001b[38;5;167;01mValueError\u001b[39;00m(\n\u001b[32m    421\u001b[39m         \u001b[33m\"\u001b[39m\u001b[33mMime type rendering requires ipython but it is not installed\u001b[39m\u001b[33m\"\u001b[39m\n\u001b[32m    422\u001b[39m     )\n\u001b[32m    424\u001b[39m \u001b[38;5;28;01mif\u001b[39;00m \u001b[38;5;129;01mnot\u001b[39;00m nbformat \u001b[38;5;129;01mor\u001b[39;00m Version(nbformat.__version__) < Version(\u001b[33m\"\u001b[39m\u001b[33m4.2.0\u001b[39m\u001b[33m\"\u001b[39m):\n\u001b[32m--> \u001b[39m\u001b[32m425\u001b[39m     \u001b[38;5;28;01mraise\u001b[39;00m \u001b[38;5;167;01mValueError\u001b[39;00m(\n\u001b[32m    426\u001b[39m         \u001b[33m\"\u001b[39m\u001b[33mMime type rendering requires nbformat>=4.2.0 but it is not installed\u001b[39m\u001b[33m\"\u001b[39m\n\u001b[32m    427\u001b[39m     )\n\u001b[32m    429\u001b[39m display_jupyter_version_warnings()\n\u001b[32m    431\u001b[39m ipython_display.display(bundle, raw=\u001b[38;5;28;01mTrue\u001b[39;00m)\n",
      "\u001b[31mValueError\u001b[39m: Mime type rendering requires nbformat>=4.2.0 but it is not installed"
     ]
    },
    {
     "data": {
      "application/vnd.plotly.v1+json": {
       "config": {
        "plotlyServerURL": "https://plot.ly"
       },
       "data": [
        {
         "alignmentgroup": "True",
         "hovertemplate": "Region=%{x}<br>Price=%{y}<extra></extra>",
         "legendgroup": "朝阳",
         "marker": {
          "color": "#636efa"
         },
         "name": "朝阳",
         "notched": false,
         "offsetgroup": "朝阳",
         "orientation": "v",
         "showlegend": true,
         "type": "box",
         "x": [
          "朝阳",
          "朝阳",
          "朝阳",
          "朝阳",
          "朝阳",
          "朝阳",
          "朝阳",
          "朝阳",
          "朝阳",
          "朝阳",
          "朝阳",
          "朝阳",
          "朝阳",
          "朝阳",
          "朝阳",
          "朝阳",
          "朝阳",
          "朝阳",
          "朝阳",
          "朝阳",
          "朝阳",
          "朝阳",
          "朝阳",
          "朝阳",
          "朝阳",
          "朝阳",
          "朝阳",
          "朝阳",
          "朝阳",
          "朝阳",
          "朝阳",
          "朝阳",
          "朝阳",
          "朝阳",
          "朝阳",
          "朝阳",
          "朝阳",
          "朝阳",
          "朝阳",
          "朝阳",
          "朝阳",
          "朝阳",
          "朝阳",
          "朝阳",
          "朝阳",
          "朝阳",
          "朝阳",
          "朝阳",
          "朝阳",
          "朝阳",
          "朝阳",
          "朝阳",
          "朝阳",
          "朝阳",
          "朝阳",
          "朝阳",
          "朝阳",
          "朝阳",
          "朝阳",
          "朝阳",
          "朝阳",
          "朝阳",
          "朝阳",
          "朝阳",
          "朝阳",
          "朝阳",
          "朝阳",
          "朝阳",
          "朝阳",
          "朝阳",
          "朝阳",
          "朝阳",
          "朝阳",
          "朝阳",
          "朝阳",
          "朝阳",
          "朝阳",
          "朝阳",
          "朝阳",
          "朝阳",
          "朝阳",
          "朝阳",
          "朝阳",
          "朝阳",
          "朝阳",
          "朝阳",
          "朝阳",
          "朝阳",
          "朝阳",
          "朝阳",
          "朝阳",
          "朝阳",
          "朝阳",
          "朝阳",
          "朝阳",
          "朝阳",
          "朝阳",
          "朝阳",
          "朝阳",
          "朝阳",
          "朝阳",
          "朝阳",
          "朝阳",
          "朝阳",
          "朝阳",
          "朝阳",
          "朝阳",
          "朝阳",
          "朝阳",
          "朝阳",
          "朝阳",
          "朝阳",
          "朝阳",
          "朝阳",
          "朝阳",
          "朝阳",
          "朝阳",
          "朝阳",
          "朝阳",
          "朝阳",
          "朝阳",
          "朝阳",
          "朝阳",
          "朝阳",
          "朝阳",
          "朝阳",
          "朝阳",
          "朝阳",
          "朝阳",
          "朝阳",
          "朝阳",
          "朝阳",
          "朝阳",
          "朝阳",
          "朝阳",
          "朝阳",
          "朝阳",
          "朝阳",
          "朝阳",
          "朝阳",
          "朝阳",
          "朝阳",
          "朝阳",
          "朝阳",
          "朝阳",
          "朝阳",
          "朝阳",
          "朝阳",
          "朝阳",
          "朝阳",
          "朝阳",
          "朝阳",
          "朝阳",
          "朝阳",
          "朝阳",
          "朝阳",
          "朝阳",
          "朝阳",
          "朝阳",
          "朝阳",
          "朝阳",
          "朝阳",
          "朝阳",
          "朝阳",
          "朝阳",
          "朝阳",
          "朝阳",
          "朝阳",
          "朝阳",
          "朝阳",
          "朝阳",
          "朝阳",
          "朝阳",
          "朝阳",
          "朝阳",
          "朝阳",
          "朝阳",
          "朝阳",
          "朝阳",
          "朝阳",
          "朝阳",
          "朝阳",
          "朝阳",
          "朝阳",
          "朝阳",
          "朝阳",
          "朝阳",
          "朝阳",
          "朝阳",
          "朝阳",
          "朝阳",
          "朝阳",
          "朝阳",
          "朝阳",
          "朝阳",
          "朝阳",
          "朝阳",
          "朝阳",
          "朝阳",
          "朝阳",
          "朝阳",
          "朝阳",
          "朝阳",
          "朝阳",
          "朝阳",
          "朝阳",
          "朝阳",
          "朝阳",
          "朝阳",
          "朝阳",
          "朝阳",
          "朝阳",
          "朝阳",
          "朝阳",
          "朝阳",
          "朝阳",
          "朝阳",
          "朝阳",
          "朝阳",
          "朝阳",
          "朝阳",
          "朝阳",
          "朝阳",
          "朝阳",
          "朝阳",
          "朝阳",
          "朝阳",
          "朝阳",
          "朝阳",
          "朝阳",
          "朝阳",
          "朝阳",
          "朝阳",
          "朝阳",
          "朝阳",
          "朝阳",
          "朝阳",
          "朝阳",
          "朝阳",
          "朝阳",
          "朝阳",
          "朝阳",
          "朝阳",
          "朝阳",
          "朝阳",
          "朝阳",
          "朝阳",
          "朝阳",
          "朝阳",
          "朝阳",
          "朝阳",
          "朝阳",
          "朝阳",
          "朝阳",
          "朝阳",
          "朝阳",
          "朝阳",
          "朝阳",
          "朝阳",
          "朝阳",
          "朝阳",
          "朝阳",
          "朝阳",
          "朝阳",
          "朝阳",
          "朝阳",
          "朝阳",
          "朝阳",
          "朝阳",
          "朝阳",
          "朝阳",
          "朝阳",
          "朝阳",
          "朝阳",
          "朝阳",
          "朝阳",
          "朝阳",
          "朝阳",
          "朝阳",
          "朝阳",
          "朝阳",
          "朝阳",
          "朝阳",
          "朝阳",
          "朝阳",
          "朝阳",
          "朝阳",
          "朝阳",
          "朝阳",
          "朝阳",
          "朝阳",
          "朝阳",
          "朝阳",
          "朝阳",
          "朝阳",
          "朝阳",
          "朝阳",
          "朝阳",
          "朝阳",
          "朝阳",
          "朝阳",
          "朝阳",
          "朝阳",
          "朝阳"
         ],
         "x0": " ",
         "xaxis": "x",
         "y": {
          "bdata": "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",
          "dtype": "f8"
         },
         "y0": " ",
         "yaxis": "y"
        },
        {
         "alignmentgroup": "True",
         "hovertemplate": "Region=%{x}<br>Price=%{y}<extra></extra>",
         "legendgroup": "丰台",
         "marker": {
          "color": "#EF553B"
         },
         "name": "丰台",
         "notched": false,
         "offsetgroup": "丰台",
         "orientation": "v",
         "showlegend": true,
         "type": "box",
         "x": [
          "丰台",
          "丰台",
          "丰台",
          "丰台",
          "丰台",
          "丰台",
          "丰台",
          "丰台",
          "丰台",
          "丰台",
          "丰台",
          "丰台",
          "丰台",
          "丰台",
          "丰台",
          "丰台",
          "丰台",
          "丰台",
          "丰台",
          "丰台",
          "丰台",
          "丰台",
          "丰台",
          "丰台",
          "丰台",
          "丰台",
          "丰台",
          "丰台",
          "丰台",
          "丰台",
          "丰台",
          "丰台",
          "丰台",
          "丰台",
          "丰台",
          "丰台",
          "丰台",
          "丰台",
          "丰台",
          "丰台",
          "丰台",
          "丰台",
          "丰台",
          "丰台",
          "丰台",
          "丰台",
          "丰台",
          "丰台",
          "丰台",
          "丰台",
          "丰台",
          "丰台",
          "丰台",
          "丰台",
          "丰台",
          "丰台",
          "丰台",
          "丰台",
          "丰台",
          "丰台",
          "丰台",
          "丰台",
          "丰台",
          "丰台",
          "丰台",
          "丰台",
          "丰台",
          "丰台",
          "丰台",
          "丰台",
          "丰台",
          "丰台",
          "丰台",
          "丰台",
          "丰台",
          "丰台",
          "丰台",
          "丰台",
          "丰台",
          "丰台",
          "丰台",
          "丰台",
          "丰台",
          "丰台",
          "丰台",
          "丰台",
          "丰台",
          "丰台",
          "丰台",
          "丰台",
          "丰台",
          "丰台",
          "丰台",
          "丰台",
          "丰台",
          "丰台",
          "丰台",
          "丰台",
          "丰台",
          "丰台",
          "丰台",
          "丰台",
          "丰台",
          "丰台",
          "丰台",
          "丰台",
          "丰台",
          "丰台",
          "丰台",
          "丰台",
          "丰台",
          "丰台",
          "丰台",
          "丰台",
          "丰台",
          "丰台",
          "丰台",
          "丰台",
          "丰台",
          "丰台",
          "丰台",
          "丰台"
         ],
         "x0": " ",
         "xaxis": "x",
         "y": {
          "bdata": "AAAAAABAekAAAAAAANBxQAAAAAAAkIBAAAAAAAAwe0AAAAAAAOB1QAAAAAAAgGxAAAAAAAAQd0AAAAAAAGBvQAAAAAAAgGZAAAAAAABQfkAAAAAAAFBzQAAAAAAAgHFAAAAAAAAwdkAAAAAAAMB6QAAAAAAA4GpAAAAAAACAcUAAAAAAACBvQAAAAAAAQHhAAAAAAACgckAAAAAAAJCEQAAAAAAASIJAAAAAAAAwgUAAAAAAADCLQAAAAAAAAHdAAAAAAACAbUAAAAAAAMB8QAAAAAAAAHJAAAAAAACgjkAAAAAAAPBzQAAAAAAAsHhAAAAAAACAi0AAAAAAAKBkQAAAAAAA8HJAAAAAAADAbkAAAAAAABB3QAAAAAAAQIBAAAAAAABAZ0AAAAAAANBxQAAAAAAAEHJAAAAAAACAa0AAAAAAAJiEQAAAAAAAAGlAzczMzMz8aEAAAAAAADiAQAAAAAAAAHJAAAAAAABwckAAAAAAAIiDQAAAAAAA4HpAAAAAAADweEAAAAAAAIBqQAAAAAAA0HVAAAAAAACwfUAAAAAAAKBuQAAAAAAAAGhAAAAAAACwgUAAAAAAAGBxQAAAAAAA0HFAAAAAAABQfUAAAAAAAFB0QAAAAAAAYG1AAAAAAAAwf0AAAAAAALiCQAAAAAAA4IBAAAAAAAAAdUAAAAAAAEiEQAAAAAAAoGJAAAAAAACgbEAAAAAAAKCEQAAAAAAAMHtAAAAAAABAekAAAAAAACBqQAAAAAAAEIFAAAAAAAAgZUAAAAAAAKB3QAAAAAAAQHVAAAAAAADAdUAAAAAAAOBtQAAAAAAA0IFAAAAAAABAc0AAAAAAAACDQAAAAAAAwGxAAAAAAADwdEAAAAAAAJiCQAAAAAAAYH1AAAAAAABgl0AAAAAAAKB0QAAAAAAAaIBAAAAAAADAeEAAAAAAAHB7QAAAAAAAQHdAAAAAAABge0AAAAAAAAB1QAAAAAAAIGVAAAAAAAAAf0AAAAAAAOB4QAAAAAAAYGxAAAAAAABQeEAAAAAAANBxQAAAAAAAJJZAAAAAAACAbUAAAAAAAPCJQAAAAAAAUH5AAAAAAABQeEAAAAAAAIBrQAAAAAAA0H1AAAAAAADweEAAAAAAAGB2QAAAAAAAAHlAAAAAAAAQeEAAAAAAAOBwQAAAAAAAgGpAAAAAAADQcEAAAAAAAHB7QAAAAAAAOIdAAAAAAAAgf0AAAAAAABiFQAAAAAAAoHJAAAAAAABAakAAAAAAACBvQAAAAAAA4GVAAAAAAAAwgUAAAAAAAOB9QA==",
          "dtype": "f8"
         },
         "y0": " ",
         "yaxis": "y"
        },
        {
         "alignmentgroup": "True",
         "hovertemplate": "Region=%{x}<br>Price=%{y}<extra></extra>",
         "legendgroup": "石景山",
         "marker": {
          "color": "#00cc96"
         },
         "name": "石景山",
         "notched": false,
         "offsetgroup": "石景山",
         "orientation": "v",
         "showlegend": true,
         "type": "box",
         "x": [
          "石景山",
          "石景山",
          "石景山",
          "石景山",
          "石景山",
          "石景山",
          "石景山",
          "石景山",
          "石景山",
          "石景山",
          "石景山",
          "石景山",
          "石景山",
          "石景山",
          "石景山",
          "石景山",
          "石景山",
          "石景山",
          "石景山",
          "石景山",
          "石景山",
          "石景山",
          "石景山",
          "石景山",
          "石景山",
          "石景山",
          "石景山",
          "石景山",
          "石景山",
          "石景山",
          "石景山",
          "石景山",
          "石景山",
          "石景山",
          "石景山",
          "石景山",
          "石景山"
         ],
         "x0": " ",
         "xaxis": "x",
         "y": {
          "bdata": "AAAAAACwgkAAAAAAAOBjQAAAAAAA4G9AAAAAAADQdUAAAAAAAABgQAAAAAAAYH1AAAAAAABgZkAAAAAAANB2QAAAAAAAwGRAAAAAAAAwe0AAAAAAAGBjQAAAAAAAAHdAAAAAAAAQckAAAAAAAFB9QAAAAAAAQGpAAAAAAACAZ0AAAAAAAKBkQAAAAAAA4G9AAAAAAADAcEAAAAAAAPB5QAAAAAAA4HVAAAAAAAAQckAAAAAAAKBkQAAAAAAAAHdAAAAAAABwckAAAAAAAMBjQAAAAAAA4HNAAAAAAADwiUAAAAAAAMBhQAAAAAAAMHZAAAAAAAAgb0AAAAAAAECEQAAAAAAAwGhAAAAAAABgbEAAAAAAAAB2QAAAAAAAMHBAAAAAAABAd0A=",
          "dtype": "f8"
         },
         "y0": " ",
         "yaxis": "y"
        },
        {
         "alignmentgroup": "True",
         "hovertemplate": "Region=%{x}<br>Price=%{y}<extra></extra>",
         "legendgroup": "海淀",
         "marker": {
          "color": "#ab63fa"
         },
         "name": "海淀",
         "notched": false,
         "offsetgroup": "海淀",
         "orientation": "v",
         "showlegend": true,
         "type": "box",
         "x": [
          "海淀",
          "海淀",
          "海淀",
          "海淀",
          "海淀",
          "海淀",
          "海淀",
          "海淀",
          "海淀",
          "海淀",
          "海淀",
          "海淀",
          "海淀",
          "海淀",
          "海淀",
          "海淀",
          "海淀",
          "海淀",
          "海淀",
          "海淀",
          "海淀",
          "海淀",
          "海淀",
          "海淀",
          "海淀",
          "海淀",
          "海淀",
          "海淀",
          "海淀",
          "海淀",
          "海淀",
          "海淀",
          "海淀",
          "海淀",
          "海淀",
          "海淀",
          "海淀",
          "海淀",
          "海淀",
          "海淀",
          "海淀",
          "海淀",
          "海淀",
          "海淀",
          "海淀",
          "海淀",
          "海淀",
          "海淀",
          "海淀",
          "海淀",
          "海淀",
          "海淀",
          "海淀",
          "海淀",
          "海淀",
          "海淀",
          "海淀",
          "海淀",
          "海淀",
          "海淀",
          "海淀",
          "海淀",
          "海淀",
          "海淀",
          "海淀",
          "海淀",
          "海淀",
          "海淀",
          "海淀",
          "海淀",
          "海淀",
          "海淀",
          "海淀",
          "海淀",
          "海淀",
          "海淀",
          "海淀",
          "海淀",
          "海淀",
          "海淀",
          "海淀",
          "海淀",
          "海淀",
          "海淀",
          "海淀",
          "海淀",
          "海淀",
          "海淀",
          "海淀",
          "海淀",
          "海淀",
          "海淀",
          "海淀",
          "海淀",
          "海淀",
          "海淀",
          "海淀",
          "海淀",
          "海淀",
          "海淀",
          "海淀",
          "海淀",
          "海淀",
          "海淀",
          "海淀",
          "海淀"
         ],
         "x0": " ",
         "xaxis": "x",
         "y": {
          "bdata": "AAAAAADUkkAAAAAAAJB5QAAAAAAA4HBAAAAAAAAIgUAAAAAAANCGQAAAAAAA8HhAAAAAAABAf0AAAAAAANCEQAAAAAAA0IZAAAAAAADAkkAAAAAAAJiAQAAAAAAA0HBAAAAAAAAAfkAAAAAAAPB9QAAAAAAA4IVAAAAAAABge0AAAAAAAJB1QAAAAAAAkHBAAAAAAACAeUAAAAAAAOB1QAAAAAAAqKZAAAAAAADAekAAAAAAAOB6QAAAAAAAcIJAAAAAAABQhEAAAAAAAKiRQAAAAAAAsHJAAAAAAAAAdEAAAAAAANB5QAAAAAAALJFAAAAAAABgmkAAAAAAABB5QAAAAAAA4HBAAAAAAADQgEAAAAAAABiFQAAAAAAA4HVAAAAAAABAc0AAAAAAANCLQAAAAAAAQHhAAAAAAADAfEAAAAAAAKiWQAAAAAAAQI9AAAAAAAAsp0AAAAAAAEB4QAAAAAAAgHFAAAAAAACAhUAAAAAAALB8QAAAAAAAsHJAAAAAAACQdUAAAAAAACiBQAAAAAAAsHNAAAAAAADweUAAAAAAANCBQAAAAAAA0IFAAAAAAABwfEAAAAAAANiFQAAAAAAAsH1AAAAAAACQdUAAAAAAADCHQAAAAAAA8HhAAAAAAACIj0AAAAAAAKCCQAAAAAAAwHRAAAAAAABYgUAAAAAAALCGQAAAAAAAIIJAAAAAAAAAfkAAAAAAAFiBQAAAAAAAkIpAAAAAAAD4oUAAAAAAAOCKQAAAAAAA8IlAAAAAAACgfkAAAAAAAEB6QAAAAAAAAHRAAAAAAAD4iEAAAAAAAICBQAAAAAAAoHlAAAAAAADgf0AAAAAAAOBwQAAAAAAAcHpAAAAAAAD4iEAAAAAAAECFQAAAAAAA8HhAAAAAAABgnUAAAAAAAKCEQAAAAAAAiIhAAAAAAABAdUAAAAAAAICBQAAAAAAA4HVAAAAAAAAQiEAAAAAAABiFQAAAAAAAQH9AAAAAAADQhUAAAAAAANCAQAAAAAAAAHlAAAAAAACAfkAAAAAAAGiCQAAAAAAA0IpAAAAAAAAwf0AAAAAAAEB1QAAAAAAA0HlAAAAAAADQgEAAAAAAAHCAQAAAAAAA+IhAAAAAAAAQhkA=",
          "dtype": "f8"
         },
         "y0": " ",
         "yaxis": "y"
        },
        {
         "alignmentgroup": "True",
         "hovertemplate": "Region=%{x}<br>Price=%{y}<extra></extra>",
         "legendgroup": "通州",
         "marker": {
          "color": "#FFA15A"
         },
         "name": "通州",
         "notched": false,
         "offsetgroup": "通州",
         "orientation": "v",
         "showlegend": true,
         "type": "box",
         "x": [
          "通州",
          "通州",
          "通州",
          "通州",
          "通州",
          "通州",
          "通州",
          "通州",
          "通州",
          "通州",
          "通州",
          "通州",
          "通州",
          "通州",
          "通州",
          "通州",
          "通州",
          "通州",
          "通州",
          "通州",
          "通州",
          "通州",
          "通州",
          "通州",
          "通州",
          "通州",
          "通州",
          "通州",
          "通州",
          "通州",
          "通州",
          "通州",
          "通州",
          "通州",
          "通州",
          "通州",
          "通州",
          "通州",
          "通州",
          "通州",
          "通州",
          "通州",
          "通州",
          "通州",
          "通州",
          "通州",
          "通州",
          "通州",
          "通州",
          "通州",
          "通州",
          "通州",
          "通州",
          "通州",
          "通州",
          "通州",
          "通州",
          "通州",
          "通州",
          "通州",
          "通州",
          "通州",
          "通州",
          "通州",
          "通州",
          "通州",
          "通州",
          "通州",
          "通州",
          "通州",
          "通州",
          "通州",
          "通州",
          "通州",
          "通州",
          "通州",
          "通州",
          "通州",
          "通州",
          "通州"
         ],
         "x0": " ",
         "xaxis": "x",
         "y": {
          "bdata": "AAAAAADgYEAAAAAAAHB3QAAAAAAAQGlAAAAAAACAbEAAAAAAAKBkQAAAAAAAoH9AAAAAAAAwcEAAAAAAALiAQAAAAAAAIHBAAAAAAAAgYkAAAAAAALByQAAAAAAAIGxAAAAAAABwdkAAAAAAAGBtQAAAAAAAcHFAAAAAAADgZUAAAAAAABBxQAAAAAAAQGJAAAAAAAAAaUAAAAAAAEBoQAAAAAAAMHFAAAAAAADAdUAAAAAAAMBjQAAAAAAAkHBAAAAAAAAYhUAAAAAAACBsQAAAAAAAgHdAAAAAAADgaEAAAAAAAAB0QAAAAAAAwGxAAAAAAACAbUAAAAAAAIBmQAAAAAAAgG1AAAAAAADgbkAAAAAAAKBkQAAAAAAAgHZAAAAAAAA4gEAAAAAAAABwQAAAAAAA4GhAAAAAAABQeUAAAAAAABByQAAAAAAAIHpAAAAAAABga0AAAAAAAFiBQAAAAAAAAHBAAAAAAAAAf0AAAAAAABB9QAAAAAAAoHdAAAAAAABAbEAAAAAAADBxQAAAAAAAQIBAAAAAAACgc0AAAAAAAKBpQAAAAAAAsIhAAAAAAADgakAAAAAAADB2QAAAAAAA8HhAAAAAAAAgbkAAAAAAAKBnQAAAAAAAAGpAAAAAAAAAaUAAAAAAAJB5QAAAAAAAAG9AAAAAAAAAakAAAAAAAOBtQAAAAAAAEHFAAAAAAABAdEAAAAAAAGBjQAAAAAAAAINAAAAAAADAaUAAAAAAAOBzQAAAAAAAIG9AAAAAAACYhEAAAAAAANCEQAAAAAAA4HZAAAAAAACAe0AAAAAAAMiBQAAAAAAA4GVAAAAAAACweEAAAAAAALB4QA==",
          "dtype": "f8"
         },
         "y0": " ",
         "yaxis": "y"
        },
        {
         "alignmentgroup": "True",
         "hovertemplate": "Region=%{x}<br>Price=%{y}<extra></extra>",
         "legendgroup": "昌平",
         "marker": {
          "color": "#19d3f3"
         },
         "name": "昌平",
         "notched": false,
         "offsetgroup": "昌平",
         "orientation": "v",
         "showlegend": true,
         "type": "box",
         "x": [
          "昌平",
          "昌平",
          "昌平",
          "昌平",
          "昌平",
          "昌平",
          "昌平",
          "昌平",
          "昌平",
          "昌平",
          "昌平",
          "昌平",
          "昌平",
          "昌平",
          "昌平",
          "昌平",
          "昌平",
          "昌平",
          "昌平",
          "昌平",
          "昌平",
          "昌平",
          "昌平",
          "昌平",
          "昌平",
          "昌平",
          "昌平",
          "昌平",
          "昌平",
          "昌平",
          "昌平",
          "昌平",
          "昌平",
          "昌平",
          "昌平",
          "昌平",
          "昌平",
          "昌平",
          "昌平",
          "昌平",
          "昌平",
          "昌平",
          "昌平",
          "昌平",
          "昌平",
          "昌平",
          "昌平",
          "昌平",
          "昌平",
          "昌平",
          "昌平",
          "昌平",
          "昌平",
          "昌平",
          "昌平",
          "昌平",
          "昌平",
          "昌平",
          "昌平",
          "昌平",
          "昌平",
          "昌平",
          "昌平",
          "昌平",
          "昌平",
          "昌平",
          "昌平",
          "昌平",
          "昌平",
          "昌平",
          "昌平",
          "昌平",
          "昌平",
          "昌平",
          "昌平",
          "昌平",
          "昌平",
          "昌平",
          "昌平"
         ],
         "x0": " ",
         "xaxis": "x",
         "y": {
          "bdata": "AAAAAADgekAAAAAAAGB0QAAAAAAAIH1AAAAAAABwe0AAAAAAALiAQAAAAAAAcHxAAAAAAADAXEAAAAAAAMBuQAAAAAAAQGpAAAAAAABIgkAAAAAAAHiEQAAAAAAA4HpAAAAAAAAwdUAAAAAAACB3QAAAAAAAEHdAAAAAAACQekAAAAAAACiBQAAAAAAAwGNAAAAAAAAgdUAAAAAAALiAQAAAAAAA8HhAAAAAAADgbUAAAAAAAPB3QAAAAAAAsH1AAAAAAACgZ0AAAAAAAOBzQAAAAAAAAGlAAAAAAABIhEAAAAAAAKiBQAAAAAAAwH1AAAAAAAAAb0AAAAAAAMB8QAAAAAAAgIFAAAAAAAAgfUAAAAAAAEB/QAAAAAAAcHdAAAAAAADQekAAAAAAAGBmQAAAAAAAwHxAAAAAAADQdUAAAAAAADB/QAAAAAAAwHdAAAAAAADwfUAAAAAAAPB4QAAAAAAAMHtAAAAAAABwe0AAAAAAALCCQAAAAAAAgHFAAAAAAADgYEAAAAAAAMiEQAAAAAAAMIRAAAAAAADwc0AAAAAAADB1QAAAAAAA4G5AAAAAAADwc0AAAAAAAKBkQAAAAAAAOIBAAAAAAADQe0AAAAAAAMB/QAAAAAAAgHtAAAAAAACwf0AAAAAAALCCQAAAAAAAYHFAAAAAAACQgEAAAAAAAMB3QAAAAAAAEHZAAAAAAAAgfEAAAAAAALB4QAAAAAAAsHdAAAAAAADQgUAAAAAAANBwQAAAAAAAoH5AAAAAAAAwf0AAAAAAAMBwQAAAAAAAQHZAAAAAAABAZUAAAAAAACBqQAAAAAAAQIBAAAAAAADQe0A=",
          "dtype": "f8"
         },
         "y0": " ",
         "yaxis": "y"
        },
        {
         "alignmentgroup": "True",
         "hovertemplate": "Region=%{x}<br>Price=%{y}<extra></extra>",
         "legendgroup": "房山",
         "marker": {
          "color": "#FF6692"
         },
         "name": "房山",
         "notched": false,
         "offsetgroup": "房山",
         "orientation": "v",
         "showlegend": true,
         "type": "box",
         "x": [
          "房山",
          "房山",
          "房山",
          "房山",
          "房山",
          "房山",
          "房山",
          "房山",
          "房山",
          "房山",
          "房山",
          "房山",
          "房山",
          "房山",
          "房山",
          "房山",
          "房山",
          "房山",
          "房山",
          "房山",
          "房山",
          "房山",
          "房山",
          "房山",
          "房山",
          "房山",
          "房山",
          "房山",
          "房山",
          "房山",
          "房山",
          "房山",
          "房山",
          "房山",
          "房山",
          "房山",
          "房山",
          "房山",
          "房山",
          "房山",
          "房山",
          "房山",
          "房山",
          "房山",
          "房山",
          "房山",
          "房山",
          "房山",
          "房山",
          "房山",
          "房山",
          "房山",
          "房山",
          "房山",
          "房山",
          "房山",
          "房山",
          "房山",
          "房山",
          "房山",
          "房山",
          "房山",
          "房山",
          "房山",
          "房山",
          "房山",
          "房山",
          "房山",
          "房山",
          "房山",
          "房山"
         ],
         "x0": " ",
         "xaxis": "x",
         "y": {
          "bdata": "AAAAAADAXkAAAAAAAEBQQAAAAAAAYGZAAAAAAAAAXEAAAAAAAIBmQAAAAAAAoHpAAAAAAABAa0AAAAAAAKBkQAAAAAAA0HZAAAAAAAAAb0AAAAAAAIBmQAAAAAAAYGFAAAAAAAAAYUAAAAAAAHB7QAAAAAAAgGFAAAAAAADgakAAAAAAAABlQAAAAAAAsHhAAAAAAADgY0AAAAAAAIBgQAAAAAAAYG1AAAAAAADgY0AAAAAAAEB6QAAAAAAAYGZAAAAAAACAb0AAAAAAAOBoQAAAAAAA4G9AAAAAAACQdEAAAAAAAABYQAAAAAAAoHpAAAAAAACgeUAAAAAAANB6QAAAAAAAIGpAAAAAAACAbUAAAAAAAMBcQAAAAAAAAHBAAAAAAADgZkAAAAAAACBoQAAAAAAAIGdAAAAAAACwfEAAAAAAAABbQAAAAAAAwGRAAAAAAAAAZUAAAAAAAKBkQAAAAAAAYGNAAAAAAABga0AAAAAAAECBQAAAAAAAIGBAAAAAAAAQd0AAAAAAACBvQAAAAAAAMGBAAAAAAACgZEAAAAAAAKB0QAAAAAAA4HVAAAAAAAAgbEAAAAAAAMBkQAAAAAAAYHBAAAAAAADAZ0AAAAAAAFBzQAAAAAAAOIBAAAAAAACAaUAAAAAAAABeQAAAAAAAIGpAAAAAAACgbEAAAAAAAABuQAAAAAAAwGZAAAAAAAAwcEAAAAAAAKB2QAAAAAAA0HVAAAAAAACgeUAAAAAAAABmQA==",
          "dtype": "f8"
         },
         "y0": " ",
         "yaxis": "y"
        },
        {
         "alignmentgroup": "True",
         "hovertemplate": "Region=%{x}<br>Price=%{y}<extra></extra>",
         "legendgroup": "怀柔",
         "marker": {
          "color": "#B6E880"
         },
         "name": "怀柔",
         "notched": false,
         "offsetgroup": "怀柔",
         "orientation": "v",
         "showlegend": true,
         "type": "box",
         "x": [
          "怀柔",
          "怀柔",
          "怀柔",
          "怀柔",
          "怀柔",
          "怀柔",
          "怀柔",
          "怀柔"
         ],
         "x0": " ",
         "xaxis": "x",
         "y": {
          "bdata": "AAAAAABgaEAAAAAAAGBzQAAAAAAAAGRAAAAAAAAAYUAAAAAAACBiQAAAAAAAQGVAAAAAAACAZ0AAAAAAAMBsQA==",
          "dtype": "f8"
         },
         "y0": " ",
         "yaxis": "y"
        },
        {
         "alignmentgroup": "True",
         "hovertemplate": "Region=%{x}<br>Price=%{y}<extra></extra>",
         "legendgroup": "西城",
         "marker": {
          "color": "#FF97FF"
         },
         "name": "西城",
         "notched": false,
         "offsetgroup": "西城",
         "orientation": "v",
         "showlegend": true,
         "type": "box",
         "x": [
          "西城",
          "西城",
          "西城",
          "西城",
          "西城",
          "西城",
          "西城",
          "西城",
          "西城",
          "西城",
          "西城",
          "西城",
          "西城",
          "西城",
          "西城",
          "西城",
          "西城",
          "西城",
          "西城",
          "西城",
          "西城",
          "西城",
          "西城",
          "西城",
          "西城",
          "西城",
          "西城",
          "西城",
          "西城",
          "西城",
          "西城",
          "西城",
          "西城",
          "西城",
          "西城",
          "西城",
          "西城",
          "西城",
          "西城",
          "西城",
          "西城",
          "西城",
          "西城",
          "西城",
          "西城",
          "西城",
          "西城",
          "西城",
          "西城",
          "西城",
          "西城",
          "西城",
          "西城",
          "西城",
          "西城",
          "西城"
         ],
         "x0": " ",
         "xaxis": "x",
         "y": {
          "bdata": "AAAAAABQg0AAAAAAABCIQAAAAAAAaIBAAAAAAABgh0AAAAAAAECAQAAAAAAA0HFAAAAAAACAckAAAAAAAOBuQAAAAAAAkIJAAAAAAADAfEAAAAAAADiFQAAAAAAAAH5AAAAAAAAQg0AAAAAAAKB+QAAAAAAAsJNAAAAAAABIh0AAAAAAADiYQAAAAAAAQIVAAAAAAACgiUAAAAAAALCCQAAAAAAA4H1AAAAAAADYh0AAAAAAAHylQAAAAAAArJJAAAAAAAD0oUAAAAAAAECEQAAAAAAAOI9AAAAAAADAhkAAAAAAADChQAAAAAAA0ItAAAAAAAAggkAAAAAAALCCQAAAAAAAAH5AAAAAAABgnUAAAAAAAEiEQAAAAAAA+IhAAAAAAABAhUAAAAAAAHB8QAAAAAAACJFAAAAAAADAhkAAAAAAANCLQAAAAAAAgItAAAAAAAC4hUAAAAAAABB8QAAAAAAA4HpAAAAAAADMkEAAAAAAAOCQQAAAAAAAoHRAAAAAAABgfkAAAAAAAACOQAAAAAAAsHxAAAAAAABYg0AAAAAAAAB+QAAAAAAAcJJAAAAAAAAgdUAAAAAAAOCFQA==",
          "dtype": "f8"
         },
         "y0": " ",
         "yaxis": "y"
        },
        {
         "alignmentgroup": "True",
         "hovertemplate": "Region=%{x}<br>Price=%{y}<extra></extra>",
         "legendgroup": "顺义",
         "marker": {
          "color": "#FECB52"
         },
         "name": "顺义",
         "notched": false,
         "offsetgroup": "顺义",
         "orientation": "v",
         "showlegend": true,
         "type": "box",
         "x": [
          "顺义",
          "顺义",
          "顺义",
          "顺义",
          "顺义",
          "顺义",
          "顺义",
          "顺义",
          "顺义",
          "顺义",
          "顺义",
          "顺义",
          "顺义",
          "顺义",
          "顺义",
          "顺义",
          "顺义",
          "顺义",
          "顺义",
          "顺义",
          "顺义",
          "顺义",
          "顺义",
          "顺义",
          "顺义",
          "顺义",
          "顺义",
          "顺义",
          "顺义",
          "顺义",
          "顺义",
          "顺义",
          "顺义",
          "顺义",
          "顺义",
          "顺义",
          "顺义",
          "顺义",
          "顺义",
          "顺义",
          "顺义",
          "顺义",
          "顺义"
         ],
         "x0": " ",
         "xaxis": "x",
         "y": {
          "bdata": "AAAAAAAgZUAAAAAAAGBrQAAAAAAA4GpAAAAAAAAAaUAAAAAAAEB1QAAAAAAAoG5AAAAAAAAgb0AAAAAAAABrQAAAAAAAYHhAAAAAAACAY0AAAAAAAMBpQAAAAAAA0HFAAAAAAACgbUAAAAAAACB3QAAAAAAAgIZAAAAAAACQdEAAAAAAAAByQAAAAAAA4GhAAAAAAAAgakAAAAAAANB2QAAAAAAAwGhAAAAAAADAY0AAAAAAAFB0QAAAAAAAQHNAAAAAAACAc0AAAAAAAHBxQAAAAAAAAHJAAAAAAACAX0AAAAAAAABwQAAAAAAAsHJAAAAAAADgYEAAAAAAAABoQAAAAAAAAHFAAAAAAABAZkAAAAAAALByQAAAAAAAYG1AAAAAAABAaUAAAAAAAAB+QAAAAAAAkIBAAAAAAABgcUAAAAAAAMBsQAAAAAAAgGRAAAAAAABAZUA=",
          "dtype": "f8"
         },
         "y0": " ",
         "yaxis": "y"
        },
        {
         "alignmentgroup": "True",
         "hovertemplate": "Region=%{x}<br>Price=%{y}<extra></extra>",
         "legendgroup": "大兴",
         "marker": {
          "color": "#636efa"
         },
         "name": "大兴",
         "notched": false,
         "offsetgroup": "大兴",
         "orientation": "v",
         "showlegend": true,
         "type": "box",
         "x": [
          "大兴",
          "大兴",
          "大兴",
          "大兴",
          "大兴",
          "大兴",
          "大兴",
          "大兴",
          "大兴",
          "大兴",
          "大兴",
          "大兴",
          "大兴",
          "大兴",
          "大兴",
          "大兴",
          "大兴",
          "大兴",
          "大兴",
          "大兴",
          "大兴",
          "大兴",
          "大兴",
          "大兴",
          "大兴",
          "大兴",
          "大兴",
          "大兴",
          "大兴",
          "大兴",
          "大兴",
          "大兴",
          "大兴",
          "大兴",
          "大兴",
          "大兴",
          "大兴",
          "大兴",
          "大兴",
          "大兴",
          "大兴",
          "大兴",
          "大兴",
          "大兴",
          "大兴",
          "大兴",
          "大兴",
          "大兴",
          "大兴",
          "大兴",
          "大兴",
          "大兴",
          "大兴",
          "大兴",
          "大兴",
          "大兴",
          "大兴",
          "大兴",
          "大兴",
          "大兴",
          "大兴"
         ],
         "x0": " ",
         "xaxis": "x",
         "y": {
          "bdata": "AAAAAACohkAAAAAAAGBmQAAAAAAAcHJAAAAAAACQgEAAAAAAAKB8QAAAAAAAoGBAAAAAAADQcEAAAAAAABBxQAAAAAAAIHFAAAAAAABgdkAAAAAAACBgQAAAAAAAYGZAAAAAAABAakAAAAAAAIBrQAAAAAAAIG9AAAAAAABgaEAAAAAAAGBxQAAAAAAAoGlAAAAAAABAckAAAAAAAABkQAAAAAAAAG9AAAAAAADwdEAAAAAAACBnQAAAAAAA0HBAAAAAAAAgekAAAAAAAGBhQAAAAAAAYG1AAAAAAADQekAAAAAAAEBuQAAAAAAAgGtAAAAAAADgb0AAAAAAANBxQAAAAAAAMHtAAAAAAAAQfUAAAAAAAGB2QAAAAAAAYGRAAAAAAAAga0AAAAAAAGBzQAAAAAAA4GBAAAAAAADAaEAAAAAAAIBjQAAAAAAAgGxAAAAAAACgbkAAAAAAAKBnQAAAAAAAoGxAAAAAAABwckAAAAAAADBxQAAAAAAAQGpAAAAAAABAakAAAAAAAPB4QAAAAAAA4HpAAAAAAABQdEAAAAAAAEBhQAAAAAAAQIBAAAAAAADgckAAAAAAAIBdQAAAAAAA4GhAAAAAAACAb0AAAAAAAABkQAAAAAAAoGxAAAAAAABYgUA=",
          "dtype": "f8"
         },
         "y0": " ",
         "yaxis": "y"
        },
        {
         "alignmentgroup": "True",
         "hovertemplate": "Region=%{x}<br>Price=%{y}<extra></extra>",
         "legendgroup": "门头沟",
         "marker": {
          "color": "#EF553B"
         },
         "name": "门头沟",
         "notched": false,
         "offsetgroup": "门头沟",
         "orientation": "v",
         "showlegend": true,
         "type": "box",
         "x": [
          "门头沟",
          "门头沟",
          "门头沟",
          "门头沟",
          "门头沟",
          "门头沟",
          "门头沟",
          "门头沟",
          "门头沟"
         ],
         "x0": " ",
         "xaxis": "x",
         "y": {
          "bdata": "AAAAAABQc0AAAAAAACBhQAAAAAAAMIFAAAAAAABohkAAAAAAAIBfQAAAAAAAeIFAAAAAAADAbEAAAAAAAJB0QAAAAAAA8HhA",
          "dtype": "f8"
         },
         "y0": " ",
         "yaxis": "y"
        },
        {
         "alignmentgroup": "True",
         "hovertemplate": "Region=%{x}<br>Price=%{y}<extra></extra>",
         "legendgroup": "东城",
         "marker": {
          "color": "#00cc96"
         },
         "name": "东城",
         "notched": false,
         "offsetgroup": "东城",
         "orientation": "v",
         "showlegend": true,
         "type": "box",
         "x": [
          "东城",
          "东城",
          "东城",
          "东城",
          "东城",
          "东城",
          "东城",
          "东城",
          "东城",
          "东城",
          "东城",
          "东城",
          "东城",
          "东城",
          "东城",
          "东城",
          "东城",
          "东城",
          "东城",
          "东城",
          "东城",
          "东城",
          "东城",
          "东城",
          "东城",
          "东城"
         ],
         "x0": " ",
         "xaxis": "x",
         "y": {
          "bdata": "AAAAAAAYkEAAAAAAANCAQAAAAAAAQHpAAAAAAAAAd0AAAAAAANiFQAAAAAAAsINAAAAAAACQekAAAAAAAKCEQAAAAAAAkIBAAAAAAADQhEAAAAAAADiAQAAAAAAAYHpAAAAAAADgfUAAAAAAAECFQAAAAAAACIZAAAAAAAB8pUAAAAAAACyRQAAAAAAAKIFAAAAAAACwckAAAAAAAKCJQAAAAAAA4H1AAAAAAADAgEAAAAAAAKCEQAAAAAAAAHRAAAAAAAAwc0AAAAAAAGiHQA==",
          "dtype": "f8"
         },
         "y0": " ",
         "yaxis": "y"
        },
        {
         "alignmentgroup": "True",
         "hovertemplate": "Region=%{x}<br>Price=%{y}<extra></extra>",
         "legendgroup": "亦庄开发区",
         "marker": {
          "color": "#ab63fa"
         },
         "name": "亦庄开发区",
         "notched": false,
         "offsetgroup": "亦庄开发区",
         "orientation": "v",
         "showlegend": true,
         "type": "box",
         "x": [
          "亦庄开发区",
          "亦庄开发区",
          "亦庄开发区",
          "亦庄开发区",
          "亦庄开发区",
          "亦庄开发区",
          "亦庄开发区",
          "亦庄开发区",
          "亦庄开发区",
          "亦庄开发区",
          "亦庄开发区",
          "亦庄开发区"
         ],
         "x0": " ",
         "xaxis": "x",
         "y": {
          "bdata": "AAAAAAAYlUAAAAAAAGB4QAAAAAAA6IdAAAAAAAAwf0AAAAAAAECAQAAAAAAAQH9AAAAAAAAQfEAAAAAAAKB8QAAAAAAAQGpAAAAAAADAgkAAAAAAACBnQAAAAAAA4GpA",
          "dtype": "f8"
         },
         "y0": " ",
         "yaxis": "y"
        },
        {
         "alignmentgroup": "True",
         "hovertemplate": "Region=%{x}<br>Price=%{y}<extra></extra>",
         "legendgroup": "密云",
         "marker": {
          "color": "#FFA15A"
         },
         "name": "密云",
         "notched": false,
         "offsetgroup": "密云",
         "orientation": "v",
         "showlegend": true,
         "type": "box",
         "x": [
          "密云",
          "密云",
          "密云",
          "密云",
          "密云",
          "密云",
          "密云",
          "密云"
         ],
         "x0": " ",
         "xaxis": "x",
         "y": {
          "bdata": "AAAAAAAAbkAAAAAAAABRQAAAAAAAAGRAAAAAAAAAWEAAAAAAAIBYQAAAAAAAwGNAAAAAAADAY0AAAAAAAIBSQA==",
          "dtype": "f8"
         },
         "y0": " ",
         "yaxis": "y"
        }
       ],
       "layout": {
        "boxmode": "overlay",
        "height": 600,
        "legend": {
         "title": {
          "text": "Region"
         },
         "tracegroupgap": 0
        },
        "template": {
         "data": {
          "bar": [
           {
            "error_x": {
             "color": "#2a3f5f"
            },
            "error_y": {
             "color": "#2a3f5f"
            },
            "marker": {
             "line": {
              "color": "#E5ECF6",
              "width": 0.5
             },
             "pattern": {
              "fillmode": "overlay",
              "size": 10,
              "solidity": 0.2
             }
            },
            "type": "bar"
           }
          ],
          "barpolar": [
           {
            "marker": {
             "line": {
              "color": "#E5ECF6",
              "width": 0.5
             },
             "pattern": {
              "fillmode": "overlay",
              "size": 10,
              "solidity": 0.2
             }
            },
            "type": "barpolar"
           }
          ],
          "carpet": [
           {
            "aaxis": {
             "endlinecolor": "#2a3f5f",
             "gridcolor": "white",
             "linecolor": "white",
             "minorgridcolor": "white",
             "startlinecolor": "#2a3f5f"
            },
            "baxis": {
             "endlinecolor": "#2a3f5f",
             "gridcolor": "white",
             "linecolor": "white",
             "minorgridcolor": "white",
             "startlinecolor": "#2a3f5f"
            },
            "type": "carpet"
           }
          ],
          "choropleth": [
           {
            "colorbar": {
             "outlinewidth": 0,
             "ticks": ""
            },
            "type": "choropleth"
           }
          ],
          "contour": [
           {
            "colorbar": {
             "outlinewidth": 0,
             "ticks": ""
            },
            "colorscale": [
             [
              0,
              "#0d0887"
             ],
             [
              0.1111111111111111,
              "#46039f"
             ],
             [
              0.2222222222222222,
              "#7201a8"
             ],
             [
              0.3333333333333333,
              "#9c179e"
             ],
             [
              0.4444444444444444,
              "#bd3786"
             ],
             [
              0.5555555555555556,
              "#d8576b"
             ],
             [
              0.6666666666666666,
              "#ed7953"
             ],
             [
              0.7777777777777778,
              "#fb9f3a"
             ],
             [
              0.8888888888888888,
              "#fdca26"
             ],
             [
              1,
              "#f0f921"
             ]
            ],
            "type": "contour"
           }
          ],
          "contourcarpet": [
           {
            "colorbar": {
             "outlinewidth": 0,
             "ticks": ""
            },
            "type": "contourcarpet"
           }
          ],
          "heatmap": [
           {
            "colorbar": {
             "outlinewidth": 0,
             "ticks": ""
            },
            "colorscale": [
             [
              0,
              "#0d0887"
             ],
             [
              0.1111111111111111,
              "#46039f"
             ],
             [
              0.2222222222222222,
              "#7201a8"
             ],
             [
              0.3333333333333333,
              "#9c179e"
             ],
             [
              0.4444444444444444,
              "#bd3786"
             ],
             [
              0.5555555555555556,
              "#d8576b"
             ],
             [
              0.6666666666666666,
              "#ed7953"
             ],
             [
              0.7777777777777778,
              "#fb9f3a"
             ],
             [
              0.8888888888888888,
              "#fdca26"
             ],
             [
              1,
              "#f0f921"
             ]
            ],
            "type": "heatmap"
           }
          ],
          "histogram": [
           {
            "marker": {
             "pattern": {
              "fillmode": "overlay",
              "size": 10,
              "solidity": 0.2
             }
            },
            "type": "histogram"
           }
          ],
          "histogram2d": [
           {
            "colorbar": {
             "outlinewidth": 0,
             "ticks": ""
            },
            "colorscale": [
             [
              0,
              "#0d0887"
             ],
             [
              0.1111111111111111,
              "#46039f"
             ],
             [
              0.2222222222222222,
              "#7201a8"
             ],
             [
              0.3333333333333333,
              "#9c179e"
             ],
             [
              0.4444444444444444,
              "#bd3786"
             ],
             [
              0.5555555555555556,
              "#d8576b"
             ],
             [
              0.6666666666666666,
              "#ed7953"
             ],
             [
              0.7777777777777778,
              "#fb9f3a"
             ],
             [
              0.8888888888888888,
              "#fdca26"
             ],
             [
              1,
              "#f0f921"
             ]
            ],
            "type": "histogram2d"
           }
          ],
          "histogram2dcontour": [
           {
            "colorbar": {
             "outlinewidth": 0,
             "ticks": ""
            },
            "colorscale": [
             [
              0,
              "#0d0887"
             ],
             [
              0.1111111111111111,
              "#46039f"
             ],
             [
              0.2222222222222222,
              "#7201a8"
             ],
             [
              0.3333333333333333,
              "#9c179e"
             ],
             [
              0.4444444444444444,
              "#bd3786"
             ],
             [
              0.5555555555555556,
              "#d8576b"
             ],
             [
              0.6666666666666666,
              "#ed7953"
             ],
             [
              0.7777777777777778,
              "#fb9f3a"
             ],
             [
              0.8888888888888888,
              "#fdca26"
             ],
             [
              1,
              "#f0f921"
             ]
            ],
            "type": "histogram2dcontour"
           }
          ],
          "mesh3d": [
           {
            "colorbar": {
             "outlinewidth": 0,
             "ticks": ""
            },
            "type": "mesh3d"
           }
          ],
          "parcoords": [
           {
            "line": {
             "colorbar": {
              "outlinewidth": 0,
              "ticks": ""
             }
            },
            "type": "parcoords"
           }
          ],
          "pie": [
           {
            "automargin": true,
            "type": "pie"
           }
          ],
          "scatter": [
           {
            "fillpattern": {
             "fillmode": "overlay",
             "size": 10,
             "solidity": 0.2
            },
            "type": "scatter"
           }
          ],
          "scatter3d": [
           {
            "line": {
             "colorbar": {
              "outlinewidth": 0,
              "ticks": ""
             }
            },
            "marker": {
             "colorbar": {
              "outlinewidth": 0,
              "ticks": ""
             }
            },
            "type": "scatter3d"
           }
          ],
          "scattercarpet": [
           {
            "marker": {
             "colorbar": {
              "outlinewidth": 0,
              "ticks": ""
             }
            },
            "type": "scattercarpet"
           }
          ],
          "scattergeo": [
           {
            "marker": {
             "colorbar": {
              "outlinewidth": 0,
              "ticks": ""
             }
            },
            "type": "scattergeo"
           }
          ],
          "scattergl": [
           {
            "marker": {
             "colorbar": {
              "outlinewidth": 0,
              "ticks": ""
             }
            },
            "type": "scattergl"
           }
          ],
          "scattermap": [
           {
            "marker": {
             "colorbar": {
              "outlinewidth": 0,
              "ticks": ""
             }
            },
            "type": "scattermap"
           }
          ],
          "scattermapbox": [
           {
            "marker": {
             "colorbar": {
              "outlinewidth": 0,
              "ticks": ""
             }
            },
            "type": "scattermapbox"
           }
          ],
          "scatterpolar": [
           {
            "marker": {
             "colorbar": {
              "outlinewidth": 0,
              "ticks": ""
             }
            },
            "type": "scatterpolar"
           }
          ],
          "scatterpolargl": [
           {
            "marker": {
             "colorbar": {
              "outlinewidth": 0,
              "ticks": ""
             }
            },
            "type": "scatterpolargl"
           }
          ],
          "scatterternary": [
           {
            "marker": {
             "colorbar": {
              "outlinewidth": 0,
              "ticks": ""
             }
            },
            "type": "scatterternary"
           }
          ],
          "surface": [
           {
            "colorbar": {
             "outlinewidth": 0,
             "ticks": ""
            },
            "colorscale": [
             [
              0,
              "#0d0887"
             ],
             [
              0.1111111111111111,
              "#46039f"
             ],
             [
              0.2222222222222222,
              "#7201a8"
             ],
             [
              0.3333333333333333,
              "#9c179e"
             ],
             [
              0.4444444444444444,
              "#bd3786"
             ],
             [
              0.5555555555555556,
              "#d8576b"
             ],
             [
              0.6666666666666666,
              "#ed7953"
             ],
             [
              0.7777777777777778,
              "#fb9f3a"
             ],
             [
              0.8888888888888888,
              "#fdca26"
             ],
             [
              1,
              "#f0f921"
             ]
            ],
            "type": "surface"
           }
          ],
          "table": [
           {
            "cells": {
             "fill": {
              "color": "#EBF0F8"
             },
             "line": {
              "color": "white"
             }
            },
            "header": {
             "fill": {
              "color": "#C8D4E3"
             },
             "line": {
              "color": "white"
             }
            },
            "type": "table"
           }
          ]
         },
         "layout": {
          "annotationdefaults": {
           "arrowcolor": "#2a3f5f",
           "arrowhead": 0,
           "arrowwidth": 1
          },
          "autotypenumbers": "strict",
          "coloraxis": {
           "colorbar": {
            "outlinewidth": 0,
            "ticks": ""
           }
          },
          "colorscale": {
           "diverging": [
            [
             0,
             "#8e0152"
            ],
            [
             0.1,
             "#c51b7d"
            ],
            [
             0.2,
             "#de77ae"
            ],
            [
             0.3,
             "#f1b6da"
            ],
            [
             0.4,
             "#fde0ef"
            ],
            [
             0.5,
             "#f7f7f7"
            ],
            [
             0.6,
             "#e6f5d0"
            ],
            [
             0.7,
             "#b8e186"
            ],
            [
             0.8,
             "#7fbc41"
            ],
            [
             0.9,
             "#4d9221"
            ],
            [
             1,
             "#276419"
            ]
           ],
           "sequential": [
            [
             0,
             "#0d0887"
            ],
            [
             0.1111111111111111,
             "#46039f"
            ],
            [
             0.2222222222222222,
             "#7201a8"
            ],
            [
             0.3333333333333333,
             "#9c179e"
            ],
            [
             0.4444444444444444,
             "#bd3786"
            ],
            [
             0.5555555555555556,
             "#d8576b"
            ],
            [
             0.6666666666666666,
             "#ed7953"
            ],
            [
             0.7777777777777778,
             "#fb9f3a"
            ],
            [
             0.8888888888888888,
             "#fdca26"
            ],
            [
             1,
             "#f0f921"
            ]
           ],
           "sequentialminus": [
            [
             0,
             "#0d0887"
            ],
            [
             0.1111111111111111,
             "#46039f"
            ],
            [
             0.2222222222222222,
             "#7201a8"
            ],
            [
             0.3333333333333333,
             "#9c179e"
            ],
            [
             0.4444444444444444,
             "#bd3786"
            ],
            [
             0.5555555555555556,
             "#d8576b"
            ],
            [
             0.6666666666666666,
             "#ed7953"
            ],
            [
             0.7777777777777778,
             "#fb9f3a"
            ],
            [
             0.8888888888888888,
             "#fdca26"
            ],
            [
             1,
             "#f0f921"
            ]
           ]
          },
          "colorway": [
           "#636efa",
           "#EF553B",
           "#00cc96",
           "#ab63fa",
           "#FFA15A",
           "#19d3f3",
           "#FF6692",
           "#B6E880",
           "#FF97FF",
           "#FECB52"
          ],
          "font": {
           "color": "#2a3f5f"
          },
          "geo": {
           "bgcolor": "white",
           "lakecolor": "white",
           "landcolor": "#E5ECF6",
           "showlakes": true,
           "showland": true,
           "subunitcolor": "white"
          },
          "hoverlabel": {
           "align": "left"
          },
          "hovermode": "closest",
          "mapbox": {
           "style": "light"
          },
          "paper_bgcolor": "white",
          "plot_bgcolor": "#E5ECF6",
          "polar": {
           "angularaxis": {
            "gridcolor": "white",
            "linecolor": "white",
            "ticks": ""
           },
           "bgcolor": "#E5ECF6",
           "radialaxis": {
            "gridcolor": "white",
            "linecolor": "white",
            "ticks": ""
           }
          },
          "scene": {
           "xaxis": {
            "backgroundcolor": "#E5ECF6",
            "gridcolor": "white",
            "gridwidth": 2,
            "linecolor": "white",
            "showbackground": true,
            "ticks": "",
            "zerolinecolor": "white"
           },
           "yaxis": {
            "backgroundcolor": "#E5ECF6",
            "gridcolor": "white",
            "gridwidth": 2,
            "linecolor": "white",
            "showbackground": true,
            "ticks": "",
            "zerolinecolor": "white"
           },
           "zaxis": {
            "backgroundcolor": "#E5ECF6",
            "gridcolor": "white",
            "gridwidth": 2,
            "linecolor": "white",
            "showbackground": true,
            "ticks": "",
            "zerolinecolor": "white"
           }
          },
          "shapedefaults": {
           "line": {
            "color": "#2a3f5f"
           }
          },
          "ternary": {
           "aaxis": {
            "gridcolor": "white",
            "linecolor": "white",
            "ticks": ""
           },
           "baxis": {
            "gridcolor": "white",
            "linecolor": "white",
            "ticks": ""
           },
           "bgcolor": "#E5ECF6",
           "caxis": {
            "gridcolor": "white",
            "linecolor": "white",
            "ticks": ""
           }
          },
          "title": {
           "x": 0.05
          },
          "xaxis": {
           "automargin": true,
           "gridcolor": "white",
           "linecolor": "white",
           "ticks": "",
           "title": {
            "standoff": 15
           },
           "zerolinecolor": "white",
           "zerolinewidth": 2
          },
          "yaxis": {
           "automargin": true,
           "gridcolor": "white",
           "linecolor": "white",
           "ticks": "",
           "title": {
            "standoff": 15
           },
           "zerolinecolor": "white",
           "zerolinewidth": 2
          }
         }
        },
        "title": {
         "text": "北京各大区二手房房屋总价"
        },
        "width": 800,
        "xaxis": {
         "anchor": "y",
         "categoryarray": [
          "朝阳",
          "丰台",
          "石景山",
          "海淀",
          "通州",
          "昌平",
          "房山",
          "怀柔",
          "西城",
          "顺义",
          "大兴",
          "门头沟",
          "东城",
          "亦庄开发区",
          "密云"
         ],
         "categoryorder": "array",
         "domain": [
          0,
          1
         ],
         "title": {
          "text": "Region"
         }
        },
        "yaxis": {
         "anchor": "x",
         "domain": [
          0,
          1
         ],
         "title": {
          "text": "Price"
         }
        }
       }
      },
      "text/html": [
       "<div>                        <script type=\"text/javascript\">window.PlotlyConfig = {MathJaxConfig: 'local'};</script>\n",
       "        <script charset=\"utf-8\" src=\"https://cdn.plot.ly/plotly-3.0.1.min.js\"></script>                <div id=\"9f095448-b978-4ae2-8e4f-68c0474d4cee\" class=\"plotly-graph-div\" style=\"height:600px; width:800px;\"></div>            <script type=\"text/javascript\">                window.PLOTLYENV=window.PLOTLYENV || {};                                if (document.getElementById(\"9f095448-b978-4ae2-8e4f-68c0474d4cee\")) {                    Plotly.newPlot(                        \"9f095448-b978-4ae2-8e4f-68c0474d4cee\",                        [{\"alignmentgroup\":\"True\",\"hovertemplate\":\"Region=%{x}\\u003cbr\\u003ePrice=%{y}\\u003cextra\\u003e\\u003c\\u002fextra\\u003e\",\"legendgroup\":\"\\u671d\\u9633\",\"marker\":{\"color\":\"#636efa\"},\"name\":\"\\u671d\\u9633\",\"notched\":false,\"offsetgroup\":\"\\u671d\\u9633\",\"orientation\":\"v\",\"showlegend\":true,\"x\":[\"\\u671d\\u9633\",\"\\u671d\\u9633\",\"\\u671d\\u9633\",\"\\u671d\\u9633\",\"\\u671d\\u9633\",\"\\u671d\\u9633\",\"\\u671d\\u9633\",\"\\u671d\\u9633\",\"\\u671d\\u9633\",\"\\u671d\\u9633\",\"\\u671d\\u9633\",\"\\u671d\\u9633\",\"\\u671d\\u9633\",\"\\u671d\\u9633\",\"\\u671d\\u9633\",\"\\u671d\\u9633\",\"\\u671d\\u9633\",\"\\u671d\\u9633\",\"\\u671d\\u9633\",\"\\u671d\\u9633\",\"\\u671d\\u9633\",\"\\u671d\\u9633\",\"\\u671d\\u9633\",\"\\u671d\\u9633\",\"\\u671d\\u9633\",\"\\u671d\\u9633\",\"\\u671d\\u9633\",\"\\u671d\\u9633\",\"\\u671d\\u9633\",\"\\u671d\\u9633\",\"\\u671d\\u9633\",\"\\u671d\\u9633\",\"\\u671d\\u9633\",\"\\u671d\\u9633\",\"\\u671d\\u9633\",\"\\u671d\\u9633\",\"\\u671d\\u9633\",\"\\u671d\\u9633\",\"\\u671d\\u9633\",\"\\u671d\\u9633\",\"\\u671d\\u9633\",\"\\u671d\\u9633\",\"\\u671d\\u9633\",\"\\u671d\\u9633\",\"\\u671d\\u9633\",\"\\u671d\\u9633\",\"\\u671d\\u9633\",\"\\u671d\\u9633\",\"\\u671d\\u9633\",\"\\u671d\\u9633\",\"\\u671d\\u9633\",\"\\u671d\\u9633\",\"\\u671d\\u9633\",\"\\u671d\\u9633\",\"\\u671d\\u9633\",\"\\u671d\\u9633\",\"\\u671d\\u9633\",\"\\u671d\\u9633\",\"\\u671d\\u9633\",\"\\u671d\\u9633\",\"\\u671d\\u9633\",\"\\u671d\\u9633\",\"\\u671d\\u9633\",\"\\u671d\\u9633\",\"\\u671d\\u9633\",\"\\u671d\\u9633\",\"\\u671d\\u9633\",\"\\u671d\\u9633\",\"\\u671d\\u9633\",\"\\u671d\\u9633\",\"\\u671d\\u9633\",\"\\u671d\\u9633\",\"\\u671d\\u9633\",\"\\u671d\\u9633\",\"\\u671d\\u9633\",\"\\u671d\\u9633\",\"\\u671d\\u9633\",\"\\u671d\\u9633\",\"\\u671d\\u9633\",\"\\u671d\\u9633\",\"\\u671d\\u9633\",\"\\u671d\\u9633\",\"\\u671d\\u9633\",\"\\u671d\\u9633\",\"\\u671d\\u9633\",\"\\u671d\\u9633\",\"\\u671d\\u9633\",\"\\u671d\\u9633\",\"\\u671d\\u9633\",\"\\u671d\\u9633\",\"\\u671d\\u9633\",\"\\u671d\\u9633\",\"\\u671d\\u9633\",\"\\u671d\\u9633\",\"\\u671d\\u9633\",\"\\u671d\\u9633\",\"\\u671d\\u9633\",\"\\u671d\\u9633\",\"\\u671d\\u9633\",\"\\u671d\\u9633\",\"\\u671d\\u9633\",\"\\u671d\\u9633\",\"\\u671d\\u9633\",\"\\u671d\\u9633\",\"\\u671d\\u9633\",\"\\u671d\\u9633\",\"\\u671d\\u9633\",\"\\u671d\\u9633\",\"\\u671d\\u9633\",\"\\u671d\\u9633\",\"\\u671d\\u9633\",\"\\u671d\\u9633\",\"\\u671d\\u9633\",\"\\u671d\\u9633\",\"\\u671d\\u9633\",\"\\u671d\\u9633\",\"\\u671d\\u9633\",\"\\u671d\\u9633\",\"\\u671d\\u9633\",\"\\u671d\\u9633\",\"\\u671d\\u9633\",\"\\u671d\\u9633\",\"\\u671d\\u9633\",\"\\u671d\\u9633\",\"\\u671d\\u9633\",\"\\u671d\\u9633\",\"\\u671d\\u9633\",\"\\u671d\\u9633\",\"\\u671d\\u9633\",\"\\u671d\\u9633\",\"\\u671d\\u9633\",\"\\u671d\\u9633\",\"\\u671d\\u9633\",\"\\u671d\\u9633\",\"\\u671d\\u9633\",\"\\u671d\\u9633\",\"\\u671d\\u9633\",\"\\u671d\\u9633\",\"\\u671d\\u9633\",\"\\u671d\\u9633\",\"\\u671d\\u9633\",\"\\u671d\\u9633\",\"\\u671d\\u9633\",\"\\u671d\\u9633\",\"\\u671d\\u9633\",\"\\u671d\\u9633\",\"\\u671d\\u9633\",\"\\u671d\\u9633\",\"\\u671d\\u9633\",\"\\u671d\\u9633\",\"\\u671d\\u9633\",\"\\u671d\\u9633\",\"\\u671d\\u9633\",\"\\u671d\\u9633\",\"\\u671d\\u9633\",\"\\u671d\\u9633\",\"\\u671d\\u9633\",\"\\u671d\\u9633\",\"\\u671d\\u9633\",\"\\u671d\\u9633\",\"\\u671d\\u9633\",\"\\u671d\\u9633\",\"\\u671d\\u9633\",\"\\u671d\\u9633\",\"\\u671d\\u9633\",\"\\u671d\\u9633\",\"\\u671d\\u9633\",\"\\u671d\\u9633\",\"\\u671d\\u9633\",\"\\u671d\\u9633\",\"\\u671d\\u9633\",\"\\u671d\\u9633\",\"\\u671d\\u9633\",\"\\u671d\\u9633\",\"\\u671d\\u9633\",\"\\u671d\\u9633\",\"\\u671d\\u9633\",\"\\u671d\\u9633\",\"\\u671d\\u9633\",\"\\u671d\\u9633\",\"\\u671d\\u9633\",\"\\u671d\\u9633\",\"\\u671d\\u9633\",\"\\u671d\\u9633\",\"\\u671d\\u9633\",\"\\u671d\\u9633\",\"\\u671d\\u9633\",\"\\u671d\\u9633\",\"\\u671d\\u9633\",\"\\u671d\\u9633\",\"\\u671d\\u9633\",\"\\u671d\\u9633\",\"\\u671d\\u9633\",\"\\u671d\\u9633\",\"\\u671d\\u9633\",\"\\u671d\\u9633\",\"\\u671d\\u9633\",\"\\u671d\\u9633\",\"\\u671d\\u9633\",\"\\u671d\\u9633\",\"\\u671d\\u9633\",\"\\u671d\\u9633\",\"\\u671d\\u9633\",\"\\u671d\\u9633\",\"\\u671d\\u9633\",\"\\u671d\\u9633\",\"\\u671d\\u9633\",\"\\u671d\\u9633\",\"\\u671d\\u9633\",\"\\u671d\\u9633\",\"\\u671d\\u9633\",\"\\u671d\\u9633\",\"\\u671d\\u9633\",\"\\u671d\\u9633\",\"\\u671d\\u9633\",\"\\u671d\\u9633\",\"\\u671d\\u9633\",\"\\u671d\\u9633\",\"\\u671d\\u9633\",\"\\u671d\\u9633\",\"\\u671d\\u9633\",\"\\u671d\\u9633\",\"\\u671d\\u9633\",\"\\u671d\\u9633\",\"\\u671d\\u9633\",\"\\u671d\\u9633\",\"\\u671d\\u9633\",\"\\u671d\\u9633\",\"\\u671d\\u9633\",\"\\u671d\\u9633\",\"\\u671d\\u9633\",\"\\u671d\\u9633\",\"\\u671d\\u9633\",\"\\u671d\\u9633\",\"\\u671d\\u9633\",\"\\u671d\\u9633\",\"\\u671d\\u9633\",\"\\u671d\\u9633\",\"\\u671d\\u9633\",\"\\u671d\\u9633\",\"\\u671d\\u9633\",\"\\u671d\\u9633\",\"\\u671d\\u9633\",\"\\u671d\\u9633\",\"\\u671d\\u9633\",\"\\u671d\\u9633\",\"\\u671d\\u9633\",\"\\u671d\\u9633\",\"\\u671d\\u9633\",\"\\u671d\\u9633\",\"\\u671d\\u9633\",\"\\u671d\\u9633\",\"\\u671d\\u9633\",\"\\u671d\\u9633\",\"\\u671d\\u9633\",\"\\u671d\\u9633\",\"\\u671d\\u9633\",\"\\u671d\\u9633\",\"\\u671d\\u9633\",\"\\u671d\\u9633\",\"\\u671d\\u9633\",\"\\u671d\\u9633\",\"\\u671d\\u9633\",\"\\u671d\\u9633\",\"\\u671d\\u9633\",\"\\u671d\\u9633\",\"\\u671d\\u9633\",\"\\u671d\\u9633\",\"\\u671d\\u9633\",\"\\u671d\\u9633\",\"\\u671d\\u9633\",\"\\u671d\\u9633\",\"\\u671d\\u9633\",\"\\u671d\\u9633\",\"\\u671d\\u9633\",\"\\u671d\\u9633\",\"\\u671d\\u9633\",\"\\u671d\\u9633\",\"\\u671d\\u9633\",\"\\u671d\\u9633\",\"\\u671d\\u9633\",\"\\u671d\\u9633\",\"\\u671d\\u9633\",\"\\u671d\\u9633\",\"\\u671d\\u9633\",\"\\u671d\\u9633\",\"\\u671d\\u9633\",\"\\u671d\\u9633\",\"\\u671d\\u9633\",\"\\u671d\\u9633\",\"\\u671d\\u9633\",\"\\u671d\\u9633\",\"\\u671d\\u9633\",\"\\u671d\\u9633\",\"\\u671d\\u9633\",\"\\u671d\\u9633\",\"\\u671d\\u9633\",\"\\u671d\\u9633\",\"\\u671d\\u9633\",\"\\u671d\\u9633\",\"\\u671d\\u9633\",\"\\u671d\\u9633\",\"\\u671d\\u9633\",\"\\u671d\\u9633\"],\"x0\":\" \",\"xaxis\":\"x\",\"y\":{\"dtype\":\"f8\",\"bdata\":\"AAAAAABQhEAAAAAAAMByQAAAAAAAAJRAAAAAAABwgkAAAAAAAOB9QAAAAAAAYINAAAAAAADgekAAAAAAAFiVQAAAAAAAKIRAAAAAAABQcUAAAAAAAHByQAAAAAAAIH9AAAAAAACwnUAAAAAAAOBoQAAAAAAAkHRAAAAAAAAwkUAAAAAAAKB0QAAAAAAAMHZAAAAAAABwfEAAAAAAAKB3QAAAAAAAEHNAAAAAAACohkAAAAAAAKCRQAAAAAAA4GpAAAAAAACQdEAAAAAAAACIQAAAAAAAgHFAAAAAAACAa0AAAAAAAIBsQAAAAAAAOJNAAAAAAACQf0AAAAAAAFB5QAAAAAAAoHlAAAAAAADweUAAAAAAAFBzQAAAAAAAyJRAAAAAAAAwdUAAAAAAANB2QAAAAAAA4HNAAAAAAAAwdkAAAAAAALB4QAAAAAAAsINAAAAAAABAgEAAAAAAAFB0QAAAAAAAwHNAAAAAAADgbUAAAAAAAEBqQAAAAAAAIG1AAAAAAADQdkAAAAAAALCHQAAAAAAAyJRAAAAAAADAhkAAAAAAAJB\\u002fQAAAAAAA0HZAAAAAAAAwdUAAAAAAAJB3QAAAAAAA0HpAAAAAAAAwdkAAAAAAAIBsQAAAAAAAsHJAAAAAAABYg0AAAAAAABiSQAAAAAAA8HhAAAAAAADQdUAAAAAAAKCEQAAAAAAAgGpAAAAAAABAdUAAAAAAAICdQAAAAAAAUHNAAAAAAAAAbEAAAAAAAKB8QAAAAAAAsHJAAAAAAABga0AAAAAAACBwQAAAAAAAkIpAAAAAAACgeUAAAAAAAMiUQAAAAAAAoIRAAAAAAACgdEAAAAAAAIB7QAAAAAAAgGtAAAAAAAAwekAAAAAAANCBQAAAAAAAqJNAAAAAAABgdkAAAAAAADCLQAAAAAAAIHJAAAAAAACQfkAAAAAAANBwQAAAAAAAMHZAAAAAAACIk0AAAAAAAHB3QAAAAAAAqINAAAAAAADAcEAAAAAAAOBzQAAAAAAAGKVAAAAAAADweEAAAAAAALiAQAAAAAAA0HZAAAAAAADgeEAAAAAAANiAQAAAAAAAIG9AAAAAAAAAdEAAAAAAACB1QAAAAAAAoGRAAAAAAACAcUAAAAAAAGCGQAAAAAAAKIdAAAAAAABQhEAAAAAAACBlQAAAAAAA0HhAAAAAAADgc0AAAAAAAHB3QAAAAAAAUHRAAAAAAABQfkAAAAAAAIBrQAAAAAAA8HRAAAAAAABwgUAAAAAAANCbQAAAAAAAgH5AAAAAAABga0AAAAAAAAByQAAAAAAAsHJAAAAAAACwfUAAAAAAAKiQQAAAAAAAkHpAAAAAAADQekAAAAAAALB3QAAAAAAAuIBAAAAAAACgckAAAAAAACB\\u002fQAAAAAAAIHVAAAAAAADgdkAAAAAAAGiFQAAAAAAAQHpAAAAAAACAgUAAAAAAAMB3QAAAAAAAkIpAAAAAAACQf0AAAAAAACB3QAAAAAAAEHdAAAAAAABgc0AAAAAAAAB0QAAAAAAA6IJAAAAAAAAgakAAAAAAAMB3QAAAAAAAgIBAAAAAAAAgb0AAAAAAANB7QAAAAAAA4HNAAAAAAABgdkAAAAAAAPB5QAAAAAAAcHxAAAAAAAAQdEAAAAAAAICLQAAAAAAAwHxAAAAAAABAb0AAAAAAAMB8QAAAAAAAYHtAAAAAAAAwdkAAAAAAAGCIQAAAAAAA4HpAAAAAAABgc0AAAAAAAMB8QAAAAAAAkIpAAAAAAADweEAAAAAAAGB4QAAAAAAAcIdAAAAAAADAeEAAAAAAAMByQAAAAAAAMHVAAAAAAACggkAAAAAAAKB3QAAAAAAA+IZAAAAAAACgf0AAAAAAAHCAQAAAAAAAwH1AAAAAAADAekAAAAAAAKByQAAAAAAAIH9AAAAAAACAa0AAAAAAAKSfQAAAAAAAQH1AAAAAAACIhUAAAAAAAIB7QAAAAAAAMHpAAAAAAACgeUAAAAAAAFCDQAAAAAAAAIRAAAAAAABAakAAAAAAADByQAAAAAAAQHNAAAAAAADAcEAAAAAAAMCEQAAAAAAAgHFAAAAAAACwc0AAAAAAAFB9QAAAAAAAIG1AAAAAAADQdkAAAAAAALB3QAAAAAAAMHFAAAAAAADAYkAAAAAAAOB1QAAAAAAAoHRAAAAAAACQcEAAAAAAAEBzQAAAAAAASIJAAAAAAACAfEAAAAAAAPBzQAAAAAAAIHpAAAAAAADohEAAAAAAAEBrQAAAAAAAAGVAAAAAAACQdUAAAAAAAFB4QAAAAAAAEIJAAAAAAAC4ikAAAAAAAGCNQAAAAAAAoHxAAAAAAABgdUAAAAAAAMBrQAAAAAAAoHlAAAAAAABQeEAAAAAAAGB2QAAAAAAAgGtAAAAAAACgjkAAAAAAAOBjQAAAAAAAIHxAAAAAAAAwe0AAAAAAAKCJQAAAAAAAgHFAAAAAAAA4hUAAAAAAACB6QAAAAAAAwGZAAAAAAAAgfEAAAAAAAKByQAAAAAAASIJAAAAAAADgc0AAAAAAAABuQAAAAAAAaIBAAAAAAABAb0AAAAAAAKCOQAAAAAAAgGhAAAAAAAAwcUAAAAAAANiVQAAAAAAA0HFAAAAAAACwc0AAAAAAAOB\\u002fQAAAAAAAQIhAAAAAAADAbEAAAAAAAMBnQAAAAAAAqJZAAAAAAABgfUAAAAAAACBsQAAAAAAAgHRAAAAAAACgiUAAAAAAAKB8QAAAAAAAQJJAAAAAAAAAeUAAAAAAALiFQAAAAAAAwIZAAAAAAAAAfkAAAAAAAMB0QAAAAAAA0H9AAAAAAAAAdEAAAAAAADBwQAAAAAAAwH5AAAAAAACQhUAAAAAAABB4QAAAAAAAIGdAAAAAAAAskEAAAAAAAMBwQAAAAAAAQHJAAAAAAAAwdUAAAAAAAHiOQAAAAAAAQGhAAAAAAAAgbEAAAAAAABB3QAAAAAAAoGNAAAAAAABgY0AAAAAAAKBkQAAAAAAAQHVAAAAAAACAcUAAAAAAALBzQAAAAAAACIFAAAAAAAAQfUAAAAAAAIBsQAAAAAAAiJNAAAAAAACwckAAAAAAANCEQAAAAAAAEHdAAAAAAAAgcEAAAAAAAFBzQAAAAAAAgHRAAAAAAADQe0AAAAAAAGBzQAAAAAAAwHlAAAAAAAAwhUAAAAAAALiCQAAAAAAAqIFAAAAAAADgakAAAAAAAAByQAAAAAAAwHpAAAAAAACwdEA=\"},\"y0\":\" \",\"yaxis\":\"y\",\"type\":\"box\"},{\"alignmentgroup\":\"True\",\"hovertemplate\":\"Region=%{x}\\u003cbr\\u003ePrice=%{y}\\u003cextra\\u003e\\u003c\\u002fextra\\u003e\",\"legendgroup\":\"\\u4e30\\u53f0\",\"marker\":{\"color\":\"#EF553B\"},\"name\":\"\\u4e30\\u53f0\",\"notched\":false,\"offsetgroup\":\"\\u4e30\\u53f0\",\"orientation\":\"v\",\"showlegend\":true,\"x\":[\"\\u4e30\\u53f0\",\"\\u4e30\\u53f0\",\"\\u4e30\\u53f0\",\"\\u4e30\\u53f0\",\"\\u4e30\\u53f0\",\"\\u4e30\\u53f0\",\"\\u4e30\\u53f0\",\"\\u4e30\\u53f0\",\"\\u4e30\\u53f0\",\"\\u4e30\\u53f0\",\"\\u4e30\\u53f0\",\"\\u4e30\\u53f0\",\"\\u4e30\\u53f0\",\"\\u4e30\\u53f0\",\"\\u4e30\\u53f0\",\"\\u4e30\\u53f0\",\"\\u4e30\\u53f0\",\"\\u4e30\\u53f0\",\"\\u4e30\\u53f0\",\"\\u4e30\\u53f0\",\"\\u4e30\\u53f0\",\"\\u4e30\\u53f0\",\"\\u4e30\\u53f0\",\"\\u4e30\\u53f0\",\"\\u4e30\\u53f0\",\"\\u4e30\\u53f0\",\"\\u4e30\\u53f0\",\"\\u4e30\\u53f0\",\"\\u4e30\\u53f0\",\"\\u4e30\\u53f0\",\"\\u4e30\\u53f0\",\"\\u4e30\\u53f0\",\"\\u4e30\\u53f0\",\"\\u4e30\\u53f0\",\"\\u4e30\\u53f0\",\"\\u4e30\\u53f0\",\"\\u4e30\\u53f0\",\"\\u4e30\\u53f0\",\"\\u4e30\\u53f0\",\"\\u4e30\\u53f0\",\"\\u4e30\\u53f0\",\"\\u4e30\\u53f0\",\"\\u4e30\\u53f0\",\"\\u4e30\\u53f0\",\"\\u4e30\\u53f0\",\"\\u4e30\\u53f0\",\"\\u4e30\\u53f0\",\"\\u4e30\\u53f0\",\"\\u4e30\\u53f0\",\"\\u4e30\\u53f0\",\"\\u4e30\\u53f0\",\"\\u4e30\\u53f0\",\"\\u4e30\\u53f0\",\"\\u4e30\\u53f0\",\"\\u4e30\\u53f0\",\"\\u4e30\\u53f0\",\"\\u4e30\\u53f0\",\"\\u4e30\\u53f0\",\"\\u4e30\\u53f0\",\"\\u4e30\\u53f0\",\"\\u4e30\\u53f0\",\"\\u4e30\\u53f0\",\"\\u4e30\\u53f0\",\"\\u4e30\\u53f0\",\"\\u4e30\\u53f0\",\"\\u4e30\\u53f0\",\"\\u4e30\\u53f0\",\"\\u4e30\\u53f0\",\"\\u4e30\\u53f0\",\"\\u4e30\\u53f0\",\"\\u4e30\\u53f0\",\"\\u4e30\\u53f0\",\"\\u4e30\\u53f0\",\"\\u4e30\\u53f0\",\"\\u4e30\\u53f0\",\"\\u4e30\\u53f0\",\"\\u4e30\\u53f0\",\"\\u4e30\\u53f0\",\"\\u4e30\\u53f0\",\"\\u4e30\\u53f0\",\"\\u4e30\\u53f0\",\"\\u4e30\\u53f0\",\"\\u4e30\\u53f0\",\"\\u4e30\\u53f0\",\"\\u4e30\\u53f0\",\"\\u4e30\\u53f0\",\"\\u4e30\\u53f0\",\"\\u4e30\\u53f0\",\"\\u4e30\\u53f0\",\"\\u4e30\\u53f0\",\"\\u4e30\\u53f0\",\"\\u4e30\\u53f0\",\"\\u4e30\\u53f0\",\"\\u4e30\\u53f0\",\"\\u4e30\\u53f0\",\"\\u4e30\\u53f0\",\"\\u4e30\\u53f0\",\"\\u4e30\\u53f0\",\"\\u4e30\\u53f0\",\"\\u4e30\\u53f0\",\"\\u4e30\\u53f0\",\"\\u4e30\\u53f0\",\"\\u4e30\\u53f0\",\"\\u4e30\\u53f0\",\"\\u4e30\\u53f0\",\"\\u4e30\\u53f0\",\"\\u4e30\\u53f0\",\"\\u4e30\\u53f0\",\"\\u4e30\\u53f0\",\"\\u4e30\\u53f0\",\"\\u4e30\\u53f0\",\"\\u4e30\\u53f0\",\"\\u4e30\\u53f0\",\"\\u4e30\\u53f0\",\"\\u4e30\\u53f0\",\"\\u4e30\\u53f0\",\"\\u4e30\\u53f0\",\"\\u4e30\\u53f0\",\"\\u4e30\\u53f0\",\"\\u4e30\\u53f0\",\"\\u4e30\\u53f0\",\"\\u4e30\\u53f0\"],\"x0\":\" \",\"xaxis\":\"x\",\"y\":{\"dtype\":\"f8\",\"bdata\":\"AAAAAABAekAAAAAAANBxQAAAAAAAkIBAAAAAAAAwe0AAAAAAAOB1QAAAAAAAgGxAAAAAAAAQd0AAAAAAAGBvQAAAAAAAgGZAAAAAAABQfkAAAAAAAFBzQAAAAAAAgHFAAAAAAAAwdkAAAAAAAMB6QAAAAAAA4GpAAAAAAACAcUAAAAAAACBvQAAAAAAAQHhAAAAAAACgckAAAAAAAJCEQAAAAAAASIJAAAAAAAAwgUAAAAAAADCLQAAAAAAAAHdAAAAAAACAbUAAAAAAAMB8QAAAAAAAAHJAAAAAAACgjkAAAAAAAPBzQAAAAAAAsHhAAAAAAACAi0AAAAAAAKBkQAAAAAAA8HJAAAAAAADAbkAAAAAAABB3QAAAAAAAQIBAAAAAAABAZ0AAAAAAANBxQAAAAAAAEHJAAAAAAACAa0AAAAAAAJiEQAAAAAAAAGlAzczMzMz8aEAAAAAAADiAQAAAAAAAAHJAAAAAAABwckAAAAAAAIiDQAAAAAAA4HpAAAAAAADweEAAAAAAAIBqQAAAAAAA0HVAAAAAAACwfUAAAAAAAKBuQAAAAAAAAGhAAAAAAACwgUAAAAAAAGBxQAAAAAAA0HFAAAAAAABQfUAAAAAAAFB0QAAAAAAAYG1AAAAAAAAwf0AAAAAAALiCQAAAAAAA4IBAAAAAAAAAdUAAAAAAAEiEQAAAAAAAoGJAAAAAAACgbEAAAAAAAKCEQAAAAAAAMHtAAAAAAABAekAAAAAAACBqQAAAAAAAEIFAAAAAAAAgZUAAAAAAAKB3QAAAAAAAQHVAAAAAAADAdUAAAAAAAOBtQAAAAAAA0IFAAAAAAABAc0AAAAAAAACDQAAAAAAAwGxAAAAAAADwdEAAAAAAAJiCQAAAAAAAYH1AAAAAAABgl0AAAAAAAKB0QAAAAAAAaIBAAAAAAADAeEAAAAAAAHB7QAAAAAAAQHdAAAAAAABge0AAAAAAAAB1QAAAAAAAIGVAAAAAAAAAf0AAAAAAAOB4QAAAAAAAYGxAAAAAAABQeEAAAAAAANBxQAAAAAAAJJZAAAAAAACAbUAAAAAAAPCJQAAAAAAAUH5AAAAAAABQeEAAAAAAAIBrQAAAAAAA0H1AAAAAAADweEAAAAAAAGB2QAAAAAAAAHlAAAAAAAAQeEAAAAAAAOBwQAAAAAAAgGpAAAAAAADQcEAAAAAAAHB7QAAAAAAAOIdAAAAAAAAgf0AAAAAAABiFQAAAAAAAoHJAAAAAAABAakAAAAAAACBvQAAAAAAA4GVAAAAAAAAwgUAAAAAAAOB9QA==\"},\"y0\":\" \",\"yaxis\":\"y\",\"type\":\"box\"},{\"alignmentgroup\":\"True\",\"hovertemplate\":\"Region=%{x}\\u003cbr\\u003ePrice=%{y}\\u003cextra\\u003e\\u003c\\u002fextra\\u003e\",\"legendgroup\":\"\\u77f3\\u666f\\u5c71\",\"marker\":{\"color\":\"#00cc96\"},\"name\":\"\\u77f3\\u666f\\u5c71\",\"notched\":false,\"offsetgroup\":\"\\u77f3\\u666f\\u5c71\",\"orientation\":\"v\",\"showlegend\":true,\"x\":[\"\\u77f3\\u666f\\u5c71\",\"\\u77f3\\u666f\\u5c71\",\"\\u77f3\\u666f\\u5c71\",\"\\u77f3\\u666f\\u5c71\",\"\\u77f3\\u666f\\u5c71\",\"\\u77f3\\u666f\\u5c71\",\"\\u77f3\\u666f\\u5c71\",\"\\u77f3\\u666f\\u5c71\",\"\\u77f3\\u666f\\u5c71\",\"\\u77f3\\u666f\\u5c71\",\"\\u77f3\\u666f\\u5c71\",\"\\u77f3\\u666f\\u5c71\",\"\\u77f3\\u666f\\u5c71\",\"\\u77f3\\u666f\\u5c71\",\"\\u77f3\\u666f\\u5c71\",\"\\u77f3\\u666f\\u5c71\",\"\\u77f3\\u666f\\u5c71\",\"\\u77f3\\u666f\\u5c71\",\"\\u77f3\\u666f\\u5c71\",\"\\u77f3\\u666f\\u5c71\",\"\\u77f3\\u666f\\u5c71\",\"\\u77f3\\u666f\\u5c71\",\"\\u77f3\\u666f\\u5c71\",\"\\u77f3\\u666f\\u5c71\",\"\\u77f3\\u666f\\u5c71\",\"\\u77f3\\u666f\\u5c71\",\"\\u77f3\\u666f\\u5c71\",\"\\u77f3\\u666f\\u5c71\",\"\\u77f3\\u666f\\u5c71\",\"\\u77f3\\u666f\\u5c71\",\"\\u77f3\\u666f\\u5c71\",\"\\u77f3\\u666f\\u5c71\",\"\\u77f3\\u666f\\u5c71\",\"\\u77f3\\u666f\\u5c71\",\"\\u77f3\\u666f\\u5c71\",\"\\u77f3\\u666f\\u5c71\",\"\\u77f3\\u666f\\u5c71\"],\"x0\":\" \",\"xaxis\":\"x\",\"y\":{\"dtype\":\"f8\",\"bdata\":\"AAAAAACwgkAAAAAAAOBjQAAAAAAA4G9AAAAAAADQdUAAAAAAAABgQAAAAAAAYH1AAAAAAABgZkAAAAAAANB2QAAAAAAAwGRAAAAAAAAwe0AAAAAAAGBjQAAAAAAAAHdAAAAAAAAQckAAAAAAAFB9QAAAAAAAQGpAAAAAAACAZ0AAAAAAAKBkQAAAAAAA4G9AAAAAAADAcEAAAAAAAPB5QAAAAAAA4HVAAAAAAAAQckAAAAAAAKBkQAAAAAAAAHdAAAAAAABwckAAAAAAAMBjQAAAAAAA4HNAAAAAAADwiUAAAAAAAMBhQAAAAAAAMHZAAAAAAAAgb0AAAAAAAECEQAAAAAAAwGhAAAAAAABgbEAAAAAAAAB2QAAAAAAAMHBAAAAAAABAd0A=\"},\"y0\":\" \",\"yaxis\":\"y\",\"type\":\"box\"},{\"alignmentgroup\":\"True\",\"hovertemplate\":\"Region=%{x}\\u003cbr\\u003ePrice=%{y}\\u003cextra\\u003e\\u003c\\u002fextra\\u003e\",\"legendgroup\":\"\\u6d77\\u6dc0\",\"marker\":{\"color\":\"#ab63fa\"},\"name\":\"\\u6d77\\u6dc0\",\"notched\":false,\"offsetgroup\":\"\\u6d77\\u6dc0\",\"orientation\":\"v\",\"showlegend\":true,\"x\":[\"\\u6d77\\u6dc0\",\"\\u6d77\\u6dc0\",\"\\u6d77\\u6dc0\",\"\\u6d77\\u6dc0\",\"\\u6d77\\u6dc0\",\"\\u6d77\\u6dc0\",\"\\u6d77\\u6dc0\",\"\\u6d77\\u6dc0\",\"\\u6d77\\u6dc0\",\"\\u6d77\\u6dc0\",\"\\u6d77\\u6dc0\",\"\\u6d77\\u6dc0\",\"\\u6d77\\u6dc0\",\"\\u6d77\\u6dc0\",\"\\u6d77\\u6dc0\",\"\\u6d77\\u6dc0\",\"\\u6d77\\u6dc0\",\"\\u6d77\\u6dc0\",\"\\u6d77\\u6dc0\",\"\\u6d77\\u6dc0\",\"\\u6d77\\u6dc0\",\"\\u6d77\\u6dc0\",\"\\u6d77\\u6dc0\",\"\\u6d77\\u6dc0\",\"\\u6d77\\u6dc0\",\"\\u6d77\\u6dc0\",\"\\u6d77\\u6dc0\",\"\\u6d77\\u6dc0\",\"\\u6d77\\u6dc0\",\"\\u6d77\\u6dc0\",\"\\u6d77\\u6dc0\",\"\\u6d77\\u6dc0\",\"\\u6d77\\u6dc0\",\"\\u6d77\\u6dc0\",\"\\u6d77\\u6dc0\",\"\\u6d77\\u6dc0\",\"\\u6d77\\u6dc0\",\"\\u6d77\\u6dc0\",\"\\u6d77\\u6dc0\",\"\\u6d77\\u6dc0\",\"\\u6d77\\u6dc0\",\"\\u6d77\\u6dc0\",\"\\u6d77\\u6dc0\",\"\\u6d77\\u6dc0\",\"\\u6d77\\u6dc0\",\"\\u6d77\\u6dc0\",\"\\u6d77\\u6dc0\",\"\\u6d77\\u6dc0\",\"\\u6d77\\u6dc0\",\"\\u6d77\\u6dc0\",\"\\u6d77\\u6dc0\",\"\\u6d77\\u6dc0\",\"\\u6d77\\u6dc0\",\"\\u6d77\\u6dc0\",\"\\u6d77\\u6dc0\",\"\\u6d77\\u6dc0\",\"\\u6d77\\u6dc0\",\"\\u6d77\\u6dc0\",\"\\u6d77\\u6dc0\",\"\\u6d77\\u6dc0\",\"\\u6d77\\u6dc0\",\"\\u6d77\\u6dc0\",\"\\u6d77\\u6dc0\",\"\\u6d77\\u6dc0\",\"\\u6d77\\u6dc0\",\"\\u6d77\\u6dc0\",\"\\u6d77\\u6dc0\",\"\\u6d77\\u6dc0\",\"\\u6d77\\u6dc0\",\"\\u6d77\\u6dc0\",\"\\u6d77\\u6dc0\",\"\\u6d77\\u6dc0\",\"\\u6d77\\u6dc0\",\"\\u6d77\\u6dc0\",\"\\u6d77\\u6dc0\",\"\\u6d77\\u6dc0\",\"\\u6d77\\u6dc0\",\"\\u6d77\\u6dc0\",\"\\u6d77\\u6dc0\",\"\\u6d77\\u6dc0\",\"\\u6d77\\u6dc0\",\"\\u6d77\\u6dc0\",\"\\u6d77\\u6dc0\",\"\\u6d77\\u6dc0\",\"\\u6d77\\u6dc0\",\"\\u6d77\\u6dc0\",\"\\u6d77\\u6dc0\",\"\\u6d77\\u6dc0\",\"\\u6d77\\u6dc0\",\"\\u6d77\\u6dc0\",\"\\u6d77\\u6dc0\",\"\\u6d77\\u6dc0\",\"\\u6d77\\u6dc0\",\"\\u6d77\\u6dc0\",\"\\u6d77\\u6dc0\",\"\\u6d77\\u6dc0\",\"\\u6d77\\u6dc0\",\"\\u6d77\\u6dc0\",\"\\u6d77\\u6dc0\",\"\\u6d77\\u6dc0\",\"\\u6d77\\u6dc0\",\"\\u6d77\\u6dc0\",\"\\u6d77\\u6dc0\",\"\\u6d77\\u6dc0\",\"\\u6d77\\u6dc0\",\"\\u6d77\\u6dc0\"],\"x0\":\" \",\"xaxis\":\"x\",\"y\":{\"dtype\":\"f8\",\"bdata\":\"AAAAAADUkkAAAAAAAJB5QAAAAAAA4HBAAAAAAAAIgUAAAAAAANCGQAAAAAAA8HhAAAAAAABAf0AAAAAAANCEQAAAAAAA0IZAAAAAAADAkkAAAAAAAJiAQAAAAAAA0HBAAAAAAAAAfkAAAAAAAPB9QAAAAAAA4IVAAAAAAABge0AAAAAAAJB1QAAAAAAAkHBAAAAAAACAeUAAAAAAAOB1QAAAAAAAqKZAAAAAAADAekAAAAAAAOB6QAAAAAAAcIJAAAAAAABQhEAAAAAAAKiRQAAAAAAAsHJAAAAAAAAAdEAAAAAAANB5QAAAAAAALJFAAAAAAABgmkAAAAAAABB5QAAAAAAA4HBAAAAAAADQgEAAAAAAABiFQAAAAAAA4HVAAAAAAABAc0AAAAAAANCLQAAAAAAAQHhAAAAAAADAfEAAAAAAAKiWQAAAAAAAQI9AAAAAAAAsp0AAAAAAAEB4QAAAAAAAgHFAAAAAAACAhUAAAAAAALB8QAAAAAAAsHJAAAAAAACQdUAAAAAAACiBQAAAAAAAsHNAAAAAAADweUAAAAAAANCBQAAAAAAA0IFAAAAAAABwfEAAAAAAANiFQAAAAAAAsH1AAAAAAACQdUAAAAAAADCHQAAAAAAA8HhAAAAAAACIj0AAAAAAAKCCQAAAAAAAwHRAAAAAAABYgUAAAAAAALCGQAAAAAAAIIJAAAAAAAAAfkAAAAAAAFiBQAAAAAAAkIpAAAAAAAD4oUAAAAAAAOCKQAAAAAAA8IlAAAAAAACgfkAAAAAAAEB6QAAAAAAAAHRAAAAAAAD4iEAAAAAAAICBQAAAAAAAoHlAAAAAAADgf0AAAAAAAOBwQAAAAAAAcHpAAAAAAAD4iEAAAAAAAECFQAAAAAAA8HhAAAAAAABgnUAAAAAAAKCEQAAAAAAAiIhAAAAAAABAdUAAAAAAAICBQAAAAAAA4HVAAAAAAAAQiEAAAAAAABiFQAAAAAAAQH9AAAAAAADQhUAAAAAAANCAQAAAAAAAAHlAAAAAAACAfkAAAAAAAGiCQAAAAAAA0IpAAAAAAAAwf0AAAAAAAEB1QAAAAAAA0HlAAAAAAADQgEAAAAAAAHCAQAAAAAAA+IhAAAAAAAAQhkA=\"},\"y0\":\" \",\"yaxis\":\"y\",\"type\":\"box\"},{\"alignmentgroup\":\"True\",\"hovertemplate\":\"Region=%{x}\\u003cbr\\u003ePrice=%{y}\\u003cextra\\u003e\\u003c\\u002fextra\\u003e\",\"legendgroup\":\"\\u901a\\u5dde\",\"marker\":{\"color\":\"#FFA15A\"},\"name\":\"\\u901a\\u5dde\",\"notched\":false,\"offsetgroup\":\"\\u901a\\u5dde\",\"orientation\":\"v\",\"showlegend\":true,\"x\":[\"\\u901a\\u5dde\",\"\\u901a\\u5dde\",\"\\u901a\\u5dde\",\"\\u901a\\u5dde\",\"\\u901a\\u5dde\",\"\\u901a\\u5dde\",\"\\u901a\\u5dde\",\"\\u901a\\u5dde\",\"\\u901a\\u5dde\",\"\\u901a\\u5dde\",\"\\u901a\\u5dde\",\"\\u901a\\u5dde\",\"\\u901a\\u5dde\",\"\\u901a\\u5dde\",\"\\u901a\\u5dde\",\"\\u901a\\u5dde\",\"\\u901a\\u5dde\",\"\\u901a\\u5dde\",\"\\u901a\\u5dde\",\"\\u901a\\u5dde\",\"\\u901a\\u5dde\",\"\\u901a\\u5dde\",\"\\u901a\\u5dde\",\"\\u901a\\u5dde\",\"\\u901a\\u5dde\",\"\\u901a\\u5dde\",\"\\u901a\\u5dde\",\"\\u901a\\u5dde\",\"\\u901a\\u5dde\",\"\\u901a\\u5dde\",\"\\u901a\\u5dde\",\"\\u901a\\u5dde\",\"\\u901a\\u5dde\",\"\\u901a\\u5dde\",\"\\u901a\\u5dde\",\"\\u901a\\u5dde\",\"\\u901a\\u5dde\",\"\\u901a\\u5dde\",\"\\u901a\\u5dde\",\"\\u901a\\u5dde\",\"\\u901a\\u5dde\",\"\\u901a\\u5dde\",\"\\u901a\\u5dde\",\"\\u901a\\u5dde\",\"\\u901a\\u5dde\",\"\\u901a\\u5dde\",\"\\u901a\\u5dde\",\"\\u901a\\u5dde\",\"\\u901a\\u5dde\",\"\\u901a\\u5dde\",\"\\u901a\\u5dde\",\"\\u901a\\u5dde\",\"\\u901a\\u5dde\",\"\\u901a\\u5dde\",\"\\u901a\\u5dde\",\"\\u901a\\u5dde\",\"\\u901a\\u5dde\",\"\\u901a\\u5dde\",\"\\u901a\\u5dde\",\"\\u901a\\u5dde\",\"\\u901a\\u5dde\",\"\\u901a\\u5dde\",\"\\u901a\\u5dde\",\"\\u901a\\u5dde\",\"\\u901a\\u5dde\",\"\\u901a\\u5dde\",\"\\u901a\\u5dde\",\"\\u901a\\u5dde\",\"\\u901a\\u5dde\",\"\\u901a\\u5dde\",\"\\u901a\\u5dde\",\"\\u901a\\u5dde\",\"\\u901a\\u5dde\",\"\\u901a\\u5dde\",\"\\u901a\\u5dde\",\"\\u901a\\u5dde\",\"\\u901a\\u5dde\",\"\\u901a\\u5dde\",\"\\u901a\\u5dde\",\"\\u901a\\u5dde\"],\"x0\":\" \",\"xaxis\":\"x\",\"y\":{\"dtype\":\"f8\",\"bdata\":\"AAAAAADgYEAAAAAAAHB3QAAAAAAAQGlAAAAAAACAbEAAAAAAAKBkQAAAAAAAoH9AAAAAAAAwcEAAAAAAALiAQAAAAAAAIHBAAAAAAAAgYkAAAAAAALByQAAAAAAAIGxAAAAAAABwdkAAAAAAAGBtQAAAAAAAcHFAAAAAAADgZUAAAAAAABBxQAAAAAAAQGJAAAAAAAAAaUAAAAAAAEBoQAAAAAAAMHFAAAAAAADAdUAAAAAAAMBjQAAAAAAAkHBAAAAAAAAYhUAAAAAAACBsQAAAAAAAgHdAAAAAAADgaEAAAAAAAAB0QAAAAAAAwGxAAAAAAACAbUAAAAAAAIBmQAAAAAAAgG1AAAAAAADgbkAAAAAAAKBkQAAAAAAAgHZAAAAAAAA4gEAAAAAAAABwQAAAAAAA4GhAAAAAAABQeUAAAAAAABByQAAAAAAAIHpAAAAAAABga0AAAAAAAFiBQAAAAAAAAHBAAAAAAAAAf0AAAAAAABB9QAAAAAAAoHdAAAAAAABAbEAAAAAAADBxQAAAAAAAQIBAAAAAAACgc0AAAAAAAKBpQAAAAAAAsIhAAAAAAADgakAAAAAAADB2QAAAAAAA8HhAAAAAAAAgbkAAAAAAAKBnQAAAAAAAAGpAAAAAAAAAaUAAAAAAAJB5QAAAAAAAAG9AAAAAAAAAakAAAAAAAOBtQAAAAAAAEHFAAAAAAABAdEAAAAAAAGBjQAAAAAAAAINAAAAAAADAaUAAAAAAAOBzQAAAAAAAIG9AAAAAAACYhEAAAAAAANCEQAAAAAAA4HZAAAAAAACAe0AAAAAAAMiBQAAAAAAA4GVAAAAAAACweEAAAAAAALB4QA==\"},\"y0\":\" \",\"yaxis\":\"y\",\"type\":\"box\"},{\"alignmentgroup\":\"True\",\"hovertemplate\":\"Region=%{x}\\u003cbr\\u003ePrice=%{y}\\u003cextra\\u003e\\u003c\\u002fextra\\u003e\",\"legendgroup\":\"\\u660c\\u5e73\",\"marker\":{\"color\":\"#19d3f3\"},\"name\":\"\\u660c\\u5e73\",\"notched\":false,\"offsetgroup\":\"\\u660c\\u5e73\",\"orientation\":\"v\",\"showlegend\":true,\"x\":[\"\\u660c\\u5e73\",\"\\u660c\\u5e73\",\"\\u660c\\u5e73\",\"\\u660c\\u5e73\",\"\\u660c\\u5e73\",\"\\u660c\\u5e73\",\"\\u660c\\u5e73\",\"\\u660c\\u5e73\",\"\\u660c\\u5e73\",\"\\u660c\\u5e73\",\"\\u660c\\u5e73\",\"\\u660c\\u5e73\",\"\\u660c\\u5e73\",\"\\u660c\\u5e73\",\"\\u660c\\u5e73\",\"\\u660c\\u5e73\",\"\\u660c\\u5e73\",\"\\u660c\\u5e73\",\"\\u660c\\u5e73\",\"\\u660c\\u5e73\",\"\\u660c\\u5e73\",\"\\u660c\\u5e73\",\"\\u660c\\u5e73\",\"\\u660c\\u5e73\",\"\\u660c\\u5e73\",\"\\u660c\\u5e73\",\"\\u660c\\u5e73\",\"\\u660c\\u5e73\",\"\\u660c\\u5e73\",\"\\u660c\\u5e73\",\"\\u660c\\u5e73\",\"\\u660c\\u5e73\",\"\\u660c\\u5e73\",\"\\u660c\\u5e73\",\"\\u660c\\u5e73\",\"\\u660c\\u5e73\",\"\\u660c\\u5e73\",\"\\u660c\\u5e73\",\"\\u660c\\u5e73\",\"\\u660c\\u5e73\",\"\\u660c\\u5e73\",\"\\u660c\\u5e73\",\"\\u660c\\u5e73\",\"\\u660c\\u5e73\",\"\\u660c\\u5e73\",\"\\u660c\\u5e73\",\"\\u660c\\u5e73\",\"\\u660c\\u5e73\",\"\\u660c\\u5e73\",\"\\u660c\\u5e73\",\"\\u660c\\u5e73\",\"\\u660c\\u5e73\",\"\\u660c\\u5e73\",\"\\u660c\\u5e73\",\"\\u660c\\u5e73\",\"\\u660c\\u5e73\",\"\\u660c\\u5e73\",\"\\u660c\\u5e73\",\"\\u660c\\u5e73\",\"\\u660c\\u5e73\",\"\\u660c\\u5e73\",\"\\u660c\\u5e73\",\"\\u660c\\u5e73\",\"\\u660c\\u5e73\",\"\\u660c\\u5e73\",\"\\u660c\\u5e73\",\"\\u660c\\u5e73\",\"\\u660c\\u5e73\",\"\\u660c\\u5e73\",\"\\u660c\\u5e73\",\"\\u660c\\u5e73\",\"\\u660c\\u5e73\",\"\\u660c\\u5e73\",\"\\u660c\\u5e73\",\"\\u660c\\u5e73\",\"\\u660c\\u5e73\",\"\\u660c\\u5e73\",\"\\u660c\\u5e73\",\"\\u660c\\u5e73\"],\"x0\":\" \",\"xaxis\":\"x\",\"y\":{\"dtype\":\"f8\",\"bdata\":\"AAAAAADgekAAAAAAAGB0QAAAAAAAIH1AAAAAAABwe0AAAAAAALiAQAAAAAAAcHxAAAAAAADAXEAAAAAAAMBuQAAAAAAAQGpAAAAAAABIgkAAAAAAAHiEQAAAAAAA4HpAAAAAAAAwdUAAAAAAACB3QAAAAAAAEHdAAAAAAACQekAAAAAAACiBQAAAAAAAwGNAAAAAAAAgdUAAAAAAALiAQAAAAAAA8HhAAAAAAADgbUAAAAAAAPB3QAAAAAAAsH1AAAAAAACgZ0AAAAAAAOBzQAAAAAAAAGlAAAAAAABIhEAAAAAAAKiBQAAAAAAAwH1AAAAAAAAAb0AAAAAAAMB8QAAAAAAAgIFAAAAAAAAgfUAAAAAAAEB\\u002fQAAAAAAAcHdAAAAAAADQekAAAAAAAGBmQAAAAAAAwHxAAAAAAADQdUAAAAAAADB\\u002fQAAAAAAAwHdAAAAAAADwfUAAAAAAAPB4QAAAAAAAMHtAAAAAAABwe0AAAAAAALCCQAAAAAAAgHFAAAAAAADgYEAAAAAAAMiEQAAAAAAAMIRAAAAAAADwc0AAAAAAADB1QAAAAAAA4G5AAAAAAADwc0AAAAAAAKBkQAAAAAAAOIBAAAAAAADQe0AAAAAAAMB\\u002fQAAAAAAAgHtAAAAAAACwf0AAAAAAALCCQAAAAAAAYHFAAAAAAACQgEAAAAAAAMB3QAAAAAAAEHZAAAAAAAAgfEAAAAAAALB4QAAAAAAAsHdAAAAAAADQgUAAAAAAANBwQAAAAAAAoH5AAAAAAAAwf0AAAAAAAMBwQAAAAAAAQHZAAAAAAABAZUAAAAAAACBqQAAAAAAAQIBAAAAAAADQe0A=\"},\"y0\":\" \",\"yaxis\":\"y\",\"type\":\"box\"},{\"alignmentgroup\":\"True\",\"hovertemplate\":\"Region=%{x}\\u003cbr\\u003ePrice=%{y}\\u003cextra\\u003e\\u003c\\u002fextra\\u003e\",\"legendgroup\":\"\\u623f\\u5c71\",\"marker\":{\"color\":\"#FF6692\"},\"name\":\"\\u623f\\u5c71\",\"notched\":false,\"offsetgroup\":\"\\u623f\\u5c71\",\"orientation\":\"v\",\"showlegend\":true,\"x\":[\"\\u623f\\u5c71\",\"\\u623f\\u5c71\",\"\\u623f\\u5c71\",\"\\u623f\\u5c71\",\"\\u623f\\u5c71\",\"\\u623f\\u5c71\",\"\\u623f\\u5c71\",\"\\u623f\\u5c71\",\"\\u623f\\u5c71\",\"\\u623f\\u5c71\",\"\\u623f\\u5c71\",\"\\u623f\\u5c71\",\"\\u623f\\u5c71\",\"\\u623f\\u5c71\",\"\\u623f\\u5c71\",\"\\u623f\\u5c71\",\"\\u623f\\u5c71\",\"\\u623f\\u5c71\",\"\\u623f\\u5c71\",\"\\u623f\\u5c71\",\"\\u623f\\u5c71\",\"\\u623f\\u5c71\",\"\\u623f\\u5c71\",\"\\u623f\\u5c71\",\"\\u623f\\u5c71\",\"\\u623f\\u5c71\",\"\\u623f\\u5c71\",\"\\u623f\\u5c71\",\"\\u623f\\u5c71\",\"\\u623f\\u5c71\",\"\\u623f\\u5c71\",\"\\u623f\\u5c71\",\"\\u623f\\u5c71\",\"\\u623f\\u5c71\",\"\\u623f\\u5c71\",\"\\u623f\\u5c71\",\"\\u623f\\u5c71\",\"\\u623f\\u5c71\",\"\\u623f\\u5c71\",\"\\u623f\\u5c71\",\"\\u623f\\u5c71\",\"\\u623f\\u5c71\",\"\\u623f\\u5c71\",\"\\u623f\\u5c71\",\"\\u623f\\u5c71\",\"\\u623f\\u5c71\",\"\\u623f\\u5c71\",\"\\u623f\\u5c71\",\"\\u623f\\u5c71\",\"\\u623f\\u5c71\",\"\\u623f\\u5c71\",\"\\u623f\\u5c71\",\"\\u623f\\u5c71\",\"\\u623f\\u5c71\",\"\\u623f\\u5c71\",\"\\u623f\\u5c71\",\"\\u623f\\u5c71\",\"\\u623f\\u5c71\",\"\\u623f\\u5c71\",\"\\u623f\\u5c71\",\"\\u623f\\u5c71\",\"\\u623f\\u5c71\",\"\\u623f\\u5c71\",\"\\u623f\\u5c71\",\"\\u623f\\u5c71\",\"\\u623f\\u5c71\",\"\\u623f\\u5c71\",\"\\u623f\\u5c71\",\"\\u623f\\u5c71\",\"\\u623f\\u5c71\",\"\\u623f\\u5c71\"],\"x0\":\" \",\"xaxis\":\"x\",\"y\":{\"dtype\":\"f8\",\"bdata\":\"AAAAAADAXkAAAAAAAEBQQAAAAAAAYGZAAAAAAAAAXEAAAAAAAIBmQAAAAAAAoHpAAAAAAABAa0AAAAAAAKBkQAAAAAAA0HZAAAAAAAAAb0AAAAAAAIBmQAAAAAAAYGFAAAAAAAAAYUAAAAAAAHB7QAAAAAAAgGFAAAAAAADgakAAAAAAAABlQAAAAAAAsHhAAAAAAADgY0AAAAAAAIBgQAAAAAAAYG1AAAAAAADgY0AAAAAAAEB6QAAAAAAAYGZAAAAAAACAb0AAAAAAAOBoQAAAAAAA4G9AAAAAAACQdEAAAAAAAABYQAAAAAAAoHpAAAAAAACgeUAAAAAAANB6QAAAAAAAIGpAAAAAAACAbUAAAAAAAMBcQAAAAAAAAHBAAAAAAADgZkAAAAAAACBoQAAAAAAAIGdAAAAAAACwfEAAAAAAAABbQAAAAAAAwGRAAAAAAAAAZUAAAAAAAKBkQAAAAAAAYGNAAAAAAABga0AAAAAAAECBQAAAAAAAIGBAAAAAAAAQd0AAAAAAACBvQAAAAAAAMGBAAAAAAACgZEAAAAAAAKB0QAAAAAAA4HVAAAAAAAAgbEAAAAAAAMBkQAAAAAAAYHBAAAAAAADAZ0AAAAAAAFBzQAAAAAAAOIBAAAAAAACAaUAAAAAAAABeQAAAAAAAIGpAAAAAAACgbEAAAAAAAABuQAAAAAAAwGZAAAAAAAAwcEAAAAAAAKB2QAAAAAAA0HVAAAAAAACgeUAAAAAAAABmQA==\"},\"y0\":\" \",\"yaxis\":\"y\",\"type\":\"box\"},{\"alignmentgroup\":\"True\",\"hovertemplate\":\"Region=%{x}\\u003cbr\\u003ePrice=%{y}\\u003cextra\\u003e\\u003c\\u002fextra\\u003e\",\"legendgroup\":\"\\u6000\\u67d4\",\"marker\":{\"color\":\"#B6E880\"},\"name\":\"\\u6000\\u67d4\",\"notched\":false,\"offsetgroup\":\"\\u6000\\u67d4\",\"orientation\":\"v\",\"showlegend\":true,\"x\":[\"\\u6000\\u67d4\",\"\\u6000\\u67d4\",\"\\u6000\\u67d4\",\"\\u6000\\u67d4\",\"\\u6000\\u67d4\",\"\\u6000\\u67d4\",\"\\u6000\\u67d4\",\"\\u6000\\u67d4\"],\"x0\":\" \",\"xaxis\":\"x\",\"y\":{\"dtype\":\"f8\",\"bdata\":\"AAAAAABgaEAAAAAAAGBzQAAAAAAAAGRAAAAAAAAAYUAAAAAAACBiQAAAAAAAQGVAAAAAAACAZ0AAAAAAAMBsQA==\"},\"y0\":\" \",\"yaxis\":\"y\",\"type\":\"box\"},{\"alignmentgroup\":\"True\",\"hovertemplate\":\"Region=%{x}\\u003cbr\\u003ePrice=%{y}\\u003cextra\\u003e\\u003c\\u002fextra\\u003e\",\"legendgroup\":\"\\u897f\\u57ce\",\"marker\":{\"color\":\"#FF97FF\"},\"name\":\"\\u897f\\u57ce\",\"notched\":false,\"offsetgroup\":\"\\u897f\\u57ce\",\"orientation\":\"v\",\"showlegend\":true,\"x\":[\"\\u897f\\u57ce\",\"\\u897f\\u57ce\",\"\\u897f\\u57ce\",\"\\u897f\\u57ce\",\"\\u897f\\u57ce\",\"\\u897f\\u57ce\",\"\\u897f\\u57ce\",\"\\u897f\\u57ce\",\"\\u897f\\u57ce\",\"\\u897f\\u57ce\",\"\\u897f\\u57ce\",\"\\u897f\\u57ce\",\"\\u897f\\u57ce\",\"\\u897f\\u57ce\",\"\\u897f\\u57ce\",\"\\u897f\\u57ce\",\"\\u897f\\u57ce\",\"\\u897f\\u57ce\",\"\\u897f\\u57ce\",\"\\u897f\\u57ce\",\"\\u897f\\u57ce\",\"\\u897f\\u57ce\",\"\\u897f\\u57ce\",\"\\u897f\\u57ce\",\"\\u897f\\u57ce\",\"\\u897f\\u57ce\",\"\\u897f\\u57ce\",\"\\u897f\\u57ce\",\"\\u897f\\u57ce\",\"\\u897f\\u57ce\",\"\\u897f\\u57ce\",\"\\u897f\\u57ce\",\"\\u897f\\u57ce\",\"\\u897f\\u57ce\",\"\\u897f\\u57ce\",\"\\u897f\\u57ce\",\"\\u897f\\u57ce\",\"\\u897f\\u57ce\",\"\\u897f\\u57ce\",\"\\u897f\\u57ce\",\"\\u897f\\u57ce\",\"\\u897f\\u57ce\",\"\\u897f\\u57ce\",\"\\u897f\\u57ce\",\"\\u897f\\u57ce\",\"\\u897f\\u57ce\",\"\\u897f\\u57ce\",\"\\u897f\\u57ce\",\"\\u897f\\u57ce\",\"\\u897f\\u57ce\",\"\\u897f\\u57ce\",\"\\u897f\\u57ce\",\"\\u897f\\u57ce\",\"\\u897f\\u57ce\",\"\\u897f\\u57ce\",\"\\u897f\\u57ce\"],\"x0\":\" \",\"xaxis\":\"x\",\"y\":{\"dtype\":\"f8\",\"bdata\":\"AAAAAABQg0AAAAAAABCIQAAAAAAAaIBAAAAAAABgh0AAAAAAAECAQAAAAAAA0HFAAAAAAACAckAAAAAAAOBuQAAAAAAAkIJAAAAAAADAfEAAAAAAADiFQAAAAAAAAH5AAAAAAAAQg0AAAAAAAKB+QAAAAAAAsJNAAAAAAABIh0AAAAAAADiYQAAAAAAAQIVAAAAAAACgiUAAAAAAALCCQAAAAAAA4H1AAAAAAADYh0AAAAAAAHylQAAAAAAArJJAAAAAAAD0oUAAAAAAAECEQAAAAAAAOI9AAAAAAADAhkAAAAAAADChQAAAAAAA0ItAAAAAAAAggkAAAAAAALCCQAAAAAAAAH5AAAAAAABgnUAAAAAAAEiEQAAAAAAA+IhAAAAAAABAhUAAAAAAAHB8QAAAAAAACJFAAAAAAADAhkAAAAAAANCLQAAAAAAAgItAAAAAAAC4hUAAAAAAABB8QAAAAAAA4HpAAAAAAADMkEAAAAAAAOCQQAAAAAAAoHRAAAAAAABgfkAAAAAAAACOQAAAAAAAsHxAAAAAAABYg0AAAAAAAAB+QAAAAAAAcJJAAAAAAAAgdUAAAAAAAOCFQA==\"},\"y0\":\" \",\"yaxis\":\"y\",\"type\":\"box\"},{\"alignmentgroup\":\"True\",\"hovertemplate\":\"Region=%{x}\\u003cbr\\u003ePrice=%{y}\\u003cextra\\u003e\\u003c\\u002fextra\\u003e\",\"legendgroup\":\"\\u987a\\u4e49\",\"marker\":{\"color\":\"#FECB52\"},\"name\":\"\\u987a\\u4e49\",\"notched\":false,\"offsetgroup\":\"\\u987a\\u4e49\",\"orientation\":\"v\",\"showlegend\":true,\"x\":[\"\\u987a\\u4e49\",\"\\u987a\\u4e49\",\"\\u987a\\u4e49\",\"\\u987a\\u4e49\",\"\\u987a\\u4e49\",\"\\u987a\\u4e49\",\"\\u987a\\u4e49\",\"\\u987a\\u4e49\",\"\\u987a\\u4e49\",\"\\u987a\\u4e49\",\"\\u987a\\u4e49\",\"\\u987a\\u4e49\",\"\\u987a\\u4e49\",\"\\u987a\\u4e49\",\"\\u987a\\u4e49\",\"\\u987a\\u4e49\",\"\\u987a\\u4e49\",\"\\u987a\\u4e49\",\"\\u987a\\u4e49\",\"\\u987a\\u4e49\",\"\\u987a\\u4e49\",\"\\u987a\\u4e49\",\"\\u987a\\u4e49\",\"\\u987a\\u4e49\",\"\\u987a\\u4e49\",\"\\u987a\\u4e49\",\"\\u987a\\u4e49\",\"\\u987a\\u4e49\",\"\\u987a\\u4e49\",\"\\u987a\\u4e49\",\"\\u987a\\u4e49\",\"\\u987a\\u4e49\",\"\\u987a\\u4e49\",\"\\u987a\\u4e49\",\"\\u987a\\u4e49\",\"\\u987a\\u4e49\",\"\\u987a\\u4e49\",\"\\u987a\\u4e49\",\"\\u987a\\u4e49\",\"\\u987a\\u4e49\",\"\\u987a\\u4e49\",\"\\u987a\\u4e49\",\"\\u987a\\u4e49\"],\"x0\":\" \",\"xaxis\":\"x\",\"y\":{\"dtype\":\"f8\",\"bdata\":\"AAAAAAAgZUAAAAAAAGBrQAAAAAAA4GpAAAAAAAAAaUAAAAAAAEB1QAAAAAAAoG5AAAAAAAAgb0AAAAAAAABrQAAAAAAAYHhAAAAAAACAY0AAAAAAAMBpQAAAAAAA0HFAAAAAAACgbUAAAAAAACB3QAAAAAAAgIZAAAAAAACQdEAAAAAAAAByQAAAAAAA4GhAAAAAAAAgakAAAAAAANB2QAAAAAAAwGhAAAAAAADAY0AAAAAAAFB0QAAAAAAAQHNAAAAAAACAc0AAAAAAAHBxQAAAAAAAAHJAAAAAAACAX0AAAAAAAABwQAAAAAAAsHJAAAAAAADgYEAAAAAAAABoQAAAAAAAAHFAAAAAAABAZkAAAAAAALByQAAAAAAAYG1AAAAAAABAaUAAAAAAAAB+QAAAAAAAkIBAAAAAAABgcUAAAAAAAMBsQAAAAAAAgGRAAAAAAABAZUA=\"},\"y0\":\" \",\"yaxis\":\"y\",\"type\":\"box\"},{\"alignmentgroup\":\"True\",\"hovertemplate\":\"Region=%{x}\\u003cbr\\u003ePrice=%{y}\\u003cextra\\u003e\\u003c\\u002fextra\\u003e\",\"legendgroup\":\"\\u5927\\u5174\",\"marker\":{\"color\":\"#636efa\"},\"name\":\"\\u5927\\u5174\",\"notched\":false,\"offsetgroup\":\"\\u5927\\u5174\",\"orientation\":\"v\",\"showlegend\":true,\"x\":[\"\\u5927\\u5174\",\"\\u5927\\u5174\",\"\\u5927\\u5174\",\"\\u5927\\u5174\",\"\\u5927\\u5174\",\"\\u5927\\u5174\",\"\\u5927\\u5174\",\"\\u5927\\u5174\",\"\\u5927\\u5174\",\"\\u5927\\u5174\",\"\\u5927\\u5174\",\"\\u5927\\u5174\",\"\\u5927\\u5174\",\"\\u5927\\u5174\",\"\\u5927\\u5174\",\"\\u5927\\u5174\",\"\\u5927\\u5174\",\"\\u5927\\u5174\",\"\\u5927\\u5174\",\"\\u5927\\u5174\",\"\\u5927\\u5174\",\"\\u5927\\u5174\",\"\\u5927\\u5174\",\"\\u5927\\u5174\",\"\\u5927\\u5174\",\"\\u5927\\u5174\",\"\\u5927\\u5174\",\"\\u5927\\u5174\",\"\\u5927\\u5174\",\"\\u5927\\u5174\",\"\\u5927\\u5174\",\"\\u5927\\u5174\",\"\\u5927\\u5174\",\"\\u5927\\u5174\",\"\\u5927\\u5174\",\"\\u5927\\u5174\",\"\\u5927\\u5174\",\"\\u5927\\u5174\",\"\\u5927\\u5174\",\"\\u5927\\u5174\",\"\\u5927\\u5174\",\"\\u5927\\u5174\",\"\\u5927\\u5174\",\"\\u5927\\u5174\",\"\\u5927\\u5174\",\"\\u5927\\u5174\",\"\\u5927\\u5174\",\"\\u5927\\u5174\",\"\\u5927\\u5174\",\"\\u5927\\u5174\",\"\\u5927\\u5174\",\"\\u5927\\u5174\",\"\\u5927\\u5174\",\"\\u5927\\u5174\",\"\\u5927\\u5174\",\"\\u5927\\u5174\",\"\\u5927\\u5174\",\"\\u5927\\u5174\",\"\\u5927\\u5174\",\"\\u5927\\u5174\",\"\\u5927\\u5174\"],\"x0\":\" \",\"xaxis\":\"x\",\"y\":{\"dtype\":\"f8\",\"bdata\":\"AAAAAACohkAAAAAAAGBmQAAAAAAAcHJAAAAAAACQgEAAAAAAAKB8QAAAAAAAoGBAAAAAAADQcEAAAAAAABBxQAAAAAAAIHFAAAAAAABgdkAAAAAAACBgQAAAAAAAYGZAAAAAAABAakAAAAAAAIBrQAAAAAAAIG9AAAAAAABgaEAAAAAAAGBxQAAAAAAAoGlAAAAAAABAckAAAAAAAABkQAAAAAAAAG9AAAAAAADwdEAAAAAAACBnQAAAAAAA0HBAAAAAAAAgekAAAAAAAGBhQAAAAAAAYG1AAAAAAADQekAAAAAAAEBuQAAAAAAAgGtAAAAAAADgb0AAAAAAANBxQAAAAAAAMHtAAAAAAAAQfUAAAAAAAGB2QAAAAAAAYGRAAAAAAAAga0AAAAAAAGBzQAAAAAAA4GBAAAAAAADAaEAAAAAAAIBjQAAAAAAAgGxAAAAAAACgbkAAAAAAAKBnQAAAAAAAoGxAAAAAAABwckAAAAAAADBxQAAAAAAAQGpAAAAAAABAakAAAAAAAPB4QAAAAAAA4HpAAAAAAABQdEAAAAAAAEBhQAAAAAAAQIBAAAAAAADgckAAAAAAAIBdQAAAAAAA4GhAAAAAAACAb0AAAAAAAABkQAAAAAAAoGxAAAAAAABYgUA=\"},\"y0\":\" \",\"yaxis\":\"y\",\"type\":\"box\"},{\"alignmentgroup\":\"True\",\"hovertemplate\":\"Region=%{x}\\u003cbr\\u003ePrice=%{y}\\u003cextra\\u003e\\u003c\\u002fextra\\u003e\",\"legendgroup\":\"\\u95e8\\u5934\\u6c9f\",\"marker\":{\"color\":\"#EF553B\"},\"name\":\"\\u95e8\\u5934\\u6c9f\",\"notched\":false,\"offsetgroup\":\"\\u95e8\\u5934\\u6c9f\",\"orientation\":\"v\",\"showlegend\":true,\"x\":[\"\\u95e8\\u5934\\u6c9f\",\"\\u95e8\\u5934\\u6c9f\",\"\\u95e8\\u5934\\u6c9f\",\"\\u95e8\\u5934\\u6c9f\",\"\\u95e8\\u5934\\u6c9f\",\"\\u95e8\\u5934\\u6c9f\",\"\\u95e8\\u5934\\u6c9f\",\"\\u95e8\\u5934\\u6c9f\",\"\\u95e8\\u5934\\u6c9f\"],\"x0\":\" \",\"xaxis\":\"x\",\"y\":{\"dtype\":\"f8\",\"bdata\":\"AAAAAABQc0AAAAAAACBhQAAAAAAAMIFAAAAAAABohkAAAAAAAIBfQAAAAAAAeIFAAAAAAADAbEAAAAAAAJB0QAAAAAAA8HhA\"},\"y0\":\" \",\"yaxis\":\"y\",\"type\":\"box\"},{\"alignmentgroup\":\"True\",\"hovertemplate\":\"Region=%{x}\\u003cbr\\u003ePrice=%{y}\\u003cextra\\u003e\\u003c\\u002fextra\\u003e\",\"legendgroup\":\"\\u4e1c\\u57ce\",\"marker\":{\"color\":\"#00cc96\"},\"name\":\"\\u4e1c\\u57ce\",\"notched\":false,\"offsetgroup\":\"\\u4e1c\\u57ce\",\"orientation\":\"v\",\"showlegend\":true,\"x\":[\"\\u4e1c\\u57ce\",\"\\u4e1c\\u57ce\",\"\\u4e1c\\u57ce\",\"\\u4e1c\\u57ce\",\"\\u4e1c\\u57ce\",\"\\u4e1c\\u57ce\",\"\\u4e1c\\u57ce\",\"\\u4e1c\\u57ce\",\"\\u4e1c\\u57ce\",\"\\u4e1c\\u57ce\",\"\\u4e1c\\u57ce\",\"\\u4e1c\\u57ce\",\"\\u4e1c\\u57ce\",\"\\u4e1c\\u57ce\",\"\\u4e1c\\u57ce\",\"\\u4e1c\\u57ce\",\"\\u4e1c\\u57ce\",\"\\u4e1c\\u57ce\",\"\\u4e1c\\u57ce\",\"\\u4e1c\\u57ce\",\"\\u4e1c\\u57ce\",\"\\u4e1c\\u57ce\",\"\\u4e1c\\u57ce\",\"\\u4e1c\\u57ce\",\"\\u4e1c\\u57ce\",\"\\u4e1c\\u57ce\"],\"x0\":\" \",\"xaxis\":\"x\",\"y\":{\"dtype\":\"f8\",\"bdata\":\"AAAAAAAYkEAAAAAAANCAQAAAAAAAQHpAAAAAAAAAd0AAAAAAANiFQAAAAAAAsINAAAAAAACQekAAAAAAAKCEQAAAAAAAkIBAAAAAAADQhEAAAAAAADiAQAAAAAAAYHpAAAAAAADgfUAAAAAAAECFQAAAAAAACIZAAAAAAAB8pUAAAAAAACyRQAAAAAAAKIFAAAAAAACwckAAAAAAAKCJQAAAAAAA4H1AAAAAAADAgEAAAAAAAKCEQAAAAAAAAHRAAAAAAAAwc0AAAAAAAGiHQA==\"},\"y0\":\" \",\"yaxis\":\"y\",\"type\":\"box\"},{\"alignmentgroup\":\"True\",\"hovertemplate\":\"Region=%{x}\\u003cbr\\u003ePrice=%{y}\\u003cextra\\u003e\\u003c\\u002fextra\\u003e\",\"legendgroup\":\"\\u4ea6\\u5e84\\u5f00\\u53d1\\u533a\",\"marker\":{\"color\":\"#ab63fa\"},\"name\":\"\\u4ea6\\u5e84\\u5f00\\u53d1\\u533a\",\"notched\":false,\"offsetgroup\":\"\\u4ea6\\u5e84\\u5f00\\u53d1\\u533a\",\"orientation\":\"v\",\"showlegend\":true,\"x\":[\"\\u4ea6\\u5e84\\u5f00\\u53d1\\u533a\",\"\\u4ea6\\u5e84\\u5f00\\u53d1\\u533a\",\"\\u4ea6\\u5e84\\u5f00\\u53d1\\u533a\",\"\\u4ea6\\u5e84\\u5f00\\u53d1\\u533a\",\"\\u4ea6\\u5e84\\u5f00\\u53d1\\u533a\",\"\\u4ea6\\u5e84\\u5f00\\u53d1\\u533a\",\"\\u4ea6\\u5e84\\u5f00\\u53d1\\u533a\",\"\\u4ea6\\u5e84\\u5f00\\u53d1\\u533a\",\"\\u4ea6\\u5e84\\u5f00\\u53d1\\u533a\",\"\\u4ea6\\u5e84\\u5f00\\u53d1\\u533a\",\"\\u4ea6\\u5e84\\u5f00\\u53d1\\u533a\",\"\\u4ea6\\u5e84\\u5f00\\u53d1\\u533a\"],\"x0\":\" \",\"xaxis\":\"x\",\"y\":{\"dtype\":\"f8\",\"bdata\":\"AAAAAAAYlUAAAAAAAGB4QAAAAAAA6IdAAAAAAAAwf0AAAAAAAECAQAAAAAAAQH9AAAAAAAAQfEAAAAAAAKB8QAAAAAAAQGpAAAAAAADAgkAAAAAAACBnQAAAAAAA4GpA\"},\"y0\":\" \",\"yaxis\":\"y\",\"type\":\"box\"},{\"alignmentgroup\":\"True\",\"hovertemplate\":\"Region=%{x}\\u003cbr\\u003ePrice=%{y}\\u003cextra\\u003e\\u003c\\u002fextra\\u003e\",\"legendgroup\":\"\\u5bc6\\u4e91\",\"marker\":{\"color\":\"#FFA15A\"},\"name\":\"\\u5bc6\\u4e91\",\"notched\":false,\"offsetgroup\":\"\\u5bc6\\u4e91\",\"orientation\":\"v\",\"showlegend\":true,\"x\":[\"\\u5bc6\\u4e91\",\"\\u5bc6\\u4e91\",\"\\u5bc6\\u4e91\",\"\\u5bc6\\u4e91\",\"\\u5bc6\\u4e91\",\"\\u5bc6\\u4e91\",\"\\u5bc6\\u4e91\",\"\\u5bc6\\u4e91\"],\"x0\":\" \",\"xaxis\":\"x\",\"y\":{\"dtype\":\"f8\",\"bdata\":\"AAAAAAAAbkAAAAAAAABRQAAAAAAAAGRAAAAAAAAAWEAAAAAAAIBYQAAAAAAAwGNAAAAAAADAY0AAAAAAAIBSQA==\"},\"y0\":\" \",\"yaxis\":\"y\",\"type\":\"box\"}],                        {\"template\":{\"data\":{\"histogram2dcontour\":[{\"type\":\"histogram2dcontour\",\"colorbar\":{\"outlinewidth\":0,\"ticks\":\"\"},\"colorscale\":[[0.0,\"#0d0887\"],[0.1111111111111111,\"#46039f\"],[0.2222222222222222,\"#7201a8\"],[0.3333333333333333,\"#9c179e\"],[0.4444444444444444,\"#bd3786\"],[0.5555555555555556,\"#d8576b\"],[0.6666666666666666,\"#ed7953\"],[0.7777777777777778,\"#fb9f3a\"],[0.8888888888888888,\"#fdca26\"],[1.0,\"#f0f921\"]]}],\"choropleth\":[{\"type\":\"choropleth\",\"colorbar\":{\"outlinewidth\":0,\"ticks\":\"\"}}],\"histogram2d\":[{\"type\":\"histogram2d\",\"colorbar\":{\"outlinewidth\":0,\"ticks\":\"\"},\"colorscale\":[[0.0,\"#0d0887\"],[0.1111111111111111,\"#46039f\"],[0.2222222222222222,\"#7201a8\"],[0.3333333333333333,\"#9c179e\"],[0.4444444444444444,\"#bd3786\"],[0.5555555555555556,\"#d8576b\"],[0.6666666666666666,\"#ed7953\"],[0.7777777777777778,\"#fb9f3a\"],[0.8888888888888888,\"#fdca26\"],[1.0,\"#f0f921\"]]}],\"heatmap\":[{\"type\":\"heatmap\",\"colorbar\":{\"outlinewidth\":0,\"ticks\":\"\"},\"colorscale\":[[0.0,\"#0d0887\"],[0.1111111111111111,\"#46039f\"],[0.2222222222222222,\"#7201a8\"],[0.3333333333333333,\"#9c179e\"],[0.4444444444444444,\"#bd3786\"],[0.5555555555555556,\"#d8576b\"],[0.6666666666666666,\"#ed7953\"],[0.7777777777777778,\"#fb9f3a\"],[0.8888888888888888,\"#fdca26\"],[1.0,\"#f0f921\"]]}],\"contourcarpet\":[{\"type\":\"contourcarpet\",\"colorbar\":{\"outlinewidth\":0,\"ticks\":\"\"}}],\"contour\":[{\"type\":\"contour\",\"colorbar\":{\"outlinewidth\":0,\"ticks\":\"\"},\"colorscale\":[[0.0,\"#0d0887\"],[0.1111111111111111,\"#46039f\"],[0.2222222222222222,\"#7201a8\"],[0.3333333333333333,\"#9c179e\"],[0.4444444444444444,\"#bd3786\"],[0.5555555555555556,\"#d8576b\"],[0.6666666666666666,\"#ed7953\"],[0.7777777777777778,\"#fb9f3a\"],[0.8888888888888888,\"#fdca26\"],[1.0,\"#f0f921\"]]}],\"surface\":[{\"type\":\"surface\",\"colorbar\":{\"outlinewidth\":0,\"ticks\":\"\"},\"colorscale\":[[0.0,\"#0d0887\"],[0.1111111111111111,\"#46039f\"],[0.2222222222222222,\"#7201a8\"],[0.3333333333333333,\"#9c179e\"],[0.4444444444444444,\"#bd3786\"],[0.5555555555555556,\"#d8576b\"],[0.6666666666666666,\"#ed7953\"],[0.7777777777777778,\"#fb9f3a\"],[0.8888888888888888,\"#fdca26\"],[1.0,\"#f0f921\"]]}],\"mesh3d\":[{\"type\":\"mesh3d\",\"colorbar\":{\"outlinewidth\":0,\"ticks\":\"\"}}],\"scatter\":[{\"fillpattern\":{\"fillmode\":\"overlay\",\"size\":10,\"solidity\":0.2},\"type\":\"scatter\"}],\"parcoords\":[{\"type\":\"parcoords\",\"line\":{\"colorbar\":{\"outlinewidth\":0,\"ticks\":\"\"}}}],\"scatterpolargl\":[{\"type\":\"scatterpolargl\",\"marker\":{\"colorbar\":{\"outlinewidth\":0,\"ticks\":\"\"}}}],\"bar\":[{\"error_x\":{\"color\":\"#2a3f5f\"},\"error_y\":{\"color\":\"#2a3f5f\"},\"marker\":{\"line\":{\"color\":\"#E5ECF6\",\"width\":0.5},\"pattern\":{\"fillmode\":\"overlay\",\"size\":10,\"solidity\":0.2}},\"type\":\"bar\"}],\"scattergeo\":[{\"type\":\"scattergeo\",\"marker\":{\"colorbar\":{\"outlinewidth\":0,\"ticks\":\"\"}}}],\"scatterpolar\":[{\"type\":\"scatterpolar\",\"marker\":{\"colorbar\":{\"outlinewidth\":0,\"ticks\":\"\"}}}],\"histogram\":[{\"marker\":{\"pattern\":{\"fillmode\":\"overlay\",\"size\":10,\"solidity\":0.2}},\"type\":\"histogram\"}],\"scattergl\":[{\"type\":\"scattergl\",\"marker\":{\"colorbar\":{\"outlinewidth\":0,\"ticks\":\"\"}}}],\"scatter3d\":[{\"type\":\"scatter3d\",\"line\":{\"colorbar\":{\"outlinewidth\":0,\"ticks\":\"\"}},\"marker\":{\"colorbar\":{\"outlinewidth\":0,\"ticks\":\"\"}}}],\"scattermap\":[{\"type\":\"scattermap\",\"marker\":{\"colorbar\":{\"outlinewidth\":0,\"ticks\":\"\"}}}],\"scattermapbox\":[{\"type\":\"scattermapbox\",\"marker\":{\"colorbar\":{\"outlinewidth\":0,\"ticks\":\"\"}}}],\"scatterternary\":[{\"type\":\"scatterternary\",\"marker\":{\"colorbar\":{\"outlinewidth\":0,\"ticks\":\"\"}}}],\"scattercarpet\":[{\"type\":\"scattercarpet\",\"marker\":{\"colorbar\":{\"outlinewidth\":0,\"ticks\":\"\"}}}],\"carpet\":[{\"aaxis\":{\"endlinecolor\":\"#2a3f5f\",\"gridcolor\":\"white\",\"linecolor\":\"white\",\"minorgridcolor\":\"white\",\"startlinecolor\":\"#2a3f5f\"},\"baxis\":{\"endlinecolor\":\"#2a3f5f\",\"gridcolor\":\"white\",\"linecolor\":\"white\",\"minorgridcolor\":\"white\",\"startlinecolor\":\"#2a3f5f\"},\"type\":\"carpet\"}],\"table\":[{\"cells\":{\"fill\":{\"color\":\"#EBF0F8\"},\"line\":{\"color\":\"white\"}},\"header\":{\"fill\":{\"color\":\"#C8D4E3\"},\"line\":{\"color\":\"white\"}},\"type\":\"table\"}],\"barpolar\":[{\"marker\":{\"line\":{\"color\":\"#E5ECF6\",\"width\":0.5},\"pattern\":{\"fillmode\":\"overlay\",\"size\":10,\"solidity\":0.2}},\"type\":\"barpolar\"}],\"pie\":[{\"automargin\":true,\"type\":\"pie\"}]},\"layout\":{\"autotypenumbers\":\"strict\",\"colorway\":[\"#636efa\",\"#EF553B\",\"#00cc96\",\"#ab63fa\",\"#FFA15A\",\"#19d3f3\",\"#FF6692\",\"#B6E880\",\"#FF97FF\",\"#FECB52\"],\"font\":{\"color\":\"#2a3f5f\"},\"hovermode\":\"closest\",\"hoverlabel\":{\"align\":\"left\"},\"paper_bgcolor\":\"white\",\"plot_bgcolor\":\"#E5ECF6\",\"polar\":{\"bgcolor\":\"#E5ECF6\",\"angularaxis\":{\"gridcolor\":\"white\",\"linecolor\":\"white\",\"ticks\":\"\"},\"radialaxis\":{\"gridcolor\":\"white\",\"linecolor\":\"white\",\"ticks\":\"\"}},\"ternary\":{\"bgcolor\":\"#E5ECF6\",\"aaxis\":{\"gridcolor\":\"white\",\"linecolor\":\"white\",\"ticks\":\"\"},\"baxis\":{\"gridcolor\":\"white\",\"linecolor\":\"white\",\"ticks\":\"\"},\"caxis\":{\"gridcolor\":\"white\",\"linecolor\":\"white\",\"ticks\":\"\"}},\"coloraxis\":{\"colorbar\":{\"outlinewidth\":0,\"ticks\":\"\"}},\"colorscale\":{\"sequential\":[[0.0,\"#0d0887\"],[0.1111111111111111,\"#46039f\"],[0.2222222222222222,\"#7201a8\"],[0.3333333333333333,\"#9c179e\"],[0.4444444444444444,\"#bd3786\"],[0.5555555555555556,\"#d8576b\"],[0.6666666666666666,\"#ed7953\"],[0.7777777777777778,\"#fb9f3a\"],[0.8888888888888888,\"#fdca26\"],[1.0,\"#f0f921\"]],\"sequentialminus\":[[0.0,\"#0d0887\"],[0.1111111111111111,\"#46039f\"],[0.2222222222222222,\"#7201a8\"],[0.3333333333333333,\"#9c179e\"],[0.4444444444444444,\"#bd3786\"],[0.5555555555555556,\"#d8576b\"],[0.6666666666666666,\"#ed7953\"],[0.7777777777777778,\"#fb9f3a\"],[0.8888888888888888,\"#fdca26\"],[1.0,\"#f0f921\"]],\"diverging\":[[0,\"#8e0152\"],[0.1,\"#c51b7d\"],[0.2,\"#de77ae\"],[0.3,\"#f1b6da\"],[0.4,\"#fde0ef\"],[0.5,\"#f7f7f7\"],[0.6,\"#e6f5d0\"],[0.7,\"#b8e186\"],[0.8,\"#7fbc41\"],[0.9,\"#4d9221\"],[1,\"#276419\"]]},\"xaxis\":{\"gridcolor\":\"white\",\"linecolor\":\"white\",\"ticks\":\"\",\"title\":{\"standoff\":15},\"zerolinecolor\":\"white\",\"automargin\":true,\"zerolinewidth\":2},\"yaxis\":{\"gridcolor\":\"white\",\"linecolor\":\"white\",\"ticks\":\"\",\"title\":{\"standoff\":15},\"zerolinecolor\":\"white\",\"automargin\":true,\"zerolinewidth\":2},\"scene\":{\"xaxis\":{\"backgroundcolor\":\"#E5ECF6\",\"gridcolor\":\"white\",\"linecolor\":\"white\",\"showbackground\":true,\"ticks\":\"\",\"zerolinecolor\":\"white\",\"gridwidth\":2},\"yaxis\":{\"backgroundcolor\":\"#E5ECF6\",\"gridcolor\":\"white\",\"linecolor\":\"white\",\"showbackground\":true,\"ticks\":\"\",\"zerolinecolor\":\"white\",\"gridwidth\":2},\"zaxis\":{\"backgroundcolor\":\"#E5ECF6\",\"gridcolor\":\"white\",\"linecolor\":\"white\",\"showbackground\":true,\"ticks\":\"\",\"zerolinecolor\":\"white\",\"gridwidth\":2}},\"shapedefaults\":{\"line\":{\"color\":\"#2a3f5f\"}},\"annotationdefaults\":{\"arrowcolor\":\"#2a3f5f\",\"arrowhead\":0,\"arrowwidth\":1},\"geo\":{\"bgcolor\":\"white\",\"landcolor\":\"#E5ECF6\",\"subunitcolor\":\"white\",\"showland\":true,\"showlakes\":true,\"lakecolor\":\"white\"},\"title\":{\"x\":0.05},\"mapbox\":{\"style\":\"light\"}}},\"xaxis\":{\"anchor\":\"y\",\"domain\":[0.0,1.0],\"title\":{\"text\":\"Region\"},\"categoryorder\":\"array\",\"categoryarray\":[\"\\u671d\\u9633\",\"\\u4e30\\u53f0\",\"\\u77f3\\u666f\\u5c71\",\"\\u6d77\\u6dc0\",\"\\u901a\\u5dde\",\"\\u660c\\u5e73\",\"\\u623f\\u5c71\",\"\\u6000\\u67d4\",\"\\u897f\\u57ce\",\"\\u987a\\u4e49\",\"\\u5927\\u5174\",\"\\u95e8\\u5934\\u6c9f\",\"\\u4e1c\\u57ce\",\"\\u4ea6\\u5e84\\u5f00\\u53d1\\u533a\",\"\\u5bc6\\u4e91\"]},\"yaxis\":{\"anchor\":\"x\",\"domain\":[0.0,1.0],\"title\":{\"text\":\"Price\"}},\"legend\":{\"title\":{\"text\":\"Region\"},\"tracegroupgap\":0},\"title\":{\"text\":\"\\u5317\\u4eac\\u5404\\u5927\\u533a\\u4e8c\\u624b\\u623f\\u623f\\u5c4b\\u603b\\u4ef7\"},\"boxmode\":\"overlay\",\"height\":600,\"width\":800},                        {\"responsive\": true}                    )                };            </script>        </div>"
      ],
      "text/plain": [
       "Figure({\n",
       "    'data': [{'alignmentgroup': 'True',\n",
       "              'hovertemplate': 'Region=%{x}<br>Price=%{y}<extra></extra>',\n",
       "              'legendgroup': '朝阳',\n",
       "              'marker': {'color': '#636efa'},\n",
       "              'name': '朝阳',\n",
       "              'notched': False,\n",
       "              'offsetgroup': '朝阳',\n",
       "              'orientation': 'v',\n",
       "              'showlegend': True,\n",
       "              'type': 'box',\n",
       "              'x': array(['朝阳', '朝阳', '朝阳', ..., '朝阳', '朝阳', '朝阳'], dtype=object),\n",
       "              'x0': ' ',\n",
       "              'xaxis': 'x',\n",
       "              'y': {'bdata': ('AAAAAABQhEAAAAAAAMByQAAAAAAAAJ' ... 'AAAAByQAAAAAAAwHpAAAAAAACwdEA='),\n",
       "                    'dtype': 'f8'},\n",
       "              'y0': ' ',\n",
       "              'yaxis': 'y'},\n",
       "             {'alignmentgroup': 'True',\n",
       "              'hovertemplate': 'Region=%{x}<br>Price=%{y}<extra></extra>',\n",
       "              'legendgroup': '丰台',\n",
       "              'marker': {'color': '#EF553B'},\n",
       "              'name': '丰台',\n",
       "              'notched': False,\n",
       "              'offsetgroup': '丰台',\n",
       "              'orientation': 'v',\n",
       "              'showlegend': True,\n",
       "              'type': 'box',\n",
       "              'x': array(['丰台', '丰台', '丰台', '丰台', '丰台', '丰台', '丰台', '丰台', '丰台', '丰台', '丰台', '丰台',\n",
       "                          '丰台', '丰台', '丰台', '丰台', '丰台', '丰台', '丰台', '丰台', '丰台', '丰台', '丰台', '丰台',\n",
       "                          '丰台', '丰台', '丰台', '丰台', '丰台', '丰台', '丰台', '丰台', '丰台', '丰台', '丰台', '丰台',\n",
       "                          '丰台', '丰台', '丰台', '丰台', '丰台', '丰台', '丰台', '丰台', '丰台', '丰台', '丰台', '丰台',\n",
       "                          '丰台', '丰台', '丰台', '丰台', '丰台', '丰台', '丰台', '丰台', '丰台', '丰台', '丰台', '丰台',\n",
       "                          '丰台', '丰台', '丰台', '丰台', '丰台', '丰台', '丰台', '丰台', '丰台', '丰台', '丰台', '丰台',\n",
       "                          '丰台', '丰台', '丰台', '丰台', '丰台', '丰台', '丰台', '丰台', '丰台', '丰台', '丰台', '丰台',\n",
       "                          '丰台', '丰台', '丰台', '丰台', '丰台', '丰台', '丰台', '丰台', '丰台', '丰台', '丰台', '丰台',\n",
       "                          '丰台', '丰台', '丰台', '丰台', '丰台', '丰台', '丰台', '丰台', '丰台', '丰台', '丰台', '丰台',\n",
       "                          '丰台', '丰台', '丰台', '丰台', '丰台', '丰台', '丰台', '丰台', '丰台', '丰台', '丰台', '丰台',\n",
       "                          '丰台', '丰台'], dtype=object),\n",
       "              'x0': ' ',\n",
       "              'xaxis': 'x',\n",
       "              'y': {'bdata': ('AAAAAABAekAAAAAAANBxQAAAAAAAkI' ... 'AA4GVAAAAAAAAwgUAAAAAAAOB9QA=='),\n",
       "                    'dtype': 'f8'},\n",
       "              'y0': ' ',\n",
       "              'yaxis': 'y'},\n",
       "             {'alignmentgroup': 'True',\n",
       "              'hovertemplate': 'Region=%{x}<br>Price=%{y}<extra></extra>',\n",
       "              'legendgroup': '石景山',\n",
       "              'marker': {'color': '#00cc96'},\n",
       "              'name': '石景山',\n",
       "              'notched': False,\n",
       "              'offsetgroup': '石景山',\n",
       "              'orientation': 'v',\n",
       "              'showlegend': True,\n",
       "              'type': 'box',\n",
       "              'x': array(['石景山', '石景山', '石景山', '石景山', '石景山', '石景山', '石景山', '石景山', '石景山', '石景山',\n",
       "                          '石景山', '石景山', '石景山', '石景山', '石景山', '石景山', '石景山', '石景山', '石景山', '石景山',\n",
       "                          '石景山', '石景山', '石景山', '石景山', '石景山', '石景山', '石景山', '石景山', '石景山', '石景山',\n",
       "                          '石景山', '石景山', '石景山', '石景山', '石景山', '石景山', '石景山'], dtype=object),\n",
       "              'x0': ' ',\n",
       "              'xaxis': 'x',\n",
       "              'y': {'bdata': ('AAAAAACwgkAAAAAAAOBjQAAAAAAA4G' ... 'AAAAB2QAAAAAAAMHBAAAAAAABAd0A='),\n",
       "                    'dtype': 'f8'},\n",
       "              'y0': ' ',\n",
       "              'yaxis': 'y'},\n",
       "             {'alignmentgroup': 'True',\n",
       "              'hovertemplate': 'Region=%{x}<br>Price=%{y}<extra></extra>',\n",
       "              'legendgroup': '海淀',\n",
       "              'marker': {'color': '#ab63fa'},\n",
       "              'name': '海淀',\n",
       "              'notched': False,\n",
       "              'offsetgroup': '海淀',\n",
       "              'orientation': 'v',\n",
       "              'showlegend': True,\n",
       "              'type': 'box',\n",
       "              'x': array(['海淀', '海淀', '海淀', '海淀', '海淀', '海淀', '海淀', '海淀', '海淀', '海淀', '海淀', '海淀',\n",
       "                          '海淀', '海淀', '海淀', '海淀', '海淀', '海淀', '海淀', '海淀', '海淀', '海淀', '海淀', '海淀',\n",
       "                          '海淀', '海淀', '海淀', '海淀', '海淀', '海淀', '海淀', '海淀', '海淀', '海淀', '海淀', '海淀',\n",
       "                          '海淀', '海淀', '海淀', '海淀', '海淀', '海淀', '海淀', '海淀', '海淀', '海淀', '海淀', '海淀',\n",
       "                          '海淀', '海淀', '海淀', '海淀', '海淀', '海淀', '海淀', '海淀', '海淀', '海淀', '海淀', '海淀',\n",
       "                          '海淀', '海淀', '海淀', '海淀', '海淀', '海淀', '海淀', '海淀', '海淀', '海淀', '海淀', '海淀',\n",
       "                          '海淀', '海淀', '海淀', '海淀', '海淀', '海淀', '海淀', '海淀', '海淀', '海淀', '海淀', '海淀',\n",
       "                          '海淀', '海淀', '海淀', '海淀', '海淀', '海淀', '海淀', '海淀', '海淀', '海淀', '海淀', '海淀',\n",
       "                          '海淀', '海淀', '海淀', '海淀', '海淀', '海淀', '海淀', '海淀', '海淀', '海淀'],\n",
       "                         dtype=object),\n",
       "              'x0': ' ',\n",
       "              'xaxis': 'x',\n",
       "              'y': {'bdata': ('AAAAAADUkkAAAAAAAJB5QAAAAAAA4H' ... 'AAAHCAQAAAAAAA+IhAAAAAAAAQhkA='),\n",
       "                    'dtype': 'f8'},\n",
       "              'y0': ' ',\n",
       "              'yaxis': 'y'},\n",
       "             {'alignmentgroup': 'True',\n",
       "              'hovertemplate': 'Region=%{x}<br>Price=%{y}<extra></extra>',\n",
       "              'legendgroup': '通州',\n",
       "              'marker': {'color': '#FFA15A'},\n",
       "              'name': '通州',\n",
       "              'notched': False,\n",
       "              'offsetgroup': '通州',\n",
       "              'orientation': 'v',\n",
       "              'showlegend': True,\n",
       "              'type': 'box',\n",
       "              'x': array(['通州', '通州', '通州', '通州', '通州', '通州', '通州', '通州', '通州', '通州', '通州', '通州',\n",
       "                          '通州', '通州', '通州', '通州', '通州', '通州', '通州', '通州', '通州', '通州', '通州', '通州',\n",
       "                          '通州', '通州', '通州', '通州', '通州', '通州', '通州', '通州', '通州', '通州', '通州', '通州',\n",
       "                          '通州', '通州', '通州', '通州', '通州', '通州', '通州', '通州', '通州', '通州', '通州', '通州',\n",
       "                          '通州', '通州', '通州', '通州', '通州', '通州', '通州', '通州', '通州', '通州', '通州', '通州',\n",
       "                          '通州', '通州', '通州', '通州', '通州', '通州', '通州', '通州', '通州', '通州', '通州', '通州',\n",
       "                          '通州', '通州', '通州', '通州', '通州', '通州', '通州', '通州'], dtype=object),\n",
       "              'x0': ' ',\n",
       "              'xaxis': 'x',\n",
       "              'y': {'bdata': ('AAAAAADgYEAAAAAAAHB3QAAAAAAAQG' ... 'AA4GVAAAAAAACweEAAAAAAALB4QA=='),\n",
       "                    'dtype': 'f8'},\n",
       "              'y0': ' ',\n",
       "              'yaxis': 'y'},\n",
       "             {'alignmentgroup': 'True',\n",
       "              'hovertemplate': 'Region=%{x}<br>Price=%{y}<extra></extra>',\n",
       "              'legendgroup': '昌平',\n",
       "              'marker': {'color': '#19d3f3'},\n",
       "              'name': '昌平',\n",
       "              'notched': False,\n",
       "              'offsetgroup': '昌平',\n",
       "              'orientation': 'v',\n",
       "              'showlegend': True,\n",
       "              'type': 'box',\n",
       "              'x': array(['昌平', '昌平', '昌平', '昌平', '昌平', '昌平', '昌平', '昌平', '昌平', '昌平', '昌平', '昌平',\n",
       "                          '昌平', '昌平', '昌平', '昌平', '昌平', '昌平', '昌平', '昌平', '昌平', '昌平', '昌平', '昌平',\n",
       "                          '昌平', '昌平', '昌平', '昌平', '昌平', '昌平', '昌平', '昌平', '昌平', '昌平', '昌平', '昌平',\n",
       "                          '昌平', '昌平', '昌平', '昌平', '昌平', '昌平', '昌平', '昌平', '昌平', '昌平', '昌平', '昌平',\n",
       "                          '昌平', '昌平', '昌平', '昌平', '昌平', '昌平', '昌平', '昌平', '昌平', '昌平', '昌平', '昌平',\n",
       "                          '昌平', '昌平', '昌平', '昌平', '昌平', '昌平', '昌平', '昌平', '昌平', '昌平', '昌平', '昌平',\n",
       "                          '昌平', '昌平', '昌平', '昌平', '昌平', '昌平', '昌平'], dtype=object),\n",
       "              'x0': ' ',\n",
       "              'xaxis': 'x',\n",
       "              'y': {'bdata': ('AAAAAADgekAAAAAAAGB0QAAAAAAAIH' ... 'AAACBqQAAAAAAAQIBAAAAAAADQe0A='),\n",
       "                    'dtype': 'f8'},\n",
       "              'y0': ' ',\n",
       "              'yaxis': 'y'},\n",
       "             {'alignmentgroup': 'True',\n",
       "              'hovertemplate': 'Region=%{x}<br>Price=%{y}<extra></extra>',\n",
       "              'legendgroup': '房山',\n",
       "              'marker': {'color': '#FF6692'},\n",
       "              'name': '房山',\n",
       "              'notched': False,\n",
       "              'offsetgroup': '房山',\n",
       "              'orientation': 'v',\n",
       "              'showlegend': True,\n",
       "              'type': 'box',\n",
       "              'x': array(['房山', '房山', '房山', '房山', '房山', '房山', '房山', '房山', '房山', '房山', '房山', '房山',\n",
       "                          '房山', '房山', '房山', '房山', '房山', '房山', '房山', '房山', '房山', '房山', '房山', '房山',\n",
       "                          '房山', '房山', '房山', '房山', '房山', '房山', '房山', '房山', '房山', '房山', '房山', '房山',\n",
       "                          '房山', '房山', '房山', '房山', '房山', '房山', '房山', '房山', '房山', '房山', '房山', '房山',\n",
       "                          '房山', '房山', '房山', '房山', '房山', '房山', '房山', '房山', '房山', '房山', '房山', '房山',\n",
       "                          '房山', '房山', '房山', '房山', '房山', '房山', '房山', '房山', '房山', '房山', '房山'],\n",
       "                         dtype=object),\n",
       "              'x0': ' ',\n",
       "              'xaxis': 'x',\n",
       "              'y': {'bdata': ('AAAAAADAXkAAAAAAAEBQQAAAAAAAYG' ... 'AA0HVAAAAAAACgeUAAAAAAAABmQA=='),\n",
       "                    'dtype': 'f8'},\n",
       "              'y0': ' ',\n",
       "              'yaxis': 'y'},\n",
       "             {'alignmentgroup': 'True',\n",
       "              'hovertemplate': 'Region=%{x}<br>Price=%{y}<extra></extra>',\n",
       "              'legendgroup': '怀柔',\n",
       "              'marker': {'color': '#B6E880'},\n",
       "              'name': '怀柔',\n",
       "              'notched': False,\n",
       "              'offsetgroup': '怀柔',\n",
       "              'orientation': 'v',\n",
       "              'showlegend': True,\n",
       "              'type': 'box',\n",
       "              'x': array(['怀柔', '怀柔', '怀柔', '怀柔', '怀柔', '怀柔', '怀柔', '怀柔'], dtype=object),\n",
       "              'x0': ' ',\n",
       "              'xaxis': 'x',\n",
       "              'y': {'bdata': ('AAAAAABgaEAAAAAAAGBzQAAAAAAAAG' ... 'AAQGVAAAAAAACAZ0AAAAAAAMBsQA=='),\n",
       "                    'dtype': 'f8'},\n",
       "              'y0': ' ',\n",
       "              'yaxis': 'y'},\n",
       "             {'alignmentgroup': 'True',\n",
       "              'hovertemplate': 'Region=%{x}<br>Price=%{y}<extra></extra>',\n",
       "              'legendgroup': '西城',\n",
       "              'marker': {'color': '#FF97FF'},\n",
       "              'name': '西城',\n",
       "              'notched': False,\n",
       "              'offsetgroup': '西城',\n",
       "              'orientation': 'v',\n",
       "              'showlegend': True,\n",
       "              'type': 'box',\n",
       "              'x': array(['西城', '西城', '西城', '西城', '西城', '西城', '西城', '西城', '西城', '西城', '西城', '西城',\n",
       "                          '西城', '西城', '西城', '西城', '西城', '西城', '西城', '西城', '西城', '西城', '西城', '西城',\n",
       "                          '西城', '西城', '西城', '西城', '西城', '西城', '西城', '西城', '西城', '西城', '西城', '西城',\n",
       "                          '西城', '西城', '西城', '西城', '西城', '西城', '西城', '西城', '西城', '西城', '西城', '西城',\n",
       "                          '西城', '西城', '西城', '西城', '西城', '西城', '西城', '西城'], dtype=object),\n",
       "              'x0': ' ',\n",
       "              'xaxis': 'x',\n",
       "              'y': {'bdata': ('AAAAAABQg0AAAAAAABCIQAAAAAAAaI' ... 'AAcJJAAAAAAAAgdUAAAAAAAOCFQA=='),\n",
       "                    'dtype': 'f8'},\n",
       "              'y0': ' ',\n",
       "              'yaxis': 'y'},\n",
       "             {'alignmentgroup': 'True',\n",
       "              'hovertemplate': 'Region=%{x}<br>Price=%{y}<extra></extra>',\n",
       "              'legendgroup': '顺义',\n",
       "              'marker': {'color': '#FECB52'},\n",
       "              'name': '顺义',\n",
       "              'notched': False,\n",
       "              'offsetgroup': '顺义',\n",
       "              'orientation': 'v',\n",
       "              'showlegend': True,\n",
       "              'type': 'box',\n",
       "              'x': array(['顺义', '顺义', '顺义', '顺义', '顺义', '顺义', '顺义', '顺义', '顺义', '顺义', '顺义', '顺义',\n",
       "                          '顺义', '顺义', '顺义', '顺义', '顺义', '顺义', '顺义', '顺义', '顺义', '顺义', '顺义', '顺义',\n",
       "                          '顺义', '顺义', '顺义', '顺义', '顺义', '顺义', '顺义', '顺义', '顺义', '顺义', '顺义', '顺义',\n",
       "                          '顺义', '顺义', '顺义', '顺义', '顺义', '顺义', '顺义'], dtype=object),\n",
       "              'x0': ' ',\n",
       "              'xaxis': 'x',\n",
       "              'y': {'bdata': ('AAAAAAAgZUAAAAAAAGBrQAAAAAAA4G' ... 'AAAMBsQAAAAAAAgGRAAAAAAABAZUA='),\n",
       "                    'dtype': 'f8'},\n",
       "              'y0': ' ',\n",
       "              'yaxis': 'y'},\n",
       "             {'alignmentgroup': 'True',\n",
       "              'hovertemplate': 'Region=%{x}<br>Price=%{y}<extra></extra>',\n",
       "              'legendgroup': '大兴',\n",
       "              'marker': {'color': '#636efa'},\n",
       "              'name': '大兴',\n",
       "              'notched': False,\n",
       "              'offsetgroup': '大兴',\n",
       "              'orientation': 'v',\n",
       "              'showlegend': True,\n",
       "              'type': 'box',\n",
       "              'x': array(['大兴', '大兴', '大兴', '大兴', '大兴', '大兴', '大兴', '大兴', '大兴', '大兴', '大兴', '大兴',\n",
       "                          '大兴', '大兴', '大兴', '大兴', '大兴', '大兴', '大兴', '大兴', '大兴', '大兴', '大兴', '大兴',\n",
       "                          '大兴', '大兴', '大兴', '大兴', '大兴', '大兴', '大兴', '大兴', '大兴', '大兴', '大兴', '大兴',\n",
       "                          '大兴', '大兴', '大兴', '大兴', '大兴', '大兴', '大兴', '大兴', '大兴', '大兴', '大兴', '大兴',\n",
       "                          '大兴', '大兴', '大兴', '大兴', '大兴', '大兴', '大兴', '大兴', '大兴', '大兴', '大兴', '大兴',\n",
       "                          '大兴'], dtype=object),\n",
       "              'x0': ' ',\n",
       "              'xaxis': 'x',\n",
       "              'y': {'bdata': ('AAAAAACohkAAAAAAAGBmQAAAAAAAcH' ... 'AAAABkQAAAAAAAoGxAAAAAAABYgUA='),\n",
       "                    'dtype': 'f8'},\n",
       "              'y0': ' ',\n",
       "              'yaxis': 'y'},\n",
       "             {'alignmentgroup': 'True',\n",
       "              'hovertemplate': 'Region=%{x}<br>Price=%{y}<extra></extra>',\n",
       "              'legendgroup': '门头沟',\n",
       "              'marker': {'color': '#EF553B'},\n",
       "              'name': '门头沟',\n",
       "              'notched': False,\n",
       "              'offsetgroup': '门头沟',\n",
       "              'orientation': 'v',\n",
       "              'showlegend': True,\n",
       "              'type': 'box',\n",
       "              'x': array(['门头沟', '门头沟', '门头沟', '门头沟', '门头沟', '门头沟', '门头沟', '门头沟', '门头沟'],\n",
       "                         dtype=object),\n",
       "              'x0': ' ',\n",
       "              'xaxis': 'x',\n",
       "              'y': {'bdata': ('AAAAAABQc0AAAAAAACBhQAAAAAAAMI' ... 'AAAADAbEAAAAAAAJB0QAAAAAAA8HhA'),\n",
       "                    'dtype': 'f8'},\n",
       "              'y0': ' ',\n",
       "              'yaxis': 'y'},\n",
       "             {'alignmentgroup': 'True',\n",
       "              'hovertemplate': 'Region=%{x}<br>Price=%{y}<extra></extra>',\n",
       "              'legendgroup': '东城',\n",
       "              'marker': {'color': '#00cc96'},\n",
       "              'name': '东城',\n",
       "              'notched': False,\n",
       "              'offsetgroup': '东城',\n",
       "              'orientation': 'v',\n",
       "              'showlegend': True,\n",
       "              'type': 'box',\n",
       "              'x': array(['东城', '东城', '东城', '东城', '东城', '东城', '东城', '东城', '东城', '东城', '东城', '东城',\n",
       "                          '东城', '东城', '东城', '东城', '东城', '东城', '东城', '东城', '东城', '东城', '东城', '东城',\n",
       "                          '东城', '东城'], dtype=object),\n",
       "              'x0': ' ',\n",
       "              'xaxis': 'x',\n",
       "              'y': {'bdata': ('AAAAAAAYkEAAAAAAANCAQAAAAAAAQH' ... 'AAAHRAAAAAAAAwc0AAAAAAAGiHQA=='),\n",
       "                    'dtype': 'f8'},\n",
       "              'y0': ' ',\n",
       "              'yaxis': 'y'},\n",
       "             {'alignmentgroup': 'True',\n",
       "              'hovertemplate': 'Region=%{x}<br>Price=%{y}<extra></extra>',\n",
       "              'legendgroup': '亦庄开发区',\n",
       "              'marker': {'color': '#ab63fa'},\n",
       "              'name': '亦庄开发区',\n",
       "              'notched': False,\n",
       "              'offsetgroup': '亦庄开发区',\n",
       "              'orientation': 'v',\n",
       "              'showlegend': True,\n",
       "              'type': 'box',\n",
       "              'x': array(['亦庄开发区', '亦庄开发区', '亦庄开发区', '亦庄开发区', '亦庄开发区', '亦庄开发区', '亦庄开发区', '亦庄开发区',\n",
       "                          '亦庄开发区', '亦庄开发区', '亦庄开发区', '亦庄开发区'], dtype=object),\n",
       "              'x0': ' ',\n",
       "              'xaxis': 'x',\n",
       "              'y': {'bdata': ('AAAAAAAYlUAAAAAAAGB4QAAAAAAA6I' ... 'AAAADAgkAAAAAAACBnQAAAAAAA4GpA'),\n",
       "                    'dtype': 'f8'},\n",
       "              'y0': ' ',\n",
       "              'yaxis': 'y'},\n",
       "             {'alignmentgroup': 'True',\n",
       "              'hovertemplate': 'Region=%{x}<br>Price=%{y}<extra></extra>',\n",
       "              'legendgroup': '密云',\n",
       "              'marker': {'color': '#FFA15A'},\n",
       "              'name': '密云',\n",
       "              'notched': False,\n",
       "              'offsetgroup': '密云',\n",
       "              'orientation': 'v',\n",
       "              'showlegend': True,\n",
       "              'type': 'box',\n",
       "              'x': array(['密云', '密云', '密云', '密云', '密云', '密云', '密云', '密云'], dtype=object),\n",
       "              'x0': ' ',\n",
       "              'xaxis': 'x',\n",
       "              'y': {'bdata': ('AAAAAAAAbkAAAAAAAABRQAAAAAAAAG' ... 'AAwGNAAAAAAADAY0AAAAAAAIBSQA=='),\n",
       "                    'dtype': 'f8'},\n",
       "              'y0': ' ',\n",
       "              'yaxis': 'y'}],\n",
       "    'layout': {'boxmode': 'overlay',\n",
       "               'height': 600,\n",
       "               'legend': {'title': {'text': 'Region'}, 'tracegroupgap': 0},\n",
       "               'template': '...',\n",
       "               'title': {'text': '北京各大区二手房房屋总价'},\n",
       "               'width': 800,\n",
       "               'xaxis': {'anchor': 'y',\n",
       "                         'categoryarray': [朝阳, 丰台, 石景山, 海淀, 通州, 昌平, 房山, 怀柔, 西城,\n",
       "                                           顺义, 大兴, 门头沟, 东城, 亦庄开发区, 密云],\n",
       "                         'categoryorder': 'array',\n",
       "                         'domain': [0.0, 1.0],\n",
       "                         'title': {'text': 'Region'}},\n",
       "               'yaxis': {'anchor': 'x', 'domain': [0.0, 1.0], 'title': {'text': 'Price'}}}\n",
       "})"
      ]
     },
     "execution_count": 27,
     "metadata": {},
     "output_type": "execute_result"
    }
   ],
   "source": [
    "px.box(data_frame=df, x=\"Region\", y='Price', color=\"Region\", width=800,height=600,title=\"北京各大区二手房房屋总价\")"
   ]
  },
  {
   "cell_type": "code",
   "execution_count": 18,
   "id": "689404c3",
   "metadata": {},
   "outputs": [
    {
     "ename": "ValueError",
     "evalue": "Mime type rendering requires nbformat>=4.2.0 but it is not installed",
     "output_type": "error",
     "traceback": [
      "\u001b[31m---------------------------------------------------------------------------\u001b[39m",
      "\u001b[31mValueError\u001b[39m                                Traceback (most recent call last)",
      "\u001b[36mFile \u001b[39m\u001b[32mc:\\Users\\57177\\AppData\\Local\\Programs\\Python\\Python312\\Lib\\site-packages\\IPython\\core\\formatters.py:984\u001b[39m, in \u001b[36mIPythonDisplayFormatter.__call__\u001b[39m\u001b[34m(self, obj)\u001b[39m\n\u001b[32m    982\u001b[39m method = get_real_method(obj, \u001b[38;5;28mself\u001b[39m.print_method)\n\u001b[32m    983\u001b[39m \u001b[38;5;28;01mif\u001b[39;00m method \u001b[38;5;129;01mis\u001b[39;00m \u001b[38;5;129;01mnot\u001b[39;00m \u001b[38;5;28;01mNone\u001b[39;00m:\n\u001b[32m--> \u001b[39m\u001b[32m984\u001b[39m     \u001b[43mmethod\u001b[49m\u001b[43m(\u001b[49m\u001b[43m)\u001b[49m\n\u001b[32m    985\u001b[39m     \u001b[38;5;28;01mreturn\u001b[39;00m \u001b[38;5;28;01mTrue\u001b[39;00m\n",
      "\u001b[36mFile \u001b[39m\u001b[32mc:\\Users\\57177\\AppData\\Local\\Programs\\Python\\Python312\\Lib\\site-packages\\plotly\\basedatatypes.py:833\u001b[39m, in \u001b[36mBaseFigure._ipython_display_\u001b[39m\u001b[34m(self)\u001b[39m\n\u001b[32m    830\u001b[39m \u001b[38;5;28;01mimport\u001b[39;00m \u001b[34;01mplotly\u001b[39;00m\u001b[34;01m.\u001b[39;00m\u001b[34;01mio\u001b[39;00m \u001b[38;5;28;01mas\u001b[39;00m \u001b[34;01mpio\u001b[39;00m\n\u001b[32m    832\u001b[39m \u001b[38;5;28;01mif\u001b[39;00m pio.renderers.render_on_display \u001b[38;5;129;01mand\u001b[39;00m pio.renderers.default:\n\u001b[32m--> \u001b[39m\u001b[32m833\u001b[39m     \u001b[43mpio\u001b[49m\u001b[43m.\u001b[49m\u001b[43mshow\u001b[49m\u001b[43m(\u001b[49m\u001b[38;5;28;43mself\u001b[39;49m\u001b[43m)\u001b[49m\n\u001b[32m    834\u001b[39m \u001b[38;5;28;01melse\u001b[39;00m:\n\u001b[32m    835\u001b[39m     \u001b[38;5;28mprint\u001b[39m(\u001b[38;5;28mrepr\u001b[39m(\u001b[38;5;28mself\u001b[39m))\n",
      "\u001b[36mFile \u001b[39m\u001b[32mc:\\Users\\57177\\AppData\\Local\\Programs\\Python\\Python312\\Lib\\site-packages\\plotly\\io\\_renderers.py:425\u001b[39m, in \u001b[36mshow\u001b[39m\u001b[34m(fig, renderer, validate, **kwargs)\u001b[39m\n\u001b[32m    420\u001b[39m     \u001b[38;5;28;01mraise\u001b[39;00m \u001b[38;5;167;01mValueError\u001b[39;00m(\n\u001b[32m    421\u001b[39m         \u001b[33m\"\u001b[39m\u001b[33mMime type rendering requires ipython but it is not installed\u001b[39m\u001b[33m\"\u001b[39m\n\u001b[32m    422\u001b[39m     )\n\u001b[32m    424\u001b[39m \u001b[38;5;28;01mif\u001b[39;00m \u001b[38;5;129;01mnot\u001b[39;00m nbformat \u001b[38;5;129;01mor\u001b[39;00m Version(nbformat.__version__) < Version(\u001b[33m\"\u001b[39m\u001b[33m4.2.0\u001b[39m\u001b[33m\"\u001b[39m):\n\u001b[32m--> \u001b[39m\u001b[32m425\u001b[39m     \u001b[38;5;28;01mraise\u001b[39;00m \u001b[38;5;167;01mValueError\u001b[39;00m(\n\u001b[32m    426\u001b[39m         \u001b[33m\"\u001b[39m\u001b[33mMime type rendering requires nbformat>=4.2.0 but it is not installed\u001b[39m\u001b[33m\"\u001b[39m\n\u001b[32m    427\u001b[39m     )\n\u001b[32m    429\u001b[39m display_jupyter_version_warnings()\n\u001b[32m    431\u001b[39m ipython_display.display(bundle, raw=\u001b[38;5;28;01mTrue\u001b[39;00m)\n",
      "\u001b[31mValueError\u001b[39m: Mime type rendering requires nbformat>=4.2.0 but it is not installed"
     ]
    },
    {
     "data": {
      "application/vnd.plotly.v1+json": {
       "config": {
        "plotlyServerURL": "https://plot.ly"
       },
       "data": [
        {
         "hovertemplate": "Region=%{x}<br>Number=%{y}<extra></extra>",
         "legendgroup": "朝阳",
         "marker": {
          "color": "#636efa",
          "pattern": {
           "shape": ""
          }
         },
         "name": "朝阳",
         "orientation": "v",
         "showlegend": true,
         "textposition": "auto",
         "type": "bar",
         "x": [
          "朝阳"
         ],
         "xaxis": "x",
         "y": {
          "bdata": "MAE=",
          "dtype": "i2"
         },
         "yaxis": "y"
        },
        {
         "hovertemplate": "Region=%{x}<br>Number=%{y}<extra></extra>",
         "legendgroup": "丰台",
         "marker": {
          "color": "#EF553B",
          "pattern": {
           "shape": ""
          }
         },
         "name": "丰台",
         "orientation": "v",
         "showlegend": true,
         "textposition": "auto",
         "type": "bar",
         "x": [
          "丰台"
         ],
         "xaxis": "x",
         "y": {
          "bdata": "eg==",
          "dtype": "i1"
         },
         "yaxis": "y"
        },
        {
         "hovertemplate": "Region=%{x}<br>Number=%{y}<extra></extra>",
         "legendgroup": "海淀",
         "marker": {
          "color": "#00cc96",
          "pattern": {
           "shape": ""
          }
         },
         "name": "海淀",
         "orientation": "v",
         "showlegend": true,
         "textposition": "auto",
         "type": "bar",
         "x": [
          "海淀"
         ],
         "xaxis": "x",
         "y": {
          "bdata": "ag==",
          "dtype": "i1"
         },
         "yaxis": "y"
        },
        {
         "hovertemplate": "Region=%{x}<br>Number=%{y}<extra></extra>",
         "legendgroup": "通州",
         "marker": {
          "color": "#ab63fa",
          "pattern": {
           "shape": ""
          }
         },
         "name": "通州",
         "orientation": "v",
         "showlegend": true,
         "textposition": "auto",
         "type": "bar",
         "x": [
          "通州"
         ],
         "xaxis": "x",
         "y": {
          "bdata": "UA==",
          "dtype": "i1"
         },
         "yaxis": "y"
        },
        {
         "hovertemplate": "Region=%{x}<br>Number=%{y}<extra></extra>",
         "legendgroup": "昌平",
         "marker": {
          "color": "#FFA15A",
          "pattern": {
           "shape": ""
          }
         },
         "name": "昌平",
         "orientation": "v",
         "showlegend": true,
         "textposition": "auto",
         "type": "bar",
         "x": [
          "昌平"
         ],
         "xaxis": "x",
         "y": {
          "bdata": "Tw==",
          "dtype": "i1"
         },
         "yaxis": "y"
        },
        {
         "hovertemplate": "Region=%{x}<br>Number=%{y}<extra></extra>",
         "legendgroup": "房山",
         "marker": {
          "color": "#19d3f3",
          "pattern": {
           "shape": ""
          }
         },
         "name": "房山",
         "orientation": "v",
         "showlegend": true,
         "textposition": "auto",
         "type": "bar",
         "x": [
          "房山"
         ],
         "xaxis": "x",
         "y": {
          "bdata": "Rw==",
          "dtype": "i1"
         },
         "yaxis": "y"
        },
        {
         "hovertemplate": "Region=%{x}<br>Number=%{y}<extra></extra>",
         "legendgroup": "大兴",
         "marker": {
          "color": "#FF6692",
          "pattern": {
           "shape": ""
          }
         },
         "name": "大兴",
         "orientation": "v",
         "showlegend": true,
         "textposition": "auto",
         "type": "bar",
         "x": [
          "大兴"
         ],
         "xaxis": "x",
         "y": {
          "bdata": "PQ==",
          "dtype": "i1"
         },
         "yaxis": "y"
        },
        {
         "hovertemplate": "Region=%{x}<br>Number=%{y}<extra></extra>",
         "legendgroup": "西城",
         "marker": {
          "color": "#B6E880",
          "pattern": {
           "shape": ""
          }
         },
         "name": "西城",
         "orientation": "v",
         "showlegend": true,
         "textposition": "auto",
         "type": "bar",
         "x": [
          "西城"
         ],
         "xaxis": "x",
         "y": {
          "bdata": "OA==",
          "dtype": "i1"
         },
         "yaxis": "y"
        },
        {
         "hovertemplate": "Region=%{x}<br>Number=%{y}<extra></extra>",
         "legendgroup": "顺义",
         "marker": {
          "color": "#FF97FF",
          "pattern": {
           "shape": ""
          }
         },
         "name": "顺义",
         "orientation": "v",
         "showlegend": true,
         "textposition": "auto",
         "type": "bar",
         "x": [
          "顺义"
         ],
         "xaxis": "x",
         "y": {
          "bdata": "Kw==",
          "dtype": "i1"
         },
         "yaxis": "y"
        },
        {
         "hovertemplate": "Region=%{x}<br>Number=%{y}<extra></extra>",
         "legendgroup": "石景山",
         "marker": {
          "color": "#FECB52",
          "pattern": {
           "shape": ""
          }
         },
         "name": "石景山",
         "orientation": "v",
         "showlegend": true,
         "textposition": "auto",
         "type": "bar",
         "x": [
          "石景山"
         ],
         "xaxis": "x",
         "y": {
          "bdata": "JQ==",
          "dtype": "i1"
         },
         "yaxis": "y"
        },
        {
         "hovertemplate": "Region=%{x}<br>Number=%{y}<extra></extra>",
         "legendgroup": "东城",
         "marker": {
          "color": "#636efa",
          "pattern": {
           "shape": ""
          }
         },
         "name": "东城",
         "orientation": "v",
         "showlegend": true,
         "textposition": "auto",
         "type": "bar",
         "x": [
          "东城"
         ],
         "xaxis": "x",
         "y": {
          "bdata": "Gg==",
          "dtype": "i1"
         },
         "yaxis": "y"
        },
        {
         "hovertemplate": "Region=%{x}<br>Number=%{y}<extra></extra>",
         "legendgroup": "亦庄开发区",
         "marker": {
          "color": "#EF553B",
          "pattern": {
           "shape": ""
          }
         },
         "name": "亦庄开发区",
         "orientation": "v",
         "showlegend": true,
         "textposition": "auto",
         "type": "bar",
         "x": [
          "亦庄开发区"
         ],
         "xaxis": "x",
         "y": {
          "bdata": "DA==",
          "dtype": "i1"
         },
         "yaxis": "y"
        },
        {
         "hovertemplate": "Region=%{x}<br>Number=%{y}<extra></extra>",
         "legendgroup": "门头沟",
         "marker": {
          "color": "#00cc96",
          "pattern": {
           "shape": ""
          }
         },
         "name": "门头沟",
         "orientation": "v",
         "showlegend": true,
         "textposition": "auto",
         "type": "bar",
         "x": [
          "门头沟"
         ],
         "xaxis": "x",
         "y": {
          "bdata": "CQ==",
          "dtype": "i1"
         },
         "yaxis": "y"
        },
        {
         "hovertemplate": "Region=%{x}<br>Number=%{y}<extra></extra>",
         "legendgroup": "密云",
         "marker": {
          "color": "#ab63fa",
          "pattern": {
           "shape": ""
          }
         },
         "name": "密云",
         "orientation": "v",
         "showlegend": true,
         "textposition": "auto",
         "type": "bar",
         "x": [
          "密云"
         ],
         "xaxis": "x",
         "y": {
          "bdata": "CA==",
          "dtype": "i1"
         },
         "yaxis": "y"
        },
        {
         "hovertemplate": "Region=%{x}<br>Number=%{y}<extra></extra>",
         "legendgroup": "怀柔",
         "marker": {
          "color": "#FFA15A",
          "pattern": {
           "shape": ""
          }
         },
         "name": "怀柔",
         "orientation": "v",
         "showlegend": true,
         "textposition": "auto",
         "type": "bar",
         "x": [
          "怀柔"
         ],
         "xaxis": "x",
         "y": {
          "bdata": "CA==",
          "dtype": "i1"
         },
         "yaxis": "y"
        }
       ],
       "layout": {
        "barmode": "relative",
        "legend": {
         "title": {
          "text": "Region"
         },
         "tracegroupgap": 0
        },
        "template": {
         "data": {
          "bar": [
           {
            "error_x": {
             "color": "#2a3f5f"
            },
            "error_y": {
             "color": "#2a3f5f"
            },
            "marker": {
             "line": {
              "color": "#E5ECF6",
              "width": 0.5
             },
             "pattern": {
              "fillmode": "overlay",
              "size": 10,
              "solidity": 0.2
             }
            },
            "type": "bar"
           }
          ],
          "barpolar": [
           {
            "marker": {
             "line": {
              "color": "#E5ECF6",
              "width": 0.5
             },
             "pattern": {
              "fillmode": "overlay",
              "size": 10,
              "solidity": 0.2
             }
            },
            "type": "barpolar"
           }
          ],
          "carpet": [
           {
            "aaxis": {
             "endlinecolor": "#2a3f5f",
             "gridcolor": "white",
             "linecolor": "white",
             "minorgridcolor": "white",
             "startlinecolor": "#2a3f5f"
            },
            "baxis": {
             "endlinecolor": "#2a3f5f",
             "gridcolor": "white",
             "linecolor": "white",
             "minorgridcolor": "white",
             "startlinecolor": "#2a3f5f"
            },
            "type": "carpet"
           }
          ],
          "choropleth": [
           {
            "colorbar": {
             "outlinewidth": 0,
             "ticks": ""
            },
            "type": "choropleth"
           }
          ],
          "contour": [
           {
            "colorbar": {
             "outlinewidth": 0,
             "ticks": ""
            },
            "colorscale": [
             [
              0,
              "#0d0887"
             ],
             [
              0.1111111111111111,
              "#46039f"
             ],
             [
              0.2222222222222222,
              "#7201a8"
             ],
             [
              0.3333333333333333,
              "#9c179e"
             ],
             [
              0.4444444444444444,
              "#bd3786"
             ],
             [
              0.5555555555555556,
              "#d8576b"
             ],
             [
              0.6666666666666666,
              "#ed7953"
             ],
             [
              0.7777777777777778,
              "#fb9f3a"
             ],
             [
              0.8888888888888888,
              "#fdca26"
             ],
             [
              1,
              "#f0f921"
             ]
            ],
            "type": "contour"
           }
          ],
          "contourcarpet": [
           {
            "colorbar": {
             "outlinewidth": 0,
             "ticks": ""
            },
            "type": "contourcarpet"
           }
          ],
          "heatmap": [
           {
            "colorbar": {
             "outlinewidth": 0,
             "ticks": ""
            },
            "colorscale": [
             [
              0,
              "#0d0887"
             ],
             [
              0.1111111111111111,
              "#46039f"
             ],
             [
              0.2222222222222222,
              "#7201a8"
             ],
             [
              0.3333333333333333,
              "#9c179e"
             ],
             [
              0.4444444444444444,
              "#bd3786"
             ],
             [
              0.5555555555555556,
              "#d8576b"
             ],
             [
              0.6666666666666666,
              "#ed7953"
             ],
             [
              0.7777777777777778,
              "#fb9f3a"
             ],
             [
              0.8888888888888888,
              "#fdca26"
             ],
             [
              1,
              "#f0f921"
             ]
            ],
            "type": "heatmap"
           }
          ],
          "histogram": [
           {
            "marker": {
             "pattern": {
              "fillmode": "overlay",
              "size": 10,
              "solidity": 0.2
             }
            },
            "type": "histogram"
           }
          ],
          "histogram2d": [
           {
            "colorbar": {
             "outlinewidth": 0,
             "ticks": ""
            },
            "colorscale": [
             [
              0,
              "#0d0887"
             ],
             [
              0.1111111111111111,
              "#46039f"
             ],
             [
              0.2222222222222222,
              "#7201a8"
             ],
             [
              0.3333333333333333,
              "#9c179e"
             ],
             [
              0.4444444444444444,
              "#bd3786"
             ],
             [
              0.5555555555555556,
              "#d8576b"
             ],
             [
              0.6666666666666666,
              "#ed7953"
             ],
             [
              0.7777777777777778,
              "#fb9f3a"
             ],
             [
              0.8888888888888888,
              "#fdca26"
             ],
             [
              1,
              "#f0f921"
             ]
            ],
            "type": "histogram2d"
           }
          ],
          "histogram2dcontour": [
           {
            "colorbar": {
             "outlinewidth": 0,
             "ticks": ""
            },
            "colorscale": [
             [
              0,
              "#0d0887"
             ],
             [
              0.1111111111111111,
              "#46039f"
             ],
             [
              0.2222222222222222,
              "#7201a8"
             ],
             [
              0.3333333333333333,
              "#9c179e"
             ],
             [
              0.4444444444444444,
              "#bd3786"
             ],
             [
              0.5555555555555556,
              "#d8576b"
             ],
             [
              0.6666666666666666,
              "#ed7953"
             ],
             [
              0.7777777777777778,
              "#fb9f3a"
             ],
             [
              0.8888888888888888,
              "#fdca26"
             ],
             [
              1,
              "#f0f921"
             ]
            ],
            "type": "histogram2dcontour"
           }
          ],
          "mesh3d": [
           {
            "colorbar": {
             "outlinewidth": 0,
             "ticks": ""
            },
            "type": "mesh3d"
           }
          ],
          "parcoords": [
           {
            "line": {
             "colorbar": {
              "outlinewidth": 0,
              "ticks": ""
             }
            },
            "type": "parcoords"
           }
          ],
          "pie": [
           {
            "automargin": true,
            "type": "pie"
           }
          ],
          "scatter": [
           {
            "fillpattern": {
             "fillmode": "overlay",
             "size": 10,
             "solidity": 0.2
            },
            "type": "scatter"
           }
          ],
          "scatter3d": [
           {
            "line": {
             "colorbar": {
              "outlinewidth": 0,
              "ticks": ""
             }
            },
            "marker": {
             "colorbar": {
              "outlinewidth": 0,
              "ticks": ""
             }
            },
            "type": "scatter3d"
           }
          ],
          "scattercarpet": [
           {
            "marker": {
             "colorbar": {
              "outlinewidth": 0,
              "ticks": ""
             }
            },
            "type": "scattercarpet"
           }
          ],
          "scattergeo": [
           {
            "marker": {
             "colorbar": {
              "outlinewidth": 0,
              "ticks": ""
             }
            },
            "type": "scattergeo"
           }
          ],
          "scattergl": [
           {
            "marker": {
             "colorbar": {
              "outlinewidth": 0,
              "ticks": ""
             }
            },
            "type": "scattergl"
           }
          ],
          "scattermap": [
           {
            "marker": {
             "colorbar": {
              "outlinewidth": 0,
              "ticks": ""
             }
            },
            "type": "scattermap"
           }
          ],
          "scattermapbox": [
           {
            "marker": {
             "colorbar": {
              "outlinewidth": 0,
              "ticks": ""
             }
            },
            "type": "scattermapbox"
           }
          ],
          "scatterpolar": [
           {
            "marker": {
             "colorbar": {
              "outlinewidth": 0,
              "ticks": ""
             }
            },
            "type": "scatterpolar"
           }
          ],
          "scatterpolargl": [
           {
            "marker": {
             "colorbar": {
              "outlinewidth": 0,
              "ticks": ""
             }
            },
            "type": "scatterpolargl"
           }
          ],
          "scatterternary": [
           {
            "marker": {
             "colorbar": {
              "outlinewidth": 0,
              "ticks": ""
             }
            },
            "type": "scatterternary"
           }
          ],
          "surface": [
           {
            "colorbar": {
             "outlinewidth": 0,
             "ticks": ""
            },
            "colorscale": [
             [
              0,
              "#0d0887"
             ],
             [
              0.1111111111111111,
              "#46039f"
             ],
             [
              0.2222222222222222,
              "#7201a8"
             ],
             [
              0.3333333333333333,
              "#9c179e"
             ],
             [
              0.4444444444444444,
              "#bd3786"
             ],
             [
              0.5555555555555556,
              "#d8576b"
             ],
             [
              0.6666666666666666,
              "#ed7953"
             ],
             [
              0.7777777777777778,
              "#fb9f3a"
             ],
             [
              0.8888888888888888,
              "#fdca26"
             ],
             [
              1,
              "#f0f921"
             ]
            ],
            "type": "surface"
           }
          ],
          "table": [
           {
            "cells": {
             "fill": {
              "color": "#EBF0F8"
             },
             "line": {
              "color": "white"
             }
            },
            "header": {
             "fill": {
              "color": "#C8D4E3"
             },
             "line": {
              "color": "white"
             }
            },
            "type": "table"
           }
          ]
         },
         "layout": {
          "annotationdefaults": {
           "arrowcolor": "#2a3f5f",
           "arrowhead": 0,
           "arrowwidth": 1
          },
          "autotypenumbers": "strict",
          "coloraxis": {
           "colorbar": {
            "outlinewidth": 0,
            "ticks": ""
           }
          },
          "colorscale": {
           "diverging": [
            [
             0,
             "#8e0152"
            ],
            [
             0.1,
             "#c51b7d"
            ],
            [
             0.2,
             "#de77ae"
            ],
            [
             0.3,
             "#f1b6da"
            ],
            [
             0.4,
             "#fde0ef"
            ],
            [
             0.5,
             "#f7f7f7"
            ],
            [
             0.6,
             "#e6f5d0"
            ],
            [
             0.7,
             "#b8e186"
            ],
            [
             0.8,
             "#7fbc41"
            ],
            [
             0.9,
             "#4d9221"
            ],
            [
             1,
             "#276419"
            ]
           ],
           "sequential": [
            [
             0,
             "#0d0887"
            ],
            [
             0.1111111111111111,
             "#46039f"
            ],
            [
             0.2222222222222222,
             "#7201a8"
            ],
            [
             0.3333333333333333,
             "#9c179e"
            ],
            [
             0.4444444444444444,
             "#bd3786"
            ],
            [
             0.5555555555555556,
             "#d8576b"
            ],
            [
             0.6666666666666666,
             "#ed7953"
            ],
            [
             0.7777777777777778,
             "#fb9f3a"
            ],
            [
             0.8888888888888888,
             "#fdca26"
            ],
            [
             1,
             "#f0f921"
            ]
           ],
           "sequentialminus": [
            [
             0,
             "#0d0887"
            ],
            [
             0.1111111111111111,
             "#46039f"
            ],
            [
             0.2222222222222222,
             "#7201a8"
            ],
            [
             0.3333333333333333,
             "#9c179e"
            ],
            [
             0.4444444444444444,
             "#bd3786"
            ],
            [
             0.5555555555555556,
             "#d8576b"
            ],
            [
             0.6666666666666666,
             "#ed7953"
            ],
            [
             0.7777777777777778,
             "#fb9f3a"
            ],
            [
             0.8888888888888888,
             "#fdca26"
            ],
            [
             1,
             "#f0f921"
            ]
           ]
          },
          "colorway": [
           "#636efa",
           "#EF553B",
           "#00cc96",
           "#ab63fa",
           "#FFA15A",
           "#19d3f3",
           "#FF6692",
           "#B6E880",
           "#FF97FF",
           "#FECB52"
          ],
          "font": {
           "color": "#2a3f5f"
          },
          "geo": {
           "bgcolor": "white",
           "lakecolor": "white",
           "landcolor": "#E5ECF6",
           "showlakes": true,
           "showland": true,
           "subunitcolor": "white"
          },
          "hoverlabel": {
           "align": "left"
          },
          "hovermode": "closest",
          "mapbox": {
           "style": "light"
          },
          "paper_bgcolor": "white",
          "plot_bgcolor": "#E5ECF6",
          "polar": {
           "angularaxis": {
            "gridcolor": "white",
            "linecolor": "white",
            "ticks": ""
           },
           "bgcolor": "#E5ECF6",
           "radialaxis": {
            "gridcolor": "white",
            "linecolor": "white",
            "ticks": ""
           }
          },
          "scene": {
           "xaxis": {
            "backgroundcolor": "#E5ECF6",
            "gridcolor": "white",
            "gridwidth": 2,
            "linecolor": "white",
            "showbackground": true,
            "ticks": "",
            "zerolinecolor": "white"
           },
           "yaxis": {
            "backgroundcolor": "#E5ECF6",
            "gridcolor": "white",
            "gridwidth": 2,
            "linecolor": "white",
            "showbackground": true,
            "ticks": "",
            "zerolinecolor": "white"
           },
           "zaxis": {
            "backgroundcolor": "#E5ECF6",
            "gridcolor": "white",
            "gridwidth": 2,
            "linecolor": "white",
            "showbackground": true,
            "ticks": "",
            "zerolinecolor": "white"
           }
          },
          "shapedefaults": {
           "line": {
            "color": "#2a3f5f"
           }
          },
          "ternary": {
           "aaxis": {
            "gridcolor": "white",
            "linecolor": "white",
            "ticks": ""
           },
           "baxis": {
            "gridcolor": "white",
            "linecolor": "white",
            "ticks": ""
           },
           "bgcolor": "#E5ECF6",
           "caxis": {
            "gridcolor": "white",
            "linecolor": "white",
            "ticks": ""
           }
          },
          "title": {
           "x": 0.05
          },
          "xaxis": {
           "automargin": true,
           "gridcolor": "white",
           "linecolor": "white",
           "ticks": "",
           "title": {
            "standoff": 15
           },
           "zerolinecolor": "white",
           "zerolinewidth": 2
          },
          "yaxis": {
           "automargin": true,
           "gridcolor": "white",
           "linecolor": "white",
           "ticks": "",
           "title": {
            "standoff": 15
           },
           "zerolinecolor": "white",
           "zerolinewidth": 2
          }
         }
        },
        "title": {
         "text": "北京各大区二手房数量对比"
        },
        "xaxis": {
         "anchor": "y",
         "categoryarray": [
          "朝阳",
          "丰台",
          "海淀",
          "通州",
          "昌平",
          "房山",
          "大兴",
          "西城",
          "顺义",
          "石景山",
          "东城",
          "亦庄开发区",
          "门头沟",
          "密云",
          "怀柔"
         ],
         "categoryorder": "array",
         "domain": [
          0,
          1
         ],
         "title": {
          "text": "Region"
         }
        },
        "yaxis": {
         "anchor": "x",
         "domain": [
          0,
          1
         ],
         "title": {
          "text": "Number"
         }
        }
       }
      },
      "text/html": [
       "<div>                        <script type=\"text/javascript\">window.PlotlyConfig = {MathJaxConfig: 'local'};</script>\n",
       "        <script charset=\"utf-8\" src=\"https://cdn.plot.ly/plotly-3.0.1.min.js\"></script>                <div id=\"25ce2a8b-0d39-49f1-871e-cead389cd701\" class=\"plotly-graph-div\" style=\"height:100%; width:100%;\"></div>            <script type=\"text/javascript\">                window.PLOTLYENV=window.PLOTLYENV || {};                                if (document.getElementById(\"25ce2a8b-0d39-49f1-871e-cead389cd701\")) {                    Plotly.newPlot(                        \"25ce2a8b-0d39-49f1-871e-cead389cd701\",                        [{\"hovertemplate\":\"Region=%{x}\\u003cbr\\u003eNumber=%{y}\\u003cextra\\u003e\\u003c\\u002fextra\\u003e\",\"legendgroup\":\"\\u671d\\u9633\",\"marker\":{\"color\":\"#636efa\",\"pattern\":{\"shape\":\"\"}},\"name\":\"\\u671d\\u9633\",\"orientation\":\"v\",\"showlegend\":true,\"textposition\":\"auto\",\"x\":[\"\\u671d\\u9633\"],\"xaxis\":\"x\",\"y\":{\"dtype\":\"i2\",\"bdata\":\"MAE=\"},\"yaxis\":\"y\",\"type\":\"bar\"},{\"hovertemplate\":\"Region=%{x}\\u003cbr\\u003eNumber=%{y}\\u003cextra\\u003e\\u003c\\u002fextra\\u003e\",\"legendgroup\":\"\\u4e30\\u53f0\",\"marker\":{\"color\":\"#EF553B\",\"pattern\":{\"shape\":\"\"}},\"name\":\"\\u4e30\\u53f0\",\"orientation\":\"v\",\"showlegend\":true,\"textposition\":\"auto\",\"x\":[\"\\u4e30\\u53f0\"],\"xaxis\":\"x\",\"y\":{\"dtype\":\"i1\",\"bdata\":\"eg==\"},\"yaxis\":\"y\",\"type\":\"bar\"},{\"hovertemplate\":\"Region=%{x}\\u003cbr\\u003eNumber=%{y}\\u003cextra\\u003e\\u003c\\u002fextra\\u003e\",\"legendgroup\":\"\\u6d77\\u6dc0\",\"marker\":{\"color\":\"#00cc96\",\"pattern\":{\"shape\":\"\"}},\"name\":\"\\u6d77\\u6dc0\",\"orientation\":\"v\",\"showlegend\":true,\"textposition\":\"auto\",\"x\":[\"\\u6d77\\u6dc0\"],\"xaxis\":\"x\",\"y\":{\"dtype\":\"i1\",\"bdata\":\"ag==\"},\"yaxis\":\"y\",\"type\":\"bar\"},{\"hovertemplate\":\"Region=%{x}\\u003cbr\\u003eNumber=%{y}\\u003cextra\\u003e\\u003c\\u002fextra\\u003e\",\"legendgroup\":\"\\u901a\\u5dde\",\"marker\":{\"color\":\"#ab63fa\",\"pattern\":{\"shape\":\"\"}},\"name\":\"\\u901a\\u5dde\",\"orientation\":\"v\",\"showlegend\":true,\"textposition\":\"auto\",\"x\":[\"\\u901a\\u5dde\"],\"xaxis\":\"x\",\"y\":{\"dtype\":\"i1\",\"bdata\":\"UA==\"},\"yaxis\":\"y\",\"type\":\"bar\"},{\"hovertemplate\":\"Region=%{x}\\u003cbr\\u003eNumber=%{y}\\u003cextra\\u003e\\u003c\\u002fextra\\u003e\",\"legendgroup\":\"\\u660c\\u5e73\",\"marker\":{\"color\":\"#FFA15A\",\"pattern\":{\"shape\":\"\"}},\"name\":\"\\u660c\\u5e73\",\"orientation\":\"v\",\"showlegend\":true,\"textposition\":\"auto\",\"x\":[\"\\u660c\\u5e73\"],\"xaxis\":\"x\",\"y\":{\"dtype\":\"i1\",\"bdata\":\"Tw==\"},\"yaxis\":\"y\",\"type\":\"bar\"},{\"hovertemplate\":\"Region=%{x}\\u003cbr\\u003eNumber=%{y}\\u003cextra\\u003e\\u003c\\u002fextra\\u003e\",\"legendgroup\":\"\\u623f\\u5c71\",\"marker\":{\"color\":\"#19d3f3\",\"pattern\":{\"shape\":\"\"}},\"name\":\"\\u623f\\u5c71\",\"orientation\":\"v\",\"showlegend\":true,\"textposition\":\"auto\",\"x\":[\"\\u623f\\u5c71\"],\"xaxis\":\"x\",\"y\":{\"dtype\":\"i1\",\"bdata\":\"Rw==\"},\"yaxis\":\"y\",\"type\":\"bar\"},{\"hovertemplate\":\"Region=%{x}\\u003cbr\\u003eNumber=%{y}\\u003cextra\\u003e\\u003c\\u002fextra\\u003e\",\"legendgroup\":\"\\u5927\\u5174\",\"marker\":{\"color\":\"#FF6692\",\"pattern\":{\"shape\":\"\"}},\"name\":\"\\u5927\\u5174\",\"orientation\":\"v\",\"showlegend\":true,\"textposition\":\"auto\",\"x\":[\"\\u5927\\u5174\"],\"xaxis\":\"x\",\"y\":{\"dtype\":\"i1\",\"bdata\":\"PQ==\"},\"yaxis\":\"y\",\"type\":\"bar\"},{\"hovertemplate\":\"Region=%{x}\\u003cbr\\u003eNumber=%{y}\\u003cextra\\u003e\\u003c\\u002fextra\\u003e\",\"legendgroup\":\"\\u897f\\u57ce\",\"marker\":{\"color\":\"#B6E880\",\"pattern\":{\"shape\":\"\"}},\"name\":\"\\u897f\\u57ce\",\"orientation\":\"v\",\"showlegend\":true,\"textposition\":\"auto\",\"x\":[\"\\u897f\\u57ce\"],\"xaxis\":\"x\",\"y\":{\"dtype\":\"i1\",\"bdata\":\"OA==\"},\"yaxis\":\"y\",\"type\":\"bar\"},{\"hovertemplate\":\"Region=%{x}\\u003cbr\\u003eNumber=%{y}\\u003cextra\\u003e\\u003c\\u002fextra\\u003e\",\"legendgroup\":\"\\u987a\\u4e49\",\"marker\":{\"color\":\"#FF97FF\",\"pattern\":{\"shape\":\"\"}},\"name\":\"\\u987a\\u4e49\",\"orientation\":\"v\",\"showlegend\":true,\"textposition\":\"auto\",\"x\":[\"\\u987a\\u4e49\"],\"xaxis\":\"x\",\"y\":{\"dtype\":\"i1\",\"bdata\":\"Kw==\"},\"yaxis\":\"y\",\"type\":\"bar\"},{\"hovertemplate\":\"Region=%{x}\\u003cbr\\u003eNumber=%{y}\\u003cextra\\u003e\\u003c\\u002fextra\\u003e\",\"legendgroup\":\"\\u77f3\\u666f\\u5c71\",\"marker\":{\"color\":\"#FECB52\",\"pattern\":{\"shape\":\"\"}},\"name\":\"\\u77f3\\u666f\\u5c71\",\"orientation\":\"v\",\"showlegend\":true,\"textposition\":\"auto\",\"x\":[\"\\u77f3\\u666f\\u5c71\"],\"xaxis\":\"x\",\"y\":{\"dtype\":\"i1\",\"bdata\":\"JQ==\"},\"yaxis\":\"y\",\"type\":\"bar\"},{\"hovertemplate\":\"Region=%{x}\\u003cbr\\u003eNumber=%{y}\\u003cextra\\u003e\\u003c\\u002fextra\\u003e\",\"legendgroup\":\"\\u4e1c\\u57ce\",\"marker\":{\"color\":\"#636efa\",\"pattern\":{\"shape\":\"\"}},\"name\":\"\\u4e1c\\u57ce\",\"orientation\":\"v\",\"showlegend\":true,\"textposition\":\"auto\",\"x\":[\"\\u4e1c\\u57ce\"],\"xaxis\":\"x\",\"y\":{\"dtype\":\"i1\",\"bdata\":\"Gg==\"},\"yaxis\":\"y\",\"type\":\"bar\"},{\"hovertemplate\":\"Region=%{x}\\u003cbr\\u003eNumber=%{y}\\u003cextra\\u003e\\u003c\\u002fextra\\u003e\",\"legendgroup\":\"\\u4ea6\\u5e84\\u5f00\\u53d1\\u533a\",\"marker\":{\"color\":\"#EF553B\",\"pattern\":{\"shape\":\"\"}},\"name\":\"\\u4ea6\\u5e84\\u5f00\\u53d1\\u533a\",\"orientation\":\"v\",\"showlegend\":true,\"textposition\":\"auto\",\"x\":[\"\\u4ea6\\u5e84\\u5f00\\u53d1\\u533a\"],\"xaxis\":\"x\",\"y\":{\"dtype\":\"i1\",\"bdata\":\"DA==\"},\"yaxis\":\"y\",\"type\":\"bar\"},{\"hovertemplate\":\"Region=%{x}\\u003cbr\\u003eNumber=%{y}\\u003cextra\\u003e\\u003c\\u002fextra\\u003e\",\"legendgroup\":\"\\u95e8\\u5934\\u6c9f\",\"marker\":{\"color\":\"#00cc96\",\"pattern\":{\"shape\":\"\"}},\"name\":\"\\u95e8\\u5934\\u6c9f\",\"orientation\":\"v\",\"showlegend\":true,\"textposition\":\"auto\",\"x\":[\"\\u95e8\\u5934\\u6c9f\"],\"xaxis\":\"x\",\"y\":{\"dtype\":\"i1\",\"bdata\":\"CQ==\"},\"yaxis\":\"y\",\"type\":\"bar\"},{\"hovertemplate\":\"Region=%{x}\\u003cbr\\u003eNumber=%{y}\\u003cextra\\u003e\\u003c\\u002fextra\\u003e\",\"legendgroup\":\"\\u5bc6\\u4e91\",\"marker\":{\"color\":\"#ab63fa\",\"pattern\":{\"shape\":\"\"}},\"name\":\"\\u5bc6\\u4e91\",\"orientation\":\"v\",\"showlegend\":true,\"textposition\":\"auto\",\"x\":[\"\\u5bc6\\u4e91\"],\"xaxis\":\"x\",\"y\":{\"dtype\":\"i1\",\"bdata\":\"CA==\"},\"yaxis\":\"y\",\"type\":\"bar\"},{\"hovertemplate\":\"Region=%{x}\\u003cbr\\u003eNumber=%{y}\\u003cextra\\u003e\\u003c\\u002fextra\\u003e\",\"legendgroup\":\"\\u6000\\u67d4\",\"marker\":{\"color\":\"#FFA15A\",\"pattern\":{\"shape\":\"\"}},\"name\":\"\\u6000\\u67d4\",\"orientation\":\"v\",\"showlegend\":true,\"textposition\":\"auto\",\"x\":[\"\\u6000\\u67d4\"],\"xaxis\":\"x\",\"y\":{\"dtype\":\"i1\",\"bdata\":\"CA==\"},\"yaxis\":\"y\",\"type\":\"bar\"}],                        {\"template\":{\"data\":{\"histogram2dcontour\":[{\"type\":\"histogram2dcontour\",\"colorbar\":{\"outlinewidth\":0,\"ticks\":\"\"},\"colorscale\":[[0.0,\"#0d0887\"],[0.1111111111111111,\"#46039f\"],[0.2222222222222222,\"#7201a8\"],[0.3333333333333333,\"#9c179e\"],[0.4444444444444444,\"#bd3786\"],[0.5555555555555556,\"#d8576b\"],[0.6666666666666666,\"#ed7953\"],[0.7777777777777778,\"#fb9f3a\"],[0.8888888888888888,\"#fdca26\"],[1.0,\"#f0f921\"]]}],\"choropleth\":[{\"type\":\"choropleth\",\"colorbar\":{\"outlinewidth\":0,\"ticks\":\"\"}}],\"histogram2d\":[{\"type\":\"histogram2d\",\"colorbar\":{\"outlinewidth\":0,\"ticks\":\"\"},\"colorscale\":[[0.0,\"#0d0887\"],[0.1111111111111111,\"#46039f\"],[0.2222222222222222,\"#7201a8\"],[0.3333333333333333,\"#9c179e\"],[0.4444444444444444,\"#bd3786\"],[0.5555555555555556,\"#d8576b\"],[0.6666666666666666,\"#ed7953\"],[0.7777777777777778,\"#fb9f3a\"],[0.8888888888888888,\"#fdca26\"],[1.0,\"#f0f921\"]]}],\"heatmap\":[{\"type\":\"heatmap\",\"colorbar\":{\"outlinewidth\":0,\"ticks\":\"\"},\"colorscale\":[[0.0,\"#0d0887\"],[0.1111111111111111,\"#46039f\"],[0.2222222222222222,\"#7201a8\"],[0.3333333333333333,\"#9c179e\"],[0.4444444444444444,\"#bd3786\"],[0.5555555555555556,\"#d8576b\"],[0.6666666666666666,\"#ed7953\"],[0.7777777777777778,\"#fb9f3a\"],[0.8888888888888888,\"#fdca26\"],[1.0,\"#f0f921\"]]}],\"contourcarpet\":[{\"type\":\"contourcarpet\",\"colorbar\":{\"outlinewidth\":0,\"ticks\":\"\"}}],\"contour\":[{\"type\":\"contour\",\"colorbar\":{\"outlinewidth\":0,\"ticks\":\"\"},\"colorscale\":[[0.0,\"#0d0887\"],[0.1111111111111111,\"#46039f\"],[0.2222222222222222,\"#7201a8\"],[0.3333333333333333,\"#9c179e\"],[0.4444444444444444,\"#bd3786\"],[0.5555555555555556,\"#d8576b\"],[0.6666666666666666,\"#ed7953\"],[0.7777777777777778,\"#fb9f3a\"],[0.8888888888888888,\"#fdca26\"],[1.0,\"#f0f921\"]]}],\"surface\":[{\"type\":\"surface\",\"colorbar\":{\"outlinewidth\":0,\"ticks\":\"\"},\"colorscale\":[[0.0,\"#0d0887\"],[0.1111111111111111,\"#46039f\"],[0.2222222222222222,\"#7201a8\"],[0.3333333333333333,\"#9c179e\"],[0.4444444444444444,\"#bd3786\"],[0.5555555555555556,\"#d8576b\"],[0.6666666666666666,\"#ed7953\"],[0.7777777777777778,\"#fb9f3a\"],[0.8888888888888888,\"#fdca26\"],[1.0,\"#f0f921\"]]}],\"mesh3d\":[{\"type\":\"mesh3d\",\"colorbar\":{\"outlinewidth\":0,\"ticks\":\"\"}}],\"scatter\":[{\"fillpattern\":{\"fillmode\":\"overlay\",\"size\":10,\"solidity\":0.2},\"type\":\"scatter\"}],\"parcoords\":[{\"type\":\"parcoords\",\"line\":{\"colorbar\":{\"outlinewidth\":0,\"ticks\":\"\"}}}],\"scatterpolargl\":[{\"type\":\"scatterpolargl\",\"marker\":{\"colorbar\":{\"outlinewidth\":0,\"ticks\":\"\"}}}],\"bar\":[{\"error_x\":{\"color\":\"#2a3f5f\"},\"error_y\":{\"color\":\"#2a3f5f\"},\"marker\":{\"line\":{\"color\":\"#E5ECF6\",\"width\":0.5},\"pattern\":{\"fillmode\":\"overlay\",\"size\":10,\"solidity\":0.2}},\"type\":\"bar\"}],\"scattergeo\":[{\"type\":\"scattergeo\",\"marker\":{\"colorbar\":{\"outlinewidth\":0,\"ticks\":\"\"}}}],\"scatterpolar\":[{\"type\":\"scatterpolar\",\"marker\":{\"colorbar\":{\"outlinewidth\":0,\"ticks\":\"\"}}}],\"histogram\":[{\"marker\":{\"pattern\":{\"fillmode\":\"overlay\",\"size\":10,\"solidity\":0.2}},\"type\":\"histogram\"}],\"scattergl\":[{\"type\":\"scattergl\",\"marker\":{\"colorbar\":{\"outlinewidth\":0,\"ticks\":\"\"}}}],\"scatter3d\":[{\"type\":\"scatter3d\",\"line\":{\"colorbar\":{\"outlinewidth\":0,\"ticks\":\"\"}},\"marker\":{\"colorbar\":{\"outlinewidth\":0,\"ticks\":\"\"}}}],\"scattermap\":[{\"type\":\"scattermap\",\"marker\":{\"colorbar\":{\"outlinewidth\":0,\"ticks\":\"\"}}}],\"scattermapbox\":[{\"type\":\"scattermapbox\",\"marker\":{\"colorbar\":{\"outlinewidth\":0,\"ticks\":\"\"}}}],\"scatterternary\":[{\"type\":\"scatterternary\",\"marker\":{\"colorbar\":{\"outlinewidth\":0,\"ticks\":\"\"}}}],\"scattercarpet\":[{\"type\":\"scattercarpet\",\"marker\":{\"colorbar\":{\"outlinewidth\":0,\"ticks\":\"\"}}}],\"carpet\":[{\"aaxis\":{\"endlinecolor\":\"#2a3f5f\",\"gridcolor\":\"white\",\"linecolor\":\"white\",\"minorgridcolor\":\"white\",\"startlinecolor\":\"#2a3f5f\"},\"baxis\":{\"endlinecolor\":\"#2a3f5f\",\"gridcolor\":\"white\",\"linecolor\":\"white\",\"minorgridcolor\":\"white\",\"startlinecolor\":\"#2a3f5f\"},\"type\":\"carpet\"}],\"table\":[{\"cells\":{\"fill\":{\"color\":\"#EBF0F8\"},\"line\":{\"color\":\"white\"}},\"header\":{\"fill\":{\"color\":\"#C8D4E3\"},\"line\":{\"color\":\"white\"}},\"type\":\"table\"}],\"barpolar\":[{\"marker\":{\"line\":{\"color\":\"#E5ECF6\",\"width\":0.5},\"pattern\":{\"fillmode\":\"overlay\",\"size\":10,\"solidity\":0.2}},\"type\":\"barpolar\"}],\"pie\":[{\"automargin\":true,\"type\":\"pie\"}]},\"layout\":{\"autotypenumbers\":\"strict\",\"colorway\":[\"#636efa\",\"#EF553B\",\"#00cc96\",\"#ab63fa\",\"#FFA15A\",\"#19d3f3\",\"#FF6692\",\"#B6E880\",\"#FF97FF\",\"#FECB52\"],\"font\":{\"color\":\"#2a3f5f\"},\"hovermode\":\"closest\",\"hoverlabel\":{\"align\":\"left\"},\"paper_bgcolor\":\"white\",\"plot_bgcolor\":\"#E5ECF6\",\"polar\":{\"bgcolor\":\"#E5ECF6\",\"angularaxis\":{\"gridcolor\":\"white\",\"linecolor\":\"white\",\"ticks\":\"\"},\"radialaxis\":{\"gridcolor\":\"white\",\"linecolor\":\"white\",\"ticks\":\"\"}},\"ternary\":{\"bgcolor\":\"#E5ECF6\",\"aaxis\":{\"gridcolor\":\"white\",\"linecolor\":\"white\",\"ticks\":\"\"},\"baxis\":{\"gridcolor\":\"white\",\"linecolor\":\"white\",\"ticks\":\"\"},\"caxis\":{\"gridcolor\":\"white\",\"linecolor\":\"white\",\"ticks\":\"\"}},\"coloraxis\":{\"colorbar\":{\"outlinewidth\":0,\"ticks\":\"\"}},\"colorscale\":{\"sequential\":[[0.0,\"#0d0887\"],[0.1111111111111111,\"#46039f\"],[0.2222222222222222,\"#7201a8\"],[0.3333333333333333,\"#9c179e\"],[0.4444444444444444,\"#bd3786\"],[0.5555555555555556,\"#d8576b\"],[0.6666666666666666,\"#ed7953\"],[0.7777777777777778,\"#fb9f3a\"],[0.8888888888888888,\"#fdca26\"],[1.0,\"#f0f921\"]],\"sequentialminus\":[[0.0,\"#0d0887\"],[0.1111111111111111,\"#46039f\"],[0.2222222222222222,\"#7201a8\"],[0.3333333333333333,\"#9c179e\"],[0.4444444444444444,\"#bd3786\"],[0.5555555555555556,\"#d8576b\"],[0.6666666666666666,\"#ed7953\"],[0.7777777777777778,\"#fb9f3a\"],[0.8888888888888888,\"#fdca26\"],[1.0,\"#f0f921\"]],\"diverging\":[[0,\"#8e0152\"],[0.1,\"#c51b7d\"],[0.2,\"#de77ae\"],[0.3,\"#f1b6da\"],[0.4,\"#fde0ef\"],[0.5,\"#f7f7f7\"],[0.6,\"#e6f5d0\"],[0.7,\"#b8e186\"],[0.8,\"#7fbc41\"],[0.9,\"#4d9221\"],[1,\"#276419\"]]},\"xaxis\":{\"gridcolor\":\"white\",\"linecolor\":\"white\",\"ticks\":\"\",\"title\":{\"standoff\":15},\"zerolinecolor\":\"white\",\"automargin\":true,\"zerolinewidth\":2},\"yaxis\":{\"gridcolor\":\"white\",\"linecolor\":\"white\",\"ticks\":\"\",\"title\":{\"standoff\":15},\"zerolinecolor\":\"white\",\"automargin\":true,\"zerolinewidth\":2},\"scene\":{\"xaxis\":{\"backgroundcolor\":\"#E5ECF6\",\"gridcolor\":\"white\",\"linecolor\":\"white\",\"showbackground\":true,\"ticks\":\"\",\"zerolinecolor\":\"white\",\"gridwidth\":2},\"yaxis\":{\"backgroundcolor\":\"#E5ECF6\",\"gridcolor\":\"white\",\"linecolor\":\"white\",\"showbackground\":true,\"ticks\":\"\",\"zerolinecolor\":\"white\",\"gridwidth\":2},\"zaxis\":{\"backgroundcolor\":\"#E5ECF6\",\"gridcolor\":\"white\",\"linecolor\":\"white\",\"showbackground\":true,\"ticks\":\"\",\"zerolinecolor\":\"white\",\"gridwidth\":2}},\"shapedefaults\":{\"line\":{\"color\":\"#2a3f5f\"}},\"annotationdefaults\":{\"arrowcolor\":\"#2a3f5f\",\"arrowhead\":0,\"arrowwidth\":1},\"geo\":{\"bgcolor\":\"white\",\"landcolor\":\"#E5ECF6\",\"subunitcolor\":\"white\",\"showland\":true,\"showlakes\":true,\"lakecolor\":\"white\"},\"title\":{\"x\":0.05},\"mapbox\":{\"style\":\"light\"}}},\"xaxis\":{\"anchor\":\"y\",\"domain\":[0.0,1.0],\"title\":{\"text\":\"Region\"},\"categoryorder\":\"array\",\"categoryarray\":[\"\\u671d\\u9633\",\"\\u4e30\\u53f0\",\"\\u6d77\\u6dc0\",\"\\u901a\\u5dde\",\"\\u660c\\u5e73\",\"\\u623f\\u5c71\",\"\\u5927\\u5174\",\"\\u897f\\u57ce\",\"\\u987a\\u4e49\",\"\\u77f3\\u666f\\u5c71\",\"\\u4e1c\\u57ce\",\"\\u4ea6\\u5e84\\u5f00\\u53d1\\u533a\",\"\\u95e8\\u5934\\u6c9f\",\"\\u5bc6\\u4e91\",\"\\u6000\\u67d4\"]},\"yaxis\":{\"anchor\":\"x\",\"domain\":[0.0,1.0],\"title\":{\"text\":\"Number\"}},\"legend\":{\"title\":{\"text\":\"Region\"},\"tracegroupgap\":0},\"title\":{\"text\":\"\\u5317\\u4eac\\u5404\\u5927\\u533a\\u4e8c\\u624b\\u623f\\u6570\\u91cf\\u5bf9\\u6bd4\"},\"barmode\":\"relative\"},                        {\"responsive\": true}                    )                };            </script>        </div>"
      ],
      "text/plain": [
       "Figure({\n",
       "    'data': [{'hovertemplate': 'Region=%{x}<br>Number=%{y}<extra></extra>',\n",
       "              'legendgroup': '朝阳',\n",
       "              'marker': {'color': '#636efa', 'pattern': {'shape': ''}},\n",
       "              'name': '朝阳',\n",
       "              'orientation': 'v',\n",
       "              'showlegend': True,\n",
       "              'textposition': 'auto',\n",
       "              'type': 'bar',\n",
       "              'x': array(['朝阳'], dtype=object),\n",
       "              'xaxis': 'x',\n",
       "              'y': {'bdata': 'MAE=', 'dtype': 'i2'},\n",
       "              'yaxis': 'y'},\n",
       "             {'hovertemplate': 'Region=%{x}<br>Number=%{y}<extra></extra>',\n",
       "              'legendgroup': '丰台',\n",
       "              'marker': {'color': '#EF553B', 'pattern': {'shape': ''}},\n",
       "              'name': '丰台',\n",
       "              'orientation': 'v',\n",
       "              'showlegend': True,\n",
       "              'textposition': 'auto',\n",
       "              'type': 'bar',\n",
       "              'x': array(['丰台'], dtype=object),\n",
       "              'xaxis': 'x',\n",
       "              'y': {'bdata': 'eg==', 'dtype': 'i1'},\n",
       "              'yaxis': 'y'},\n",
       "             {'hovertemplate': 'Region=%{x}<br>Number=%{y}<extra></extra>',\n",
       "              'legendgroup': '海淀',\n",
       "              'marker': {'color': '#00cc96', 'pattern': {'shape': ''}},\n",
       "              'name': '海淀',\n",
       "              'orientation': 'v',\n",
       "              'showlegend': True,\n",
       "              'textposition': 'auto',\n",
       "              'type': 'bar',\n",
       "              'x': array(['海淀'], dtype=object),\n",
       "              'xaxis': 'x',\n",
       "              'y': {'bdata': 'ag==', 'dtype': 'i1'},\n",
       "              'yaxis': 'y'},\n",
       "             {'hovertemplate': 'Region=%{x}<br>Number=%{y}<extra></extra>',\n",
       "              'legendgroup': '通州',\n",
       "              'marker': {'color': '#ab63fa', 'pattern': {'shape': ''}},\n",
       "              'name': '通州',\n",
       "              'orientation': 'v',\n",
       "              'showlegend': True,\n",
       "              'textposition': 'auto',\n",
       "              'type': 'bar',\n",
       "              'x': array(['通州'], dtype=object),\n",
       "              'xaxis': 'x',\n",
       "              'y': {'bdata': 'UA==', 'dtype': 'i1'},\n",
       "              'yaxis': 'y'},\n",
       "             {'hovertemplate': 'Region=%{x}<br>Number=%{y}<extra></extra>',\n",
       "              'legendgroup': '昌平',\n",
       "              'marker': {'color': '#FFA15A', 'pattern': {'shape': ''}},\n",
       "              'name': '昌平',\n",
       "              'orientation': 'v',\n",
       "              'showlegend': True,\n",
       "              'textposition': 'auto',\n",
       "              'type': 'bar',\n",
       "              'x': array(['昌平'], dtype=object),\n",
       "              'xaxis': 'x',\n",
       "              'y': {'bdata': 'Tw==', 'dtype': 'i1'},\n",
       "              'yaxis': 'y'},\n",
       "             {'hovertemplate': 'Region=%{x}<br>Number=%{y}<extra></extra>',\n",
       "              'legendgroup': '房山',\n",
       "              'marker': {'color': '#19d3f3', 'pattern': {'shape': ''}},\n",
       "              'name': '房山',\n",
       "              'orientation': 'v',\n",
       "              'showlegend': True,\n",
       "              'textposition': 'auto',\n",
       "              'type': 'bar',\n",
       "              'x': array(['房山'], dtype=object),\n",
       "              'xaxis': 'x',\n",
       "              'y': {'bdata': 'Rw==', 'dtype': 'i1'},\n",
       "              'yaxis': 'y'},\n",
       "             {'hovertemplate': 'Region=%{x}<br>Number=%{y}<extra></extra>',\n",
       "              'legendgroup': '大兴',\n",
       "              'marker': {'color': '#FF6692', 'pattern': {'shape': ''}},\n",
       "              'name': '大兴',\n",
       "              'orientation': 'v',\n",
       "              'showlegend': True,\n",
       "              'textposition': 'auto',\n",
       "              'type': 'bar',\n",
       "              'x': array(['大兴'], dtype=object),\n",
       "              'xaxis': 'x',\n",
       "              'y': {'bdata': 'PQ==', 'dtype': 'i1'},\n",
       "              'yaxis': 'y'},\n",
       "             {'hovertemplate': 'Region=%{x}<br>Number=%{y}<extra></extra>',\n",
       "              'legendgroup': '西城',\n",
       "              'marker': {'color': '#B6E880', 'pattern': {'shape': ''}},\n",
       "              'name': '西城',\n",
       "              'orientation': 'v',\n",
       "              'showlegend': True,\n",
       "              'textposition': 'auto',\n",
       "              'type': 'bar',\n",
       "              'x': array(['西城'], dtype=object),\n",
       "              'xaxis': 'x',\n",
       "              'y': {'bdata': 'OA==', 'dtype': 'i1'},\n",
       "              'yaxis': 'y'},\n",
       "             {'hovertemplate': 'Region=%{x}<br>Number=%{y}<extra></extra>',\n",
       "              'legendgroup': '顺义',\n",
       "              'marker': {'color': '#FF97FF', 'pattern': {'shape': ''}},\n",
       "              'name': '顺义',\n",
       "              'orientation': 'v',\n",
       "              'showlegend': True,\n",
       "              'textposition': 'auto',\n",
       "              'type': 'bar',\n",
       "              'x': array(['顺义'], dtype=object),\n",
       "              'xaxis': 'x',\n",
       "              'y': {'bdata': 'Kw==', 'dtype': 'i1'},\n",
       "              'yaxis': 'y'},\n",
       "             {'hovertemplate': 'Region=%{x}<br>Number=%{y}<extra></extra>',\n",
       "              'legendgroup': '石景山',\n",
       "              'marker': {'color': '#FECB52', 'pattern': {'shape': ''}},\n",
       "              'name': '石景山',\n",
       "              'orientation': 'v',\n",
       "              'showlegend': True,\n",
       "              'textposition': 'auto',\n",
       "              'type': 'bar',\n",
       "              'x': array(['石景山'], dtype=object),\n",
       "              'xaxis': 'x',\n",
       "              'y': {'bdata': 'JQ==', 'dtype': 'i1'},\n",
       "              'yaxis': 'y'},\n",
       "             {'hovertemplate': 'Region=%{x}<br>Number=%{y}<extra></extra>',\n",
       "              'legendgroup': '东城',\n",
       "              'marker': {'color': '#636efa', 'pattern': {'shape': ''}},\n",
       "              'name': '东城',\n",
       "              'orientation': 'v',\n",
       "              'showlegend': True,\n",
       "              'textposition': 'auto',\n",
       "              'type': 'bar',\n",
       "              'x': array(['东城'], dtype=object),\n",
       "              'xaxis': 'x',\n",
       "              'y': {'bdata': 'Gg==', 'dtype': 'i1'},\n",
       "              'yaxis': 'y'},\n",
       "             {'hovertemplate': 'Region=%{x}<br>Number=%{y}<extra></extra>',\n",
       "              'legendgroup': '亦庄开发区',\n",
       "              'marker': {'color': '#EF553B', 'pattern': {'shape': ''}},\n",
       "              'name': '亦庄开发区',\n",
       "              'orientation': 'v',\n",
       "              'showlegend': True,\n",
       "              'textposition': 'auto',\n",
       "              'type': 'bar',\n",
       "              'x': array(['亦庄开发区'], dtype=object),\n",
       "              'xaxis': 'x',\n",
       "              'y': {'bdata': 'DA==', 'dtype': 'i1'},\n",
       "              'yaxis': 'y'},\n",
       "             {'hovertemplate': 'Region=%{x}<br>Number=%{y}<extra></extra>',\n",
       "              'legendgroup': '门头沟',\n",
       "              'marker': {'color': '#00cc96', 'pattern': {'shape': ''}},\n",
       "              'name': '门头沟',\n",
       "              'orientation': 'v',\n",
       "              'showlegend': True,\n",
       "              'textposition': 'auto',\n",
       "              'type': 'bar',\n",
       "              'x': array(['门头沟'], dtype=object),\n",
       "              'xaxis': 'x',\n",
       "              'y': {'bdata': 'CQ==', 'dtype': 'i1'},\n",
       "              'yaxis': 'y'},\n",
       "             {'hovertemplate': 'Region=%{x}<br>Number=%{y}<extra></extra>',\n",
       "              'legendgroup': '密云',\n",
       "              'marker': {'color': '#ab63fa', 'pattern': {'shape': ''}},\n",
       "              'name': '密云',\n",
       "              'orientation': 'v',\n",
       "              'showlegend': True,\n",
       "              'textposition': 'auto',\n",
       "              'type': 'bar',\n",
       "              'x': array(['密云'], dtype=object),\n",
       "              'xaxis': 'x',\n",
       "              'y': {'bdata': 'CA==', 'dtype': 'i1'},\n",
       "              'yaxis': 'y'},\n",
       "             {'hovertemplate': 'Region=%{x}<br>Number=%{y}<extra></extra>',\n",
       "              'legendgroup': '怀柔',\n",
       "              'marker': {'color': '#FFA15A', 'pattern': {'shape': ''}},\n",
       "              'name': '怀柔',\n",
       "              'orientation': 'v',\n",
       "              'showlegend': True,\n",
       "              'textposition': 'auto',\n",
       "              'type': 'bar',\n",
       "              'x': array(['怀柔'], dtype=object),\n",
       "              'xaxis': 'x',\n",
       "              'y': {'bdata': 'CA==', 'dtype': 'i1'},\n",
       "              'yaxis': 'y'}],\n",
       "    'layout': {'barmode': 'relative',\n",
       "               'legend': {'title': {'text': 'Region'}, 'tracegroupgap': 0},\n",
       "               'template': '...',\n",
       "               'title': {'text': '北京各大区二手房数量对比'},\n",
       "               'xaxis': {'anchor': 'y',\n",
       "                         'categoryarray': [朝阳, 丰台, 海淀, 通州, 昌平, 房山, 大兴, 西城, 顺义,\n",
       "                                           石景山, 东城, 亦庄开发区, 门头沟, 密云, 怀柔],\n",
       "                         'categoryorder': 'array',\n",
       "                         'domain': [0.0, 1.0],\n",
       "                         'title': {'text': 'Region'}},\n",
       "               'yaxis': {'anchor': 'x', 'domain': [0.0, 1.0], 'title': {'text': 'Number'}}}\n",
       "})"
      ]
     },
     "execution_count": 18,
     "metadata": {},
     "output_type": "execute_result"
    }
   ],
   "source": [
    "px.bar(df_house_number_count,x=\"Region\",y=\"Number\",color=\"Region\",title=\"北京各大区二手房数量对比\")"
   ]
  },
  {
   "cell_type": "code",
   "execution_count": 28,
   "id": "1984bce6",
   "metadata": {},
   "outputs": [
    {
     "ename": "ValueError",
     "evalue": "Mime type rendering requires nbformat>=4.2.0 but it is not installed",
     "output_type": "error",
     "traceback": [
      "\u001b[31m---------------------------------------------------------------------------\u001b[39m",
      "\u001b[31mValueError\u001b[39m                                Traceback (most recent call last)",
      "\u001b[36mFile \u001b[39m\u001b[32mc:\\Users\\57177\\AppData\\Local\\Programs\\Python\\Python312\\Lib\\site-packages\\IPython\\core\\formatters.py:984\u001b[39m, in \u001b[36mIPythonDisplayFormatter.__call__\u001b[39m\u001b[34m(self, obj)\u001b[39m\n\u001b[32m    982\u001b[39m method = get_real_method(obj, \u001b[38;5;28mself\u001b[39m.print_method)\n\u001b[32m    983\u001b[39m \u001b[38;5;28;01mif\u001b[39;00m method \u001b[38;5;129;01mis\u001b[39;00m \u001b[38;5;129;01mnot\u001b[39;00m \u001b[38;5;28;01mNone\u001b[39;00m:\n\u001b[32m--> \u001b[39m\u001b[32m984\u001b[39m     \u001b[43mmethod\u001b[49m\u001b[43m(\u001b[49m\u001b[43m)\u001b[49m\n\u001b[32m    985\u001b[39m     \u001b[38;5;28;01mreturn\u001b[39;00m \u001b[38;5;28;01mTrue\u001b[39;00m\n",
      "\u001b[36mFile \u001b[39m\u001b[32mc:\\Users\\57177\\AppData\\Local\\Programs\\Python\\Python312\\Lib\\site-packages\\plotly\\basedatatypes.py:833\u001b[39m, in \u001b[36mBaseFigure._ipython_display_\u001b[39m\u001b[34m(self)\u001b[39m\n\u001b[32m    830\u001b[39m \u001b[38;5;28;01mimport\u001b[39;00m \u001b[34;01mplotly\u001b[39;00m\u001b[34;01m.\u001b[39;00m\u001b[34;01mio\u001b[39;00m \u001b[38;5;28;01mas\u001b[39;00m \u001b[34;01mpio\u001b[39;00m\n\u001b[32m    832\u001b[39m \u001b[38;5;28;01mif\u001b[39;00m pio.renderers.render_on_display \u001b[38;5;129;01mand\u001b[39;00m pio.renderers.default:\n\u001b[32m--> \u001b[39m\u001b[32m833\u001b[39m     \u001b[43mpio\u001b[49m\u001b[43m.\u001b[49m\u001b[43mshow\u001b[49m\u001b[43m(\u001b[49m\u001b[38;5;28;43mself\u001b[39;49m\u001b[43m)\u001b[49m\n\u001b[32m    834\u001b[39m \u001b[38;5;28;01melse\u001b[39;00m:\n\u001b[32m    835\u001b[39m     \u001b[38;5;28mprint\u001b[39m(\u001b[38;5;28mrepr\u001b[39m(\u001b[38;5;28mself\u001b[39m))\n",
      "\u001b[36mFile \u001b[39m\u001b[32mc:\\Users\\57177\\AppData\\Local\\Programs\\Python\\Python312\\Lib\\site-packages\\plotly\\io\\_renderers.py:425\u001b[39m, in \u001b[36mshow\u001b[39m\u001b[34m(fig, renderer, validate, **kwargs)\u001b[39m\n\u001b[32m    420\u001b[39m     \u001b[38;5;28;01mraise\u001b[39;00m \u001b[38;5;167;01mValueError\u001b[39;00m(\n\u001b[32m    421\u001b[39m         \u001b[33m\"\u001b[39m\u001b[33mMime type rendering requires ipython but it is not installed\u001b[39m\u001b[33m\"\u001b[39m\n\u001b[32m    422\u001b[39m     )\n\u001b[32m    424\u001b[39m \u001b[38;5;28;01mif\u001b[39;00m \u001b[38;5;129;01mnot\u001b[39;00m nbformat \u001b[38;5;129;01mor\u001b[39;00m Version(nbformat.__version__) < Version(\u001b[33m\"\u001b[39m\u001b[33m4.2.0\u001b[39m\u001b[33m\"\u001b[39m):\n\u001b[32m--> \u001b[39m\u001b[32m425\u001b[39m     \u001b[38;5;28;01mraise\u001b[39;00m \u001b[38;5;167;01mValueError\u001b[39;00m(\n\u001b[32m    426\u001b[39m         \u001b[33m\"\u001b[39m\u001b[33mMime type rendering requires nbformat>=4.2.0 but it is not installed\u001b[39m\u001b[33m\"\u001b[39m\n\u001b[32m    427\u001b[39m     )\n\u001b[32m    429\u001b[39m display_jupyter_version_warnings()\n\u001b[32m    431\u001b[39m ipython_display.display(bundle, raw=\u001b[38;5;28;01mTrue\u001b[39;00m)\n",
      "\u001b[31mValueError\u001b[39m: Mime type rendering requires nbformat>=4.2.0 but it is not installed"
     ]
    },
    {
     "data": {
      "application/vnd.plotly.v1+json": {
       "config": {
        "plotlyServerURL": "https://plot.ly"
       },
       "data": [
        {
         "hovertemplate": "Region=%{x}<br>PerPrice=%{y}<extra></extra>",
         "legendgroup": "西城",
         "marker": {
          "color": "#636efa",
          "pattern": {
           "shape": ""
          }
         },
         "name": "西城",
         "orientation": "v",
         "showlegend": true,
         "textposition": "auto",
         "type": "bar",
         "x": [
          "西城"
         ],
         "xaxis": "x",
         "y": {
          "bdata": "DQD6/B+A+0A=",
          "dtype": "f8"
         },
         "yaxis": "y"
        },
        {
         "hovertemplate": "Region=%{x}<br>PerPrice=%{y}<extra></extra>",
         "legendgroup": "东城",
         "marker": {
          "color": "#EF553B",
          "pattern": {
           "shape": ""
          }
         },
         "name": "东城",
         "orientation": "v",
         "showlegend": true,
         "textposition": "auto",
         "type": "bar",
         "x": [
          "东城"
         ],
         "xaxis": "x",
         "y": {
          "bdata": "2UpmROqC90A=",
          "dtype": "f8"
         },
         "yaxis": "y"
        },
        {
         "hovertemplate": "Region=%{x}<br>PerPrice=%{y}<extra></extra>",
         "legendgroup": "海淀",
         "marker": {
          "color": "#00cc96",
          "pattern": {
           "shape": ""
          }
         },
         "name": "海淀",
         "orientation": "v",
         "showlegend": true,
         "textposition": "auto",
         "type": "bar",
         "x": [
          "海淀"
         ],
         "xaxis": "x",
         "y": {
          "bdata": "Qkj5xBlf9EA=",
          "dtype": "f8"
         },
         "yaxis": "y"
        },
        {
         "hovertemplate": "Region=%{x}<br>PerPrice=%{y}<extra></extra>",
         "legendgroup": "朝阳",
         "marker": {
          "color": "#ab63fa",
          "pattern": {
           "shape": ""
          }
         },
         "name": "朝阳",
         "orientation": "v",
         "showlegend": true,
         "textposition": "auto",
         "type": "bar",
         "x": [
          "朝阳"
         ],
         "xaxis": "x",
         "y": {
          "bdata": "B9kSre2p7EA=",
          "dtype": "f8"
         },
         "yaxis": "y"
        },
        {
         "hovertemplate": "Region=%{x}<br>PerPrice=%{y}<extra></extra>",
         "legendgroup": "亦庄开发区",
         "marker": {
          "color": "#FFA15A",
          "pattern": {
           "shape": ""
          }
         },
         "name": "亦庄开发区",
         "orientation": "v",
         "showlegend": true,
         "textposition": "auto",
         "type": "bar",
         "x": [
          "亦庄开发区"
         ],
         "xaxis": "x",
         "y": {
          "bdata": "Y59biNGs6UA=",
          "dtype": "f8"
         },
         "yaxis": "y"
        },
        {
         "hovertemplate": "Region=%{x}<br>PerPrice=%{y}<extra></extra>",
         "legendgroup": "丰台",
         "marker": {
          "color": "#19d3f3",
          "pattern": {
           "shape": ""
          }
         },
         "name": "丰台",
         "orientation": "v",
         "showlegend": true,
         "textposition": "auto",
         "type": "bar",
         "x": [
          "丰台"
         ],
         "xaxis": "x",
         "y": {
          "bdata": "qWaqTDHd6EA=",
          "dtype": "f8"
         },
         "yaxis": "y"
        },
        {
         "hovertemplate": "Region=%{x}<br>PerPrice=%{y}<extra></extra>",
         "legendgroup": "石景山",
         "marker": {
          "color": "#FF6692",
          "pattern": {
           "shape": ""
          }
         },
         "name": "石景山",
         "orientation": "v",
         "showlegend": true,
         "textposition": "auto",
         "type": "bar",
         "x": [
          "石景山"
         ],
         "xaxis": "x",
         "y": {
          "bdata": "30XoIL9N5UA=",
          "dtype": "f8"
         },
         "yaxis": "y"
        },
        {
         "hovertemplate": "Region=%{x}<br>PerPrice=%{y}<extra></extra>",
         "legendgroup": "昌平",
         "marker": {
          "color": "#B6E880",
          "pattern": {
           "shape": ""
          }
         },
         "name": "昌平",
         "orientation": "v",
         "showlegend": true,
         "textposition": "auto",
         "type": "bar",
         "x": [
          "昌平"
         ],
         "xaxis": "x",
         "y": {
          "bdata": "WP3bg4Nu5EA=",
          "dtype": "f8"
         },
         "yaxis": "y"
        },
        {
         "hovertemplate": "Region=%{x}<br>PerPrice=%{y}<extra></extra>",
         "legendgroup": "门头沟",
         "marker": {
          "color": "#FF97FF",
          "pattern": {
           "shape": ""
          }
         },
         "name": "门头沟",
         "orientation": "v",
         "showlegend": true,
         "textposition": "auto",
         "type": "bar",
         "x": [
          "门头沟"
         ],
         "xaxis": "x",
         "y": {
          "bdata": "mWV3yeJT4kA=",
          "dtype": "f8"
         },
         "yaxis": "y"
        },
        {
         "hovertemplate": "Region=%{x}<br>PerPrice=%{y}<extra></extra>",
         "legendgroup": "通州",
         "marker": {
          "color": "#FECB52",
          "pattern": {
           "shape": ""
          }
         },
         "name": "通州",
         "orientation": "v",
         "showlegend": true,
         "textposition": "auto",
         "type": "bar",
         "x": [
          "通州"
         ],
         "xaxis": "x",
         "y": {
          "bdata": "MtQSZjB/4UA=",
          "dtype": "f8"
         },
         "yaxis": "y"
        },
        {
         "hovertemplate": "Region=%{x}<br>PerPrice=%{y}<extra></extra>",
         "legendgroup": "大兴",
         "marker": {
          "color": "#636efa",
          "pattern": {
           "shape": ""
          }
         },
         "name": "大兴",
         "orientation": "v",
         "showlegend": true,
         "textposition": "auto",
         "type": "bar",
         "x": [
          "大兴"
         ],
         "xaxis": "x",
         "y": {
          "bdata": "eiMKyBun4EA=",
          "dtype": "f8"
         },
         "yaxis": "y"
        },
        {
         "hovertemplate": "Region=%{x}<br>PerPrice=%{y}<extra></extra>",
         "legendgroup": "顺义",
         "marker": {
          "color": "#EF553B",
          "pattern": {
           "shape": ""
          }
         },
         "name": "顺义",
         "orientation": "v",
         "showlegend": true,
         "textposition": "auto",
         "type": "bar",
         "x": [
          "顺义"
         ],
         "xaxis": "x",
         "y": {
          "bdata": "/Y/piYqi30A=",
          "dtype": "f8"
         },
         "yaxis": "y"
        },
        {
         "hovertemplate": "Region=%{x}<br>PerPrice=%{y}<extra></extra>",
         "legendgroup": "房山",
         "marker": {
          "color": "#00cc96",
          "pattern": {
           "shape": ""
          }
         },
         "name": "房山",
         "orientation": "v",
         "showlegend": true,
         "textposition": "auto",
         "type": "bar",
         "x": [
          "房山"
         ],
         "xaxis": "x",
         "y": {
          "bdata": "Tyi+TQa720A=",
          "dtype": "f8"
         },
         "yaxis": "y"
        },
        {
         "hovertemplate": "Region=%{x}<br>PerPrice=%{y}<extra></extra>",
         "legendgroup": "怀柔",
         "marker": {
          "color": "#ab63fa",
          "pattern": {
           "shape": ""
          }
         },
         "name": "怀柔",
         "orientation": "v",
         "showlegend": true,
         "textposition": "auto",
         "type": "bar",
         "x": [
          "怀柔"
         ],
         "xaxis": "x",
         "y": {
          "bdata": "5s9Wq9BW1kA=",
          "dtype": "f8"
         },
         "yaxis": "y"
        },
        {
         "hovertemplate": "Region=%{x}<br>PerPrice=%{y}<extra></extra>",
         "legendgroup": "密云",
         "marker": {
          "color": "#FFA15A",
          "pattern": {
           "shape": ""
          }
         },
         "name": "密云",
         "orientation": "v",
         "showlegend": true,
         "textposition": "auto",
         "type": "bar",
         "x": [
          "密云"
         ],
         "xaxis": "x",
         "y": {
          "bdata": "ARQ8jslMykA=",
          "dtype": "f8"
         },
         "yaxis": "y"
        }
       ],
       "layout": {
        "barmode": "relative",
        "height": 600,
        "legend": {
         "title": {
          "text": "Region"
         },
         "tracegroupgap": 0
        },
        "template": {
         "data": {
          "bar": [
           {
            "error_x": {
             "color": "#2a3f5f"
            },
            "error_y": {
             "color": "#2a3f5f"
            },
            "marker": {
             "line": {
              "color": "#E5ECF6",
              "width": 0.5
             },
             "pattern": {
              "fillmode": "overlay",
              "size": 10,
              "solidity": 0.2
             }
            },
            "type": "bar"
           }
          ],
          "barpolar": [
           {
            "marker": {
             "line": {
              "color": "#E5ECF6",
              "width": 0.5
             },
             "pattern": {
              "fillmode": "overlay",
              "size": 10,
              "solidity": 0.2
             }
            },
            "type": "barpolar"
           }
          ],
          "carpet": [
           {
            "aaxis": {
             "endlinecolor": "#2a3f5f",
             "gridcolor": "white",
             "linecolor": "white",
             "minorgridcolor": "white",
             "startlinecolor": "#2a3f5f"
            },
            "baxis": {
             "endlinecolor": "#2a3f5f",
             "gridcolor": "white",
             "linecolor": "white",
             "minorgridcolor": "white",
             "startlinecolor": "#2a3f5f"
            },
            "type": "carpet"
           }
          ],
          "choropleth": [
           {
            "colorbar": {
             "outlinewidth": 0,
             "ticks": ""
            },
            "type": "choropleth"
           }
          ],
          "contour": [
           {
            "colorbar": {
             "outlinewidth": 0,
             "ticks": ""
            },
            "colorscale": [
             [
              0,
              "#0d0887"
             ],
             [
              0.1111111111111111,
              "#46039f"
             ],
             [
              0.2222222222222222,
              "#7201a8"
             ],
             [
              0.3333333333333333,
              "#9c179e"
             ],
             [
              0.4444444444444444,
              "#bd3786"
             ],
             [
              0.5555555555555556,
              "#d8576b"
             ],
             [
              0.6666666666666666,
              "#ed7953"
             ],
             [
              0.7777777777777778,
              "#fb9f3a"
             ],
             [
              0.8888888888888888,
              "#fdca26"
             ],
             [
              1,
              "#f0f921"
             ]
            ],
            "type": "contour"
           }
          ],
          "contourcarpet": [
           {
            "colorbar": {
             "outlinewidth": 0,
             "ticks": ""
            },
            "type": "contourcarpet"
           }
          ],
          "heatmap": [
           {
            "colorbar": {
             "outlinewidth": 0,
             "ticks": ""
            },
            "colorscale": [
             [
              0,
              "#0d0887"
             ],
             [
              0.1111111111111111,
              "#46039f"
             ],
             [
              0.2222222222222222,
              "#7201a8"
             ],
             [
              0.3333333333333333,
              "#9c179e"
             ],
             [
              0.4444444444444444,
              "#bd3786"
             ],
             [
              0.5555555555555556,
              "#d8576b"
             ],
             [
              0.6666666666666666,
              "#ed7953"
             ],
             [
              0.7777777777777778,
              "#fb9f3a"
             ],
             [
              0.8888888888888888,
              "#fdca26"
             ],
             [
              1,
              "#f0f921"
             ]
            ],
            "type": "heatmap"
           }
          ],
          "histogram": [
           {
            "marker": {
             "pattern": {
              "fillmode": "overlay",
              "size": 10,
              "solidity": 0.2
             }
            },
            "type": "histogram"
           }
          ],
          "histogram2d": [
           {
            "colorbar": {
             "outlinewidth": 0,
             "ticks": ""
            },
            "colorscale": [
             [
              0,
              "#0d0887"
             ],
             [
              0.1111111111111111,
              "#46039f"
             ],
             [
              0.2222222222222222,
              "#7201a8"
             ],
             [
              0.3333333333333333,
              "#9c179e"
             ],
             [
              0.4444444444444444,
              "#bd3786"
             ],
             [
              0.5555555555555556,
              "#d8576b"
             ],
             [
              0.6666666666666666,
              "#ed7953"
             ],
             [
              0.7777777777777778,
              "#fb9f3a"
             ],
             [
              0.8888888888888888,
              "#fdca26"
             ],
             [
              1,
              "#f0f921"
             ]
            ],
            "type": "histogram2d"
           }
          ],
          "histogram2dcontour": [
           {
            "colorbar": {
             "outlinewidth": 0,
             "ticks": ""
            },
            "colorscale": [
             [
              0,
              "#0d0887"
             ],
             [
              0.1111111111111111,
              "#46039f"
             ],
             [
              0.2222222222222222,
              "#7201a8"
             ],
             [
              0.3333333333333333,
              "#9c179e"
             ],
             [
              0.4444444444444444,
              "#bd3786"
             ],
             [
              0.5555555555555556,
              "#d8576b"
             ],
             [
              0.6666666666666666,
              "#ed7953"
             ],
             [
              0.7777777777777778,
              "#fb9f3a"
             ],
             [
              0.8888888888888888,
              "#fdca26"
             ],
             [
              1,
              "#f0f921"
             ]
            ],
            "type": "histogram2dcontour"
           }
          ],
          "mesh3d": [
           {
            "colorbar": {
             "outlinewidth": 0,
             "ticks": ""
            },
            "type": "mesh3d"
           }
          ],
          "parcoords": [
           {
            "line": {
             "colorbar": {
              "outlinewidth": 0,
              "ticks": ""
             }
            },
            "type": "parcoords"
           }
          ],
          "pie": [
           {
            "automargin": true,
            "type": "pie"
           }
          ],
          "scatter": [
           {
            "fillpattern": {
             "fillmode": "overlay",
             "size": 10,
             "solidity": 0.2
            },
            "type": "scatter"
           }
          ],
          "scatter3d": [
           {
            "line": {
             "colorbar": {
              "outlinewidth": 0,
              "ticks": ""
             }
            },
            "marker": {
             "colorbar": {
              "outlinewidth": 0,
              "ticks": ""
             }
            },
            "type": "scatter3d"
           }
          ],
          "scattercarpet": [
           {
            "marker": {
             "colorbar": {
              "outlinewidth": 0,
              "ticks": ""
             }
            },
            "type": "scattercarpet"
           }
          ],
          "scattergeo": [
           {
            "marker": {
             "colorbar": {
              "outlinewidth": 0,
              "ticks": ""
             }
            },
            "type": "scattergeo"
           }
          ],
          "scattergl": [
           {
            "marker": {
             "colorbar": {
              "outlinewidth": 0,
              "ticks": ""
             }
            },
            "type": "scattergl"
           }
          ],
          "scattermap": [
           {
            "marker": {
             "colorbar": {
              "outlinewidth": 0,
              "ticks": ""
             }
            },
            "type": "scattermap"
           }
          ],
          "scattermapbox": [
           {
            "marker": {
             "colorbar": {
              "outlinewidth": 0,
              "ticks": ""
             }
            },
            "type": "scattermapbox"
           }
          ],
          "scatterpolar": [
           {
            "marker": {
             "colorbar": {
              "outlinewidth": 0,
              "ticks": ""
             }
            },
            "type": "scatterpolar"
           }
          ],
          "scatterpolargl": [
           {
            "marker": {
             "colorbar": {
              "outlinewidth": 0,
              "ticks": ""
             }
            },
            "type": "scatterpolargl"
           }
          ],
          "scatterternary": [
           {
            "marker": {
             "colorbar": {
              "outlinewidth": 0,
              "ticks": ""
             }
            },
            "type": "scatterternary"
           }
          ],
          "surface": [
           {
            "colorbar": {
             "outlinewidth": 0,
             "ticks": ""
            },
            "colorscale": [
             [
              0,
              "#0d0887"
             ],
             [
              0.1111111111111111,
              "#46039f"
             ],
             [
              0.2222222222222222,
              "#7201a8"
             ],
             [
              0.3333333333333333,
              "#9c179e"
             ],
             [
              0.4444444444444444,
              "#bd3786"
             ],
             [
              0.5555555555555556,
              "#d8576b"
             ],
             [
              0.6666666666666666,
              "#ed7953"
             ],
             [
              0.7777777777777778,
              "#fb9f3a"
             ],
             [
              0.8888888888888888,
              "#fdca26"
             ],
             [
              1,
              "#f0f921"
             ]
            ],
            "type": "surface"
           }
          ],
          "table": [
           {
            "cells": {
             "fill": {
              "color": "#EBF0F8"
             },
             "line": {
              "color": "white"
             }
            },
            "header": {
             "fill": {
              "color": "#C8D4E3"
             },
             "line": {
              "color": "white"
             }
            },
            "type": "table"
           }
          ]
         },
         "layout": {
          "annotationdefaults": {
           "arrowcolor": "#2a3f5f",
           "arrowhead": 0,
           "arrowwidth": 1
          },
          "autotypenumbers": "strict",
          "coloraxis": {
           "colorbar": {
            "outlinewidth": 0,
            "ticks": ""
           }
          },
          "colorscale": {
           "diverging": [
            [
             0,
             "#8e0152"
            ],
            [
             0.1,
             "#c51b7d"
            ],
            [
             0.2,
             "#de77ae"
            ],
            [
             0.3,
             "#f1b6da"
            ],
            [
             0.4,
             "#fde0ef"
            ],
            [
             0.5,
             "#f7f7f7"
            ],
            [
             0.6,
             "#e6f5d0"
            ],
            [
             0.7,
             "#b8e186"
            ],
            [
             0.8,
             "#7fbc41"
            ],
            [
             0.9,
             "#4d9221"
            ],
            [
             1,
             "#276419"
            ]
           ],
           "sequential": [
            [
             0,
             "#0d0887"
            ],
            [
             0.1111111111111111,
             "#46039f"
            ],
            [
             0.2222222222222222,
             "#7201a8"
            ],
            [
             0.3333333333333333,
             "#9c179e"
            ],
            [
             0.4444444444444444,
             "#bd3786"
            ],
            [
             0.5555555555555556,
             "#d8576b"
            ],
            [
             0.6666666666666666,
             "#ed7953"
            ],
            [
             0.7777777777777778,
             "#fb9f3a"
            ],
            [
             0.8888888888888888,
             "#fdca26"
            ],
            [
             1,
             "#f0f921"
            ]
           ],
           "sequentialminus": [
            [
             0,
             "#0d0887"
            ],
            [
             0.1111111111111111,
             "#46039f"
            ],
            [
             0.2222222222222222,
             "#7201a8"
            ],
            [
             0.3333333333333333,
             "#9c179e"
            ],
            [
             0.4444444444444444,
             "#bd3786"
            ],
            [
             0.5555555555555556,
             "#d8576b"
            ],
            [
             0.6666666666666666,
             "#ed7953"
            ],
            [
             0.7777777777777778,
             "#fb9f3a"
            ],
            [
             0.8888888888888888,
             "#fdca26"
            ],
            [
             1,
             "#f0f921"
            ]
           ]
          },
          "colorway": [
           "#636efa",
           "#EF553B",
           "#00cc96",
           "#ab63fa",
           "#FFA15A",
           "#19d3f3",
           "#FF6692",
           "#B6E880",
           "#FF97FF",
           "#FECB52"
          ],
          "font": {
           "color": "#2a3f5f"
          },
          "geo": {
           "bgcolor": "white",
           "lakecolor": "white",
           "landcolor": "#E5ECF6",
           "showlakes": true,
           "showland": true,
           "subunitcolor": "white"
          },
          "hoverlabel": {
           "align": "left"
          },
          "hovermode": "closest",
          "mapbox": {
           "style": "light"
          },
          "paper_bgcolor": "white",
          "plot_bgcolor": "#E5ECF6",
          "polar": {
           "angularaxis": {
            "gridcolor": "white",
            "linecolor": "white",
            "ticks": ""
           },
           "bgcolor": "#E5ECF6",
           "radialaxis": {
            "gridcolor": "white",
            "linecolor": "white",
            "ticks": ""
           }
          },
          "scene": {
           "xaxis": {
            "backgroundcolor": "#E5ECF6",
            "gridcolor": "white",
            "gridwidth": 2,
            "linecolor": "white",
            "showbackground": true,
            "ticks": "",
            "zerolinecolor": "white"
           },
           "yaxis": {
            "backgroundcolor": "#E5ECF6",
            "gridcolor": "white",
            "gridwidth": 2,
            "linecolor": "white",
            "showbackground": true,
            "ticks": "",
            "zerolinecolor": "white"
           },
           "zaxis": {
            "backgroundcolor": "#E5ECF6",
            "gridcolor": "white",
            "gridwidth": 2,
            "linecolor": "white",
            "showbackground": true,
            "ticks": "",
            "zerolinecolor": "white"
           }
          },
          "shapedefaults": {
           "line": {
            "color": "#2a3f5f"
           }
          },
          "ternary": {
           "aaxis": {
            "gridcolor": "white",
            "linecolor": "white",
            "ticks": ""
           },
           "baxis": {
            "gridcolor": "white",
            "linecolor": "white",
            "ticks": ""
           },
           "bgcolor": "#E5ECF6",
           "caxis": {
            "gridcolor": "white",
            "linecolor": "white",
            "ticks": ""
           }
          },
          "title": {
           "x": 0.05
          },
          "xaxis": {
           "automargin": true,
           "gridcolor": "white",
           "linecolor": "white",
           "ticks": "",
           "title": {
            "standoff": 15
           },
           "zerolinecolor": "white",
           "zerolinewidth": 2
          },
          "yaxis": {
           "automargin": true,
           "gridcolor": "white",
           "linecolor": "white",
           "ticks": "",
           "title": {
            "standoff": 15
           },
           "zerolinecolor": "white",
           "zerolinewidth": 2
          }
         }
        },
        "title": {
         "text": "北京各大区二手房每平方价格对比"
        },
        "width": 800,
        "xaxis": {
         "anchor": "y",
         "categoryarray": [
          "西城",
          "东城",
          "海淀",
          "朝阳",
          "亦庄开发区",
          "丰台",
          "石景山",
          "昌平",
          "门头沟",
          "通州",
          "大兴",
          "顺义",
          "房山",
          "怀柔",
          "密云"
         ],
         "categoryorder": "array",
         "domain": [
          0,
          1
         ],
         "title": {
          "text": "Region"
         }
        },
        "yaxis": {
         "anchor": "x",
         "domain": [
          0,
          1
         ],
         "title": {
          "text": "PerPrice"
         }
        }
       }
      },
      "text/html": [
       "<div>                        <script type=\"text/javascript\">window.PlotlyConfig = {MathJaxConfig: 'local'};</script>\n",
       "        <script charset=\"utf-8\" src=\"https://cdn.plot.ly/plotly-3.0.1.min.js\"></script>                <div id=\"9e335bc5-5045-40bb-aa72-dba9992f9d87\" class=\"plotly-graph-div\" style=\"height:600px; width:800px;\"></div>            <script type=\"text/javascript\">                window.PLOTLYENV=window.PLOTLYENV || {};                                if (document.getElementById(\"9e335bc5-5045-40bb-aa72-dba9992f9d87\")) {                    Plotly.newPlot(                        \"9e335bc5-5045-40bb-aa72-dba9992f9d87\",                        [{\"hovertemplate\":\"Region=%{x}\\u003cbr\\u003ePerPrice=%{y}\\u003cextra\\u003e\\u003c\\u002fextra\\u003e\",\"legendgroup\":\"\\u897f\\u57ce\",\"marker\":{\"color\":\"#636efa\",\"pattern\":{\"shape\":\"\"}},\"name\":\"\\u897f\\u57ce\",\"orientation\":\"v\",\"showlegend\":true,\"textposition\":\"auto\",\"x\":[\"\\u897f\\u57ce\"],\"xaxis\":\"x\",\"y\":{\"dtype\":\"f8\",\"bdata\":\"DQD6\\u002fB+A+0A=\"},\"yaxis\":\"y\",\"type\":\"bar\"},{\"hovertemplate\":\"Region=%{x}\\u003cbr\\u003ePerPrice=%{y}\\u003cextra\\u003e\\u003c\\u002fextra\\u003e\",\"legendgroup\":\"\\u4e1c\\u57ce\",\"marker\":{\"color\":\"#EF553B\",\"pattern\":{\"shape\":\"\"}},\"name\":\"\\u4e1c\\u57ce\",\"orientation\":\"v\",\"showlegend\":true,\"textposition\":\"auto\",\"x\":[\"\\u4e1c\\u57ce\"],\"xaxis\":\"x\",\"y\":{\"dtype\":\"f8\",\"bdata\":\"2UpmROqC90A=\"},\"yaxis\":\"y\",\"type\":\"bar\"},{\"hovertemplate\":\"Region=%{x}\\u003cbr\\u003ePerPrice=%{y}\\u003cextra\\u003e\\u003c\\u002fextra\\u003e\",\"legendgroup\":\"\\u6d77\\u6dc0\",\"marker\":{\"color\":\"#00cc96\",\"pattern\":{\"shape\":\"\"}},\"name\":\"\\u6d77\\u6dc0\",\"orientation\":\"v\",\"showlegend\":true,\"textposition\":\"auto\",\"x\":[\"\\u6d77\\u6dc0\"],\"xaxis\":\"x\",\"y\":{\"dtype\":\"f8\",\"bdata\":\"Qkj5xBlf9EA=\"},\"yaxis\":\"y\",\"type\":\"bar\"},{\"hovertemplate\":\"Region=%{x}\\u003cbr\\u003ePerPrice=%{y}\\u003cextra\\u003e\\u003c\\u002fextra\\u003e\",\"legendgroup\":\"\\u671d\\u9633\",\"marker\":{\"color\":\"#ab63fa\",\"pattern\":{\"shape\":\"\"}},\"name\":\"\\u671d\\u9633\",\"orientation\":\"v\",\"showlegend\":true,\"textposition\":\"auto\",\"x\":[\"\\u671d\\u9633\"],\"xaxis\":\"x\",\"y\":{\"dtype\":\"f8\",\"bdata\":\"B9kSre2p7EA=\"},\"yaxis\":\"y\",\"type\":\"bar\"},{\"hovertemplate\":\"Region=%{x}\\u003cbr\\u003ePerPrice=%{y}\\u003cextra\\u003e\\u003c\\u002fextra\\u003e\",\"legendgroup\":\"\\u4ea6\\u5e84\\u5f00\\u53d1\\u533a\",\"marker\":{\"color\":\"#FFA15A\",\"pattern\":{\"shape\":\"\"}},\"name\":\"\\u4ea6\\u5e84\\u5f00\\u53d1\\u533a\",\"orientation\":\"v\",\"showlegend\":true,\"textposition\":\"auto\",\"x\":[\"\\u4ea6\\u5e84\\u5f00\\u53d1\\u533a\"],\"xaxis\":\"x\",\"y\":{\"dtype\":\"f8\",\"bdata\":\"Y59biNGs6UA=\"},\"yaxis\":\"y\",\"type\":\"bar\"},{\"hovertemplate\":\"Region=%{x}\\u003cbr\\u003ePerPrice=%{y}\\u003cextra\\u003e\\u003c\\u002fextra\\u003e\",\"legendgroup\":\"\\u4e30\\u53f0\",\"marker\":{\"color\":\"#19d3f3\",\"pattern\":{\"shape\":\"\"}},\"name\":\"\\u4e30\\u53f0\",\"orientation\":\"v\",\"showlegend\":true,\"textposition\":\"auto\",\"x\":[\"\\u4e30\\u53f0\"],\"xaxis\":\"x\",\"y\":{\"dtype\":\"f8\",\"bdata\":\"qWaqTDHd6EA=\"},\"yaxis\":\"y\",\"type\":\"bar\"},{\"hovertemplate\":\"Region=%{x}\\u003cbr\\u003ePerPrice=%{y}\\u003cextra\\u003e\\u003c\\u002fextra\\u003e\",\"legendgroup\":\"\\u77f3\\u666f\\u5c71\",\"marker\":{\"color\":\"#FF6692\",\"pattern\":{\"shape\":\"\"}},\"name\":\"\\u77f3\\u666f\\u5c71\",\"orientation\":\"v\",\"showlegend\":true,\"textposition\":\"auto\",\"x\":[\"\\u77f3\\u666f\\u5c71\"],\"xaxis\":\"x\",\"y\":{\"dtype\":\"f8\",\"bdata\":\"30XoIL9N5UA=\"},\"yaxis\":\"y\",\"type\":\"bar\"},{\"hovertemplate\":\"Region=%{x}\\u003cbr\\u003ePerPrice=%{y}\\u003cextra\\u003e\\u003c\\u002fextra\\u003e\",\"legendgroup\":\"\\u660c\\u5e73\",\"marker\":{\"color\":\"#B6E880\",\"pattern\":{\"shape\":\"\"}},\"name\":\"\\u660c\\u5e73\",\"orientation\":\"v\",\"showlegend\":true,\"textposition\":\"auto\",\"x\":[\"\\u660c\\u5e73\"],\"xaxis\":\"x\",\"y\":{\"dtype\":\"f8\",\"bdata\":\"WP3bg4Nu5EA=\"},\"yaxis\":\"y\",\"type\":\"bar\"},{\"hovertemplate\":\"Region=%{x}\\u003cbr\\u003ePerPrice=%{y}\\u003cextra\\u003e\\u003c\\u002fextra\\u003e\",\"legendgroup\":\"\\u95e8\\u5934\\u6c9f\",\"marker\":{\"color\":\"#FF97FF\",\"pattern\":{\"shape\":\"\"}},\"name\":\"\\u95e8\\u5934\\u6c9f\",\"orientation\":\"v\",\"showlegend\":true,\"textposition\":\"auto\",\"x\":[\"\\u95e8\\u5934\\u6c9f\"],\"xaxis\":\"x\",\"y\":{\"dtype\":\"f8\",\"bdata\":\"mWV3yeJT4kA=\"},\"yaxis\":\"y\",\"type\":\"bar\"},{\"hovertemplate\":\"Region=%{x}\\u003cbr\\u003ePerPrice=%{y}\\u003cextra\\u003e\\u003c\\u002fextra\\u003e\",\"legendgroup\":\"\\u901a\\u5dde\",\"marker\":{\"color\":\"#FECB52\",\"pattern\":{\"shape\":\"\"}},\"name\":\"\\u901a\\u5dde\",\"orientation\":\"v\",\"showlegend\":true,\"textposition\":\"auto\",\"x\":[\"\\u901a\\u5dde\"],\"xaxis\":\"x\",\"y\":{\"dtype\":\"f8\",\"bdata\":\"MtQSZjB\\u002f4UA=\"},\"yaxis\":\"y\",\"type\":\"bar\"},{\"hovertemplate\":\"Region=%{x}\\u003cbr\\u003ePerPrice=%{y}\\u003cextra\\u003e\\u003c\\u002fextra\\u003e\",\"legendgroup\":\"\\u5927\\u5174\",\"marker\":{\"color\":\"#636efa\",\"pattern\":{\"shape\":\"\"}},\"name\":\"\\u5927\\u5174\",\"orientation\":\"v\",\"showlegend\":true,\"textposition\":\"auto\",\"x\":[\"\\u5927\\u5174\"],\"xaxis\":\"x\",\"y\":{\"dtype\":\"f8\",\"bdata\":\"eiMKyBun4EA=\"},\"yaxis\":\"y\",\"type\":\"bar\"},{\"hovertemplate\":\"Region=%{x}\\u003cbr\\u003ePerPrice=%{y}\\u003cextra\\u003e\\u003c\\u002fextra\\u003e\",\"legendgroup\":\"\\u987a\\u4e49\",\"marker\":{\"color\":\"#EF553B\",\"pattern\":{\"shape\":\"\"}},\"name\":\"\\u987a\\u4e49\",\"orientation\":\"v\",\"showlegend\":true,\"textposition\":\"auto\",\"x\":[\"\\u987a\\u4e49\"],\"xaxis\":\"x\",\"y\":{\"dtype\":\"f8\",\"bdata\":\"\\u002fY\\u002fpiYqi30A=\"},\"yaxis\":\"y\",\"type\":\"bar\"},{\"hovertemplate\":\"Region=%{x}\\u003cbr\\u003ePerPrice=%{y}\\u003cextra\\u003e\\u003c\\u002fextra\\u003e\",\"legendgroup\":\"\\u623f\\u5c71\",\"marker\":{\"color\":\"#00cc96\",\"pattern\":{\"shape\":\"\"}},\"name\":\"\\u623f\\u5c71\",\"orientation\":\"v\",\"showlegend\":true,\"textposition\":\"auto\",\"x\":[\"\\u623f\\u5c71\"],\"xaxis\":\"x\",\"y\":{\"dtype\":\"f8\",\"bdata\":\"Tyi+TQa720A=\"},\"yaxis\":\"y\",\"type\":\"bar\"},{\"hovertemplate\":\"Region=%{x}\\u003cbr\\u003ePerPrice=%{y}\\u003cextra\\u003e\\u003c\\u002fextra\\u003e\",\"legendgroup\":\"\\u6000\\u67d4\",\"marker\":{\"color\":\"#ab63fa\",\"pattern\":{\"shape\":\"\"}},\"name\":\"\\u6000\\u67d4\",\"orientation\":\"v\",\"showlegend\":true,\"textposition\":\"auto\",\"x\":[\"\\u6000\\u67d4\"],\"xaxis\":\"x\",\"y\":{\"dtype\":\"f8\",\"bdata\":\"5s9Wq9BW1kA=\"},\"yaxis\":\"y\",\"type\":\"bar\"},{\"hovertemplate\":\"Region=%{x}\\u003cbr\\u003ePerPrice=%{y}\\u003cextra\\u003e\\u003c\\u002fextra\\u003e\",\"legendgroup\":\"\\u5bc6\\u4e91\",\"marker\":{\"color\":\"#FFA15A\",\"pattern\":{\"shape\":\"\"}},\"name\":\"\\u5bc6\\u4e91\",\"orientation\":\"v\",\"showlegend\":true,\"textposition\":\"auto\",\"x\":[\"\\u5bc6\\u4e91\"],\"xaxis\":\"x\",\"y\":{\"dtype\":\"f8\",\"bdata\":\"ARQ8jslMykA=\"},\"yaxis\":\"y\",\"type\":\"bar\"}],                        {\"template\":{\"data\":{\"histogram2dcontour\":[{\"type\":\"histogram2dcontour\",\"colorbar\":{\"outlinewidth\":0,\"ticks\":\"\"},\"colorscale\":[[0.0,\"#0d0887\"],[0.1111111111111111,\"#46039f\"],[0.2222222222222222,\"#7201a8\"],[0.3333333333333333,\"#9c179e\"],[0.4444444444444444,\"#bd3786\"],[0.5555555555555556,\"#d8576b\"],[0.6666666666666666,\"#ed7953\"],[0.7777777777777778,\"#fb9f3a\"],[0.8888888888888888,\"#fdca26\"],[1.0,\"#f0f921\"]]}],\"choropleth\":[{\"type\":\"choropleth\",\"colorbar\":{\"outlinewidth\":0,\"ticks\":\"\"}}],\"histogram2d\":[{\"type\":\"histogram2d\",\"colorbar\":{\"outlinewidth\":0,\"ticks\":\"\"},\"colorscale\":[[0.0,\"#0d0887\"],[0.1111111111111111,\"#46039f\"],[0.2222222222222222,\"#7201a8\"],[0.3333333333333333,\"#9c179e\"],[0.4444444444444444,\"#bd3786\"],[0.5555555555555556,\"#d8576b\"],[0.6666666666666666,\"#ed7953\"],[0.7777777777777778,\"#fb9f3a\"],[0.8888888888888888,\"#fdca26\"],[1.0,\"#f0f921\"]]}],\"heatmap\":[{\"type\":\"heatmap\",\"colorbar\":{\"outlinewidth\":0,\"ticks\":\"\"},\"colorscale\":[[0.0,\"#0d0887\"],[0.1111111111111111,\"#46039f\"],[0.2222222222222222,\"#7201a8\"],[0.3333333333333333,\"#9c179e\"],[0.4444444444444444,\"#bd3786\"],[0.5555555555555556,\"#d8576b\"],[0.6666666666666666,\"#ed7953\"],[0.7777777777777778,\"#fb9f3a\"],[0.8888888888888888,\"#fdca26\"],[1.0,\"#f0f921\"]]}],\"contourcarpet\":[{\"type\":\"contourcarpet\",\"colorbar\":{\"outlinewidth\":0,\"ticks\":\"\"}}],\"contour\":[{\"type\":\"contour\",\"colorbar\":{\"outlinewidth\":0,\"ticks\":\"\"},\"colorscale\":[[0.0,\"#0d0887\"],[0.1111111111111111,\"#46039f\"],[0.2222222222222222,\"#7201a8\"],[0.3333333333333333,\"#9c179e\"],[0.4444444444444444,\"#bd3786\"],[0.5555555555555556,\"#d8576b\"],[0.6666666666666666,\"#ed7953\"],[0.7777777777777778,\"#fb9f3a\"],[0.8888888888888888,\"#fdca26\"],[1.0,\"#f0f921\"]]}],\"surface\":[{\"type\":\"surface\",\"colorbar\":{\"outlinewidth\":0,\"ticks\":\"\"},\"colorscale\":[[0.0,\"#0d0887\"],[0.1111111111111111,\"#46039f\"],[0.2222222222222222,\"#7201a8\"],[0.3333333333333333,\"#9c179e\"],[0.4444444444444444,\"#bd3786\"],[0.5555555555555556,\"#d8576b\"],[0.6666666666666666,\"#ed7953\"],[0.7777777777777778,\"#fb9f3a\"],[0.8888888888888888,\"#fdca26\"],[1.0,\"#f0f921\"]]}],\"mesh3d\":[{\"type\":\"mesh3d\",\"colorbar\":{\"outlinewidth\":0,\"ticks\":\"\"}}],\"scatter\":[{\"fillpattern\":{\"fillmode\":\"overlay\",\"size\":10,\"solidity\":0.2},\"type\":\"scatter\"}],\"parcoords\":[{\"type\":\"parcoords\",\"line\":{\"colorbar\":{\"outlinewidth\":0,\"ticks\":\"\"}}}],\"scatterpolargl\":[{\"type\":\"scatterpolargl\",\"marker\":{\"colorbar\":{\"outlinewidth\":0,\"ticks\":\"\"}}}],\"bar\":[{\"error_x\":{\"color\":\"#2a3f5f\"},\"error_y\":{\"color\":\"#2a3f5f\"},\"marker\":{\"line\":{\"color\":\"#E5ECF6\",\"width\":0.5},\"pattern\":{\"fillmode\":\"overlay\",\"size\":10,\"solidity\":0.2}},\"type\":\"bar\"}],\"scattergeo\":[{\"type\":\"scattergeo\",\"marker\":{\"colorbar\":{\"outlinewidth\":0,\"ticks\":\"\"}}}],\"scatterpolar\":[{\"type\":\"scatterpolar\",\"marker\":{\"colorbar\":{\"outlinewidth\":0,\"ticks\":\"\"}}}],\"histogram\":[{\"marker\":{\"pattern\":{\"fillmode\":\"overlay\",\"size\":10,\"solidity\":0.2}},\"type\":\"histogram\"}],\"scattergl\":[{\"type\":\"scattergl\",\"marker\":{\"colorbar\":{\"outlinewidth\":0,\"ticks\":\"\"}}}],\"scatter3d\":[{\"type\":\"scatter3d\",\"line\":{\"colorbar\":{\"outlinewidth\":0,\"ticks\":\"\"}},\"marker\":{\"colorbar\":{\"outlinewidth\":0,\"ticks\":\"\"}}}],\"scattermap\":[{\"type\":\"scattermap\",\"marker\":{\"colorbar\":{\"outlinewidth\":0,\"ticks\":\"\"}}}],\"scattermapbox\":[{\"type\":\"scattermapbox\",\"marker\":{\"colorbar\":{\"outlinewidth\":0,\"ticks\":\"\"}}}],\"scatterternary\":[{\"type\":\"scatterternary\",\"marker\":{\"colorbar\":{\"outlinewidth\":0,\"ticks\":\"\"}}}],\"scattercarpet\":[{\"type\":\"scattercarpet\",\"marker\":{\"colorbar\":{\"outlinewidth\":0,\"ticks\":\"\"}}}],\"carpet\":[{\"aaxis\":{\"endlinecolor\":\"#2a3f5f\",\"gridcolor\":\"white\",\"linecolor\":\"white\",\"minorgridcolor\":\"white\",\"startlinecolor\":\"#2a3f5f\"},\"baxis\":{\"endlinecolor\":\"#2a3f5f\",\"gridcolor\":\"white\",\"linecolor\":\"white\",\"minorgridcolor\":\"white\",\"startlinecolor\":\"#2a3f5f\"},\"type\":\"carpet\"}],\"table\":[{\"cells\":{\"fill\":{\"color\":\"#EBF0F8\"},\"line\":{\"color\":\"white\"}},\"header\":{\"fill\":{\"color\":\"#C8D4E3\"},\"line\":{\"color\":\"white\"}},\"type\":\"table\"}],\"barpolar\":[{\"marker\":{\"line\":{\"color\":\"#E5ECF6\",\"width\":0.5},\"pattern\":{\"fillmode\":\"overlay\",\"size\":10,\"solidity\":0.2}},\"type\":\"barpolar\"}],\"pie\":[{\"automargin\":true,\"type\":\"pie\"}]},\"layout\":{\"autotypenumbers\":\"strict\",\"colorway\":[\"#636efa\",\"#EF553B\",\"#00cc96\",\"#ab63fa\",\"#FFA15A\",\"#19d3f3\",\"#FF6692\",\"#B6E880\",\"#FF97FF\",\"#FECB52\"],\"font\":{\"color\":\"#2a3f5f\"},\"hovermode\":\"closest\",\"hoverlabel\":{\"align\":\"left\"},\"paper_bgcolor\":\"white\",\"plot_bgcolor\":\"#E5ECF6\",\"polar\":{\"bgcolor\":\"#E5ECF6\",\"angularaxis\":{\"gridcolor\":\"white\",\"linecolor\":\"white\",\"ticks\":\"\"},\"radialaxis\":{\"gridcolor\":\"white\",\"linecolor\":\"white\",\"ticks\":\"\"}},\"ternary\":{\"bgcolor\":\"#E5ECF6\",\"aaxis\":{\"gridcolor\":\"white\",\"linecolor\":\"white\",\"ticks\":\"\"},\"baxis\":{\"gridcolor\":\"white\",\"linecolor\":\"white\",\"ticks\":\"\"},\"caxis\":{\"gridcolor\":\"white\",\"linecolor\":\"white\",\"ticks\":\"\"}},\"coloraxis\":{\"colorbar\":{\"outlinewidth\":0,\"ticks\":\"\"}},\"colorscale\":{\"sequential\":[[0.0,\"#0d0887\"],[0.1111111111111111,\"#46039f\"],[0.2222222222222222,\"#7201a8\"],[0.3333333333333333,\"#9c179e\"],[0.4444444444444444,\"#bd3786\"],[0.5555555555555556,\"#d8576b\"],[0.6666666666666666,\"#ed7953\"],[0.7777777777777778,\"#fb9f3a\"],[0.8888888888888888,\"#fdca26\"],[1.0,\"#f0f921\"]],\"sequentialminus\":[[0.0,\"#0d0887\"],[0.1111111111111111,\"#46039f\"],[0.2222222222222222,\"#7201a8\"],[0.3333333333333333,\"#9c179e\"],[0.4444444444444444,\"#bd3786\"],[0.5555555555555556,\"#d8576b\"],[0.6666666666666666,\"#ed7953\"],[0.7777777777777778,\"#fb9f3a\"],[0.8888888888888888,\"#fdca26\"],[1.0,\"#f0f921\"]],\"diverging\":[[0,\"#8e0152\"],[0.1,\"#c51b7d\"],[0.2,\"#de77ae\"],[0.3,\"#f1b6da\"],[0.4,\"#fde0ef\"],[0.5,\"#f7f7f7\"],[0.6,\"#e6f5d0\"],[0.7,\"#b8e186\"],[0.8,\"#7fbc41\"],[0.9,\"#4d9221\"],[1,\"#276419\"]]},\"xaxis\":{\"gridcolor\":\"white\",\"linecolor\":\"white\",\"ticks\":\"\",\"title\":{\"standoff\":15},\"zerolinecolor\":\"white\",\"automargin\":true,\"zerolinewidth\":2},\"yaxis\":{\"gridcolor\":\"white\",\"linecolor\":\"white\",\"ticks\":\"\",\"title\":{\"standoff\":15},\"zerolinecolor\":\"white\",\"automargin\":true,\"zerolinewidth\":2},\"scene\":{\"xaxis\":{\"backgroundcolor\":\"#E5ECF6\",\"gridcolor\":\"white\",\"linecolor\":\"white\",\"showbackground\":true,\"ticks\":\"\",\"zerolinecolor\":\"white\",\"gridwidth\":2},\"yaxis\":{\"backgroundcolor\":\"#E5ECF6\",\"gridcolor\":\"white\",\"linecolor\":\"white\",\"showbackground\":true,\"ticks\":\"\",\"zerolinecolor\":\"white\",\"gridwidth\":2},\"zaxis\":{\"backgroundcolor\":\"#E5ECF6\",\"gridcolor\":\"white\",\"linecolor\":\"white\",\"showbackground\":true,\"ticks\":\"\",\"zerolinecolor\":\"white\",\"gridwidth\":2}},\"shapedefaults\":{\"line\":{\"color\":\"#2a3f5f\"}},\"annotationdefaults\":{\"arrowcolor\":\"#2a3f5f\",\"arrowhead\":0,\"arrowwidth\":1},\"geo\":{\"bgcolor\":\"white\",\"landcolor\":\"#E5ECF6\",\"subunitcolor\":\"white\",\"showland\":true,\"showlakes\":true,\"lakecolor\":\"white\"},\"title\":{\"x\":0.05},\"mapbox\":{\"style\":\"light\"}}},\"xaxis\":{\"anchor\":\"y\",\"domain\":[0.0,1.0],\"title\":{\"text\":\"Region\"},\"categoryorder\":\"array\",\"categoryarray\":[\"\\u897f\\u57ce\",\"\\u4e1c\\u57ce\",\"\\u6d77\\u6dc0\",\"\\u671d\\u9633\",\"\\u4ea6\\u5e84\\u5f00\\u53d1\\u533a\",\"\\u4e30\\u53f0\",\"\\u77f3\\u666f\\u5c71\",\"\\u660c\\u5e73\",\"\\u95e8\\u5934\\u6c9f\",\"\\u901a\\u5dde\",\"\\u5927\\u5174\",\"\\u987a\\u4e49\",\"\\u623f\\u5c71\",\"\\u6000\\u67d4\",\"\\u5bc6\\u4e91\"]},\"yaxis\":{\"anchor\":\"x\",\"domain\":[0.0,1.0],\"title\":{\"text\":\"PerPrice\"}},\"legend\":{\"title\":{\"text\":\"Region\"},\"tracegroupgap\":0},\"title\":{\"text\":\"\\u5317\\u4eac\\u5404\\u5927\\u533a\\u4e8c\\u624b\\u623f\\u6bcf\\u5e73\\u65b9\\u4ef7\\u683c\\u5bf9\\u6bd4\"},\"barmode\":\"relative\",\"height\":600,\"width\":800},                        {\"responsive\": true}                    )                };            </script>        </div>"
      ],
      "text/plain": [
       "Figure({\n",
       "    'data': [{'hovertemplate': 'Region=%{x}<br>PerPrice=%{y}<extra></extra>',\n",
       "              'legendgroup': '西城',\n",
       "              'marker': {'color': '#636efa', 'pattern': {'shape': ''}},\n",
       "              'name': '西城',\n",
       "              'orientation': 'v',\n",
       "              'showlegend': True,\n",
       "              'textposition': 'auto',\n",
       "              'type': 'bar',\n",
       "              'x': array(['西城'], dtype=object),\n",
       "              'xaxis': 'x',\n",
       "              'y': {'bdata': 'DQD6/B+A+0A=', 'dtype': 'f8'},\n",
       "              'yaxis': 'y'},\n",
       "             {'hovertemplate': 'Region=%{x}<br>PerPrice=%{y}<extra></extra>',\n",
       "              'legendgroup': '东城',\n",
       "              'marker': {'color': '#EF553B', 'pattern': {'shape': ''}},\n",
       "              'name': '东城',\n",
       "              'orientation': 'v',\n",
       "              'showlegend': True,\n",
       "              'textposition': 'auto',\n",
       "              'type': 'bar',\n",
       "              'x': array(['东城'], dtype=object),\n",
       "              'xaxis': 'x',\n",
       "              'y': {'bdata': '2UpmROqC90A=', 'dtype': 'f8'},\n",
       "              'yaxis': 'y'},\n",
       "             {'hovertemplate': 'Region=%{x}<br>PerPrice=%{y}<extra></extra>',\n",
       "              'legendgroup': '海淀',\n",
       "              'marker': {'color': '#00cc96', 'pattern': {'shape': ''}},\n",
       "              'name': '海淀',\n",
       "              'orientation': 'v',\n",
       "              'showlegend': True,\n",
       "              'textposition': 'auto',\n",
       "              'type': 'bar',\n",
       "              'x': array(['海淀'], dtype=object),\n",
       "              'xaxis': 'x',\n",
       "              'y': {'bdata': 'Qkj5xBlf9EA=', 'dtype': 'f8'},\n",
       "              'yaxis': 'y'},\n",
       "             {'hovertemplate': 'Region=%{x}<br>PerPrice=%{y}<extra></extra>',\n",
       "              'legendgroup': '朝阳',\n",
       "              'marker': {'color': '#ab63fa', 'pattern': {'shape': ''}},\n",
       "              'name': '朝阳',\n",
       "              'orientation': 'v',\n",
       "              'showlegend': True,\n",
       "              'textposition': 'auto',\n",
       "              'type': 'bar',\n",
       "              'x': array(['朝阳'], dtype=object),\n",
       "              'xaxis': 'x',\n",
       "              'y': {'bdata': 'B9kSre2p7EA=', 'dtype': 'f8'},\n",
       "              'yaxis': 'y'},\n",
       "             {'hovertemplate': 'Region=%{x}<br>PerPrice=%{y}<extra></extra>',\n",
       "              'legendgroup': '亦庄开发区',\n",
       "              'marker': {'color': '#FFA15A', 'pattern': {'shape': ''}},\n",
       "              'name': '亦庄开发区',\n",
       "              'orientation': 'v',\n",
       "              'showlegend': True,\n",
       "              'textposition': 'auto',\n",
       "              'type': 'bar',\n",
       "              'x': array(['亦庄开发区'], dtype=object),\n",
       "              'xaxis': 'x',\n",
       "              'y': {'bdata': 'Y59biNGs6UA=', 'dtype': 'f8'},\n",
       "              'yaxis': 'y'},\n",
       "             {'hovertemplate': 'Region=%{x}<br>PerPrice=%{y}<extra></extra>',\n",
       "              'legendgroup': '丰台',\n",
       "              'marker': {'color': '#19d3f3', 'pattern': {'shape': ''}},\n",
       "              'name': '丰台',\n",
       "              'orientation': 'v',\n",
       "              'showlegend': True,\n",
       "              'textposition': 'auto',\n",
       "              'type': 'bar',\n",
       "              'x': array(['丰台'], dtype=object),\n",
       "              'xaxis': 'x',\n",
       "              'y': {'bdata': 'qWaqTDHd6EA=', 'dtype': 'f8'},\n",
       "              'yaxis': 'y'},\n",
       "             {'hovertemplate': 'Region=%{x}<br>PerPrice=%{y}<extra></extra>',\n",
       "              'legendgroup': '石景山',\n",
       "              'marker': {'color': '#FF6692', 'pattern': {'shape': ''}},\n",
       "              'name': '石景山',\n",
       "              'orientation': 'v',\n",
       "              'showlegend': True,\n",
       "              'textposition': 'auto',\n",
       "              'type': 'bar',\n",
       "              'x': array(['石景山'], dtype=object),\n",
       "              'xaxis': 'x',\n",
       "              'y': {'bdata': '30XoIL9N5UA=', 'dtype': 'f8'},\n",
       "              'yaxis': 'y'},\n",
       "             {'hovertemplate': 'Region=%{x}<br>PerPrice=%{y}<extra></extra>',\n",
       "              'legendgroup': '昌平',\n",
       "              'marker': {'color': '#B6E880', 'pattern': {'shape': ''}},\n",
       "              'name': '昌平',\n",
       "              'orientation': 'v',\n",
       "              'showlegend': True,\n",
       "              'textposition': 'auto',\n",
       "              'type': 'bar',\n",
       "              'x': array(['昌平'], dtype=object),\n",
       "              'xaxis': 'x',\n",
       "              'y': {'bdata': 'WP3bg4Nu5EA=', 'dtype': 'f8'},\n",
       "              'yaxis': 'y'},\n",
       "             {'hovertemplate': 'Region=%{x}<br>PerPrice=%{y}<extra></extra>',\n",
       "              'legendgroup': '门头沟',\n",
       "              'marker': {'color': '#FF97FF', 'pattern': {'shape': ''}},\n",
       "              'name': '门头沟',\n",
       "              'orientation': 'v',\n",
       "              'showlegend': True,\n",
       "              'textposition': 'auto',\n",
       "              'type': 'bar',\n",
       "              'x': array(['门头沟'], dtype=object),\n",
       "              'xaxis': 'x',\n",
       "              'y': {'bdata': 'mWV3yeJT4kA=', 'dtype': 'f8'},\n",
       "              'yaxis': 'y'},\n",
       "             {'hovertemplate': 'Region=%{x}<br>PerPrice=%{y}<extra></extra>',\n",
       "              'legendgroup': '通州',\n",
       "              'marker': {'color': '#FECB52', 'pattern': {'shape': ''}},\n",
       "              'name': '通州',\n",
       "              'orientation': 'v',\n",
       "              'showlegend': True,\n",
       "              'textposition': 'auto',\n",
       "              'type': 'bar',\n",
       "              'x': array(['通州'], dtype=object),\n",
       "              'xaxis': 'x',\n",
       "              'y': {'bdata': 'MtQSZjB/4UA=', 'dtype': 'f8'},\n",
       "              'yaxis': 'y'},\n",
       "             {'hovertemplate': 'Region=%{x}<br>PerPrice=%{y}<extra></extra>',\n",
       "              'legendgroup': '大兴',\n",
       "              'marker': {'color': '#636efa', 'pattern': {'shape': ''}},\n",
       "              'name': '大兴',\n",
       "              'orientation': 'v',\n",
       "              'showlegend': True,\n",
       "              'textposition': 'auto',\n",
       "              'type': 'bar',\n",
       "              'x': array(['大兴'], dtype=object),\n",
       "              'xaxis': 'x',\n",
       "              'y': {'bdata': 'eiMKyBun4EA=', 'dtype': 'f8'},\n",
       "              'yaxis': 'y'},\n",
       "             {'hovertemplate': 'Region=%{x}<br>PerPrice=%{y}<extra></extra>',\n",
       "              'legendgroup': '顺义',\n",
       "              'marker': {'color': '#EF553B', 'pattern': {'shape': ''}},\n",
       "              'name': '顺义',\n",
       "              'orientation': 'v',\n",
       "              'showlegend': True,\n",
       "              'textposition': 'auto',\n",
       "              'type': 'bar',\n",
       "              'x': array(['顺义'], dtype=object),\n",
       "              'xaxis': 'x',\n",
       "              'y': {'bdata': '/Y/piYqi30A=', 'dtype': 'f8'},\n",
       "              'yaxis': 'y'},\n",
       "             {'hovertemplate': 'Region=%{x}<br>PerPrice=%{y}<extra></extra>',\n",
       "              'legendgroup': '房山',\n",
       "              'marker': {'color': '#00cc96', 'pattern': {'shape': ''}},\n",
       "              'name': '房山',\n",
       "              'orientation': 'v',\n",
       "              'showlegend': True,\n",
       "              'textposition': 'auto',\n",
       "              'type': 'bar',\n",
       "              'x': array(['房山'], dtype=object),\n",
       "              'xaxis': 'x',\n",
       "              'y': {'bdata': 'Tyi+TQa720A=', 'dtype': 'f8'},\n",
       "              'yaxis': 'y'},\n",
       "             {'hovertemplate': 'Region=%{x}<br>PerPrice=%{y}<extra></extra>',\n",
       "              'legendgroup': '怀柔',\n",
       "              'marker': {'color': '#ab63fa', 'pattern': {'shape': ''}},\n",
       "              'name': '怀柔',\n",
       "              'orientation': 'v',\n",
       "              'showlegend': True,\n",
       "              'textposition': 'auto',\n",
       "              'type': 'bar',\n",
       "              'x': array(['怀柔'], dtype=object),\n",
       "              'xaxis': 'x',\n",
       "              'y': {'bdata': '5s9Wq9BW1kA=', 'dtype': 'f8'},\n",
       "              'yaxis': 'y'},\n",
       "             {'hovertemplate': 'Region=%{x}<br>PerPrice=%{y}<extra></extra>',\n",
       "              'legendgroup': '密云',\n",
       "              'marker': {'color': '#FFA15A', 'pattern': {'shape': ''}},\n",
       "              'name': '密云',\n",
       "              'orientation': 'v',\n",
       "              'showlegend': True,\n",
       "              'textposition': 'auto',\n",
       "              'type': 'bar',\n",
       "              'x': array(['密云'], dtype=object),\n",
       "              'xaxis': 'x',\n",
       "              'y': {'bdata': 'ARQ8jslMykA=', 'dtype': 'f8'},\n",
       "              'yaxis': 'y'}],\n",
       "    'layout': {'barmode': 'relative',\n",
       "               'height': 600,\n",
       "               'legend': {'title': {'text': 'Region'}, 'tracegroupgap': 0},\n",
       "               'template': '...',\n",
       "               'title': {'text': '北京各大区二手房每平方价格对比'},\n",
       "               'width': 800,\n",
       "               'xaxis': {'anchor': 'y',\n",
       "                         'categoryarray': [西城, 东城, 海淀, 朝阳, 亦庄开发区, 丰台, 石景山, 昌平,\n",
       "                                           门头沟, 通州, 大兴, 顺义, 房山, 怀柔, 密云],\n",
       "                         'categoryorder': 'array',\n",
       "                         'domain': [0.0, 1.0],\n",
       "                         'title': {'text': 'Region'}},\n",
       "               'yaxis': {'anchor': 'x', 'domain': [0.0, 1.0], 'title': {'text': 'PerPrice'}}}\n",
       "})"
      ]
     },
     "execution_count": 28,
     "metadata": {},
     "output_type": "execute_result"
    }
   ],
   "source": [
    "px.bar(data_frame=df_house_per_price, x=\"Region\", y='PerPrice', color=\"Region\", width=800,height=600,title=\"北京各大区二手房每平方价格对比\")"
   ]
  },
  {
   "cell_type": "code",
   "execution_count": 29,
   "id": "46323745",
   "metadata": {},
   "outputs": [
    {
     "name": "stderr",
     "output_type": "stream",
     "text": [
      "C:\\Users\\57177\\AppData\\Local\\Temp\\ipykernel_46216\\1239489566.py:3: UserWarning:\n",
      "\n",
      "\n",
      "\n",
      "`distplot` is a deprecated function and will be removed in seaborn v0.14.0.\n",
      "\n",
      "Please adapt your code to use either `displot` (a figure-level function with\n",
      "similar flexibility) or `histplot` (an axes-level function for histograms).\n",
      "\n",
      "For a guide to updating your code to use the new functions, please see\n",
      "https://gist.github.com/mwaskom/de44147ed2974457ad6372750bbe5751\n",
      "\n",
      "\n",
      "C:\\Users\\57177\\AppData\\Local\\Temp\\ipykernel_46216\\1239489566.py:4: FutureWarning:\n",
      "\n",
      "\n",
      "\n",
      "`shade` is now deprecated in favor of `fill`; setting `fill=True`.\n",
      "This will become an error in seaborn v0.14.0; please update your code.\n",
      "\n",
      "\n",
      "C:\\Users\\57177\\AppData\\Local\\Temp\\ipykernel_46216\\1239489566.py:7: UserWarning:\n",
      "\n",
      "\n",
      "\n",
      "`distplot` is a deprecated function and will be removed in seaborn v0.14.0.\n",
      "\n",
      "Please adapt your code to use either `displot` (a figure-level function with\n",
      "similar flexibility) or `histplot` (an axes-level function for histograms).\n",
      "\n",
      "For a guide to updating your code to use the new functions, please see\n",
      "https://gist.github.com/mwaskom/de44147ed2974457ad6372750bbe5751\n",
      "\n",
      "\n",
      "C:\\Users\\57177\\AppData\\Local\\Temp\\ipykernel_46216\\1239489566.py:8: FutureWarning:\n",
      "\n",
      "\n",
      "\n",
      "`shade` is now deprecated in favor of `fill`; setting `fill=True`.\n",
      "This will become an error in seaborn v0.14.0; please update your code.\n",
      "\n",
      "\n"
     ]
    },
    {
     "data": {
      "image/png": "[encoded data removed]",
      "text/plain": [
       "<Figure size 1500x500 with 4 Axes>"
      ]
     },
     "metadata": {},
     "output_type": "display_data"
    }
   ],
   "source": [
    "f, [ax1,ax2] = plt.subplots(2, 2, figsize=(15, 5))\n",
    "# 建房时间的分布情况\n",
    "sns.distplot(df['Size'], bins=20, ax=ax1[0], color='r')\n",
    "sns.kdeplot(df['Size'], shade=True, ax=ax1[0])\n",
    "# 建房时间和出售价格的关系\n",
    "sns.regplot(x='Size', y='Price', data=df, ax=ax1[1])\n",
    "sns.distplot(df['Year'], bins=20, ax=ax2[0], color='b')\n",
    "sns.kdeplot(df['Year'], shade=True, ax=ax2[0])\n",
    "sns.regplot(x=\"Year\",y=\"Price\",data=df,ax=ax2[1])\n",
    "plt.show()"
   ]
  },
  {
   "cell_type": "code",
   "execution_count": 30,
   "id": "960e04a4",
   "metadata": {},
   "outputs": [
    {
     "ename": "ValueError",
     "evalue": "Mime type rendering requires nbformat>=4.2.0 but it is not installed",
     "output_type": "error",
     "traceback": [
      "\u001b[31m---------------------------------------------------------------------------\u001b[39m",
      "\u001b[31mValueError\u001b[39m                                Traceback (most recent call last)",
      "\u001b[36mFile \u001b[39m\u001b[32mc:\\Users\\57177\\AppData\\Local\\Programs\\Python\\Python312\\Lib\\site-packages\\IPython\\core\\formatters.py:984\u001b[39m, in \u001b[36mIPythonDisplayFormatter.__call__\u001b[39m\u001b[34m(self, obj)\u001b[39m\n\u001b[32m    982\u001b[39m method = get_real_method(obj, \u001b[38;5;28mself\u001b[39m.print_method)\n\u001b[32m    983\u001b[39m \u001b[38;5;28;01mif\u001b[39;00m method \u001b[38;5;129;01mis\u001b[39;00m \u001b[38;5;129;01mnot\u001b[39;00m \u001b[38;5;28;01mNone\u001b[39;00m:\n\u001b[32m--> \u001b[39m\u001b[32m984\u001b[39m     \u001b[43mmethod\u001b[49m\u001b[43m(\u001b[49m\u001b[43m)\u001b[49m\n\u001b[32m    985\u001b[39m     \u001b[38;5;28;01mreturn\u001b[39;00m \u001b[38;5;28;01mTrue\u001b[39;00m\n",
      "\u001b[36mFile \u001b[39m\u001b[32mc:\\Users\\57177\\AppData\\Local\\Programs\\Python\\Python312\\Lib\\site-packages\\plotly\\basedatatypes.py:833\u001b[39m, in \u001b[36mBaseFigure._ipython_display_\u001b[39m\u001b[34m(self)\u001b[39m\n\u001b[32m    830\u001b[39m \u001b[38;5;28;01mimport\u001b[39;00m \u001b[34;01mplotly\u001b[39;00m\u001b[34;01m.\u001b[39;00m\u001b[34;01mio\u001b[39;00m \u001b[38;5;28;01mas\u001b[39;00m \u001b[34;01mpio\u001b[39;00m\n\u001b[32m    832\u001b[39m \u001b[38;5;28;01mif\u001b[39;00m pio.renderers.render_on_display \u001b[38;5;129;01mand\u001b[39;00m pio.renderers.default:\n\u001b[32m--> \u001b[39m\u001b[32m833\u001b[39m     \u001b[43mpio\u001b[49m\u001b[43m.\u001b[49m\u001b[43mshow\u001b[49m\u001b[43m(\u001b[49m\u001b[38;5;28;43mself\u001b[39;49m\u001b[43m)\u001b[49m\n\u001b[32m    834\u001b[39m \u001b[38;5;28;01melse\u001b[39;00m:\n\u001b[32m    835\u001b[39m     \u001b[38;5;28mprint\u001b[39m(\u001b[38;5;28mrepr\u001b[39m(\u001b[38;5;28mself\u001b[39m))\n",
      "\u001b[36mFile \u001b[39m\u001b[32mc:\\Users\\57177\\AppData\\Local\\Programs\\Python\\Python312\\Lib\\site-packages\\plotly\\io\\_renderers.py:425\u001b[39m, in \u001b[36mshow\u001b[39m\u001b[34m(fig, renderer, validate, **kwargs)\u001b[39m\n\u001b[32m    420\u001b[39m     \u001b[38;5;28;01mraise\u001b[39;00m \u001b[38;5;167;01mValueError\u001b[39;00m(\n\u001b[32m    421\u001b[39m         \u001b[33m\"\u001b[39m\u001b[33mMime type rendering requires ipython but it is not installed\u001b[39m\u001b[33m\"\u001b[39m\n\u001b[32m    422\u001b[39m     )\n\u001b[32m    424\u001b[39m \u001b[38;5;28;01mif\u001b[39;00m \u001b[38;5;129;01mnot\u001b[39;00m nbformat \u001b[38;5;129;01mor\u001b[39;00m Version(nbformat.__version__) < Version(\u001b[33m\"\u001b[39m\u001b[33m4.2.0\u001b[39m\u001b[33m\"\u001b[39m):\n\u001b[32m--> \u001b[39m\u001b[32m425\u001b[39m     \u001b[38;5;28;01mraise\u001b[39;00m \u001b[38;5;167;01mValueError\u001b[39;00m(\n\u001b[32m    426\u001b[39m         \u001b[33m\"\u001b[39m\u001b[33mMime type rendering requires nbformat>=4.2.0 but it is not installed\u001b[39m\u001b[33m\"\u001b[39m\n\u001b[32m    427\u001b[39m     )\n\u001b[32m    429\u001b[39m display_jupyter_version_warnings()\n\u001b[32m    431\u001b[39m ipython_display.display(bundle, raw=\u001b[38;5;28;01mTrue\u001b[39;00m)\n",
      "\u001b[31mValueError\u001b[39m: Mime type rendering requires nbformat>=4.2.0 but it is not installed"
     ]
    },
    {
     "data": {
      "application/vnd.plotly.v1+json": {
       "config": {
        "plotlyServerURL": "https://plot.ly"
       },
       "data": [
        {
         "hovertemplate": "Layout=%{x}<br>Number=%{y}<extra></extra>",
         "legendgroup": "",
         "marker": {
          "color": "#636efa",
          "pattern": {
           "shape": ""
          }
         },
         "name": "",
         "orientation": "v",
         "showlegend": false,
         "textposition": "auto",
         "type": "bar",
         "x": [
          "2室1厅",
          "3室1厅",
          "1室1厅",
          "3室2厅",
          "2室2厅",
          "1室0厅",
          "4室2厅",
          "4室1厅",
          "1室2厅",
          "2室0厅",
          "3室0厅",
          "3室3厅",
          "5室1厅"
         ],
         "xaxis": "x",
         "y": {
          "bdata": "+AGlAJ0ASwA7ACIADAAGAAUAAgABAAEAAQA=",
          "dtype": "i2"
         },
         "yaxis": "y"
        }
       ],
       "layout": {
        "barmode": "relative",
        "height": 600,
        "legend": {
         "tracegroupgap": 0
        },
        "template": {
         "data": {
          "bar": [
           {
            "error_x": {
             "color": "#2a3f5f"
            },
            "error_y": {
             "color": "#2a3f5f"
            },
            "marker": {
             "line": {
              "color": "#E5ECF6",
              "width": 0.5
             },
             "pattern": {
              "fillmode": "overlay",
              "size": 10,
              "solidity": 0.2
             }
            },
            "type": "bar"
           }
          ],
          "barpolar": [
           {
            "marker": {
             "line": {
              "color": "#E5ECF6",
              "width": 0.5
             },
             "pattern": {
              "fillmode": "overlay",
              "size": 10,
              "solidity": 0.2
             }
            },
            "type": "barpolar"
           }
          ],
          "carpet": [
           {
            "aaxis": {
             "endlinecolor": "#2a3f5f",
             "gridcolor": "white",
             "linecolor": "white",
             "minorgridcolor": "white",
             "startlinecolor": "#2a3f5f"
            },
            "baxis": {
             "endlinecolor": "#2a3f5f",
             "gridcolor": "white",
             "linecolor": "white",
             "minorgridcolor": "white",
             "startlinecolor": "#2a3f5f"
            },
            "type": "carpet"
           }
          ],
          "choropleth": [
           {
            "colorbar": {
             "outlinewidth": 0,
             "ticks": ""
            },
            "type": "choropleth"
           }
          ],
          "contour": [
           {
            "colorbar": {
             "outlinewidth": 0,
             "ticks": ""
            },
            "colorscale": [
             [
              0,
              "#0d0887"
             ],
             [
              0.1111111111111111,
              "#46039f"
             ],
             [
              0.2222222222222222,
              "#7201a8"
             ],
             [
              0.3333333333333333,
              "#9c179e"
             ],
             [
              0.4444444444444444,
              "#bd3786"
             ],
             [
              0.5555555555555556,
              "#d8576b"
             ],
             [
              0.6666666666666666,
              "#ed7953"
             ],
             [
              0.7777777777777778,
              "#fb9f3a"
             ],
             [
              0.8888888888888888,
              "#fdca26"
             ],
             [
              1,
              "#f0f921"
             ]
            ],
            "type": "contour"
           }
          ],
          "contourcarpet": [
           {
            "colorbar": {
             "outlinewidth": 0,
             "ticks": ""
            },
            "type": "contourcarpet"
           }
          ],
          "heatmap": [
           {
            "colorbar": {
             "outlinewidth": 0,
             "ticks": ""
            },
            "colorscale": [
             [
              0,
              "#0d0887"
             ],
             [
              0.1111111111111111,
              "#46039f"
             ],
             [
              0.2222222222222222,
              "#7201a8"
             ],
             [
              0.3333333333333333,
              "#9c179e"
             ],
             [
              0.4444444444444444,
              "#bd3786"
             ],
             [
              0.5555555555555556,
              "#d8576b"
             ],
             [
              0.6666666666666666,
              "#ed7953"
             ],
             [
              0.7777777777777778,
              "#fb9f3a"
             ],
             [
              0.8888888888888888,
              "#fdca26"
             ],
             [
              1,
              "#f0f921"
             ]
            ],
            "type": "heatmap"
           }
          ],
          "histogram": [
           {
            "marker": {
             "pattern": {
              "fillmode": "overlay",
              "size": 10,
              "solidity": 0.2
             }
            },
            "type": "histogram"
           }
          ],
          "histogram2d": [
           {
            "colorbar": {
             "outlinewidth": 0,
             "ticks": ""
            },
            "colorscale": [
             [
              0,
              "#0d0887"
             ],
             [
              0.1111111111111111,
              "#46039f"
             ],
             [
              0.2222222222222222,
              "#7201a8"
             ],
             [
              0.3333333333333333,
              "#9c179e"
             ],
             [
              0.4444444444444444,
              "#bd3786"
             ],
             [
              0.5555555555555556,
              "#d8576b"
             ],
             [
              0.6666666666666666,
              "#ed7953"
             ],
             [
              0.7777777777777778,
              "#fb9f3a"
             ],
             [
              0.8888888888888888,
              "#fdca26"
             ],
             [
              1,
              "#f0f921"
             ]
            ],
            "type": "histogram2d"
           }
          ],
          "histogram2dcontour": [
           {
            "colorbar": {
             "outlinewidth": 0,
             "ticks": ""
            },
            "colorscale": [
             [
              0,
              "#0d0887"
             ],
             [
              0.1111111111111111,
              "#46039f"
             ],
             [
              0.2222222222222222,
              "#7201a8"
             ],
             [
              0.3333333333333333,
              "#9c179e"
             ],
             [
              0.4444444444444444,
              "#bd3786"
             ],
             [
              0.5555555555555556,
              "#d8576b"
             ],
             [
              0.6666666666666666,
              "#ed7953"
             ],
             [
              0.7777777777777778,
              "#fb9f3a"
             ],
             [
              0.8888888888888888,
              "#fdca26"
             ],
             [
              1,
              "#f0f921"
             ]
            ],
            "type": "histogram2dcontour"
           }
          ],
          "mesh3d": [
           {
            "colorbar": {
             "outlinewidth": 0,
             "ticks": ""
            },
            "type": "mesh3d"
           }
          ],
          "parcoords": [
           {
            "line": {
             "colorbar": {
              "outlinewidth": 0,
              "ticks": ""
             }
            },
            "type": "parcoords"
           }
          ],
          "pie": [
           {
            "automargin": true,
            "type": "pie"
           }
          ],
          "scatter": [
           {
            "fillpattern": {
             "fillmode": "overlay",
             "size": 10,
             "solidity": 0.2
            },
            "type": "scatter"
           }
          ],
          "scatter3d": [
           {
            "line": {
             "colorbar": {
              "outlinewidth": 0,
              "ticks": ""
             }
            },
            "marker": {
             "colorbar": {
              "outlinewidth": 0,
              "ticks": ""
             }
            },
            "type": "scatter3d"
           }
          ],
          "scattercarpet": [
           {
            "marker": {
             "colorbar": {
              "outlinewidth": 0,
              "ticks": ""
             }
            },
            "type": "scattercarpet"
           }
          ],
          "scattergeo": [
           {
            "marker": {
             "colorbar": {
              "outlinewidth": 0,
              "ticks": ""
             }
            },
            "type": "scattergeo"
           }
          ],
          "scattergl": [
           {
            "marker": {
             "colorbar": {
              "outlinewidth": 0,
              "ticks": ""
             }
            },
            "type": "scattergl"
           }
          ],
          "scattermap": [
           {
            "marker": {
             "colorbar": {
              "outlinewidth": 0,
              "ticks": ""
             }
            },
            "type": "scattermap"
           }
          ],
          "scattermapbox": [
           {
            "marker": {
             "colorbar": {
              "outlinewidth": 0,
              "ticks": ""
             }
            },
            "type": "scattermapbox"
           }
          ],
          "scatterpolar": [
           {
            "marker": {
             "colorbar": {
              "outlinewidth": 0,
              "ticks": ""
             }
            },
            "type": "scatterpolar"
           }
          ],
          "scatterpolargl": [
           {
            "marker": {
             "colorbar": {
              "outlinewidth": 0,
              "ticks": ""
             }
            },
            "type": "scatterpolargl"
           }
          ],
          "scatterternary": [
           {
            "marker": {
             "colorbar": {
              "outlinewidth": 0,
              "ticks": ""
             }
            },
            "type": "scatterternary"
           }
          ],
          "surface": [
           {
            "colorbar": {
             "outlinewidth": 0,
             "ticks": ""
            },
            "colorscale": [
             [
              0,
              "#0d0887"
             ],
             [
              0.1111111111111111,
              "#46039f"
             ],
             [
              0.2222222222222222,
              "#7201a8"
             ],
             [
              0.3333333333333333,
              "#9c179e"
             ],
             [
              0.4444444444444444,
              "#bd3786"
             ],
             [
              0.5555555555555556,
              "#d8576b"
             ],
             [
              0.6666666666666666,
              "#ed7953"
             ],
             [
              0.7777777777777778,
              "#fb9f3a"
             ],
             [
              0.8888888888888888,
              "#fdca26"
             ],
             [
              1,
              "#f0f921"
             ]
            ],
            "type": "surface"
           }
          ],
          "table": [
           {
            "cells": {
             "fill": {
              "color": "#EBF0F8"
             },
             "line": {
              "color": "white"
             }
            },
            "header": {
             "fill": {
              "color": "#C8D4E3"
             },
             "line": {
              "color": "white"
             }
            },
            "type": "table"
           }
          ]
         },
         "layout": {
          "annotationdefaults": {
           "arrowcolor": "#2a3f5f",
           "arrowhead": 0,
           "arrowwidth": 1
          },
          "autotypenumbers": "strict",
          "coloraxis": {
           "colorbar": {
            "outlinewidth": 0,
            "ticks": ""
           }
          },
          "colorscale": {
           "diverging": [
            [
             0,
             "#8e0152"
            ],
            [
             0.1,
             "#c51b7d"
            ],
            [
             0.2,
             "#de77ae"
            ],
            [
             0.3,
             "#f1b6da"
            ],
            [
             0.4,
             "#fde0ef"
            ],
            [
             0.5,
             "#f7f7f7"
            ],
            [
             0.6,
             "#e6f5d0"
            ],
            [
             0.7,
             "#b8e186"
            ],
            [
             0.8,
             "#7fbc41"
            ],
            [
             0.9,
             "#4d9221"
            ],
            [
             1,
             "#276419"
            ]
           ],
           "sequential": [
            [
             0,
             "#0d0887"
            ],
            [
             0.1111111111111111,
             "#46039f"
            ],
            [
             0.2222222222222222,
             "#7201a8"
            ],
            [
             0.3333333333333333,
             "#9c179e"
            ],
            [
             0.4444444444444444,
             "#bd3786"
            ],
            [
             0.5555555555555556,
             "#d8576b"
            ],
            [
             0.6666666666666666,
             "#ed7953"
            ],
            [
             0.7777777777777778,
             "#fb9f3a"
            ],
            [
             0.8888888888888888,
             "#fdca26"
            ],
            [
             1,
             "#f0f921"
            ]
           ],
           "sequentialminus": [
            [
             0,
             "#0d0887"
            ],
            [
             0.1111111111111111,
             "#46039f"
            ],
            [
             0.2222222222222222,
             "#7201a8"
            ],
            [
             0.3333333333333333,
             "#9c179e"
            ],
            [
             0.4444444444444444,
             "#bd3786"
            ],
            [
             0.5555555555555556,
             "#d8576b"
            ],
            [
             0.6666666666666666,
             "#ed7953"
            ],
            [
             0.7777777777777778,
             "#fb9f3a"
            ],
            [
             0.8888888888888888,
             "#fdca26"
            ],
            [
             1,
             "#f0f921"
            ]
           ]
          },
          "colorway": [
           "#636efa",
           "#EF553B",
           "#00cc96",
           "#ab63fa",
           "#FFA15A",
           "#19d3f3",
           "#FF6692",
           "#B6E880",
           "#FF97FF",
           "#FECB52"
          ],
          "font": {
           "color": "#2a3f5f"
          },
          "geo": {
           "bgcolor": "white",
           "lakecolor": "white",
           "landcolor": "#E5ECF6",
           "showlakes": true,
           "showland": true,
           "subunitcolor": "white"
          },
          "hoverlabel": {
           "align": "left"
          },
          "hovermode": "closest",
          "mapbox": {
           "style": "light"
          },
          "paper_bgcolor": "white",
          "plot_bgcolor": "#E5ECF6",
          "polar": {
           "angularaxis": {
            "gridcolor": "white",
            "linecolor": "white",
            "ticks": ""
           },
           "bgcolor": "#E5ECF6",
           "radialaxis": {
            "gridcolor": "white",
            "linecolor": "white",
            "ticks": ""
           }
          },
          "scene": {
           "xaxis": {
            "backgroundcolor": "#E5ECF6",
            "gridcolor": "white",
            "gridwidth": 2,
            "linecolor": "white",
            "showbackground": true,
            "ticks": "",
            "zerolinecolor": "white"
           },
           "yaxis": {
            "backgroundcolor": "#E5ECF6",
            "gridcolor": "white",
            "gridwidth": 2,
            "linecolor": "white",
            "showbackground": true,
            "ticks": "",
            "zerolinecolor": "white"
           },
           "zaxis": {
            "backgroundcolor": "#E5ECF6",
            "gridcolor": "white",
            "gridwidth": 2,
            "linecolor": "white",
            "showbackground": true,
            "ticks": "",
            "zerolinecolor": "white"
           }
          },
          "shapedefaults": {
           "line": {
            "color": "#2a3f5f"
           }
          },
          "ternary": {
           "aaxis": {
            "gridcolor": "white",
            "linecolor": "white",
            "ticks": ""
           },
           "baxis": {
            "gridcolor": "white",
            "linecolor": "white",
            "ticks": ""
           },
           "bgcolor": "#E5ECF6",
           "caxis": {
            "gridcolor": "white",
            "linecolor": "white",
            "ticks": ""
           }
          },
          "title": {
           "x": 0.05
          },
          "xaxis": {
           "automargin": true,
           "gridcolor": "white",
           "linecolor": "white",
           "ticks": "",
           "title": {
            "standoff": 15
           },
           "zerolinecolor": "white",
           "zerolinewidth": 2
          },
          "yaxis": {
           "automargin": true,
           "gridcolor": "white",
           "linecolor": "white",
           "ticks": "",
           "title": {
            "standoff": 15
           },
           "zerolinecolor": "white",
           "zerolinewidth": 2
          }
         }
        },
        "title": {
         "text": "北京各大区二手房户型数量对比"
        },
        "width": 800,
        "xaxis": {
         "anchor": "y",
         "domain": [
          0,
          1
         ],
         "title": {
          "text": "Layout"
         }
        },
        "yaxis": {
         "anchor": "x",
         "domain": [
          0,
          1
         ],
         "title": {
          "text": "Number"
         }
        }
       }
      },
      "text/html": [
       "<div>                        <script type=\"text/javascript\">window.PlotlyConfig = {MathJaxConfig: 'local'};</script>\n",
       "        <script charset=\"utf-8\" src=\"https://cdn.plot.ly/plotly-3.0.1.min.js\"></script>                <div id=\"83c33f22-8e0f-423c-8a2d-53158b82e9e3\" class=\"plotly-graph-div\" style=\"height:600px; width:800px;\"></div>            <script type=\"text/javascript\">                window.PLOTLYENV=window.PLOTLYENV || {};                                if (document.getElementById(\"83c33f22-8e0f-423c-8a2d-53158b82e9e3\")) {                    Plotly.newPlot(                        \"83c33f22-8e0f-423c-8a2d-53158b82e9e3\",                        [{\"hovertemplate\":\"Layout=%{x}\\u003cbr\\u003eNumber=%{y}\\u003cextra\\u003e\\u003c\\u002fextra\\u003e\",\"legendgroup\":\"\",\"marker\":{\"color\":\"#636efa\",\"pattern\":{\"shape\":\"\"}},\"name\":\"\",\"orientation\":\"v\",\"showlegend\":false,\"textposition\":\"auto\",\"x\":[\"2\\u5ba41\\u5385\",\"3\\u5ba41\\u5385\",\"1\\u5ba41\\u5385\",\"3\\u5ba42\\u5385\",\"2\\u5ba42\\u5385\",\"1\\u5ba40\\u5385\",\"4\\u5ba42\\u5385\",\"4\\u5ba41\\u5385\",\"1\\u5ba42\\u5385\",\"2\\u5ba40\\u5385\",\"3\\u5ba40\\u5385\",\"3\\u5ba43\\u5385\",\"5\\u5ba41\\u5385\"],\"xaxis\":\"x\",\"y\":{\"dtype\":\"i2\",\"bdata\":\"+AGlAJ0ASwA7ACIADAAGAAUAAgABAAEAAQA=\"},\"yaxis\":\"y\",\"type\":\"bar\"}],                        {\"template\":{\"data\":{\"histogram2dcontour\":[{\"type\":\"histogram2dcontour\",\"colorbar\":{\"outlinewidth\":0,\"ticks\":\"\"},\"colorscale\":[[0.0,\"#0d0887\"],[0.1111111111111111,\"#46039f\"],[0.2222222222222222,\"#7201a8\"],[0.3333333333333333,\"#9c179e\"],[0.4444444444444444,\"#bd3786\"],[0.5555555555555556,\"#d8576b\"],[0.6666666666666666,\"#ed7953\"],[0.7777777777777778,\"#fb9f3a\"],[0.8888888888888888,\"#fdca26\"],[1.0,\"#f0f921\"]]}],\"choropleth\":[{\"type\":\"choropleth\",\"colorbar\":{\"outlinewidth\":0,\"ticks\":\"\"}}],\"histogram2d\":[{\"type\":\"histogram2d\",\"colorbar\":{\"outlinewidth\":0,\"ticks\":\"\"},\"colorscale\":[[0.0,\"#0d0887\"],[0.1111111111111111,\"#46039f\"],[0.2222222222222222,\"#7201a8\"],[0.3333333333333333,\"#9c179e\"],[0.4444444444444444,\"#bd3786\"],[0.5555555555555556,\"#d8576b\"],[0.6666666666666666,\"#ed7953\"],[0.7777777777777778,\"#fb9f3a\"],[0.8888888888888888,\"#fdca26\"],[1.0,\"#f0f921\"]]}],\"heatmap\":[{\"type\":\"heatmap\",\"colorbar\":{\"outlinewidth\":0,\"ticks\":\"\"},\"colorscale\":[[0.0,\"#0d0887\"],[0.1111111111111111,\"#46039f\"],[0.2222222222222222,\"#7201a8\"],[0.3333333333333333,\"#9c179e\"],[0.4444444444444444,\"#bd3786\"],[0.5555555555555556,\"#d8576b\"],[0.6666666666666666,\"#ed7953\"],[0.7777777777777778,\"#fb9f3a\"],[0.8888888888888888,\"#fdca26\"],[1.0,\"#f0f921\"]]}],\"contourcarpet\":[{\"type\":\"contourcarpet\",\"colorbar\":{\"outlinewidth\":0,\"ticks\":\"\"}}],\"contour\":[{\"type\":\"contour\",\"colorbar\":{\"outlinewidth\":0,\"ticks\":\"\"},\"colorscale\":[[0.0,\"#0d0887\"],[0.1111111111111111,\"#46039f\"],[0.2222222222222222,\"#7201a8\"],[0.3333333333333333,\"#9c179e\"],[0.4444444444444444,\"#bd3786\"],[0.5555555555555556,\"#d8576b\"],[0.6666666666666666,\"#ed7953\"],[0.7777777777777778,\"#fb9f3a\"],[0.8888888888888888,\"#fdca26\"],[1.0,\"#f0f921\"]]}],\"surface\":[{\"type\":\"surface\",\"colorbar\":{\"outlinewidth\":0,\"ticks\":\"\"},\"colorscale\":[[0.0,\"#0d0887\"],[0.1111111111111111,\"#46039f\"],[0.2222222222222222,\"#7201a8\"],[0.3333333333333333,\"#9c179e\"],[0.4444444444444444,\"#bd3786\"],[0.5555555555555556,\"#d8576b\"],[0.6666666666666666,\"#ed7953\"],[0.7777777777777778,\"#fb9f3a\"],[0.8888888888888888,\"#fdca26\"],[1.0,\"#f0f921\"]]}],\"mesh3d\":[{\"type\":\"mesh3d\",\"colorbar\":{\"outlinewidth\":0,\"ticks\":\"\"}}],\"scatter\":[{\"fillpattern\":{\"fillmode\":\"overlay\",\"size\":10,\"solidity\":0.2},\"type\":\"scatter\"}],\"parcoords\":[{\"type\":\"parcoords\",\"line\":{\"colorbar\":{\"outlinewidth\":0,\"ticks\":\"\"}}}],\"scatterpolargl\":[{\"type\":\"scatterpolargl\",\"marker\":{\"colorbar\":{\"outlinewidth\":0,\"ticks\":\"\"}}}],\"bar\":[{\"error_x\":{\"color\":\"#2a3f5f\"},\"error_y\":{\"color\":\"#2a3f5f\"},\"marker\":{\"line\":{\"color\":\"#E5ECF6\",\"width\":0.5},\"pattern\":{\"fillmode\":\"overlay\",\"size\":10,\"solidity\":0.2}},\"type\":\"bar\"}],\"scattergeo\":[{\"type\":\"scattergeo\",\"marker\":{\"colorbar\":{\"outlinewidth\":0,\"ticks\":\"\"}}}],\"scatterpolar\":[{\"type\":\"scatterpolar\",\"marker\":{\"colorbar\":{\"outlinewidth\":0,\"ticks\":\"\"}}}],\"histogram\":[{\"marker\":{\"pattern\":{\"fillmode\":\"overlay\",\"size\":10,\"solidity\":0.2}},\"type\":\"histogram\"}],\"scattergl\":[{\"type\":\"scattergl\",\"marker\":{\"colorbar\":{\"outlinewidth\":0,\"ticks\":\"\"}}}],\"scatter3d\":[{\"type\":\"scatter3d\",\"line\":{\"colorbar\":{\"outlinewidth\":0,\"ticks\":\"\"}},\"marker\":{\"colorbar\":{\"outlinewidth\":0,\"ticks\":\"\"}}}],\"scattermap\":[{\"type\":\"scattermap\",\"marker\":{\"colorbar\":{\"outlinewidth\":0,\"ticks\":\"\"}}}],\"scattermapbox\":[{\"type\":\"scattermapbox\",\"marker\":{\"colorbar\":{\"outlinewidth\":0,\"ticks\":\"\"}}}],\"scatterternary\":[{\"type\":\"scatterternary\",\"marker\":{\"colorbar\":{\"outlinewidth\":0,\"ticks\":\"\"}}}],\"scattercarpet\":[{\"type\":\"scattercarpet\",\"marker\":{\"colorbar\":{\"outlinewidth\":0,\"ticks\":\"\"}}}],\"carpet\":[{\"aaxis\":{\"endlinecolor\":\"#2a3f5f\",\"gridcolor\":\"white\",\"linecolor\":\"white\",\"minorgridcolor\":\"white\",\"startlinecolor\":\"#2a3f5f\"},\"baxis\":{\"endlinecolor\":\"#2a3f5f\",\"gridcolor\":\"white\",\"linecolor\":\"white\",\"minorgridcolor\":\"white\",\"startlinecolor\":\"#2a3f5f\"},\"type\":\"carpet\"}],\"table\":[{\"cells\":{\"fill\":{\"color\":\"#EBF0F8\"},\"line\":{\"color\":\"white\"}},\"header\":{\"fill\":{\"color\":\"#C8D4E3\"},\"line\":{\"color\":\"white\"}},\"type\":\"table\"}],\"barpolar\":[{\"marker\":{\"line\":{\"color\":\"#E5ECF6\",\"width\":0.5},\"pattern\":{\"fillmode\":\"overlay\",\"size\":10,\"solidity\":0.2}},\"type\":\"barpolar\"}],\"pie\":[{\"automargin\":true,\"type\":\"pie\"}]},\"layout\":{\"autotypenumbers\":\"strict\",\"colorway\":[\"#636efa\",\"#EF553B\",\"#00cc96\",\"#ab63fa\",\"#FFA15A\",\"#19d3f3\",\"#FF6692\",\"#B6E880\",\"#FF97FF\",\"#FECB52\"],\"font\":{\"color\":\"#2a3f5f\"},\"hovermode\":\"closest\",\"hoverlabel\":{\"align\":\"left\"},\"paper_bgcolor\":\"white\",\"plot_bgcolor\":\"#E5ECF6\",\"polar\":{\"bgcolor\":\"#E5ECF6\",\"angularaxis\":{\"gridcolor\":\"white\",\"linecolor\":\"white\",\"ticks\":\"\"},\"radialaxis\":{\"gridcolor\":\"white\",\"linecolor\":\"white\",\"ticks\":\"\"}},\"ternary\":{\"bgcolor\":\"#E5ECF6\",\"aaxis\":{\"gridcolor\":\"white\",\"linecolor\":\"white\",\"ticks\":\"\"},\"baxis\":{\"gridcolor\":\"white\",\"linecolor\":\"white\",\"ticks\":\"\"},\"caxis\":{\"gridcolor\":\"white\",\"linecolor\":\"white\",\"ticks\":\"\"}},\"coloraxis\":{\"colorbar\":{\"outlinewidth\":0,\"ticks\":\"\"}},\"colorscale\":{\"sequential\":[[0.0,\"#0d0887\"],[0.1111111111111111,\"#46039f\"],[0.2222222222222222,\"#7201a8\"],[0.3333333333333333,\"#9c179e\"],[0.4444444444444444,\"#bd3786\"],[0.5555555555555556,\"#d8576b\"],[0.6666666666666666,\"#ed7953\"],[0.7777777777777778,\"#fb9f3a\"],[0.8888888888888888,\"#fdca26\"],[1.0,\"#f0f921\"]],\"sequentialminus\":[[0.0,\"#0d0887\"],[0.1111111111111111,\"#46039f\"],[0.2222222222222222,\"#7201a8\"],[0.3333333333333333,\"#9c179e\"],[0.4444444444444444,\"#bd3786\"],[0.5555555555555556,\"#d8576b\"],[0.6666666666666666,\"#ed7953\"],[0.7777777777777778,\"#fb9f3a\"],[0.8888888888888888,\"#fdca26\"],[1.0,\"#f0f921\"]],\"diverging\":[[0,\"#8e0152\"],[0.1,\"#c51b7d\"],[0.2,\"#de77ae\"],[0.3,\"#f1b6da\"],[0.4,\"#fde0ef\"],[0.5,\"#f7f7f7\"],[0.6,\"#e6f5d0\"],[0.7,\"#b8e186\"],[0.8,\"#7fbc41\"],[0.9,\"#4d9221\"],[1,\"#276419\"]]},\"xaxis\":{\"gridcolor\":\"white\",\"linecolor\":\"white\",\"ticks\":\"\",\"title\":{\"standoff\":15},\"zerolinecolor\":\"white\",\"automargin\":true,\"zerolinewidth\":2},\"yaxis\":{\"gridcolor\":\"white\",\"linecolor\":\"white\",\"ticks\":\"\",\"title\":{\"standoff\":15},\"zerolinecolor\":\"white\",\"automargin\":true,\"zerolinewidth\":2},\"scene\":{\"xaxis\":{\"backgroundcolor\":\"#E5ECF6\",\"gridcolor\":\"white\",\"linecolor\":\"white\",\"showbackground\":true,\"ticks\":\"\",\"zerolinecolor\":\"white\",\"gridwidth\":2},\"yaxis\":{\"backgroundcolor\":\"#E5ECF6\",\"gridcolor\":\"white\",\"linecolor\":\"white\",\"showbackground\":true,\"ticks\":\"\",\"zerolinecolor\":\"white\",\"gridwidth\":2},\"zaxis\":{\"backgroundcolor\":\"#E5ECF6\",\"gridcolor\":\"white\",\"linecolor\":\"white\",\"showbackground\":true,\"ticks\":\"\",\"zerolinecolor\":\"white\",\"gridwidth\":2}},\"shapedefaults\":{\"line\":{\"color\":\"#2a3f5f\"}},\"annotationdefaults\":{\"arrowcolor\":\"#2a3f5f\",\"arrowhead\":0,\"arrowwidth\":1},\"geo\":{\"bgcolor\":\"white\",\"landcolor\":\"#E5ECF6\",\"subunitcolor\":\"white\",\"showland\":true,\"showlakes\":true,\"lakecolor\":\"white\"},\"title\":{\"x\":0.05},\"mapbox\":{\"style\":\"light\"}}},\"xaxis\":{\"anchor\":\"y\",\"domain\":[0.0,1.0],\"title\":{\"text\":\"Layout\"}},\"yaxis\":{\"anchor\":\"x\",\"domain\":[0.0,1.0],\"title\":{\"text\":\"Number\"}},\"legend\":{\"tracegroupgap\":0},\"title\":{\"text\":\"\\u5317\\u4eac\\u5404\\u5927\\u533a\\u4e8c\\u624b\\u623f\\u6237\\u578b\\u6570\\u91cf\\u5bf9\\u6bd4\"},\"barmode\":\"relative\",\"height\":600,\"width\":800},                        {\"responsive\": true}                    )                };            </script>        </div>"
      ],
      "text/plain": [
       "Figure({\n",
       "    'data': [{'hovertemplate': 'Layout=%{x}<br>Number=%{y}<extra></extra>',\n",
       "              'legendgroup': '',\n",
       "              'marker': {'color': '#636efa', 'pattern': {'shape': ''}},\n",
       "              'name': '',\n",
       "              'orientation': 'v',\n",
       "              'showlegend': False,\n",
       "              'textposition': 'auto',\n",
       "              'type': 'bar',\n",
       "              'x': array(['2室1厅', '3室1厅', '1室1厅', '3室2厅', '2室2厅', '1室0厅', '4室2厅', '4室1厅', '1室2厅',\n",
       "                          '2室0厅', '3室0厅', '3室3厅', '5室1厅'], dtype=object),\n",
       "              'xaxis': 'x',\n",
       "              'y': {'bdata': '+AGlAJ0ASwA7ACIADAAGAAUAAgABAAEAAQA=', 'dtype': 'i2'},\n",
       "              'yaxis': 'y'}],\n",
       "    'layout': {'barmode': 'relative',\n",
       "               'height': 600,\n",
       "               'legend': {'tracegroupgap': 0},\n",
       "               'template': '...',\n",
       "               'title': {'text': '北京各大区二手房户型数量对比'},\n",
       "               'width': 800,\n",
       "               'xaxis': {'anchor': 'y', 'domain': [0.0, 1.0], 'title': {'text': 'Layout'}},\n",
       "               'yaxis': {'anchor': 'x', 'domain': [0.0, 1.0], 'title': {'text': 'Number'}}}\n",
       "})"
      ]
     },
     "execution_count": 30,
     "metadata": {},
     "output_type": "execute_result"
    }
   ],
   "source": [
    "dfLayoutCount = df.groupby(\"Layout\")[\"ID\"].count().sort_values(ascending=False).to_frame().reset_index()\n",
    "dfLayoutCount =  dfLayoutCount.rename(columns={\"ID\":\"Number\"})\n",
    "px.bar(data_frame=dfLayoutCount,x=\"Layout\",y=\"Number\",width=800,height=600,title=\"北京各大区二手房户型数量对比\")"
   ]
  },
  {
   "cell_type": "code",
   "execution_count": 31,
   "id": "eb6d0b9f",
   "metadata": {},
   "outputs": [
    {
     "name": "stdout",
     "output_type": "stream",
     "text": [
      "  Renovation   ID\n",
      "0         其他   19\n",
      "1         毛坯   21\n",
      "2         简装  424\n",
      "3         精装  558\n"
     ]
    },
    {
     "ename": "ValueError",
     "evalue": "Mime type rendering requires nbformat>=4.2.0 but it is not installed",
     "output_type": "error",
     "traceback": [
      "\u001b[31m---------------------------------------------------------------------------\u001b[39m",
      "\u001b[31mValueError\u001b[39m                                Traceback (most recent call last)",
      "\u001b[36mFile \u001b[39m\u001b[32mc:\\Users\\57177\\AppData\\Local\\Programs\\Python\\Python312\\Lib\\site-packages\\IPython\\core\\formatters.py:984\u001b[39m, in \u001b[36mIPythonDisplayFormatter.__call__\u001b[39m\u001b[34m(self, obj)\u001b[39m\n\u001b[32m    982\u001b[39m method = get_real_method(obj, \u001b[38;5;28mself\u001b[39m.print_method)\n\u001b[32m    983\u001b[39m \u001b[38;5;28;01mif\u001b[39;00m method \u001b[38;5;129;01mis\u001b[39;00m \u001b[38;5;129;01mnot\u001b[39;00m \u001b[38;5;28;01mNone\u001b[39;00m:\n\u001b[32m--> \u001b[39m\u001b[32m984\u001b[39m     \u001b[43mmethod\u001b[49m\u001b[43m(\u001b[49m\u001b[43m)\u001b[49m\n\u001b[32m    985\u001b[39m     \u001b[38;5;28;01mreturn\u001b[39;00m \u001b[38;5;28;01mTrue\u001b[39;00m\n",
      "\u001b[36mFile \u001b[39m\u001b[32mc:\\Users\\57177\\AppData\\Local\\Programs\\Python\\Python312\\Lib\\site-packages\\plotly\\basedatatypes.py:833\u001b[39m, in \u001b[36mBaseFigure._ipython_display_\u001b[39m\u001b[34m(self)\u001b[39m\n\u001b[32m    830\u001b[39m \u001b[38;5;28;01mimport\u001b[39;00m \u001b[34;01mplotly\u001b[39;00m\u001b[34;01m.\u001b[39;00m\u001b[34;01mio\u001b[39;00m \u001b[38;5;28;01mas\u001b[39;00m \u001b[34;01mpio\u001b[39;00m\n\u001b[32m    832\u001b[39m \u001b[38;5;28;01mif\u001b[39;00m pio.renderers.render_on_display \u001b[38;5;129;01mand\u001b[39;00m pio.renderers.default:\n\u001b[32m--> \u001b[39m\u001b[32m833\u001b[39m     \u001b[43mpio\u001b[49m\u001b[43m.\u001b[49m\u001b[43mshow\u001b[49m\u001b[43m(\u001b[49m\u001b[38;5;28;43mself\u001b[39;49m\u001b[43m)\u001b[49m\n\u001b[32m    834\u001b[39m \u001b[38;5;28;01melse\u001b[39;00m:\n\u001b[32m    835\u001b[39m     \u001b[38;5;28mprint\u001b[39m(\u001b[38;5;28mrepr\u001b[39m(\u001b[38;5;28mself\u001b[39m))\n",
      "\u001b[36mFile \u001b[39m\u001b[32mc:\\Users\\57177\\AppData\\Local\\Programs\\Python\\Python312\\Lib\\site-packages\\plotly\\io\\_renderers.py:425\u001b[39m, in \u001b[36mshow\u001b[39m\u001b[34m(fig, renderer, validate, **kwargs)\u001b[39m\n\u001b[32m    420\u001b[39m     \u001b[38;5;28;01mraise\u001b[39;00m \u001b[38;5;167;01mValueError\u001b[39;00m(\n\u001b[32m    421\u001b[39m         \u001b[33m\"\u001b[39m\u001b[33mMime type rendering requires ipython but it is not installed\u001b[39m\u001b[33m\"\u001b[39m\n\u001b[32m    422\u001b[39m     )\n\u001b[32m    424\u001b[39m \u001b[38;5;28;01mif\u001b[39;00m \u001b[38;5;129;01mnot\u001b[39;00m nbformat \u001b[38;5;129;01mor\u001b[39;00m Version(nbformat.__version__) < Version(\u001b[33m\"\u001b[39m\u001b[33m4.2.0\u001b[39m\u001b[33m\"\u001b[39m):\n\u001b[32m--> \u001b[39m\u001b[32m425\u001b[39m     \u001b[38;5;28;01mraise\u001b[39;00m \u001b[38;5;167;01mValueError\u001b[39;00m(\n\u001b[32m    426\u001b[39m         \u001b[33m\"\u001b[39m\u001b[33mMime type rendering requires nbformat>=4.2.0 but it is not installed\u001b[39m\u001b[33m\"\u001b[39m\n\u001b[32m    427\u001b[39m     )\n\u001b[32m    429\u001b[39m display_jupyter_version_warnings()\n\u001b[32m    431\u001b[39m ipython_display.display(bundle, raw=\u001b[38;5;28;01mTrue\u001b[39;00m)\n",
      "\u001b[31mValueError\u001b[39m: Mime type rendering requires nbformat>=4.2.0 but it is not installed"
     ]
    },
    {
     "data": {
      "application/vnd.plotly.v1+json": {
       "config": {
        "plotlyServerURL": "https://plot.ly"
       },
       "data": [
        {
         "alignmentgroup": "True",
         "hovertemplate": "Renovation=%{x}<br>Price=%{y}<extra></extra>",
         "legendgroup": "",
         "marker": {
          "color": "#636efa"
         },
         "name": "",
         "notched": false,
         "offsetgroup": "",
         "orientation": "v",
         "showlegend": false,
         "type": "box",
         "x": [
          "简装",
          "精装",
          "简装",
          "简装",
          "精装",
          "精装",
          "简装",
          "精装",
          "精装",
          "精装",
          "精装",
          "精装",
          "精装",
          "简装",
          "精装",
          "精装",
          "精装",
          "毛坯",
          "精装",
          "精装",
          "简装",
          "精装",
          "简装",
          "简装",
          "简装",
          "精装",
          "精装",
          "简装",
          "精装",
          "精装",
          "简装",
          "精装",
          "精装",
          "精装",
          "精装",
          "简装",
          "简装",
          "简装",
          "精装",
          "精装",
          "简装",
          "简装",
          "精装",
          "精装",
          "精装",
          "毛坯",
          "精装",
          "精装",
          "精装",
          "简装",
          "精装",
          "简装",
          "精装",
          "简装",
          "精装",
          "简装",
          "精装",
          "精装",
          "毛坯",
          "精装",
          "简装",
          "简装",
          "精装",
          "简装",
          "简装",
          "简装",
          "精装",
          "精装",
          "其他",
          "简装",
          "简装",
          "简装",
          "简装",
          "毛坯",
          "简装",
          "简装",
          "精装",
          "简装",
          "精装",
          "精装",
          "精装",
          "精装",
          "精装",
          "简装",
          "精装",
          "精装",
          "精装",
          "简装",
          "精装",
          "简装",
          "精装",
          "精装",
          "简装",
          "精装",
          "简装",
          "简装",
          "精装",
          "精装",
          "简装",
          "简装",
          "简装",
          "精装",
          "精装",
          "简装",
          "简装",
          "精装",
          "简装",
          "简装",
          "简装",
          "精装",
          "简装",
          "简装",
          "精装",
          "简装",
          "简装",
          "精装",
          "精装",
          "精装",
          "简装",
          "简装",
          "精装",
          "简装",
          "简装",
          "精装",
          "简装",
          "精装",
          "精装",
          "精装",
          "精装",
          "简装",
          "简装",
          "精装",
          "精装",
          "精装",
          "精装",
          "简装",
          "精装",
          "简装",
          "简装",
          "简装",
          "简装",
          "精装",
          "精装",
          "简装",
          "精装",
          "简装",
          "精装",
          "精装",
          "简装",
          "简装",
          "简装",
          "精装",
          "简装",
          "精装",
          "简装",
          "精装",
          "精装",
          "简装",
          "简装",
          "其他",
          "精装",
          "简装",
          "简装",
          "简装",
          "简装",
          "简装",
          "简装",
          "简装",
          "精装",
          "其他",
          "简装",
          "简装",
          "简装",
          "精装",
          "精装",
          "精装",
          "简装",
          "精装",
          "简装",
          "精装",
          "精装",
          "简装",
          "精装",
          "精装",
          "简装",
          "精装",
          "精装",
          "简装",
          "简装",
          "精装",
          "精装",
          "精装",
          "简装",
          "简装",
          "精装",
          "简装",
          "精装",
          "精装",
          "精装",
          "精装",
          "精装",
          "简装",
          "精装",
          "精装",
          "精装",
          "简装",
          "精装",
          "简装",
          "简装",
          "简装",
          "精装",
          "精装",
          "简装",
          "精装",
          "简装",
          "精装",
          "其他",
          "精装",
          "简装",
          "简装",
          "简装",
          "精装",
          "精装",
          "精装",
          "精装",
          "精装",
          "精装",
          "简装",
          "精装",
          "简装",
          "简装",
          "精装",
          "精装",
          "简装",
          "简装",
          "毛坯",
          "其他",
          "精装",
          "简装",
          "简装",
          "简装",
          "简装",
          "精装",
          "简装",
          "精装",
          "精装",
          "精装",
          "简装",
          "精装",
          "精装",
          "精装",
          "精装",
          "简装",
          "精装",
          "简装",
          "精装",
          "精装",
          "精装",
          "简装",
          "简装",
          "简装",
          "简装",
          "精装",
          "精装",
          "毛坯",
          "精装",
          "精装",
          "精装",
          "精装",
          "精装",
          "精装",
          "简装",
          "简装",
          "精装",
          "精装",
          "其他",
          "精装",
          "精装",
          "精装",
          "简装",
          "其他",
          "简装",
          "简装",
          "简装",
          "精装",
          "简装",
          "精装",
          "简装",
          "精装",
          "简装",
          "精装",
          "毛坯",
          "精装",
          "精装",
          "精装",
          "毛坯",
          "精装",
          "简装",
          "精装",
          "精装",
          "精装",
          "精装",
          "简装",
          "精装",
          "简装",
          "简装",
          "精装",
          "精装",
          "精装",
          "精装",
          "简装",
          "简装",
          "简装",
          "简装",
          "简装",
          "其他",
          "精装",
          "简装",
          "精装",
          "简装",
          "精装",
          "简装",
          "简装",
          "简装",
          "精装",
          "精装",
          "简装",
          "精装",
          "简装",
          "简装",
          "简装",
          "精装",
          "简装",
          "精装",
          "精装",
          "简装",
          "毛坯",
          "精装",
          "简装",
          "简装",
          "精装",
          "简装",
          "精装",
          "简装",
          "精装",
          "精装",
          "简装",
          "精装",
          "简装",
          "精装",
          "简装",
          "简装",
          "精装",
          "精装",
          "精装",
          "精装",
          "简装",
          "精装",
          "简装",
          "简装",
          "简装",
          "简装",
          "简装",
          "精装",
          "简装",
          "简装",
          "简装",
          "简装",
          "简装",
          "简装",
          "精装",
          "精装",
          "精装",
          "简装",
          "精装",
          "精装",
          "简装",
          "精装",
          "简装",
          "简装",
          "简装",
          "精装",
          "精装",
          "简装",
          "精装",
          "精装",
          "精装",
          "简装",
          "其他",
          "精装",
          "精装",
          "简装",
          "精装",
          "精装",
          "精装",
          "精装",
          "精装",
          "精装",
          "精装",
          "精装",
          "精装",
          "其他",
          "精装",
          "精装",
          "精装",
          "精装",
          "精装",
          "精装",
          "毛坯",
          "精装",
          "精装",
          "精装",
          "精装",
          "简装",
          "简装",
          "简装",
          "精装",
          "简装",
          "简装",
          "简装",
          "简装",
          "简装",
          "精装",
          "精装",
          "简装",
          "简装",
          "简装",
          "精装",
          "精装",
          "精装",
          "简装",
          "简装",
          "精装",
          "精装",
          "简装",
          "其他",
          "简装",
          "精装",
          "精装",
          "精装",
          "精装",
          "精装",
          "毛坯",
          "精装",
          "简装",
          "简装",
          "精装",
          "简装",
          "精装",
          "简装",
          "精装",
          "精装",
          "精装",
          "精装",
          "精装",
          "毛坯",
          "精装",
          "简装",
          "简装",
          "简装",
          "精装",
          "精装",
          "精装",
          "简装",
          "精装",
          "简装",
          "精装",
          "精装",
          "精装",
          "精装",
          "精装",
          "精装",
          "简装",
          "精装",
          "简装",
          "精装",
          "简装",
          "简装",
          "精装",
          "精装",
          "精装",
          "简装",
          "简装",
          "简装",
          "简装",
          "精装",
          "简装",
          "精装",
          "精装",
          "简装",
          "精装",
          "精装",
          "精装",
          "简装",
          "精装",
          "简装",
          "简装",
          "简装",
          "精装",
          "简装",
          "简装",
          "简装",
          "精装",
          "精装",
          "精装",
          "精装",
          "简装",
          "简装",
          "简装",
          "精装",
          "精装",
          "简装",
          "精装",
          "精装",
          "简装",
          "精装",
          "精装",
          "简装",
          "简装",
          "精装",
          "精装",
          "精装",
          "简装",
          "简装",
          "精装",
          "精装",
          "简装",
          "精装",
          "精装",
          "精装",
          "简装",
          "简装",
          "精装",
          "精装",
          "精装",
          "精装",
          "精装",
          "精装",
          "精装",
          "精装",
          "简装",
          "精装",
          "精装",
          "简装",
          "精装",
          "精装",
          "精装",
          "简装",
          "精装",
          "精装",
          "精装",
          "精装",
          "精装",
          "简装",
          "毛坯",
          "精装",
          "精装",
          "简装",
          "精装",
          "简装",
          "精装",
          "简装",
          "精装",
          "简装",
          "精装",
          "精装",
          "精装",
          "精装",
          "精装",
          "毛坯",
          "精装",
          "简装",
          "精装",
          "简装",
          "精装",
          "精装",
          "简装",
          "简装",
          "简装",
          "简装",
          "精装",
          "精装",
          "精装",
          "精装",
          "简装",
          "精装",
          "精装",
          "简装",
          "精装",
          "精装",
          "精装",
          "简装",
          "精装",
          "精装",
          "精装",
          "精装",
          "其他",
          "精装",
          "精装",
          "精装",
          "简装",
          "精装",
          "精装",
          "精装",
          "简装",
          "简装",
          "精装",
          "精装",
          "简装",
          "简装",
          "精装",
          "简装",
          "简装",
          "精装",
          "简装",
          "精装",
          "简装",
          "简装",
          "精装",
          "精装",
          "简装",
          "精装",
          "精装",
          "简装",
          "精装",
          "简装",
          "精装",
          "精装",
          "精装",
          "精装",
          "精装",
          "精装",
          "简装",
          "简装",
          "精装",
          "简装",
          "精装",
          "简装",
          "简装",
          "精装",
          "精装",
          "精装",
          "精装",
          "精装",
          "精装",
          "精装",
          "简装",
          "简装",
          "精装",
          "简装",
          "精装",
          "精装",
          "简装",
          "简装",
          "精装",
          "精装",
          "简装",
          "毛坯",
          "精装",
          "精装",
          "精装",
          "精装",
          "简装",
          "精装",
          "简装",
          "简装",
          "简装",
          "简装",
          "精装",
          "简装",
          "精装",
          "简装",
          "简装",
          "精装",
          "精装",
          "简装",
          "精装",
          "简装",
          "精装",
          "简装",
          "简装",
          "简装",
          "精装",
          "简装",
          "精装",
          "精装",
          "精装",
          "简装",
          "简装",
          "精装",
          "简装",
          "简装",
          "简装",
          "精装",
          "精装",
          "精装",
          "简装",
          "简装",
          "简装",
          "简装",
          "简装",
          "精装",
          "精装",
          "精装",
          "简装",
          "精装",
          "简装",
          "精装",
          "精装",
          "精装",
          "简装",
          "简装",
          "精装",
          "简装",
          "精装",
          "简装",
          "精装",
          "简装",
          "精装",
          "精装",
          "精装",
          "简装",
          "简装",
          "简装",
          "简装",
          "简装",
          "简装",
          "精装",
          "简装",
          "精装",
          "精装",
          "精装",
          "简装",
          "精装",
          "简装",
          "毛坯",
          "精装",
          "精装",
          "精装",
          "其他",
          "精装",
          "精装",
          "简装",
          "精装",
          "精装",
          "简装",
          "精装",
          "其他",
          "简装",
          "精装",
          "精装",
          "精装",
          "精装",
          "精装",
          "简装",
          "精装",
          "精装",
          "精装",
          "简装",
          "简装",
          "精装",
          "精装",
          "精装",
          "精装",
          "简装",
          "精装",
          "精装",
          "其他",
          "简装",
          "精装",
          "精装",
          "精装",
          "简装",
          "毛坯",
          "简装",
          "其他",
          "精装",
          "精装",
          "毛坯",
          "精装",
          "简装",
          "精装",
          "精装",
          "精装",
          "简装",
          "简装",
          "简装",
          "简装",
          "简装",
          "简装",
          "精装",
          "精装",
          "简装",
          "精装",
          "精装",
          "简装",
          "精装",
          "精装",
          "简装",
          "简装",
          "简装",
          "精装",
          "简装",
          "简装",
          "简装",
          "精装",
          "精装",
          "简装",
          "简装",
          "精装",
          "简装",
          "精装",
          "精装",
          "精装",
          "精装",
          "简装",
          "精装",
          "简装",
          "简装",
          "精装",
          "简装",
          "精装",
          "简装",
          "精装",
          "精装",
          "精装",
          "精装",
          "精装",
          "简装",
          "毛坯",
          "精装",
          "精装",
          "精装",
          "简装",
          "简装",
          "精装",
          "简装",
          "精装",
          "精装",
          "精装",
          "简装",
          "简装",
          "简装",
          "精装",
          "简装",
          "简装",
          "精装",
          "精装",
          "简装",
          "简装",
          "简装",
          "简装",
          "精装",
          "简装",
          "简装",
          "精装",
          "简装",
          "精装",
          "精装",
          "简装",
          "精装",
          "简装",
          "精装",
          "精装",
          "简装",
          "简装",
          "简装",
          "精装",
          "简装",
          "精装",
          "精装",
          "精装",
          "简装",
          "简装",
          "简装",
          "精装",
          "精装",
          "简装",
          "精装",
          "其他",
          "精装",
          "简装",
          "简装",
          "精装",
          "精装",
          "简装",
          "精装",
          "精装",
          "简装",
          "精装",
          "简装",
          "简装",
          "精装",
          "精装",
          "精装",
          "精装",
          "简装",
          "精装",
          "简装",
          "简装",
          "简装",
          "简装",
          "简装",
          "简装",
          "精装",
          "简装",
          "精装",
          "精装",
          "简装",
          "精装",
          "简装",
          "简装",
          "精装",
          "精装",
          "简装",
          "毛坯",
          "精装",
          "精装",
          "简装",
          "精装",
          "简装",
          "简装",
          "简装",
          "简装",
          "简装",
          "精装",
          "精装",
          "精装",
          "简装",
          "简装",
          "精装",
          "简装",
          "简装",
          "精装",
          "简装",
          "精装",
          "简装",
          "精装",
          "其他",
          "精装",
          "简装",
          "精装",
          "精装",
          "精装",
          "简装",
          "简装",
          "简装",
          "简装",
          "其他",
          "精装",
          "精装",
          "简装",
          "精装",
          "精装",
          "精装",
          "精装",
          "精装",
          "精装",
          "简装",
          "简装",
          "精装",
          "精装",
          "精装",
          "精装",
          "简装",
          "精装",
          "精装",
          "精装",
          "简装",
          "精装",
          "精装",
          "精装",
          "精装",
          "精装",
          "简装",
          "精装",
          "简装",
          "精装",
          "精装",
          "简装",
          "简装",
          "精装",
          "精装",
          "精装",
          "精装",
          "精装",
          "精装",
          "简装",
          "简装",
          "精装",
          "毛坯",
          "精装",
          "简装",
          "精装",
          "简装",
          "精装",
          "精装",
          "精装",
          "精装",
          "简装",
          "精装",
          "简装",
          "精装",
          "精装",
          "精装",
          "精装",
          "精装",
          "简装",
          "精装",
          "简装",
          "精装",
          "简装",
          "简装",
          "精装",
          "简装",
          "精装",
          "精装",
          "简装",
          "精装",
          "精装",
          "精装",
          "简装"
         ],
         "x0": " ",
         "xaxis": "x",
         "y": {
          "bdata": "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",
          "dtype": "f8"
         },
         "y0": " ",
         "yaxis": "y"
        }
       ],
       "layout": {
        "boxmode": "group",
        "height": 600,
        "legend": {
         "tracegroupgap": 0
        },
        "template": {
         "data": {
          "bar": [
           {
            "error_x": {
             "color": "#2a3f5f"
            },
            "error_y": {
             "color": "#2a3f5f"
            },
            "marker": {
             "line": {
              "color": "#E5ECF6",
              "width": 0.5
             },
             "pattern": {
              "fillmode": "overlay",
              "size": 10,
              "solidity": 0.2
             }
            },
            "type": "bar"
           }
          ],
          "barpolar": [
           {
            "marker": {
             "line": {
              "color": "#E5ECF6",
              "width": 0.5
             },
             "pattern": {
              "fillmode": "overlay",
              "size": 10,
              "solidity": 0.2
             }
            },
            "type": "barpolar"
           }
          ],
          "carpet": [
           {
            "aaxis": {
             "endlinecolor": "#2a3f5f",
             "gridcolor": "white",
             "linecolor": "white",
             "minorgridcolor": "white",
             "startlinecolor": "#2a3f5f"
            },
            "baxis": {
             "endlinecolor": "#2a3f5f",
             "gridcolor": "white",
             "linecolor": "white",
             "minorgridcolor": "white",
             "startlinecolor": "#2a3f5f"
            },
            "type": "carpet"
           }
          ],
          "choropleth": [
           {
            "colorbar": {
             "outlinewidth": 0,
             "ticks": ""
            },
            "type": "choropleth"
           }
          ],
          "contour": [
           {
            "colorbar": {
             "outlinewidth": 0,
             "ticks": ""
            },
            "colorscale": [
             [
              0,
              "#0d0887"
             ],
             [
              0.1111111111111111,
              "#46039f"
             ],
             [
              0.2222222222222222,
              "#7201a8"
             ],
             [
              0.3333333333333333,
              "#9c179e"
             ],
             [
              0.4444444444444444,
              "#bd3786"
             ],
             [
              0.5555555555555556,
              "#d8576b"
             ],
             [
              0.6666666666666666,
              "#ed7953"
             ],
             [
              0.7777777777777778,
              "#fb9f3a"
             ],
             [
              0.8888888888888888,
              "#fdca26"
             ],
             [
              1,
              "#f0f921"
             ]
            ],
            "type": "contour"
           }
          ],
          "contourcarpet": [
           {
            "colorbar": {
             "outlinewidth": 0,
             "ticks": ""
            },
            "type": "contourcarpet"
           }
          ],
          "heatmap": [
           {
            "colorbar": {
             "outlinewidth": 0,
             "ticks": ""
            },
            "colorscale": [
             [
              0,
              "#0d0887"
             ],
             [
              0.1111111111111111,
              "#46039f"
             ],
             [
              0.2222222222222222,
              "#7201a8"
             ],
             [
              0.3333333333333333,
              "#9c179e"
             ],
             [
              0.4444444444444444,
              "#bd3786"
             ],
             [
              0.5555555555555556,
              "#d8576b"
             ],
             [
              0.6666666666666666,
              "#ed7953"
             ],
             [
              0.7777777777777778,
              "#fb9f3a"
             ],
             [
              0.8888888888888888,
              "#fdca26"
             ],
             [
              1,
              "#f0f921"
             ]
            ],
            "type": "heatmap"
           }
          ],
          "histogram": [
           {
            "marker": {
             "pattern": {
              "fillmode": "overlay",
              "size": 10,
              "solidity": 0.2
             }
            },
            "type": "histogram"
           }
          ],
          "histogram2d": [
           {
            "colorbar": {
             "outlinewidth": 0,
             "ticks": ""
            },
            "colorscale": [
             [
              0,
              "#0d0887"
             ],
             [
              0.1111111111111111,
              "#46039f"
             ],
             [
              0.2222222222222222,
              "#7201a8"
             ],
             [
              0.3333333333333333,
              "#9c179e"
             ],
             [
              0.4444444444444444,
              "#bd3786"
             ],
             [
              0.5555555555555556,
              "#d8576b"
             ],
             [
              0.6666666666666666,
              "#ed7953"
             ],
             [
              0.7777777777777778,
              "#fb9f3a"
             ],
             [
              0.8888888888888888,
              "#fdca26"
             ],
             [
              1,
              "#f0f921"
             ]
            ],
            "type": "histogram2d"
           }
          ],
          "histogram2dcontour": [
           {
            "colorbar": {
             "outlinewidth": 0,
             "ticks": ""
            },
            "colorscale": [
             [
              0,
              "#0d0887"
             ],
             [
              0.1111111111111111,
              "#46039f"
             ],
             [
              0.2222222222222222,
              "#7201a8"
             ],
             [
              0.3333333333333333,
              "#9c179e"
             ],
             [
              0.4444444444444444,
              "#bd3786"
             ],
             [
              0.5555555555555556,
              "#d8576b"
             ],
             [
              0.6666666666666666,
              "#ed7953"
             ],
             [
              0.7777777777777778,
              "#fb9f3a"
             ],
             [
              0.8888888888888888,
              "#fdca26"
             ],
             [
              1,
              "#f0f921"
             ]
            ],
            "type": "histogram2dcontour"
           }
          ],
          "mesh3d": [
           {
            "colorbar": {
             "outlinewidth": 0,
             "ticks": ""
            },
            "type": "mesh3d"
           }
          ],
          "parcoords": [
           {
            "line": {
             "colorbar": {
              "outlinewidth": 0,
              "ticks": ""
             }
            },
            "type": "parcoords"
           }
          ],
          "pie": [
           {
            "automargin": true,
            "type": "pie"
           }
          ],
          "scatter": [
           {
            "fillpattern": {
             "fillmode": "overlay",
             "size": 10,
             "solidity": 0.2
            },
            "type": "scatter"
           }
          ],
          "scatter3d": [
           {
            "line": {
             "colorbar": {
              "outlinewidth": 0,
              "ticks": ""
             }
            },
            "marker": {
             "colorbar": {
              "outlinewidth": 0,
              "ticks": ""
             }
            },
            "type": "scatter3d"
           }
          ],
          "scattercarpet": [
           {
            "marker": {
             "colorbar": {
              "outlinewidth": 0,
              "ticks": ""
             }
            },
            "type": "scattercarpet"
           }
          ],
          "scattergeo": [
           {
            "marker": {
             "colorbar": {
              "outlinewidth": 0,
              "ticks": ""
             }
            },
            "type": "scattergeo"
           }
          ],
          "scattergl": [
           {
            "marker": {
             "colorbar": {
              "outlinewidth": 0,
              "ticks": ""
             }
            },
            "type": "scattergl"
           }
          ],
          "scattermap": [
           {
            "marker": {
             "colorbar": {
              "outlinewidth": 0,
              "ticks": ""
             }
            },
            "type": "scattermap"
           }
          ],
          "scattermapbox": [
           {
            "marker": {
             "colorbar": {
              "outlinewidth": 0,
              "ticks": ""
             }
            },
            "type": "scattermapbox"
           }
          ],
          "scatterpolar": [
           {
            "marker": {
             "colorbar": {
              "outlinewidth": 0,
              "ticks": ""
             }
            },
            "type": "scatterpolar"
           }
          ],
          "scatterpolargl": [
           {
            "marker": {
             "colorbar": {
              "outlinewidth": 0,
              "ticks": ""
             }
            },
            "type": "scatterpolargl"
           }
          ],
          "scatterternary": [
           {
            "marker": {
             "colorbar": {
              "outlinewidth": 0,
              "ticks": ""
             }
            },
            "type": "scatterternary"
           }
          ],
          "surface": [
           {
            "colorbar": {
             "outlinewidth": 0,
             "ticks": ""
            },
            "colorscale": [
             [
              0,
              "#0d0887"
             ],
             [
              0.1111111111111111,
              "#46039f"
             ],
             [
              0.2222222222222222,
              "#7201a8"
             ],
             [
              0.3333333333333333,
              "#9c179e"
             ],
             [
              0.4444444444444444,
              "#bd3786"
             ],
             [
              0.5555555555555556,
              "#d8576b"
             ],
             [
              0.6666666666666666,
              "#ed7953"
             ],
             [
              0.7777777777777778,
              "#fb9f3a"
             ],
             [
              0.8888888888888888,
              "#fdca26"
             ],
             [
              1,
              "#f0f921"
             ]
            ],
            "type": "surface"
           }
          ],
          "table": [
           {
            "cells": {
             "fill": {
              "color": "#EBF0F8"
             },
             "line": {
              "color": "white"
             }
            },
            "header": {
             "fill": {
              "color": "#C8D4E3"
             },
             "line": {
              "color": "white"
             }
            },
            "type": "table"
           }
          ]
         },
         "layout": {
          "annotationdefaults": {
           "arrowcolor": "#2a3f5f",
           "arrowhead": 0,
           "arrowwidth": 1
          },
          "autotypenumbers": "strict",
          "coloraxis": {
           "colorbar": {
            "outlinewidth": 0,
            "ticks": ""
           }
          },
          "colorscale": {
           "diverging": [
            [
             0,
             "#8e0152"
            ],
            [
             0.1,
             "#c51b7d"
            ],
            [
             0.2,
             "#de77ae"
            ],
            [
             0.3,
             "#f1b6da"
            ],
            [
             0.4,
             "#fde0ef"
            ],
            [
             0.5,
             "#f7f7f7"
            ],
            [
             0.6,
             "#e6f5d0"
            ],
            [
             0.7,
             "#b8e186"
            ],
            [
             0.8,
             "#7fbc41"
            ],
            [
             0.9,
             "#4d9221"
            ],
            [
             1,
             "#276419"
            ]
           ],
           "sequential": [
            [
             0,
             "#0d0887"
            ],
            [
             0.1111111111111111,
             "#46039f"
            ],
            [
             0.2222222222222222,
             "#7201a8"
            ],
            [
             0.3333333333333333,
             "#9c179e"
            ],
            [
             0.4444444444444444,
             "#bd3786"
            ],
            [
             0.5555555555555556,
             "#d8576b"
            ],
            [
             0.6666666666666666,
             "#ed7953"
            ],
            [
             0.7777777777777778,
             "#fb9f3a"
            ],
            [
             0.8888888888888888,
             "#fdca26"
            ],
            [
             1,
             "#f0f921"
            ]
           ],
           "sequentialminus": [
            [
             0,
             "#0d0887"
            ],
            [
             0.1111111111111111,
             "#46039f"
            ],
            [
             0.2222222222222222,
             "#7201a8"
            ],
            [
             0.3333333333333333,
             "#9c179e"
            ],
            [
             0.4444444444444444,
             "#bd3786"
            ],
            [
             0.5555555555555556,
             "#d8576b"
            ],
            [
             0.6666666666666666,
             "#ed7953"
            ],
            [
             0.7777777777777778,
             "#fb9f3a"
            ],
            [
             0.8888888888888888,
             "#fdca26"
            ],
            [
             1,
             "#f0f921"
            ]
           ]
          },
          "colorway": [
           "#636efa",
           "#EF553B",
           "#00cc96",
           "#ab63fa",
           "#FFA15A",
           "#19d3f3",
           "#FF6692",
           "#B6E880",
           "#FF97FF",
           "#FECB52"
          ],
          "font": {
           "color": "#2a3f5f"
          },
          "geo": {
           "bgcolor": "white",
           "lakecolor": "white",
           "landcolor": "#E5ECF6",
           "showlakes": true,
           "showland": true,
           "subunitcolor": "white"
          },
          "hoverlabel": {
           "align": "left"
          },
          "hovermode": "closest",
          "mapbox": {
           "style": "light"
          },
          "paper_bgcolor": "white",
          "plot_bgcolor": "#E5ECF6",
          "polar": {
           "angularaxis": {
            "gridcolor": "white",
            "linecolor": "white",
            "ticks": ""
           },
           "bgcolor": "#E5ECF6",
           "radialaxis": {
            "gridcolor": "white",
            "linecolor": "white",
            "ticks": ""
           }
          },
          "scene": {
           "xaxis": {
            "backgroundcolor": "#E5ECF6",
            "gridcolor": "white",
            "gridwidth": 2,
            "linecolor": "white",
            "showbackground": true,
            "ticks": "",
            "zerolinecolor": "white"
           },
           "yaxis": {
            "backgroundcolor": "#E5ECF6",
            "gridcolor": "white",
            "gridwidth": 2,
            "linecolor": "white",
            "showbackground": true,
            "ticks": "",
            "zerolinecolor": "white"
           },
           "zaxis": {
            "backgroundcolor": "#E5ECF6",
            "gridcolor": "white",
            "gridwidth": 2,
            "linecolor": "white",
            "showbackground": true,
            "ticks": "",
            "zerolinecolor": "white"
           }
          },
          "shapedefaults": {
           "line": {
            "color": "#2a3f5f"
           }
          },
          "ternary": {
           "aaxis": {
            "gridcolor": "white",
            "linecolor": "white",
            "ticks": ""
           },
           "baxis": {
            "gridcolor": "white",
            "linecolor": "white",
            "ticks": ""
           },
           "bgcolor": "#E5ECF6",
           "caxis": {
            "gridcolor": "white",
            "linecolor": "white",
            "ticks": ""
           }
          },
          "title": {
           "x": 0.05
          },
          "xaxis": {
           "automargin": true,
           "gridcolor": "white",
           "linecolor": "white",
           "ticks": "",
           "title": {
            "standoff": 15
           },
           "zerolinecolor": "white",
           "zerolinewidth": 2
          },
          "yaxis": {
           "automargin": true,
           "gridcolor": "white",
           "linecolor": "white",
           "ticks": "",
           "title": {
            "standoff": 15
           },
           "zerolinecolor": "white",
           "zerolinewidth": 2
          }
         }
        },
        "title": {
         "text": "beijign"
        },
        "width": 800,
        "xaxis": {
         "anchor": "y",
         "domain": [
          0,
          1
         ],
         "title": {
          "text": "Renovation"
         }
        },
        "yaxis": {
         "anchor": "x",
         "domain": [
          0,
          1
         ],
         "title": {
          "text": "Price"
         }
        }
       }
      },
      "text/html": [
       "<div>                        <script type=\"text/javascript\">window.PlotlyConfig = {MathJaxConfig: 'local'};</script>\n",
       "        <script charset=\"utf-8\" src=\"https://cdn.plot.ly/plotly-3.0.1.min.js\"></script>                <div id=\"00f87fad-0077-457a-813d-d503efc1d1fd\" class=\"plotly-graph-div\" style=\"height:600px; width:800px;\"></div>            <script type=\"text/javascript\">                window.PLOTLYENV=window.PLOTLYENV || {};                                if (document.getElementById(\"00f87fad-0077-457a-813d-d503efc1d1fd\")) {                    Plotly.newPlot(                        \"00f87fad-0077-457a-813d-d503efc1d1fd\",                        [{\"alignmentgroup\":\"True\",\"hovertemplate\":\"Renovation=%{x}\\u003cbr\\u003ePrice=%{y}\\u003cextra\\u003e\\u003c\\u002fextra\\u003e\",\"legendgroup\":\"\",\"marker\":{\"color\":\"#636efa\"},\"name\":\"\",\"notched\":false,\"offsetgroup\":\"\",\"orientation\":\"v\",\"showlegend\":false,\"x\":[\"\\u7b80\\u88c5\",\"\\u7cbe\\u88c5\",\"\\u7b80\\u88c5\",\"\\u7b80\\u88c5\",\"\\u7cbe\\u88c5\",\"\\u7cbe\\u88c5\",\"\\u7b80\\u88c5\",\"\\u7cbe\\u88c5\",\"\\u7cbe\\u88c5\",\"\\u7cbe\\u88c5\",\"\\u7cbe\\u88c5\",\"\\u7cbe\\u88c5\",\"\\u7cbe\\u88c5\",\"\\u7b80\\u88c5\",\"\\u7cbe\\u88c5\",\"\\u7cbe\\u88c5\",\"\\u7cbe\\u88c5\",\"\\u6bdb\\u576f\",\"\\u7cbe\\u88c5\",\"\\u7cbe\\u88c5\",\"\\u7b80\\u88c5\",\"\\u7cbe\\u88c5\",\"\\u7b80\\u88c5\",\"\\u7b80\\u88c5\",\"\\u7b80\\u88c5\",\"\\u7cbe\\u88c5\",\"\\u7cbe\\u88c5\",\"\\u7b80\\u88c5\",\"\\u7cbe\\u88c5\",\"\\u7cbe\\u88c5\",\"\\u7b80\\u88c5\",\"\\u7cbe\\u88c5\",\"\\u7cbe\\u88c5\",\"\\u7cbe\\u88c5\",\"\\u7cbe\\u88c5\",\"\\u7b80\\u88c5\",\"\\u7b80\\u88c5\",\"\\u7b80\\u88c5\",\"\\u7cbe\\u88c5\",\"\\u7cbe\\u88c5\",\"\\u7b80\\u88c5\",\"\\u7b80\\u88c5\",\"\\u7cbe\\u88c5\",\"\\u7cbe\\u88c5\",\"\\u7cbe\\u88c5\",\"\\u6bdb\\u576f\",\"\\u7cbe\\u88c5\",\"\\u7cbe\\u88c5\",\"\\u7cbe\\u88c5\",\"\\u7b80\\u88c5\",\"\\u7cbe\\u88c5\",\"\\u7b80\\u88c5\",\"\\u7cbe\\u88c5\",\"\\u7b80\\u88c5\",\"\\u7cbe\\u88c5\",\"\\u7b80\\u88c5\",\"\\u7cbe\\u88c5\",\"\\u7cbe\\u88c5\",\"\\u6bdb\\u576f\",\"\\u7cbe\\u88c5\",\"\\u7b80\\u88c5\",\"\\u7b80\\u88c5\",\"\\u7cbe\\u88c5\",\"\\u7b80\\u88c5\",\"\\u7b80\\u88c5\",\"\\u7b80\\u88c5\",\"\\u7cbe\\u88c5\",\"\\u7cbe\\u88c5\",\"\\u5176\\u4ed6\",\"\\u7b80\\u88c5\",\"\\u7b80\\u88c5\",\"\\u7b80\\u88c5\",\"\\u7b80\\u88c5\",\"\\u6bdb\\u576f\",\"\\u7b80\\u88c5\",\"\\u7b80\\u88c5\",\"\\u7cbe\\u88c5\",\"\\u7b80\\u88c5\",\"\\u7cbe\\u88c5\",\"\\u7cbe\\u88c5\",\"\\u7cbe\\u88c5\",\"\\u7cbe\\u88c5\",\"\\u7cbe\\u88c5\",\"\\u7b80\\u88c5\",\"\\u7cbe\\u88c5\",\"\\u7cbe\\u88c5\",\"\\u7cbe\\u88c5\",\"\\u7b80\\u88c5\",\"\\u7cbe\\u88c5\",\"\\u7b80\\u88c5\",\"\\u7cbe\\u88c5\",\"\\u7cbe\\u88c5\",\"\\u7b80\\u88c5\",\"\\u7cbe\\u88c5\",\"\\u7b80\\u88c5\",\"\\u7b80\\u88c5\",\"\\u7cbe\\u88c5\",\"\\u7cbe\\u88c5\",\"\\u7b80\\u88c5\",\"\\u7b80\\u88c5\",\"\\u7b80\\u88c5\",\"\\u7cbe\\u88c5\",\"\\u7cbe\\u88c5\",\"\\u7b80\\u88c5\",\"\\u7b80\\u88c5\",\"\\u7cbe\\u88c5\",\"\\u7b80\\u88c5\",\"\\u7b80\\u88c5\",\"\\u7b80\\u88c5\",\"\\u7cbe\\u88c5\",\"\\u7b80\\u88c5\",\"\\u7b80\\u88c5\",\"\\u7cbe\\u88c5\",\"\\u7b80\\u88c5\",\"\\u7b80\\u88c5\",\"\\u7cbe\\u88c5\",\"\\u7cbe\\u88c5\",\"\\u7cbe\\u88c5\",\"\\u7b80\\u88c5\",\"\\u7b80\\u88c5\",\"\\u7cbe\\u88c5\",\"\\u7b80\\u88c5\",\"\\u7b80\\u88c5\",\"\\u7cbe\\u88c5\",\"\\u7b80\\u88c5\",\"\\u7cbe\\u88c5\",\"\\u7cbe\\u88c5\",\"\\u7cbe\\u88c5\",\"\\u7cbe\\u88c5\",\"\\u7b80\\u88c5\",\"\\u7b80\\u88c5\",\"\\u7cbe\\u88c5\",\"\\u7cbe\\u88c5\",\"\\u7cbe\\u88c5\",\"\\u7cbe\\u88c5\",\"\\u7b80\\u88c5\",\"\\u7cbe\\u88c5\",\"\\u7b80\\u88c5\",\"\\u7b80\\u88c5\",\"\\u7b80\\u88c5\",\"\\u7b80\\u88c5\",\"\\u7cbe\\u88c5\",\"\\u7cbe\\u88c5\",\"\\u7b80\\u88c5\",\"\\u7cbe\\u88c5\",\"\\u7b80\\u88c5\",\"\\u7cbe\\u88c5\",\"\\u7cbe\\u88c5\",\"\\u7b80\\u88c5\",\"\\u7b80\\u88c5\",\"\\u7b80\\u88c5\",\"\\u7cbe\\u88c5\",\"\\u7b80\\u88c5\",\"\\u7cbe\\u88c5\",\"\\u7b80\\u88c5\",\"\\u7cbe\\u88c5\",\"\\u7cbe\\u88c5\",\"\\u7b80\\u88c5\",\"\\u7b80\\u88c5\",\"\\u5176\\u4ed6\",\"\\u7cbe\\u88c5\",\"\\u7b80\\u88c5\",\"\\u7b80\\u88c5\",\"\\u7b80\\u88c5\",\"\\u7b80\\u88c5\",\"\\u7b80\\u88c5\",\"\\u7b80\\u88c5\",\"\\u7b80\\u88c5\",\"\\u7cbe\\u88c5\",\"\\u5176\\u4ed6\",\"\\u7b80\\u88c5\",\"\\u7b80\\u88c5\",\"\\u7b80\\u88c5\",\"\\u7cbe\\u88c5\",\"\\u7cbe\\u88c5\",\"\\u7cbe\\u88c5\",\"\\u7b80\\u88c5\",\"\\u7cbe\\u88c5\",\"\\u7b80\\u88c5\",\"\\u7cbe\\u88c5\",\"\\u7cbe\\u88c5\",\"\\u7b80\\u88c5\",\"\\u7cbe\\u88c5\",\"\\u7cbe\\u88c5\",\"\\u7b80\\u88c5\",\"\\u7cbe\\u88c5\",\"\\u7cbe\\u88c5\",\"\\u7b80\\u88c5\",\"\\u7b80\\u88c5\",\"\\u7cbe\\u88c5\",\"\\u7cbe\\u88c5\",\"\\u7cbe\\u88c5\",\"\\u7b80\\u88c5\",\"\\u7b80\\u88c5\",\"\\u7cbe\\u88c5\",\"\\u7b80\\u88c5\",\"\\u7cbe\\u88c5\",\"\\u7cbe\\u88c5\",\"\\u7cbe\\u88c5\",\"\\u7cbe\\u88c5\",\"\\u7cbe\\u88c5\",\"\\u7b80\\u88c5\",\"\\u7cbe\\u88c5\",\"\\u7cbe\\u88c5\",\"\\u7cbe\\u88c5\",\"\\u7b80\\u88c5\",\"\\u7cbe\\u88c5\",\"\\u7b80\\u88c5\",\"\\u7b80\\u88c5\",\"\\u7b80\\u88c5\",\"\\u7cbe\\u88c5\",\"\\u7cbe\\u88c5\",\"\\u7b80\\u88c5\",\"\\u7cbe\\u88c5\",\"\\u7b80\\u88c5\",\"\\u7cbe\\u88c5\",\"\\u5176\\u4ed6\",\"\\u7cbe\\u88c5\",\"\\u7b80\\u88c5\",\"\\u7b80\\u88c5\",\"\\u7b80\\u88c5\",\"\\u7cbe\\u88c5\",\"\\u7cbe\\u88c5\",\"\\u7cbe\\u88c5\",\"\\u7cbe\\u88c5\",\"\\u7cbe\\u88c5\",\"\\u7cbe\\u88c5\",\"\\u7b80\\u88c5\",\"\\u7cbe\\u88c5\",\"\\u7b80\\u88c5\",\"\\u7b80\\u88c5\",\"\\u7cbe\\u88c5\",\"\\u7cbe\\u88c5\",\"\\u7b80\\u88c5\",\"\\u7b80\\u88c5\",\"\\u6bdb\\u576f\",\"\\u5176\\u4ed6\",\"\\u7cbe\\u88c5\",\"\\u7b80\\u88c5\",\"\\u7b80\\u88c5\",\"\\u7b80\\u88c5\",\"\\u7b80\\u88c5\",\"\\u7cbe\\u88c5\",\"\\u7b80\\u88c5\",\"\\u7cbe\\u88c5\",\"\\u7cbe\\u88c5\",\"\\u7cbe\\u88c5\",\"\\u7b80\\u88c5\",\"\\u7cbe\\u88c5\",\"\\u7cbe\\u88c5\",\"\\u7cbe\\u88c5\",\"\\u7cbe\\u88c5\",\"\\u7b80\\u88c5\",\"\\u7cbe\\u88c5\",\"\\u7b80\\u88c5\",\"\\u7cbe\\u88c5\",\"\\u7cbe\\u88c5\",\"\\u7cbe\\u88c5\",\"\\u7b80\\u88c5\",\"\\u7b80\\u88c5\",\"\\u7b80\\u88c5\",\"\\u7b80\\u88c5\",\"\\u7cbe\\u88c5\",\"\\u7cbe\\u88c5\",\"\\u6bdb\\u576f\",\"\\u7cbe\\u88c5\",\"\\u7cbe\\u88c5\",\"\\u7cbe\\u88c5\",\"\\u7cbe\\u88c5\",\"\\u7cbe\\u88c5\",\"\\u7cbe\\u88c5\",\"\\u7b80\\u88c5\",\"\\u7b80\\u88c5\",\"\\u7cbe\\u88c5\",\"\\u7cbe\\u88c5\",\"\\u5176\\u4ed6\",\"\\u7cbe\\u88c5\",\"\\u7cbe\\u88c5\",\"\\u7cbe\\u88c5\",\"\\u7b80\\u88c5\",\"\\u5176\\u4ed6\",\"\\u7b80\\u88c5\",\"\\u7b80\\u88c5\",\"\\u7b80\\u88c5\",\"\\u7cbe\\u88c5\",\"\\u7b80\\u88c5\",\"\\u7cbe\\u88c5\",\"\\u7b80\\u88c5\",\"\\u7cbe\\u88c5\",\"\\u7b80\\u88c5\",\"\\u7cbe\\u88c5\",\"\\u6bdb\\u576f\",\"\\u7cbe\\u88c5\",\"\\u7cbe\\u88c5\",\"\\u7cbe\\u88c5\",\"\\u6bdb\\u576f\",\"\\u7cbe\\u88c5\",\"\\u7b80\\u88c5\",\"\\u7cbe\\u88c5\",\"\\u7cbe\\u88c5\",\"\\u7cbe\\u88c5\",\"\\u7cbe\\u88c5\",\"\\u7b80\\u88c5\",\"\\u7cbe\\u88c5\",\"\\u7b80\\u88c5\",\"\\u7b80\\u88c5\",\"\\u7cbe\\u88c5\",\"\\u7cbe\\u88c5\",\"\\u7cbe\\u88c5\",\"\\u7cbe\\u88c5\",\"\\u7b80\\u88c5\",\"\\u7b80\\u88c5\",\"\\u7b80\\u88c5\",\"\\u7b80\\u88c5\",\"\\u7b80\\u88c5\",\"\\u5176\\u4ed6\",\"\\u7cbe\\u88c5\",\"\\u7b80\\u88c5\",\"\\u7cbe\\u88c5\",\"\\u7b80\\u88c5\",\"\\u7cbe\\u88c5\",\"\\u7b80\\u88c5\",\"\\u7b80\\u88c5\",\"\\u7b80\\u88c5\",\"\\u7cbe\\u88c5\",\"\\u7cbe\\u88c5\",\"\\u7b80\\u88c5\",\"\\u7cbe\\u88c5\",\"\\u7b80\\u88c5\",\"\\u7b80\\u88c5\",\"\\u7b80\\u88c5\",\"\\u7cbe\\u88c5\",\"\\u7b80\\u88c5\",\"\\u7cbe\\u88c5\",\"\\u7cbe\\u88c5\",\"\\u7b80\\u88c5\",\"\\u6bdb\\u576f\",\"\\u7cbe\\u88c5\",\"\\u7b80\\u88c5\",\"\\u7b80\\u88c5\",\"\\u7cbe\\u88c5\",\"\\u7b80\\u88c5\",\"\\u7cbe\\u88c5\",\"\\u7b80\\u88c5\",\"\\u7cbe\\u88c5\",\"\\u7cbe\\u88c5\",\"\\u7b80\\u88c5\",\"\\u7cbe\\u88c5\",\"\\u7b80\\u88c5\",\"\\u7cbe\\u88c5\",\"\\u7b80\\u88c5\",\"\\u7b80\\u88c5\",\"\\u7cbe\\u88c5\",\"\\u7cbe\\u88c5\",\"\\u7cbe\\u88c5\",\"\\u7cbe\\u88c5\",\"\\u7b80\\u88c5\",\"\\u7cbe\\u88c5\",\"\\u7b80\\u88c5\",\"\\u7b80\\u88c5\",\"\\u7b80\\u88c5\",\"\\u7b80\\u88c5\",\"\\u7b80\\u88c5\",\"\\u7cbe\\u88c5\",\"\\u7b80\\u88c5\",\"\\u7b80\\u88c5\",\"\\u7b80\\u88c5\",\"\\u7b80\\u88c5\",\"\\u7b80\\u88c5\",\"\\u7b80\\u88c5\",\"\\u7cbe\\u88c5\",\"\\u7cbe\\u88c5\",\"\\u7cbe\\u88c5\",\"\\u7b80\\u88c5\",\"\\u7cbe\\u88c5\",\"\\u7cbe\\u88c5\",\"\\u7b80\\u88c5\",\"\\u7cbe\\u88c5\",\"\\u7b80\\u88c5\",\"\\u7b80\\u88c5\",\"\\u7b80\\u88c5\",\"\\u7cbe\\u88c5\",\"\\u7cbe\\u88c5\",\"\\u7b80\\u88c5\",\"\\u7cbe\\u88c5\",\"\\u7cbe\\u88c5\",\"\\u7cbe\\u88c5\",\"\\u7b80\\u88c5\",\"\\u5176\\u4ed6\",\"\\u7cbe\\u88c5\",\"\\u7cbe\\u88c5\",\"\\u7b80\\u88c5\",\"\\u7cbe\\u88c5\",\"\\u7cbe\\u88c5\",\"\\u7cbe\\u88c5\",\"\\u7cbe\\u88c5\",\"\\u7cbe\\u88c5\",\"\\u7cbe\\u88c5\",\"\\u7cbe\\u88c5\",\"\\u7cbe\\u88c5\",\"\\u7cbe\\u88c5\",\"\\u5176\\u4ed6\",\"\\u7cbe\\u88c5\",\"\\u7cbe\\u88c5\",\"\\u7cbe\\u88c5\",\"\\u7cbe\\u88c5\",\"\\u7cbe\\u88c5\",\"\\u7cbe\\u88c5\",\"\\u6bdb\\u576f\",\"\\u7cbe\\u88c5\",\"\\u7cbe\\u88c5\",\"\\u7cbe\\u88c5\",\"\\u7cbe\\u88c5\",\"\\u7b80\\u88c5\",\"\\u7b80\\u88c5\",\"\\u7b80\\u88c5\",\"\\u7cbe\\u88c5\",\"\\u7b80\\u88c5\",\"\\u7b80\\u88c5\",\"\\u7b80\\u88c5\",\"\\u7b80\\u88c5\",\"\\u7b80\\u88c5\",\"\\u7cbe\\u88c5\",\"\\u7cbe\\u88c5\",\"\\u7b80\\u88c5\",\"\\u7b80\\u88c5\",\"\\u7b80\\u88c5\",\"\\u7cbe\\u88c5\",\"\\u7cbe\\u88c5\",\"\\u7cbe\\u88c5\",\"\\u7b80\\u88c5\",\"\\u7b80\\u88c5\",\"\\u7cbe\\u88c5\",\"\\u7cbe\\u88c5\",\"\\u7b80\\u88c5\",\"\\u5176\\u4ed6\",\"\\u7b80\\u88c5\",\"\\u7cbe\\u88c5\",\"\\u7cbe\\u88c5\",\"\\u7cbe\\u88c5\",\"\\u7cbe\\u88c5\",\"\\u7cbe\\u88c5\",\"\\u6bdb\\u576f\",\"\\u7cbe\\u88c5\",\"\\u7b80\\u88c5\",\"\\u7b80\\u88c5\",\"\\u7cbe\\u88c5\",\"\\u7b80\\u88c5\",\"\\u7cbe\\u88c5\",\"\\u7b80\\u88c5\",\"\\u7cbe\\u88c5\",\"\\u7cbe\\u88c5\",\"\\u7cbe\\u88c5\",\"\\u7cbe\\u88c5\",\"\\u7cbe\\u88c5\",\"\\u6bdb\\u576f\",\"\\u7cbe\\u88c5\",\"\\u7b80\\u88c5\",\"\\u7b80\\u88c5\",\"\\u7b80\\u88c5\",\"\\u7cbe\\u88c5\",\"\\u7cbe\\u88c5\",\"\\u7cbe\\u88c5\",\"\\u7b80\\u88c5\",\"\\u7cbe\\u88c5\",\"\\u7b80\\u88c5\",\"\\u7cbe\\u88c5\",\"\\u7cbe\\u88c5\",\"\\u7cbe\\u88c5\",\"\\u7cbe\\u88c5\",\"\\u7cbe\\u88c5\",\"\\u7cbe\\u88c5\",\"\\u7b80\\u88c5\",\"\\u7cbe\\u88c5\",\"\\u7b80\\u88c5\",\"\\u7cbe\\u88c5\",\"\\u7b80\\u88c5\",\"\\u7b80\\u88c5\",\"\\u7cbe\\u88c5\",\"\\u7cbe\\u88c5\",\"\\u7cbe\\u88c5\",\"\\u7b80\\u88c5\",\"\\u7b80\\u88c5\",\"\\u7b80\\u88c5\",\"\\u7b80\\u88c5\",\"\\u7cbe\\u88c5\",\"\\u7b80\\u88c5\",\"\\u7cbe\\u88c5\",\"\\u7cbe\\u88c5\",\"\\u7b80\\u88c5\",\"\\u7cbe\\u88c5\",\"\\u7cbe\\u88c5\",\"\\u7cbe\\u88c5\",\"\\u7b80\\u88c5\",\"\\u7cbe\\u88c5\",\"\\u7b80\\u88c5\",\"\\u7b80\\u88c5\",\"\\u7b80\\u88c5\",\"\\u7cbe\\u88c5\",\"\\u7b80\\u88c5\",\"\\u7b80\\u88c5\",\"\\u7b80\\u88c5\",\"\\u7cbe\\u88c5\",\"\\u7cbe\\u88c5\",\"\\u7cbe\\u88c5\",\"\\u7cbe\\u88c5\",\"\\u7b80\\u88c5\",\"\\u7b80\\u88c5\",\"\\u7b80\\u88c5\",\"\\u7cbe\\u88c5\",\"\\u7cbe\\u88c5\",\"\\u7b80\\u88c5\",\"\\u7cbe\\u88c5\",\"\\u7cbe\\u88c5\",\"\\u7b80\\u88c5\",\"\\u7cbe\\u88c5\",\"\\u7cbe\\u88c5\",\"\\u7b80\\u88c5\",\"\\u7b80\\u88c5\",\"\\u7cbe\\u88c5\",\"\\u7cbe\\u88c5\",\"\\u7cbe\\u88c5\",\"\\u7b80\\u88c5\",\"\\u7b80\\u88c5\",\"\\u7cbe\\u88c5\",\"\\u7cbe\\u88c5\",\"\\u7b80\\u88c5\",\"\\u7cbe\\u88c5\",\"\\u7cbe\\u88c5\",\"\\u7cbe\\u88c5\",\"\\u7b80\\u88c5\",\"\\u7b80\\u88c5\",\"\\u7cbe\\u88c5\",\"\\u7cbe\\u88c5\",\"\\u7cbe\\u88c5\",\"\\u7cbe\\u88c5\",\"\\u7cbe\\u88c5\",\"\\u7cbe\\u88c5\",\"\\u7cbe\\u88c5\",\"\\u7cbe\\u88c5\",\"\\u7b80\\u88c5\",\"\\u7cbe\\u88c5\",\"\\u7cbe\\u88c5\",\"\\u7b80\\u88c5\",\"\\u7cbe\\u88c5\",\"\\u7cbe\\u88c5\",\"\\u7cbe\\u88c5\",\"\\u7b80\\u88c5\",\"\\u7cbe\\u88c5\",\"\\u7cbe\\u88c5\",\"\\u7cbe\\u88c5\",\"\\u7cbe\\u88c5\",\"\\u7cbe\\u88c5\",\"\\u7b80\\u88c5\",\"\\u6bdb\\u576f\",\"\\u7cbe\\u88c5\",\"\\u7cbe\\u88c5\",\"\\u7b80\\u88c5\",\"\\u7cbe\\u88c5\",\"\\u7b80\\u88c5\",\"\\u7cbe\\u88c5\",\"\\u7b80\\u88c5\",\"\\u7cbe\\u88c5\",\"\\u7b80\\u88c5\",\"\\u7cbe\\u88c5\",\"\\u7cbe\\u88c5\",\"\\u7cbe\\u88c5\",\"\\u7cbe\\u88c5\",\"\\u7cbe\\u88c5\",\"\\u6bdb\\u576f\",\"\\u7cbe\\u88c5\",\"\\u7b80\\u88c5\",\"\\u7cbe\\u88c5\",\"\\u7b80\\u88c5\",\"\\u7cbe\\u88c5\",\"\\u7cbe\\u88c5\",\"\\u7b80\\u88c5\",\"\\u7b80\\u88c5\",\"\\u7b80\\u88c5\",\"\\u7b80\\u88c5\",\"\\u7cbe\\u88c5\",\"\\u7cbe\\u88c5\",\"\\u7cbe\\u88c5\",\"\\u7cbe\\u88c5\",\"\\u7b80\\u88c5\",\"\\u7cbe\\u88c5\",\"\\u7cbe\\u88c5\",\"\\u7b80\\u88c5\",\"\\u7cbe\\u88c5\",\"\\u7cbe\\u88c5\",\"\\u7cbe\\u88c5\",\"\\u7b80\\u88c5\",\"\\u7cbe\\u88c5\",\"\\u7cbe\\u88c5\",\"\\u7cbe\\u88c5\",\"\\u7cbe\\u88c5\",\"\\u5176\\u4ed6\",\"\\u7cbe\\u88c5\",\"\\u7cbe\\u88c5\",\"\\u7cbe\\u88c5\",\"\\u7b80\\u88c5\",\"\\u7cbe\\u88c5\",\"\\u7cbe\\u88c5\",\"\\u7cbe\\u88c5\",\"\\u7b80\\u88c5\",\"\\u7b80\\u88c5\",\"\\u7cbe\\u88c5\",\"\\u7cbe\\u88c5\",\"\\u7b80\\u88c5\",\"\\u7b80\\u88c5\",\"\\u7cbe\\u88c5\",\"\\u7b80\\u88c5\",\"\\u7b80\\u88c5\",\"\\u7cbe\\u88c5\",\"\\u7b80\\u88c5\",\"\\u7cbe\\u88c5\",\"\\u7b80\\u88c5\",\"\\u7b80\\u88c5\",\"\\u7cbe\\u88c5\",\"\\u7cbe\\u88c5\",\"\\u7b80\\u88c5\",\"\\u7cbe\\u88c5\",\"\\u7cbe\\u88c5\",\"\\u7b80\\u88c5\",\"\\u7cbe\\u88c5\",\"\\u7b80\\u88c5\",\"\\u7cbe\\u88c5\",\"\\u7cbe\\u88c5\",\"\\u7cbe\\u88c5\",\"\\u7cbe\\u88c5\",\"\\u7cbe\\u88c5\",\"\\u7cbe\\u88c5\",\"\\u7b80\\u88c5\",\"\\u7b80\\u88c5\",\"\\u7cbe\\u88c5\",\"\\u7b80\\u88c5\",\"\\u7cbe\\u88c5\",\"\\u7b80\\u88c5\",\"\\u7b80\\u88c5\",\"\\u7cbe\\u88c5\",\"\\u7cbe\\u88c5\",\"\\u7cbe\\u88c5\",\"\\u7cbe\\u88c5\",\"\\u7cbe\\u88c5\",\"\\u7cbe\\u88c5\",\"\\u7cbe\\u88c5\",\"\\u7b80\\u88c5\",\"\\u7b80\\u88c5\",\"\\u7cbe\\u88c5\",\"\\u7b80\\u88c5\",\"\\u7cbe\\u88c5\",\"\\u7cbe\\u88c5\",\"\\u7b80\\u88c5\",\"\\u7b80\\u88c5\",\"\\u7cbe\\u88c5\",\"\\u7cbe\\u88c5\",\"\\u7b80\\u88c5\",\"\\u6bdb\\u576f\",\"\\u7cbe\\u88c5\",\"\\u7cbe\\u88c5\",\"\\u7cbe\\u88c5\",\"\\u7cbe\\u88c5\",\"\\u7b80\\u88c5\",\"\\u7cbe\\u88c5\",\"\\u7b80\\u88c5\",\"\\u7b80\\u88c5\",\"\\u7b80\\u88c5\",\"\\u7b80\\u88c5\",\"\\u7cbe\\u88c5\",\"\\u7b80\\u88c5\",\"\\u7cbe\\u88c5\",\"\\u7b80\\u88c5\",\"\\u7b80\\u88c5\",\"\\u7cbe\\u88c5\",\"\\u7cbe\\u88c5\",\"\\u7b80\\u88c5\",\"\\u7cbe\\u88c5\",\"\\u7b80\\u88c5\",\"\\u7cbe\\u88c5\",\"\\u7b80\\u88c5\",\"\\u7b80\\u88c5\",\"\\u7b80\\u88c5\",\"\\u7cbe\\u88c5\",\"\\u7b80\\u88c5\",\"\\u7cbe\\u88c5\",\"\\u7cbe\\u88c5\",\"\\u7cbe\\u88c5\",\"\\u7b80\\u88c5\",\"\\u7b80\\u88c5\",\"\\u7cbe\\u88c5\",\"\\u7b80\\u88c5\",\"\\u7b80\\u88c5\",\"\\u7b80\\u88c5\",\"\\u7cbe\\u88c5\",\"\\u7cbe\\u88c5\",\"\\u7cbe\\u88c5\",\"\\u7b80\\u88c5\",\"\\u7b80\\u88c5\",\"\\u7b80\\u88c5\",\"\\u7b80\\u88c5\",\"\\u7b80\\u88c5\",\"\\u7cbe\\u88c5\",\"\\u7cbe\\u88c5\",\"\\u7cbe\\u88c5\",\"\\u7b80\\u88c5\",\"\\u7cbe\\u88c5\",\"\\u7b80\\u88c5\",\"\\u7cbe\\u88c5\",\"\\u7cbe\\u88c5\",\"\\u7cbe\\u88c5\",\"\\u7b80\\u88c5\",\"\\u7b80\\u88c5\",\"\\u7cbe\\u88c5\",\"\\u7b80\\u88c5\",\"\\u7cbe\\u88c5\",\"\\u7b80\\u88c5\",\"\\u7cbe\\u88c5\",\"\\u7b80\\u88c5\",\"\\u7cbe\\u88c5\",\"\\u7cbe\\u88c5\",\"\\u7cbe\\u88c5\",\"\\u7b80\\u88c5\",\"\\u7b80\\u88c5\",\"\\u7b80\\u88c5\",\"\\u7b80\\u88c5\",\"\\u7b80\\u88c5\",\"\\u7b80\\u88c5\",\"\\u7cbe\\u88c5\",\"\\u7b80\\u88c5\",\"\\u7cbe\\u88c5\",\"\\u7cbe\\u88c5\",\"\\u7cbe\\u88c5\",\"\\u7b80\\u88c5\",\"\\u7cbe\\u88c5\",\"\\u7b80\\u88c5\",\"\\u6bdb\\u576f\",\"\\u7cbe\\u88c5\",\"\\u7cbe\\u88c5\",\"\\u7cbe\\u88c5\",\"\\u5176\\u4ed6\",\"\\u7cbe\\u88c5\",\"\\u7cbe\\u88c5\",\"\\u7b80\\u88c5\",\"\\u7cbe\\u88c5\",\"\\u7cbe\\u88c5\",\"\\u7b80\\u88c5\",\"\\u7cbe\\u88c5\",\"\\u5176\\u4ed6\",\"\\u7b80\\u88c5\",\"\\u7cbe\\u88c5\",\"\\u7cbe\\u88c5\",\"\\u7cbe\\u88c5\",\"\\u7cbe\\u88c5\",\"\\u7cbe\\u88c5\",\"\\u7b80\\u88c5\",\"\\u7cbe\\u88c5\",\"\\u7cbe\\u88c5\",\"\\u7cbe\\u88c5\",\"\\u7b80\\u88c5\",\"\\u7b80\\u88c5\",\"\\u7cbe\\u88c5\",\"\\u7cbe\\u88c5\",\"\\u7cbe\\u88c5\",\"\\u7cbe\\u88c5\",\"\\u7b80\\u88c5\",\"\\u7cbe\\u88c5\",\"\\u7cbe\\u88c5\",\"\\u5176\\u4ed6\",\"\\u7b80\\u88c5\",\"\\u7cbe\\u88c5\",\"\\u7cbe\\u88c5\",\"\\u7cbe\\u88c5\",\"\\u7b80\\u88c5\",\"\\u6bdb\\u576f\",\"\\u7b80\\u88c5\",\"\\u5176\\u4ed6\",\"\\u7cbe\\u88c5\",\"\\u7cbe\\u88c5\",\"\\u6bdb\\u576f\",\"\\u7cbe\\u88c5\",\"\\u7b80\\u88c5\",\"\\u7cbe\\u88c5\",\"\\u7cbe\\u88c5\",\"\\u7cbe\\u88c5\",\"\\u7b80\\u88c5\",\"\\u7b80\\u88c5\",\"\\u7b80\\u88c5\",\"\\u7b80\\u88c5\",\"\\u7b80\\u88c5\",\"\\u7b80\\u88c5\",\"\\u7cbe\\u88c5\",\"\\u7cbe\\u88c5\",\"\\u7b80\\u88c5\",\"\\u7cbe\\u88c5\",\"\\u7cbe\\u88c5\",\"\\u7b80\\u88c5\",\"\\u7cbe\\u88c5\",\"\\u7cbe\\u88c5\",\"\\u7b80\\u88c5\",\"\\u7b80\\u88c5\",\"\\u7b80\\u88c5\",\"\\u7cbe\\u88c5\",\"\\u7b80\\u88c5\",\"\\u7b80\\u88c5\",\"\\u7b80\\u88c5\",\"\\u7cbe\\u88c5\",\"\\u7cbe\\u88c5\",\"\\u7b80\\u88c5\",\"\\u7b80\\u88c5\",\"\\u7cbe\\u88c5\",\"\\u7b80\\u88c5\",\"\\u7cbe\\u88c5\",\"\\u7cbe\\u88c5\",\"\\u7cbe\\u88c5\",\"\\u7cbe\\u88c5\",\"\\u7b80\\u88c5\",\"\\u7cbe\\u88c5\",\"\\u7b80\\u88c5\",\"\\u7b80\\u88c5\",\"\\u7cbe\\u88c5\",\"\\u7b80\\u88c5\",\"\\u7cbe\\u88c5\",\"\\u7b80\\u88c5\",\"\\u7cbe\\u88c5\",\"\\u7cbe\\u88c5\",\"\\u7cbe\\u88c5\",\"\\u7cbe\\u88c5\",\"\\u7cbe\\u88c5\",\"\\u7b80\\u88c5\",\"\\u6bdb\\u576f\",\"\\u7cbe\\u88c5\",\"\\u7cbe\\u88c5\",\"\\u7cbe\\u88c5\",\"\\u7b80\\u88c5\",\"\\u7b80\\u88c5\",\"\\u7cbe\\u88c5\",\"\\u7b80\\u88c5\",\"\\u7cbe\\u88c5\",\"\\u7cbe\\u88c5\",\"\\u7cbe\\u88c5\",\"\\u7b80\\u88c5\",\"\\u7b80\\u88c5\",\"\\u7b80\\u88c5\",\"\\u7cbe\\u88c5\",\"\\u7b80\\u88c5\",\"\\u7b80\\u88c5\",\"\\u7cbe\\u88c5\",\"\\u7cbe\\u88c5\",\"\\u7b80\\u88c5\",\"\\u7b80\\u88c5\",\"\\u7b80\\u88c5\",\"\\u7b80\\u88c5\",\"\\u7cbe\\u88c5\",\"\\u7b80\\u88c5\",\"\\u7b80\\u88c5\",\"\\u7cbe\\u88c5\",\"\\u7b80\\u88c5\",\"\\u7cbe\\u88c5\",\"\\u7cbe\\u88c5\",\"\\u7b80\\u88c5\",\"\\u7cbe\\u88c5\",\"\\u7b80\\u88c5\",\"\\u7cbe\\u88c5\",\"\\u7cbe\\u88c5\",\"\\u7b80\\u88c5\",\"\\u7b80\\u88c5\",\"\\u7b80\\u88c5\",\"\\u7cbe\\u88c5\",\"\\u7b80\\u88c5\",\"\\u7cbe\\u88c5\",\"\\u7cbe\\u88c5\",\"\\u7cbe\\u88c5\",\"\\u7b80\\u88c5\",\"\\u7b80\\u88c5\",\"\\u7b80\\u88c5\",\"\\u7cbe\\u88c5\",\"\\u7cbe\\u88c5\",\"\\u7b80\\u88c5\",\"\\u7cbe\\u88c5\",\"\\u5176\\u4ed6\",\"\\u7cbe\\u88c5\",\"\\u7b80\\u88c5\",\"\\u7b80\\u88c5\",\"\\u7cbe\\u88c5\",\"\\u7cbe\\u88c5\",\"\\u7b80\\u88c5\",\"\\u7cbe\\u88c5\",\"\\u7cbe\\u88c5\",\"\\u7b80\\u88c5\",\"\\u7cbe\\u88c5\",\"\\u7b80\\u88c5\",\"\\u7b80\\u88c5\",\"\\u7cbe\\u88c5\",\"\\u7cbe\\u88c5\",\"\\u7cbe\\u88c5\",\"\\u7cbe\\u88c5\",\"\\u7b80\\u88c5\",\"\\u7cbe\\u88c5\",\"\\u7b80\\u88c5\",\"\\u7b80\\u88c5\",\"\\u7b80\\u88c5\",\"\\u7b80\\u88c5\",\"\\u7b80\\u88c5\",\"\\u7b80\\u88c5\",\"\\u7cbe\\u88c5\",\"\\u7b80\\u88c5\",\"\\u7cbe\\u88c5\",\"\\u7cbe\\u88c5\",\"\\u7b80\\u88c5\",\"\\u7cbe\\u88c5\",\"\\u7b80\\u88c5\",\"\\u7b80\\u88c5\",\"\\u7cbe\\u88c5\",\"\\u7cbe\\u88c5\",\"\\u7b80\\u88c5\",\"\\u6bdb\\u576f\",\"\\u7cbe\\u88c5\",\"\\u7cbe\\u88c5\",\"\\u7b80\\u88c5\",\"\\u7cbe\\u88c5\",\"\\u7b80\\u88c5\",\"\\u7b80\\u88c5\",\"\\u7b80\\u88c5\",\"\\u7b80\\u88c5\",\"\\u7b80\\u88c5\",\"\\u7cbe\\u88c5\",\"\\u7cbe\\u88c5\",\"\\u7cbe\\u88c5\",\"\\u7b80\\u88c5\",\"\\u7b80\\u88c5\",\"\\u7cbe\\u88c5\",\"\\u7b80\\u88c5\",\"\\u7b80\\u88c5\",\"\\u7cbe\\u88c5\",\"\\u7b80\\u88c5\",\"\\u7cbe\\u88c5\",\"\\u7b80\\u88c5\",\"\\u7cbe\\u88c5\",\"\\u5176\\u4ed6\",\"\\u7cbe\\u88c5\",\"\\u7b80\\u88c5\",\"\\u7cbe\\u88c5\",\"\\u7cbe\\u88c5\",\"\\u7cbe\\u88c5\",\"\\u7b80\\u88c5\",\"\\u7b80\\u88c5\",\"\\u7b80\\u88c5\",\"\\u7b80\\u88c5\",\"\\u5176\\u4ed6\",\"\\u7cbe\\u88c5\",\"\\u7cbe\\u88c5\",\"\\u7b80\\u88c5\",\"\\u7cbe\\u88c5\",\"\\u7cbe\\u88c5\",\"\\u7cbe\\u88c5\",\"\\u7cbe\\u88c5\",\"\\u7cbe\\u88c5\",\"\\u7cbe\\u88c5\",\"\\u7b80\\u88c5\",\"\\u7b80\\u88c5\",\"\\u7cbe\\u88c5\",\"\\u7cbe\\u88c5\",\"\\u7cbe\\u88c5\",\"\\u7cbe\\u88c5\",\"\\u7b80\\u88c5\",\"\\u7cbe\\u88c5\",\"\\u7cbe\\u88c5\",\"\\u7cbe\\u88c5\",\"\\u7b80\\u88c5\",\"\\u7cbe\\u88c5\",\"\\u7cbe\\u88c5\",\"\\u7cbe\\u88c5\",\"\\u7cbe\\u88c5\",\"\\u7cbe\\u88c5\",\"\\u7b80\\u88c5\",\"\\u7cbe\\u88c5\",\"\\u7b80\\u88c5\",\"\\u7cbe\\u88c5\",\"\\u7cbe\\u88c5\",\"\\u7b80\\u88c5\",\"\\u7b80\\u88c5\",\"\\u7cbe\\u88c5\",\"\\u7cbe\\u88c5\",\"\\u7cbe\\u88c5\",\"\\u7cbe\\u88c5\",\"\\u7cbe\\u88c5\",\"\\u7cbe\\u88c5\",\"\\u7b80\\u88c5\",\"\\u7b80\\u88c5\",\"\\u7cbe\\u88c5\",\"\\u6bdb\\u576f\",\"\\u7cbe\\u88c5\",\"\\u7b80\\u88c5\",\"\\u7cbe\\u88c5\",\"\\u7b80\\u88c5\",\"\\u7cbe\\u88c5\",\"\\u7cbe\\u88c5\",\"\\u7cbe\\u88c5\",\"\\u7cbe\\u88c5\",\"\\u7b80\\u88c5\",\"\\u7cbe\\u88c5\",\"\\u7b80\\u88c5\",\"\\u7cbe\\u88c5\",\"\\u7cbe\\u88c5\",\"\\u7cbe\\u88c5\",\"\\u7cbe\\u88c5\",\"\\u7cbe\\u88c5\",\"\\u7b80\\u88c5\",\"\\u7cbe\\u88c5\",\"\\u7b80\\u88c5\",\"\\u7cbe\\u88c5\",\"\\u7b80\\u88c5\",\"\\u7b80\\u88c5\",\"\\u7cbe\\u88c5\",\"\\u7b80\\u88c5\",\"\\u7cbe\\u88c5\",\"\\u7cbe\\u88c5\",\"\\u7b80\\u88c5\",\"\\u7cbe\\u88c5\",\"\\u7cbe\\u88c5\",\"\\u7cbe\\u88c5\",\"\\u7b80\\u88c5\"],\"x0\":\" \",\"xaxis\":\"x\",\"y\":{\"dtype\":\"f8\",\"bdata\":\"AAAAAABQhEAAAAAAAEB6QAAAAAAAsIJAAAAAAADQcUAAAAAAANSSQAAAAAAAwHJAAAAAAADgYEAAAAAAAACUQAAAAAAA4HpAAAAAAABwgkAAAAAAAJCAQAAAAAAA4H1AAAAAAADAXkAAAAAAAGB0QAAAAAAAcHdAAAAAAABAaUAAAAAAAGBoQAAAAAAAQFBAAAAAAABgg0AAAAAAAOB6QAAAAAAAkHlAAAAAAACAbEAAAAAAAFCDQAAAAAAAIH1AAAAAAACgZEAAAAAAADB7QAAAAAAAoH9AAAAAAAAgZUAAAAAAAOB1QAAAAAAAYGZAAAAAAAAAXEAAAAAAAFiVQAAAAAAAgGZAAAAAAAAohEAAAAAAABCIQAAAAAAAUHFAAAAAAADgcEAAAAAAAGiAQAAAAAAAqIZAAAAAAACgekAAAAAAAGBrQAAAAAAAUHNAAAAAAABgh0AAAAAAADBwQAAAAAAAuIBAAAAAAABwckAAAAAAACB\\u002fQAAAAAAAsJ1AAAAAAADgaEAAAAAAAHB7QAAAAAAAkHRAAAAAAAAwkUAAAAAAALiAQAAAAAAAoHRAAAAAAAAwdkAAAAAAAIBsQAAAAAAAcHxAAAAAAAAgcEAAAAAAABB3QAAAAAAAoHdAAAAAAAAgYkAAAAAAALByQAAAAAAAGJBAAAAAAAAgbEAAAAAAABBzQAAAAAAAYG9AAAAAAACAZkAAAAAAAHB2QAAAAAAA0IBAAAAAAACohkAAAAAAAAiBQAAAAAAAcHxAAAAAAADAXEAAAAAAAEBrQAAAAAAAQIBAAAAAAABQfkAAAAAAAKCRQAAAAAAA0IZAAAAAAABQc0AAAAAAAIBxQAAAAAAAoGRAAAAAAABgZkAAAAAAAOBqQAAAAAAA8HhAAAAAAADQcUAAAAAAAJB0QAAAAAAAAIhAAAAAAABwckAAAAAAAIBxQAAAAAAA4GNAAAAAAADQdkAAAAAAAIByQAAAAAAAkIBAAAAAAAAgYUAAAAAAAABvQAAAAAAAMHZAAAAAAADAekAAAAAAAGBtQAAAAAAAcHFAAAAAAACAZkAAAAAAAOBqQAAAAAAAgGtAAAAAAACAbEAAAAAAAEB\\u002fQAAAAAAAoHxAAAAAAADQhEAAAAAAAMBuQAAAAAAA0IZAAAAAAAA4k0AAAAAAAGBhQAAAAAAA4GVAAAAAAACgYEAAAAAAAJB\\u002fQAAAAAAAUHlAAAAAAACgeUAAAAAAAOBuQAAAAAAA8HlAAAAAAAAAYUAAAAAAAMCSQAAAAAAAcHtAAAAAAACAcUAAAAAAABBxQAAAAAAAUHNAAAAAAADIlEAAAAAAADB1QAAAAAAAmIBAAAAAAADQdkAAAAAAAJCCQAAAAAAA0HBAAAAAAABAekAAAAAAAMB8QAAAAAAA4HNAAAAAAACAYUAAAAAAAOBqQAAAAAAAYHNAAAAAAAAAfkAAAAAAADB2QAAAAAAAQGpAAAAAAAAgb0AAAAAAALB4QAAAAAAAQHhAAAAAAAAAZUAAAAAAALB4QAAAAAAAsINAAAAAAADwfUAAAAAAAOCFQAAAAAAAYHtAAAAAAACQdUAAAAAAAKByQAAAAAAAAHdAAAAAAABAYkAAAAAAAJCEQAAAAAAAQIBAAAAAAAAYlUAAAAAAAABpQAAAAAAA0HBAAAAAAAAQcUAAAAAAAEBoQAAAAAAASIJAAAAAAADgY0AAAAAAAFB0QAAAAAAAwHNAAAAAAADgbUAAAAAAAEBqQAAAAAAA2IVAAAAAAAAgcUAAAAAAAIBgQAAAAAAAMHFAAAAAAADAdUAAAAAAAOBqQAAAAAAAkHBAAAAAAABgbUAAAAAAAGB2QAAAAAAASIJAAAAAAACAeUAAAAAAAOBjQAAAAAAAIG1AAAAAAAAwgUAAAAAAAMBjQAAAAAAAMItAAAAAAAAAd0AAAAAAACBgQAAAAAAAYGZAAAAAAADQdkAAAAAAAGB4QAAAAAAAgG1AAAAAAADgdUAAAAAAALCHQAAAAAAAQGpAAAAAAADIlEAAAAAAAOiHQAAAAAAAwIZAAAAAAACQcEAAAAAAAMB8QAAAAAAA4G9AAAAAAACAa0AAAAAAAABpQAAAAAAAqKZAAAAAAACQf0AAAAAAAEB6QAAAAAAA0HZAAAAAAAAAckAAAAAAANB1QAAAAAAAOIVAAAAAAAAwdUAAAAAAAMB6QAAAAAAAIG9AAAAAAACQd0AAAAAAAKCOQAAAAAAA8HNAAAAAAABgZkAAAAAAAHiEQAAAAAAA4HpAAAAAAAAAYEAAAAAAADB1QAAAAAAA0HpAAAAAAABAdUAAAAAAADB2QAAAAAAA4HpAAAAAAACAbEAAAAAAAHCCQAAAAAAAsHJAAAAAAABQhEAAAAAAAGB9QAAAAAAAIHdAAAAAAACweEAAAAAAAAB+QAAAAAAAWINAAAAAAAAYkkAAAAAAABiFQAAAAAAAqJFAAAAAAADweEAAAAAAABCDQAAAAAAA0HVAAAAAAAAgbEAAAAAAALByQAAAAAAAgItAAAAAAACgZEAAAAAAAGBmQAAAAAAAsINAAAAAAABgaEAAAAAAAKCEQAAAAAAAgGpAAAAAAADwckAAAAAAAMBuQAAAAAAAgHdAAAAAAACAb0AAAAAAAABkQAAAAAAA4GhAAAAAAABAdUAAAAAAAOBoQAAAAAAAoG5AAAAAAAAQd0AAAAAAAECAQAAAAAAAAHRAAAAAAACAnUAAAAAAAFBzQAAAAAAA0HlAAAAAAADgb0AAAAAAADB\\u002fQAAAAAAAAGxAAAAAAAAskUAAAAAAAGCaQAAAAAAAoHxAAAAAAAAAbkAAAAAAALByQAAAAAAAAHRAAAAAAAAQeUAAAAAAABB3QAAAAAAAYHFAAAAAAADgcEAAAAAAAKB+QAAAAAAA0IBAAAAAAACwk0AAAAAAAMBsQAAAAAAAAFFAAAAAAABga0AAAAAAAECAQAAAAAAAMIFAAAAAAAAgcEAAAAAAAJB0QAAAAAAAAFhAAAAAAACQikAAAAAAAKB5QAAAAAAAkHpAAAAAAAAYhUAAAAAAAMiUQAAAAAAA4HVAAAAAAACgekAAAAAAAJB6QAAAAAAAQHNAAAAAAACghEAAAAAAACBvQAAAAAAAAGtAAAAAAAAogUAAAAAAAEBnQAAAAAAAoHRAAAAAAACAe0AAAAAAAEB\\u002fQAAAAAAA0ItAAAAAAADQdkAAAAAAAEB4QAAAAAAA0HFAAAAAAADAfEAAAAAAAIBtQAAAAAAAwGNAAAAAAACAa0AAAAAAADB6QAAAAAAAoIRAAAAAAADQgUAAAAAAAGB4QAAAAAAAqJNAAAAAAACQgEAAAAAAAEiHQAAAAAAAEHJAAAAAAAAgdUAAAAAAAKBpQAAAAAAA0IRAAAAAAAC4gEAAAAAAAPB4QAAAAAAAgGNAAAAAAABgdkAAAAAAAEByQAAAAAAA4G1AAAAAAAColkAAAAAAAIBmQAAAAAAAwGlAAAAAAADQcUAAAAAAAKBtQAAAAAAAOJhAAAAAAAAAZEAAAAAAADCLQAAAAAAAIHJAAAAAAACQfkAAAAAAAIBrQAAAAAAA8HdAAAAAAAA4gEAAAAAAAJiEQAAAAAAA0HBAAAAAAADAZEAAAAAAAIBtQAAAAAAAMHZAAAAAAACgeUAAAAAAAIiTQAAAAAAAAGlAAAAAAADQekAAAAAAACBqQAAAAAAAcHdAzczMzMz8aEAAAAAAAECPQAAAAAAAqINAAAAAAAAsp0AAAAAAAMBwQAAAAAAA4HNAAAAAAACwfUAAAAAAABilQAAAAAAAoGdAAAAAAAAAb0AAAAAAAGB6QAAAAAAAgG1AAAAAAADweEAAAAAAACB3QAAAAAAA4G5AAAAAAAC4gEAAAAAAAEB4QAAAAAAAwFxAAAAAAACgZEAAAAAAAABwQAAAAAAA4HNAAAAAAACAdkAAAAAAANB2QAAAAAAA4HhAAAAAAADYgEAAAAAAACBvQAAAAAAAAHRAAAAAAADgZkAAAAAAAIBxQAAAAAAAOIBAAAAAAAAgdUAAAAAAAKBkQAAAAAAAAGlAAAAAAAAAckAAAAAAAICFQAAAAAAAcHJAAAAAAACwfEAAAAAAAIBxQAAAAAAAYIZAAAAAAAAAYUAAAAAAACiHQAAAAAAAaIZAAAAAAABQhEAAAAAAACBlQAAAAAAA0HhAAAAAAACwckAAAAAAACBoQAAAAAAAOIBAAAAAAADgc0AAAAAAAEiEQAAAAAAAgIZAAAAAAABAhUAAAAAAAIiDQAAAAAAAAGRAAAAAAAAAcEAAAAAAAKiBQAAAAAAA4HpAAAAAAACgiUAAAAAAAHB3QAAAAAAAIGdAAAAAAABQdEAAAAAAAABYQAAAAAAAsHxAAAAAAABQfkAAAAAAAIBrQAAAAAAA8HRAAAAAAADweEAAAAAAAHCBQAAAAAAA0JtAAAAAAACAakAAAAAAAJB1QAAAAAAA4H1AAAAAAAAogUAAAAAAAPB0QAAAAAAAsHNAAAAAAADweUAAAAAAAIB+QAAAAAAA0IFAAAAAAABga0AAAAAAANCBQAAAAAAAsIJAAAAAAADgaEAAAAAAADB7QAAAAAAAAHJAAAAAAADAfUAAAAAAAABvQAAAAAAA4H1AAAAAAAAQfEAAAAAAALByQAAAAAAAsH1AAAAAAABQeUAAAAAAAKiQQAAAAAAA0HVAAAAAAABgY0AAAAAAAABbQAAAAAAAAHdAAAAAAACwfUAAAAAAAKBuQAAAAAAAAGhAAAAAAACwgUAAAAAAACBiQAAAAAAAkHpAAAAAAAAQckAAAAAAAHB8QAAAAAAAYHFAAAAAAADAfEAAAAAAAMBkQAAAAAAAAGVAAAAAAAAgZ0AAAAAAANB6QAAAAAAAkHRAAAAAAADYhUAAAAAAAECFQAAAAAAAsHdAAAAAAAAgekAAAAAAALiAQAAAAAAA2IdAAAAAAAAQckAAAAAAAICBQAAAAAAA0HFAAAAAAAB8pUAAAAAAACB9QAAAAAAAUH1AAAAAAACskkAAAAAAAKByQAAAAAAACIZAAAAAAABAf0AAAAAAACB\\u002fQAAAAAAAIHVAAAAAAAAAckAAAAAAAOBoQAAAAAAAYGtAAAAAAAD0oUAAAAAAALB9QAAAAAAAQGpAAAAAAACQdUAAAAAAAEBlQAAAAAAA4HZAAAAAAAAwh0AAAAAAAGiFQAAAAAAAQHpAAAAAAABwd0AAAAAAAICBQAAAAAAAUH1AAAAAAABYgUAAAAAAAMB3QAAAAAAAkIpAAAAAAACgZEAAAAAAACBqQAAAAAAA0HpAAAAAAADweEAAAAAAAJB\\u002fQAAAAAAAIHdAAAAAAACIj0AAAAAAAGBjQAAAAAAAYGZAAAAAAAAQd0AAAAAAAMB8QAAAAAAAUHRAAAAAAAAAcEAAAAAAAGBzQAAAAAAAAHRAAAAAAADQdUAAAAAAAIBfQAAAAAAAYG1AAAAAAAAwf0AAAAAAAMB3QAAAAAAA6IJAAAAAAAAgakAAAAAAAKCCQAAAAAAAwHdAAAAAAAAAf0AAAAAAABB9QAAAAAAAoHxAAAAAAADQcEAAAAAAADB\\u002fQAAAAAAA8H1AAAAAAACAgEAAAAAAACBvQAAAAAAA8HhAAAAAAADQe0AAAAAAANB2QAAAAAAAoHdAAAAAAABAbEAAAAAAALiCQAAAAAAAMHFAAAAAAAAwe0AAAAAAAOBzQAAAAAAAwHRAAAAAAADAaEAAAAAAAGB2QAAAAAAAcHtAAAAAAABAhEAAAAAAAPB5QAAAAAAAcHxAAAAAAACwgkAAAAAAACB6QAAAAAAAEHRAAAAAAAA4j0AAAAAAAICLQAAAAAAAgHFAAAAAAADAY0AAAAAAAMB8QAAAAAAAYGtAAAAAAABAgUAAAAAAAEBvQAAAAAAAwIZAAAAAAABYgUAAAAAAALCGQAAAAAAA4GBAAAAAAADggEAAAAAAAAB1QAAAAAAAQIBAAAAAAADIhEAAAAAAAFB0QAAAAAAAQHNAAAAAAABgYUAAAAAAAHylQAAAAAAAwHxAAAAAAABge0AAAAAAAKBzQAAAAAAAMHZAAAAAAAAwoUAAAAAAAGBtQAAAAAAAYIhAAAAAAAAggkAAAAAAADCEQAAAAAAA0ItAAAAAAADgekAAAAAAAGBzQAAAAAAAwHxAAAAAAADwc0AAAAAAANB6QAAAAAAAoGlAAAAAAAAAfkAAAAAAALCIQAAAAAAAgHNAAAAAAAAskUAAAAAAAJCKQAAAAAAA8HhAAAAAAAAgYEAAAAAAAEiEQAAAAAAA4GpAAAAAAABgeEAAAAAAAHCHQAAAAAAAwHhAAAAAAAAggkAAAAAAAHiBQAAAAAAAsIJAAAAAAAAQd0AAAAAAADB1QAAAAAAAwHJAAAAAAABYgUAAAAAAAHBxQAAAAAAAwGxAAAAAAAAwdkAAAAAAAOBuQAAAAAAAMHVAAAAAAACggkAAAAAAAAByQAAAAAAAoHdAAAAAAACQdEAAAAAAAPiGQAAAAAAAoGJAAAAAAACgbEAAAAAAAKB\\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\"},\"y0\":\" \",\"yaxis\":\"y\",\"type\":\"box\"}],                        {\"template\":{\"data\":{\"histogram2dcontour\":[{\"type\":\"histogram2dcontour\",\"colorbar\":{\"outlinewidth\":0,\"ticks\":\"\"},\"colorscale\":[[0.0,\"#0d0887\"],[0.1111111111111111,\"#46039f\"],[0.2222222222222222,\"#7201a8\"],[0.3333333333333333,\"#9c179e\"],[0.4444444444444444,\"#bd3786\"],[0.5555555555555556,\"#d8576b\"],[0.6666666666666666,\"#ed7953\"],[0.7777777777777778,\"#fb9f3a\"],[0.8888888888888888,\"#fdca26\"],[1.0,\"#f0f921\"]]}],\"choropleth\":[{\"type\":\"choropleth\",\"colorbar\":{\"outlinewidth\":0,\"ticks\":\"\"}}],\"histogram2d\":[{\"type\":\"histogram2d\",\"colorbar\":{\"outlinewidth\":0,\"ticks\":\"\"},\"colorscale\":[[0.0,\"#0d0887\"],[0.1111111111111111,\"#46039f\"],[0.2222222222222222,\"#7201a8\"],[0.3333333333333333,\"#9c179e\"],[0.4444444444444444,\"#bd3786\"],[0.5555555555555556,\"#d8576b\"],[0.6666666666666666,\"#ed7953\"],[0.7777777777777778,\"#fb9f3a\"],[0.8888888888888888,\"#fdca26\"],[1.0,\"#f0f921\"]]}],\"heatmap\":[{\"type\":\"heatmap\",\"colorbar\":{\"outlinewidth\":0,\"ticks\":\"\"},\"colorscale\":[[0.0,\"#0d0887\"],[0.1111111111111111,\"#46039f\"],[0.2222222222222222,\"#7201a8\"],[0.3333333333333333,\"#9c179e\"],[0.4444444444444444,\"#bd3786\"],[0.5555555555555556,\"#d8576b\"],[0.6666666666666666,\"#ed7953\"],[0.7777777777777778,\"#fb9f3a\"],[0.8888888888888888,\"#fdca26\"],[1.0,\"#f0f921\"]]}],\"contourcarpet\":[{\"type\":\"contourcarpet\",\"colorbar\":{\"outlinewidth\":0,\"ticks\":\"\"}}],\"contour\":[{\"type\":\"contour\",\"colorbar\":{\"outlinewidth\":0,\"ticks\":\"\"},\"colorscale\":[[0.0,\"#0d0887\"],[0.1111111111111111,\"#46039f\"],[0.2222222222222222,\"#7201a8\"],[0.3333333333333333,\"#9c179e\"],[0.4444444444444444,\"#bd3786\"],[0.5555555555555556,\"#d8576b\"],[0.6666666666666666,\"#ed7953\"],[0.7777777777777778,\"#fb9f3a\"],[0.8888888888888888,\"#fdca26\"],[1.0,\"#f0f921\"]]}],\"surface\":[{\"type\":\"surface\",\"colorbar\":{\"outlinewidth\":0,\"ticks\":\"\"},\"colorscale\":[[0.0,\"#0d0887\"],[0.1111111111111111,\"#46039f\"],[0.2222222222222222,\"#7201a8\"],[0.3333333333333333,\"#9c179e\"],[0.4444444444444444,\"#bd3786\"],[0.5555555555555556,\"#d8576b\"],[0.6666666666666666,\"#ed7953\"],[0.7777777777777778,\"#fb9f3a\"],[0.8888888888888888,\"#fdca26\"],[1.0,\"#f0f921\"]]}],\"mesh3d\":[{\"type\":\"mesh3d\",\"colorbar\":{\"outlinewidth\":0,\"ticks\":\"\"}}],\"scatter\":[{\"fillpattern\":{\"fillmode\":\"overlay\",\"size\":10,\"solidity\":0.2},\"type\":\"scatter\"}],\"parcoords\":[{\"type\":\"parcoords\",\"line\":{\"colorbar\":{\"outlinewidth\":0,\"ticks\":\"\"}}}],\"scatterpolargl\":[{\"type\":\"scatterpolargl\",\"marker\":{\"colorbar\":{\"outlinewidth\":0,\"ticks\":\"\"}}}],\"bar\":[{\"error_x\":{\"color\":\"#2a3f5f\"},\"error_y\":{\"color\":\"#2a3f5f\"},\"marker\":{\"line\":{\"color\":\"#E5ECF6\",\"width\":0.5},\"pattern\":{\"fillmode\":\"overlay\",\"size\":10,\"solidity\":0.2}},\"type\":\"bar\"}],\"scattergeo\":[{\"type\":\"scattergeo\",\"marker\":{\"colorbar\":{\"outlinewidth\":0,\"ticks\":\"\"}}}],\"scatterpolar\":[{\"type\":\"scatterpolar\",\"marker\":{\"colorbar\":{\"outlinewidth\":0,\"ticks\":\"\"}}}],\"histogram\":[{\"marker\":{\"pattern\":{\"fillmode\":\"overlay\",\"size\":10,\"solidity\":0.2}},\"type\":\"histogram\"}],\"scattergl\":[{\"type\":\"scattergl\",\"marker\":{\"colorbar\":{\"outlinewidth\":0,\"ticks\":\"\"}}}],\"scatter3d\":[{\"type\":\"scatter3d\",\"line\":{\"colorbar\":{\"outlinewidth\":0,\"ticks\":\"\"}},\"marker\":{\"colorbar\":{\"outlinewidth\":0,\"ticks\":\"\"}}}],\"scattermap\":[{\"type\":\"scattermap\",\"marker\":{\"colorbar\":{\"outlinewidth\":0,\"ticks\":\"\"}}}],\"scattermapbox\":[{\"type\":\"scattermapbox\",\"marker\":{\"colorbar\":{\"outlinewidth\":0,\"ticks\":\"\"}}}],\"scatterternary\":[{\"type\":\"scatterternary\",\"marker\":{\"colorbar\":{\"outlinewidth\":0,\"ticks\":\"\"}}}],\"scattercarpet\":[{\"type\":\"scattercarpet\",\"marker\":{\"colorbar\":{\"outlinewidth\":0,\"ticks\":\"\"}}}],\"carpet\":[{\"aaxis\":{\"endlinecolor\":\"#2a3f5f\",\"gridcolor\":\"white\",\"linecolor\":\"white\",\"minorgridcolor\":\"white\",\"startlinecolor\":\"#2a3f5f\"},\"baxis\":{\"endlinecolor\":\"#2a3f5f\",\"gridcolor\":\"white\",\"linecolor\":\"white\",\"minorgridcolor\":\"white\",\"startlinecolor\":\"#2a3f5f\"},\"type\":\"carpet\"}],\"table\":[{\"cells\":{\"fill\":{\"color\":\"#EBF0F8\"},\"line\":{\"color\":\"white\"}},\"header\":{\"fill\":{\"color\":\"#C8D4E3\"},\"line\":{\"color\":\"white\"}},\"type\":\"table\"}],\"barpolar\":[{\"marker\":{\"line\":{\"color\":\"#E5ECF6\",\"width\":0.5},\"pattern\":{\"fillmode\":\"overlay\",\"size\":10,\"solidity\":0.2}},\"type\":\"barpolar\"}],\"pie\":[{\"automargin\":true,\"type\":\"pie\"}]},\"layout\":{\"autotypenumbers\":\"strict\",\"colorway\":[\"#636efa\",\"#EF553B\",\"#00cc96\",\"#ab63fa\",\"#FFA15A\",\"#19d3f3\",\"#FF6692\",\"#B6E880\",\"#FF97FF\",\"#FECB52\"],\"font\":{\"color\":\"#2a3f5f\"},\"hovermode\":\"closest\",\"hoverlabel\":{\"align\":\"left\"},\"paper_bgcolor\":\"white\",\"plot_bgcolor\":\"#E5ECF6\",\"polar\":{\"bgcolor\":\"#E5ECF6\",\"angularaxis\":{\"gridcolor\":\"white\",\"linecolor\":\"white\",\"ticks\":\"\"},\"radialaxis\":{\"gridcolor\":\"white\",\"linecolor\":\"white\",\"ticks\":\"\"}},\"ternary\":{\"bgcolor\":\"#E5ECF6\",\"aaxis\":{\"gridcolor\":\"white\",\"linecolor\":\"white\",\"ticks\":\"\"},\"baxis\":{\"gridcolor\":\"white\",\"linecolor\":\"white\",\"ticks\":\"\"},\"caxis\":{\"gridcolor\":\"white\",\"linecolor\":\"white\",\"ticks\":\"\"}},\"coloraxis\":{\"colorbar\":{\"outlinewidth\":0,\"ticks\":\"\"}},\"colorscale\":{\"sequential\":[[0.0,\"#0d0887\"],[0.1111111111111111,\"#46039f\"],[0.2222222222222222,\"#7201a8\"],[0.3333333333333333,\"#9c179e\"],[0.4444444444444444,\"#bd3786\"],[0.5555555555555556,\"#d8576b\"],[0.6666666666666666,\"#ed7953\"],[0.7777777777777778,\"#fb9f3a\"],[0.8888888888888888,\"#fdca26\"],[1.0,\"#f0f921\"]],\"sequentialminus\":[[0.0,\"#0d0887\"],[0.1111111111111111,\"#46039f\"],[0.2222222222222222,\"#7201a8\"],[0.3333333333333333,\"#9c179e\"],[0.4444444444444444,\"#bd3786\"],[0.5555555555555556,\"#d8576b\"],[0.6666666666666666,\"#ed7953\"],[0.7777777777777778,\"#fb9f3a\"],[0.8888888888888888,\"#fdca26\"],[1.0,\"#f0f921\"]],\"diverging\":[[0,\"#8e0152\"],[0.1,\"#c51b7d\"],[0.2,\"#de77ae\"],[0.3,\"#f1b6da\"],[0.4,\"#fde0ef\"],[0.5,\"#f7f7f7\"],[0.6,\"#e6f5d0\"],[0.7,\"#b8e186\"],[0.8,\"#7fbc41\"],[0.9,\"#4d9221\"],[1,\"#276419\"]]},\"xaxis\":{\"gridcolor\":\"white\",\"linecolor\":\"white\",\"ticks\":\"\",\"title\":{\"standoff\":15},\"zerolinecolor\":\"white\",\"automargin\":true,\"zerolinewidth\":2},\"yaxis\":{\"gridcolor\":\"white\",\"linecolor\":\"white\",\"ticks\":\"\",\"title\":{\"standoff\":15},\"zerolinecolor\":\"white\",\"automargin\":true,\"zerolinewidth\":2},\"scene\":{\"xaxis\":{\"backgroundcolor\":\"#E5ECF6\",\"gridcolor\":\"white\",\"linecolor\":\"white\",\"showbackground\":true,\"ticks\":\"\",\"zerolinecolor\":\"white\",\"gridwidth\":2},\"yaxis\":{\"backgroundcolor\":\"#E5ECF6\",\"gridcolor\":\"white\",\"linecolor\":\"white\",\"showbackground\":true,\"ticks\":\"\",\"zerolinecolor\":\"white\",\"gridwidth\":2},\"zaxis\":{\"backgroundcolor\":\"#E5ECF6\",\"gridcolor\":\"white\",\"linecolor\":\"white\",\"showbackground\":true,\"ticks\":\"\",\"zerolinecolor\":\"white\",\"gridwidth\":2}},\"shapedefaults\":{\"line\":{\"color\":\"#2a3f5f\"}},\"annotationdefaults\":{\"arrowcolor\":\"#2a3f5f\",\"arrowhead\":0,\"arrowwidth\":1},\"geo\":{\"bgcolor\":\"white\",\"landcolor\":\"#E5ECF6\",\"subunitcolor\":\"white\",\"showland\":true,\"showlakes\":true,\"lakecolor\":\"white\"},\"title\":{\"x\":0.05},\"mapbox\":{\"style\":\"light\"}}},\"xaxis\":{\"anchor\":\"y\",\"domain\":[0.0,1.0],\"title\":{\"text\":\"Renovation\"}},\"yaxis\":{\"anchor\":\"x\",\"domain\":[0.0,1.0],\"title\":{\"text\":\"Price\"}},\"legend\":{\"tracegroupgap\":0},\"title\":{\"text\":\"beijign\"},\"boxmode\":\"group\",\"height\":600,\"width\":800},                        {\"responsive\": true}                    )                };            </script>        </div>"
      ],
      "text/plain": [
       "Figure({\n",
       "    'data': [{'alignmentgroup': 'True',\n",
       "              'hovertemplate': 'Renovation=%{x}<br>Price=%{y}<extra></extra>',\n",
       "              'legendgroup': '',\n",
       "              'marker': {'color': '#636efa'},\n",
       "              'name': '',\n",
       "              'notched': False,\n",
       "              'offsetgroup': '',\n",
       "              'orientation': 'v',\n",
       "              'showlegend': False,\n",
       "              'type': 'box',\n",
       "              'x': array(['简装', '精装', '简装', ..., '精装', '精装', '简装'], dtype=object),\n",
       "              'x0': ' ',\n",
       "              'xaxis': 'x',\n",
       "              'y': {'bdata': ('AAAAAABQhEAAAAAAAEB6QAAAAAAAsI' ... 'AAwHpAAAAAAADgfUAAAAAAALB0QA=='),\n",
       "                    'dtype': 'f8'},\n",
       "              'y0': ' ',\n",
       "              'yaxis': 'y'}],\n",
       "    'layout': {'boxmode': 'group',\n",
       "               'height': 600,\n",
       "               'legend': {'tracegroupgap': 0},\n",
       "               'template': '...',\n",
       "               'title': {'text': 'beijign'},\n",
       "               'width': 800,\n",
       "               'xaxis': {'anchor': 'y', 'domain': [0.0, 1.0], 'title': {'text': 'Renovation'}},\n",
       "               'yaxis': {'anchor': 'x', 'domain': [0.0, 1.0], 'title': {'text': 'Price'}}}\n",
       "})"
      ]
     },
     "execution_count": 31,
     "metadata": {},
     "output_type": "execute_result"
    }
   ],
   "source": [
    "dfRenovationCount = df.groupby(\"Renovation\")['ID'].count().reset_index()\n",
    "print(dfRenovationCount)\n",
    "px.box(data_frame=df,x=\"Renovation\",y=\"Price\",width=800,height=600,title=\"beijign\")"
   ]
  },
  {
   "cell_type": "code",
   "execution_count": 32,
   "id": "15196699",
   "metadata": {},
   "outputs": [
    {
     "ename": "ValueError",
     "evalue": "Mime type rendering requires nbformat>=4.2.0 but it is not installed",
     "output_type": "error",
     "traceback": [
      "\u001b[31m---------------------------------------------------------------------------\u001b[39m",
      "\u001b[31mValueError\u001b[39m                                Traceback (most recent call last)",
      "\u001b[36mFile \u001b[39m\u001b[32mc:\\Users\\57177\\AppData\\Local\\Programs\\Python\\Python312\\Lib\\site-packages\\IPython\\core\\formatters.py:984\u001b[39m, in \u001b[36mIPythonDisplayFormatter.__call__\u001b[39m\u001b[34m(self, obj)\u001b[39m\n\u001b[32m    982\u001b[39m method = get_real_method(obj, \u001b[38;5;28mself\u001b[39m.print_method)\n\u001b[32m    983\u001b[39m \u001b[38;5;28;01mif\u001b[39;00m method \u001b[38;5;129;01mis\u001b[39;00m \u001b[38;5;129;01mnot\u001b[39;00m \u001b[38;5;28;01mNone\u001b[39;00m:\n\u001b[32m--> \u001b[39m\u001b[32m984\u001b[39m     \u001b[43mmethod\u001b[49m\u001b[43m(\u001b[49m\u001b[43m)\u001b[49m\n\u001b[32m    985\u001b[39m     \u001b[38;5;28;01mreturn\u001b[39;00m \u001b[38;5;28;01mTrue\u001b[39;00m\n",
      "\u001b[36mFile \u001b[39m\u001b[32mc:\\Users\\57177\\AppData\\Local\\Programs\\Python\\Python312\\Lib\\site-packages\\plotly\\basedatatypes.py:833\u001b[39m, in \u001b[36mBaseFigure._ipython_display_\u001b[39m\u001b[34m(self)\u001b[39m\n\u001b[32m    830\u001b[39m \u001b[38;5;28;01mimport\u001b[39;00m \u001b[34;01mplotly\u001b[39;00m\u001b[34;01m.\u001b[39;00m\u001b[34;01mio\u001b[39;00m \u001b[38;5;28;01mas\u001b[39;00m \u001b[34;01mpio\u001b[39;00m\n\u001b[32m    832\u001b[39m \u001b[38;5;28;01mif\u001b[39;00m pio.renderers.render_on_display \u001b[38;5;129;01mand\u001b[39;00m pio.renderers.default:\n\u001b[32m--> \u001b[39m\u001b[32m833\u001b[39m     \u001b[43mpio\u001b[49m\u001b[43m.\u001b[49m\u001b[43mshow\u001b[49m\u001b[43m(\u001b[49m\u001b[38;5;28;43mself\u001b[39;49m\u001b[43m)\u001b[49m\n\u001b[32m    834\u001b[39m \u001b[38;5;28;01melse\u001b[39;00m:\n\u001b[32m    835\u001b[39m     \u001b[38;5;28mprint\u001b[39m(\u001b[38;5;28mrepr\u001b[39m(\u001b[38;5;28mself\u001b[39m))\n",
      "\u001b[36mFile \u001b[39m\u001b[32mc:\\Users\\57177\\AppData\\Local\\Programs\\Python\\Python312\\Lib\\site-packages\\plotly\\io\\_renderers.py:425\u001b[39m, in \u001b[36mshow\u001b[39m\u001b[34m(fig, renderer, validate, **kwargs)\u001b[39m\n\u001b[32m    420\u001b[39m     \u001b[38;5;28;01mraise\u001b[39;00m \u001b[38;5;167;01mValueError\u001b[39;00m(\n\u001b[32m    421\u001b[39m         \u001b[33m\"\u001b[39m\u001b[33mMime type rendering requires ipython but it is not installed\u001b[39m\u001b[33m\"\u001b[39m\n\u001b[32m    422\u001b[39m     )\n\u001b[32m    424\u001b[39m \u001b[38;5;28;01mif\u001b[39;00m \u001b[38;5;129;01mnot\u001b[39;00m nbformat \u001b[38;5;129;01mor\u001b[39;00m Version(nbformat.__version__) < Version(\u001b[33m\"\u001b[39m\u001b[33m4.2.0\u001b[39m\u001b[33m\"\u001b[39m):\n\u001b[32m--> \u001b[39m\u001b[32m425\u001b[39m     \u001b[38;5;28;01mraise\u001b[39;00m \u001b[38;5;167;01mValueError\u001b[39;00m(\n\u001b[32m    426\u001b[39m         \u001b[33m\"\u001b[39m\u001b[33mMime type rendering requires nbformat>=4.2.0 but it is not installed\u001b[39m\u001b[33m\"\u001b[39m\n\u001b[32m    427\u001b[39m     )\n\u001b[32m    429\u001b[39m display_jupyter_version_warnings()\n\u001b[32m    431\u001b[39m ipython_display.display(bundle, raw=\u001b[38;5;28;01mTrue\u001b[39;00m)\n",
      "\u001b[31mValueError\u001b[39m: Mime type rendering requires nbformat>=4.2.0 but it is not installed"
     ]
    },
    {
     "data": {
      "application/vnd.plotly.v1+json": {
       "config": {
        "plotlyServerURL": "https://plot.ly"
       },
       "data": [
        {
         "hovertemplate": "Direction=%{x}<br>Number=%{y}<extra></extra>",
         "legendgroup": "",
         "marker": {
          "color": "#636efa",
          "pattern": {
           "shape": ""
          }
         },
         "name": "",
         "orientation": "v",
         "showlegend": false,
         "textposition": "auto",
         "type": "bar",
         "x": [
          "东",
          "东北",
          "东南",
          "东南东南",
          "东南北",
          "东南西",
          "东南西北",
          "东西",
          "东西北",
          "北",
          "北南",
          "南",
          "南东北",
          "南北",
          "南北西",
          "南北西南",
          "南西",
          "南西北",
          "南西南",
          "西",
          "西东北",
          "西北",
          "西北东北",
          "西北西北",
          "西南",
          "西南东北",
          "西南北"
         ],
         "xaxis": "x",
         "y": {
          "bdata": "KQATAD8AAQAUAAQAAwAdAAMAEwAHAMcAAQDtAQQAAQAIAAYAAQAaAAEAEQABAAEAKAADAAsA",
          "dtype": "i2"
         },
         "yaxis": "y"
        }
       ],
       "layout": {
        "barmode": "relative",
        "height": 600,
        "legend": {
         "tracegroupgap": 0
        },
        "template": {
         "data": {
          "bar": [
           {
            "error_x": {
             "color": "#2a3f5f"
            },
            "error_y": {
             "color": "#2a3f5f"
            },
            "marker": {
             "line": {
              "color": "#E5ECF6",
              "width": 0.5
             },
             "pattern": {
              "fillmode": "overlay",
              "size": 10,
              "solidity": 0.2
             }
            },
            "type": "bar"
           }
          ],
          "barpolar": [
           {
            "marker": {
             "line": {
              "color": "#E5ECF6",
              "width": 0.5
             },
             "pattern": {
              "fillmode": "overlay",
              "size": 10,
              "solidity": 0.2
             }
            },
            "type": "barpolar"
           }
          ],
          "carpet": [
           {
            "aaxis": {
             "endlinecolor": "#2a3f5f",
             "gridcolor": "white",
             "linecolor": "white",
             "minorgridcolor": "white",
             "startlinecolor": "#2a3f5f"
            },
            "baxis": {
             "endlinecolor": "#2a3f5f",
             "gridcolor": "white",
             "linecolor": "white",
             "minorgridcolor": "white",
             "startlinecolor": "#2a3f5f"
            },
            "type": "carpet"
           }
          ],
          "choropleth": [
           {
            "colorbar": {
             "outlinewidth": 0,
             "ticks": ""
            },
            "type": "choropleth"
           }
          ],
          "contour": [
           {
            "colorbar": {
             "outlinewidth": 0,
             "ticks": ""
            },
            "colorscale": [
             [
              0,
              "#0d0887"
             ],
             [
              0.1111111111111111,
              "#46039f"
             ],
             [
              0.2222222222222222,
              "#7201a8"
             ],
             [
              0.3333333333333333,
              "#9c179e"
             ],
             [
              0.4444444444444444,
              "#bd3786"
             ],
             [
              0.5555555555555556,
              "#d8576b"
             ],
             [
              0.6666666666666666,
              "#ed7953"
             ],
             [
              0.7777777777777778,
              "#fb9f3a"
             ],
             [
              0.8888888888888888,
              "#fdca26"
             ],
             [
              1,
              "#f0f921"
             ]
            ],
            "type": "contour"
           }
          ],
          "contourcarpet": [
           {
            "colorbar": {
             "outlinewidth": 0,
             "ticks": ""
            },
            "type": "contourcarpet"
           }
          ],
          "heatmap": [
           {
            "colorbar": {
             "outlinewidth": 0,
             "ticks": ""
            },
            "colorscale": [
             [
              0,
              "#0d0887"
             ],
             [
              0.1111111111111111,
              "#46039f"
             ],
             [
              0.2222222222222222,
              "#7201a8"
             ],
             [
              0.3333333333333333,
              "#9c179e"
             ],
             [
              0.4444444444444444,
              "#bd3786"
             ],
             [
              0.5555555555555556,
              "#d8576b"
             ],
             [
              0.6666666666666666,
              "#ed7953"
             ],
             [
              0.7777777777777778,
              "#fb9f3a"
             ],
             [
              0.8888888888888888,
              "#fdca26"
             ],
             [
              1,
              "#f0f921"
             ]
            ],
            "type": "heatmap"
           }
          ],
          "histogram": [
           {
            "marker": {
             "pattern": {
              "fillmode": "overlay",
              "size": 10,
              "solidity": 0.2
             }
            },
            "type": "histogram"
           }
          ],
          "histogram2d": [
           {
            "colorbar": {
             "outlinewidth": 0,
             "ticks": ""
            },
            "colorscale": [
             [
              0,
              "#0d0887"
             ],
             [
              0.1111111111111111,
              "#46039f"
             ],
             [
              0.2222222222222222,
              "#7201a8"
             ],
             [
              0.3333333333333333,
              "#9c179e"
             ],
             [
              0.4444444444444444,
              "#bd3786"
             ],
             [
              0.5555555555555556,
              "#d8576b"
             ],
             [
              0.6666666666666666,
              "#ed7953"
             ],
             [
              0.7777777777777778,
              "#fb9f3a"
             ],
             [
              0.8888888888888888,
              "#fdca26"
             ],
             [
              1,
              "#f0f921"
             ]
            ],
            "type": "histogram2d"
           }
          ],
          "histogram2dcontour": [
           {
            "colorbar": {
             "outlinewidth": 0,
             "ticks": ""
            },
            "colorscale": [
             [
              0,
              "#0d0887"
             ],
             [
              0.1111111111111111,
              "#46039f"
             ],
             [
              0.2222222222222222,
              "#7201a8"
             ],
             [
              0.3333333333333333,
              "#9c179e"
             ],
             [
              0.4444444444444444,
              "#bd3786"
             ],
             [
              0.5555555555555556,
              "#d8576b"
             ],
             [
              0.6666666666666666,
              "#ed7953"
             ],
             [
              0.7777777777777778,
              "#fb9f3a"
             ],
             [
              0.8888888888888888,
              "#fdca26"
             ],
             [
              1,
              "#f0f921"
             ]
            ],
            "type": "histogram2dcontour"
           }
          ],
          "mesh3d": [
           {
            "colorbar": {
             "outlinewidth": 0,
             "ticks": ""
            },
            "type": "mesh3d"
           }
          ],
          "parcoords": [
           {
            "line": {
             "colorbar": {
              "outlinewidth": 0,
              "ticks": ""
             }
            },
            "type": "parcoords"
           }
          ],
          "pie": [
           {
            "automargin": true,
            "type": "pie"
           }
          ],
          "scatter": [
           {
            "fillpattern": {
             "fillmode": "overlay",
             "size": 10,
             "solidity": 0.2
            },
            "type": "scatter"
           }
          ],
          "scatter3d": [
           {
            "line": {
             "colorbar": {
              "outlinewidth": 0,
              "ticks": ""
             }
            },
            "marker": {
             "colorbar": {
              "outlinewidth": 0,
              "ticks": ""
             }
            },
            "type": "scatter3d"
           }
          ],
          "scattercarpet": [
           {
            "marker": {
             "colorbar": {
              "outlinewidth": 0,
              "ticks": ""
             }
            },
            "type": "scattercarpet"
           }
          ],
          "scattergeo": [
           {
            "marker": {
             "colorbar": {
              "outlinewidth": 0,
              "ticks": ""
             }
            },
            "type": "scattergeo"
           }
          ],
          "scattergl": [
           {
            "marker": {
             "colorbar": {
              "outlinewidth": 0,
              "ticks": ""
             }
            },
            "type": "scattergl"
           }
          ],
          "scattermap": [
           {
            "marker": {
             "colorbar": {
              "outlinewidth": 0,
              "ticks": ""
             }
            },
            "type": "scattermap"
           }
          ],
          "scattermapbox": [
           {
            "marker": {
             "colorbar": {
              "outlinewidth": 0,
              "ticks": ""
             }
            },
            "type": "scattermapbox"
           }
          ],
          "scatterpolar": [
           {
            "marker": {
             "colorbar": {
              "outlinewidth": 0,
              "ticks": ""
             }
            },
            "type": "scatterpolar"
           }
          ],
          "scatterpolargl": [
           {
            "marker": {
             "colorbar": {
              "outlinewidth": 0,
              "ticks": ""
             }
            },
            "type": "scatterpolargl"
           }
          ],
          "scatterternary": [
           {
            "marker": {
             "colorbar": {
              "outlinewidth": 0,
              "ticks": ""
             }
            },
            "type": "scatterternary"
           }
          ],
          "surface": [
           {
            "colorbar": {
             "outlinewidth": 0,
             "ticks": ""
            },
            "colorscale": [
             [
              0,
              "#0d0887"
             ],
             [
              0.1111111111111111,
              "#46039f"
             ],
             [
              0.2222222222222222,
              "#7201a8"
             ],
             [
              0.3333333333333333,
              "#9c179e"
             ],
             [
              0.4444444444444444,
              "#bd3786"
             ],
             [
              0.5555555555555556,
              "#d8576b"
             ],
             [
              0.6666666666666666,
              "#ed7953"
             ],
             [
              0.7777777777777778,
              "#fb9f3a"
             ],
             [
              0.8888888888888888,
              "#fdca26"
             ],
             [
              1,
              "#f0f921"
             ]
            ],
            "type": "surface"
           }
          ],
          "table": [
           {
            "cells": {
             "fill": {
              "color": "#EBF0F8"
             },
             "line": {
              "color": "white"
             }
            },
            "header": {
             "fill": {
              "color": "#C8D4E3"
             },
             "line": {
              "color": "white"
             }
            },
            "type": "table"
           }
          ]
         },
         "layout": {
          "annotationdefaults": {
           "arrowcolor": "#2a3f5f",
           "arrowhead": 0,
           "arrowwidth": 1
          },
          "autotypenumbers": "strict",
          "coloraxis": {
           "colorbar": {
            "outlinewidth": 0,
            "ticks": ""
           }
          },
          "colorscale": {
           "diverging": [
            [
             0,
             "#8e0152"
            ],
            [
             0.1,
             "#c51b7d"
            ],
            [
             0.2,
             "#de77ae"
            ],
            [
             0.3,
             "#f1b6da"
            ],
            [
             0.4,
             "#fde0ef"
            ],
            [
             0.5,
             "#f7f7f7"
            ],
            [
             0.6,
             "#e6f5d0"
            ],
            [
             0.7,
             "#b8e186"
            ],
            [
             0.8,
             "#7fbc41"
            ],
            [
             0.9,
             "#4d9221"
            ],
            [
             1,
             "#276419"
            ]
           ],
           "sequential": [
            [
             0,
             "#0d0887"
            ],
            [
             0.1111111111111111,
             "#46039f"
            ],
            [
             0.2222222222222222,
             "#7201a8"
            ],
            [
             0.3333333333333333,
             "#9c179e"
            ],
            [
             0.4444444444444444,
             "#bd3786"
            ],
            [
             0.5555555555555556,
             "#d8576b"
            ],
            [
             0.6666666666666666,
             "#ed7953"
            ],
            [
             0.7777777777777778,
             "#fb9f3a"
            ],
            [
             0.8888888888888888,
             "#fdca26"
            ],
            [
             1,
             "#f0f921"
            ]
           ],
           "sequentialminus": [
            [
             0,
             "#0d0887"
            ],
            [
             0.1111111111111111,
             "#46039f"
            ],
            [
             0.2222222222222222,
             "#7201a8"
            ],
            [
             0.3333333333333333,
             "#9c179e"
            ],
            [
             0.4444444444444444,
             "#bd3786"
            ],
            [
             0.5555555555555556,
             "#d8576b"
            ],
            [
             0.6666666666666666,
             "#ed7953"
            ],
            [
             0.7777777777777778,
             "#fb9f3a"
            ],
            [
             0.8888888888888888,
             "#fdca26"
            ],
            [
             1,
             "#f0f921"
            ]
           ]
          },
          "colorway": [
           "#636efa",
           "#EF553B",
           "#00cc96",
           "#ab63fa",
           "#FFA15A",
           "#19d3f3",
           "#FF6692",
           "#B6E880",
           "#FF97FF",
           "#FECB52"
          ],
          "font": {
           "color": "#2a3f5f"
          },
          "geo": {
           "bgcolor": "white",
           "lakecolor": "white",
           "landcolor": "#E5ECF6",
           "showlakes": true,
           "showland": true,
           "subunitcolor": "white"
          },
          "hoverlabel": {
           "align": "left"
          },
          "hovermode": "closest",
          "mapbox": {
           "style": "light"
          },
          "paper_bgcolor": "white",
          "plot_bgcolor": "#E5ECF6",
          "polar": {
           "angularaxis": {
            "gridcolor": "white",
            "linecolor": "white",
            "ticks": ""
           },
           "bgcolor": "#E5ECF6",
           "radialaxis": {
            "gridcolor": "white",
            "linecolor": "white",
            "ticks": ""
           }
          },
          "scene": {
           "xaxis": {
            "backgroundcolor": "#E5ECF6",
            "gridcolor": "white",
            "gridwidth": 2,
            "linecolor": "white",
            "showbackground": true,
            "ticks": "",
            "zerolinecolor": "white"
           },
           "yaxis": {
            "backgroundcolor": "#E5ECF6",
            "gridcolor": "white",
            "gridwidth": 2,
            "linecolor": "white",
            "showbackground": true,
            "ticks": "",
            "zerolinecolor": "white"
           },
           "zaxis": {
            "backgroundcolor": "#E5ECF6",
            "gridcolor": "white",
            "gridwidth": 2,
            "linecolor": "white",
            "showbackground": true,
            "ticks": "",
            "zerolinecolor": "white"
           }
          },
          "shapedefaults": {
           "line": {
            "color": "#2a3f5f"
           }
          },
          "ternary": {
           "aaxis": {
            "gridcolor": "white",
            "linecolor": "white",
            "ticks": ""
           },
           "baxis": {
            "gridcolor": "white",
            "linecolor": "white",
            "ticks": ""
           },
           "bgcolor": "#E5ECF6",
           "caxis": {
            "gridcolor": "white",
            "linecolor": "white",
            "ticks": ""
           }
          },
          "title": {
           "x": 0.05
          },
          "xaxis": {
           "automargin": true,
           "gridcolor": "white",
           "linecolor": "white",
           "ticks": "",
           "title": {
            "standoff": 15
           },
           "zerolinecolor": "white",
           "zerolinewidth": 2
          },
          "yaxis": {
           "automargin": true,
           "gridcolor": "white",
           "linecolor": "white",
           "ticks": "",
           "title": {
            "standoff": 15
           },
           "zerolinecolor": "white",
           "zerolinewidth": 2
          }
         }
        },
        "title": {
         "text": "北京各大区二手房朝向数量对比"
        },
        "width": 800,
        "xaxis": {
         "anchor": "y",
         "domain": [
          0,
          1
         ],
         "title": {
          "text": "Direction"
         }
        },
        "yaxis": {
         "anchor": "x",
         "domain": [
          0,
          1
         ],
         "title": {
          "text": "Number"
         }
        }
       }
      },
      "text/html": [
       "<div>                        <script type=\"text/javascript\">window.PlotlyConfig = {MathJaxConfig: 'local'};</script>\n",
       "        <script charset=\"utf-8\" src=\"https://cdn.plot.ly/plotly-3.0.1.min.js\"></script>                <div id=\"3e110f86-2a8e-4fa4-95f3-8f3d64a62e7c\" class=\"plotly-graph-div\" style=\"height:600px; width:800px;\"></div>            <script type=\"text/javascript\">                window.PLOTLYENV=window.PLOTLYENV || {};                                if (document.getElementById(\"3e110f86-2a8e-4fa4-95f3-8f3d64a62e7c\")) {                    Plotly.newPlot(                        \"3e110f86-2a8e-4fa4-95f3-8f3d64a62e7c\",                        [{\"hovertemplate\":\"Direction=%{x}\\u003cbr\\u003eNumber=%{y}\\u003cextra\\u003e\\u003c\\u002fextra\\u003e\",\"legendgroup\":\"\",\"marker\":{\"color\":\"#636efa\",\"pattern\":{\"shape\":\"\"}},\"name\":\"\",\"orientation\":\"v\",\"showlegend\":false,\"textposition\":\"auto\",\"x\":[\"\\u4e1c\",\"\\u4e1c\\u5317\",\"\\u4e1c\\u5357\",\"\\u4e1c\\u5357\\u4e1c\\u5357\",\"\\u4e1c\\u5357\\u5317\",\"\\u4e1c\\u5357\\u897f\",\"\\u4e1c\\u5357\\u897f\\u5317\",\"\\u4e1c\\u897f\",\"\\u4e1c\\u897f\\u5317\",\"\\u5317\",\"\\u5317\\u5357\",\"\\u5357\",\"\\u5357\\u4e1c\\u5317\",\"\\u5357\\u5317\",\"\\u5357\\u5317\\u897f\",\"\\u5357\\u5317\\u897f\\u5357\",\"\\u5357\\u897f\",\"\\u5357\\u897f\\u5317\",\"\\u5357\\u897f\\u5357\",\"\\u897f\",\"\\u897f\\u4e1c\\u5317\",\"\\u897f\\u5317\",\"\\u897f\\u5317\\u4e1c\\u5317\",\"\\u897f\\u5317\\u897f\\u5317\",\"\\u897f\\u5357\",\"\\u897f\\u5357\\u4e1c\\u5317\",\"\\u897f\\u5357\\u5317\"],\"xaxis\":\"x\",\"y\":{\"dtype\":\"i2\",\"bdata\":\"KQATAD8AAQAUAAQAAwAdAAMAEwAHAMcAAQDtAQQAAQAIAAYAAQAaAAEAEQABAAEAKAADAAsA\"},\"yaxis\":\"y\",\"type\":\"bar\"}],                        {\"template\":{\"data\":{\"histogram2dcontour\":[{\"type\":\"histogram2dcontour\",\"colorbar\":{\"outlinewidth\":0,\"ticks\":\"\"},\"colorscale\":[[0.0,\"#0d0887\"],[0.1111111111111111,\"#46039f\"],[0.2222222222222222,\"#7201a8\"],[0.3333333333333333,\"#9c179e\"],[0.4444444444444444,\"#bd3786\"],[0.5555555555555556,\"#d8576b\"],[0.6666666666666666,\"#ed7953\"],[0.7777777777777778,\"#fb9f3a\"],[0.8888888888888888,\"#fdca26\"],[1.0,\"#f0f921\"]]}],\"choropleth\":[{\"type\":\"choropleth\",\"colorbar\":{\"outlinewidth\":0,\"ticks\":\"\"}}],\"histogram2d\":[{\"type\":\"histogram2d\",\"colorbar\":{\"outlinewidth\":0,\"ticks\":\"\"},\"colorscale\":[[0.0,\"#0d0887\"],[0.1111111111111111,\"#46039f\"],[0.2222222222222222,\"#7201a8\"],[0.3333333333333333,\"#9c179e\"],[0.4444444444444444,\"#bd3786\"],[0.5555555555555556,\"#d8576b\"],[0.6666666666666666,\"#ed7953\"],[0.7777777777777778,\"#fb9f3a\"],[0.8888888888888888,\"#fdca26\"],[1.0,\"#f0f921\"]]}],\"heatmap\":[{\"type\":\"heatmap\",\"colorbar\":{\"outlinewidth\":0,\"ticks\":\"\"},\"colorscale\":[[0.0,\"#0d0887\"],[0.1111111111111111,\"#46039f\"],[0.2222222222222222,\"#7201a8\"],[0.3333333333333333,\"#9c179e\"],[0.4444444444444444,\"#bd3786\"],[0.5555555555555556,\"#d8576b\"],[0.6666666666666666,\"#ed7953\"],[0.7777777777777778,\"#fb9f3a\"],[0.8888888888888888,\"#fdca26\"],[1.0,\"#f0f921\"]]}],\"contourcarpet\":[{\"type\":\"contourcarpet\",\"colorbar\":{\"outlinewidth\":0,\"ticks\":\"\"}}],\"contour\":[{\"type\":\"contour\",\"colorbar\":{\"outlinewidth\":0,\"ticks\":\"\"},\"colorscale\":[[0.0,\"#0d0887\"],[0.1111111111111111,\"#46039f\"],[0.2222222222222222,\"#7201a8\"],[0.3333333333333333,\"#9c179e\"],[0.4444444444444444,\"#bd3786\"],[0.5555555555555556,\"#d8576b\"],[0.6666666666666666,\"#ed7953\"],[0.7777777777777778,\"#fb9f3a\"],[0.8888888888888888,\"#fdca26\"],[1.0,\"#f0f921\"]]}],\"surface\":[{\"type\":\"surface\",\"colorbar\":{\"outlinewidth\":0,\"ticks\":\"\"},\"colorscale\":[[0.0,\"#0d0887\"],[0.1111111111111111,\"#46039f\"],[0.2222222222222222,\"#7201a8\"],[0.3333333333333333,\"#9c179e\"],[0.4444444444444444,\"#bd3786\"],[0.5555555555555556,\"#d8576b\"],[0.6666666666666666,\"#ed7953\"],[0.7777777777777778,\"#fb9f3a\"],[0.8888888888888888,\"#fdca26\"],[1.0,\"#f0f921\"]]}],\"mesh3d\":[{\"type\":\"mesh3d\",\"colorbar\":{\"outlinewidth\":0,\"ticks\":\"\"}}],\"scatter\":[{\"fillpattern\":{\"fillmode\":\"overlay\",\"size\":10,\"solidity\":0.2},\"type\":\"scatter\"}],\"parcoords\":[{\"type\":\"parcoords\",\"line\":{\"colorbar\":{\"outlinewidth\":0,\"ticks\":\"\"}}}],\"scatterpolargl\":[{\"type\":\"scatterpolargl\",\"marker\":{\"colorbar\":{\"outlinewidth\":0,\"ticks\":\"\"}}}],\"bar\":[{\"error_x\":{\"color\":\"#2a3f5f\"},\"error_y\":{\"color\":\"#2a3f5f\"},\"marker\":{\"line\":{\"color\":\"#E5ECF6\",\"width\":0.5},\"pattern\":{\"fillmode\":\"overlay\",\"size\":10,\"solidity\":0.2}},\"type\":\"bar\"}],\"scattergeo\":[{\"type\":\"scattergeo\",\"marker\":{\"colorbar\":{\"outlinewidth\":0,\"ticks\":\"\"}}}],\"scatterpolar\":[{\"type\":\"scatterpolar\",\"marker\":{\"colorbar\":{\"outlinewidth\":0,\"ticks\":\"\"}}}],\"histogram\":[{\"marker\":{\"pattern\":{\"fillmode\":\"overlay\",\"size\":10,\"solidity\":0.2}},\"type\":\"histogram\"}],\"scattergl\":[{\"type\":\"scattergl\",\"marker\":{\"colorbar\":{\"outlinewidth\":0,\"ticks\":\"\"}}}],\"scatter3d\":[{\"type\":\"scatter3d\",\"line\":{\"colorbar\":{\"outlinewidth\":0,\"ticks\":\"\"}},\"marker\":{\"colorbar\":{\"outlinewidth\":0,\"ticks\":\"\"}}}],\"scattermap\":[{\"type\":\"scattermap\",\"marker\":{\"colorbar\":{\"outlinewidth\":0,\"ticks\":\"\"}}}],\"scattermapbox\":[{\"type\":\"scattermapbox\",\"marker\":{\"colorbar\":{\"outlinewidth\":0,\"ticks\":\"\"}}}],\"scatterternary\":[{\"type\":\"scatterternary\",\"marker\":{\"colorbar\":{\"outlinewidth\":0,\"ticks\":\"\"}}}],\"scattercarpet\":[{\"type\":\"scattercarpet\",\"marker\":{\"colorbar\":{\"outlinewidth\":0,\"ticks\":\"\"}}}],\"carpet\":[{\"aaxis\":{\"endlinecolor\":\"#2a3f5f\",\"gridcolor\":\"white\",\"linecolor\":\"white\",\"minorgridcolor\":\"white\",\"startlinecolor\":\"#2a3f5f\"},\"baxis\":{\"endlinecolor\":\"#2a3f5f\",\"gridcolor\":\"white\",\"linecolor\":\"white\",\"minorgridcolor\":\"white\",\"startlinecolor\":\"#2a3f5f\"},\"type\":\"carpet\"}],\"table\":[{\"cells\":{\"fill\":{\"color\":\"#EBF0F8\"},\"line\":{\"color\":\"white\"}},\"header\":{\"fill\":{\"color\":\"#C8D4E3\"},\"line\":{\"color\":\"white\"}},\"type\":\"table\"}],\"barpolar\":[{\"marker\":{\"line\":{\"color\":\"#E5ECF6\",\"width\":0.5},\"pattern\":{\"fillmode\":\"overlay\",\"size\":10,\"solidity\":0.2}},\"type\":\"barpolar\"}],\"pie\":[{\"automargin\":true,\"type\":\"pie\"}]},\"layout\":{\"autotypenumbers\":\"strict\",\"colorway\":[\"#636efa\",\"#EF553B\",\"#00cc96\",\"#ab63fa\",\"#FFA15A\",\"#19d3f3\",\"#FF6692\",\"#B6E880\",\"#FF97FF\",\"#FECB52\"],\"font\":{\"color\":\"#2a3f5f\"},\"hovermode\":\"closest\",\"hoverlabel\":{\"align\":\"left\"},\"paper_bgcolor\":\"white\",\"plot_bgcolor\":\"#E5ECF6\",\"polar\":{\"bgcolor\":\"#E5ECF6\",\"angularaxis\":{\"gridcolor\":\"white\",\"linecolor\":\"white\",\"ticks\":\"\"},\"radialaxis\":{\"gridcolor\":\"white\",\"linecolor\":\"white\",\"ticks\":\"\"}},\"ternary\":{\"bgcolor\":\"#E5ECF6\",\"aaxis\":{\"gridcolor\":\"white\",\"linecolor\":\"white\",\"ticks\":\"\"},\"baxis\":{\"gridcolor\":\"white\",\"linecolor\":\"white\",\"ticks\":\"\"},\"caxis\":{\"gridcolor\":\"white\",\"linecolor\":\"white\",\"ticks\":\"\"}},\"coloraxis\":{\"colorbar\":{\"outlinewidth\":0,\"ticks\":\"\"}},\"colorscale\":{\"sequential\":[[0.0,\"#0d0887\"],[0.1111111111111111,\"#46039f\"],[0.2222222222222222,\"#7201a8\"],[0.3333333333333333,\"#9c179e\"],[0.4444444444444444,\"#bd3786\"],[0.5555555555555556,\"#d8576b\"],[0.6666666666666666,\"#ed7953\"],[0.7777777777777778,\"#fb9f3a\"],[0.8888888888888888,\"#fdca26\"],[1.0,\"#f0f921\"]],\"sequentialminus\":[[0.0,\"#0d0887\"],[0.1111111111111111,\"#46039f\"],[0.2222222222222222,\"#7201a8\"],[0.3333333333333333,\"#9c179e\"],[0.4444444444444444,\"#bd3786\"],[0.5555555555555556,\"#d8576b\"],[0.6666666666666666,\"#ed7953\"],[0.7777777777777778,\"#fb9f3a\"],[0.8888888888888888,\"#fdca26\"],[1.0,\"#f0f921\"]],\"diverging\":[[0,\"#8e0152\"],[0.1,\"#c51b7d\"],[0.2,\"#de77ae\"],[0.3,\"#f1b6da\"],[0.4,\"#fde0ef\"],[0.5,\"#f7f7f7\"],[0.6,\"#e6f5d0\"],[0.7,\"#b8e186\"],[0.8,\"#7fbc41\"],[0.9,\"#4d9221\"],[1,\"#276419\"]]},\"xaxis\":{\"gridcolor\":\"white\",\"linecolor\":\"white\",\"ticks\":\"\",\"title\":{\"standoff\":15},\"zerolinecolor\":\"white\",\"automargin\":true,\"zerolinewidth\":2},\"yaxis\":{\"gridcolor\":\"white\",\"linecolor\":\"white\",\"ticks\":\"\",\"title\":{\"standoff\":15},\"zerolinecolor\":\"white\",\"automargin\":true,\"zerolinewidth\":2},\"scene\":{\"xaxis\":{\"backgroundcolor\":\"#E5ECF6\",\"gridcolor\":\"white\",\"linecolor\":\"white\",\"showbackground\":true,\"ticks\":\"\",\"zerolinecolor\":\"white\",\"gridwidth\":2},\"yaxis\":{\"backgroundcolor\":\"#E5ECF6\",\"gridcolor\":\"white\",\"linecolor\":\"white\",\"showbackground\":true,\"ticks\":\"\",\"zerolinecolor\":\"white\",\"gridwidth\":2},\"zaxis\":{\"backgroundcolor\":\"#E5ECF6\",\"gridcolor\":\"white\",\"linecolor\":\"white\",\"showbackground\":true,\"ticks\":\"\",\"zerolinecolor\":\"white\",\"gridwidth\":2}},\"shapedefaults\":{\"line\":{\"color\":\"#2a3f5f\"}},\"annotationdefaults\":{\"arrowcolor\":\"#2a3f5f\",\"arrowhead\":0,\"arrowwidth\":1},\"geo\":{\"bgcolor\":\"white\",\"landcolor\":\"#E5ECF6\",\"subunitcolor\":\"white\",\"showland\":true,\"showlakes\":true,\"lakecolor\":\"white\"},\"title\":{\"x\":0.05},\"mapbox\":{\"style\":\"light\"}}},\"xaxis\":{\"anchor\":\"y\",\"domain\":[0.0,1.0],\"title\":{\"text\":\"Direction\"}},\"yaxis\":{\"anchor\":\"x\",\"domain\":[0.0,1.0],\"title\":{\"text\":\"Number\"}},\"legend\":{\"tracegroupgap\":0},\"title\":{\"text\":\"\\u5317\\u4eac\\u5404\\u5927\\u533a\\u4e8c\\u624b\\u623f\\u671d\\u5411\\u6570\\u91cf\\u5bf9\\u6bd4\"},\"barmode\":\"relative\",\"height\":600,\"width\":800},                        {\"responsive\": true}                    )                };            </script>        </div>"
      ],
      "text/plain": [
       "Figure({\n",
       "    'data': [{'hovertemplate': 'Direction=%{x}<br>Number=%{y}<extra></extra>',\n",
       "              'legendgroup': '',\n",
       "              'marker': {'color': '#636efa', 'pattern': {'shape': ''}},\n",
       "              'name': '',\n",
       "              'orientation': 'v',\n",
       "              'showlegend': False,\n",
       "              'textposition': 'auto',\n",
       "              'type': 'bar',\n",
       "              'x': array(['东', '东北', '东南', '东南东南', '东南北', '东南西', '东南西北', '东西', '东西北', '北', '北南',\n",
       "                          '南', '南东北', '南北', '南北西', '南北西南', '南西', '南西北', '南西南', '西', '西东北', '西北',\n",
       "                          '西北东北', '西北西北', '西南', '西南东北', '西南北'], dtype=object),\n",
       "              'xaxis': 'x',\n",
       "              'y': {'bdata': 'KQATAD8AAQAUAAQAAwAdAAMAEwAHAMcAAQDtAQQAAQAIAAYAAQAaAAEAEQABAAEAKAADAAsA', 'dtype': 'i2'},\n",
       "              'yaxis': 'y'}],\n",
       "    'layout': {'barmode': 'relative',\n",
       "               'height': 600,\n",
       "               'legend': {'tracegroupgap': 0},\n",
       "               'template': '...',\n",
       "               'title': {'text': '北京各大区二手房朝向数量对比'},\n",
       "               'width': 800,\n",
       "               'xaxis': {'anchor': 'y', 'domain': [0.0, 1.0], 'title': {'text': 'Direction'}},\n",
       "               'yaxis': {'anchor': 'x', 'domain': [0.0, 1.0], 'title': {'text': 'Number'}}}\n",
       "})"
      ]
     },
     "execution_count": 32,
     "metadata": {},
     "output_type": "execute_result"
    }
   ],
   "source": [
    "dfDirection = df.groupby(\"Direction\")['ID'].count().reset_index().rename(columns={\"ID\":\"Number\"})\n",
    "px.bar(data_frame=dfDirection,x=\"Direction\",y=\"Number\",width=800,height=600,title=\"北京各大区二手房朝向数量对比\")"
   ]
  },
  {
   "cell_type": "code",
   "execution_count": 33,
   "id": "eac971bb",
   "metadata": {},
   "outputs": [
    {
     "name": "stdout",
     "output_type": "stream",
     "text": [
      "  Floor       Price\n",
      "0   高楼层  461.640777\n",
      "1    底层  456.875000\n",
      "2   中楼层  455.795377\n",
      "3   低楼层  454.386161\n",
      "4    顶层  324.430108\n"
     ]
    },
    {
     "ename": "ValueError",
     "evalue": "Mime type rendering requires nbformat>=4.2.0 but it is not installed",
     "output_type": "error",
     "traceback": [
      "\u001b[31m---------------------------------------------------------------------------\u001b[39m",
      "\u001b[31mValueError\u001b[39m                                Traceback (most recent call last)",
      "\u001b[36mFile \u001b[39m\u001b[32mc:\\Users\\57177\\AppData\\Local\\Programs\\Python\\Python312\\Lib\\site-packages\\IPython\\core\\formatters.py:984\u001b[39m, in \u001b[36mIPythonDisplayFormatter.__call__\u001b[39m\u001b[34m(self, obj)\u001b[39m\n\u001b[32m    982\u001b[39m method = get_real_method(obj, \u001b[38;5;28mself\u001b[39m.print_method)\n\u001b[32m    983\u001b[39m \u001b[38;5;28;01mif\u001b[39;00m method \u001b[38;5;129;01mis\u001b[39;00m \u001b[38;5;129;01mnot\u001b[39;00m \u001b[38;5;28;01mNone\u001b[39;00m:\n\u001b[32m--> \u001b[39m\u001b[32m984\u001b[39m     \u001b[43mmethod\u001b[49m\u001b[43m(\u001b[49m\u001b[43m)\u001b[49m\n\u001b[32m    985\u001b[39m     \u001b[38;5;28;01mreturn\u001b[39;00m \u001b[38;5;28;01mTrue\u001b[39;00m\n",
      "\u001b[36mFile \u001b[39m\u001b[32mc:\\Users\\57177\\AppData\\Local\\Programs\\Python\\Python312\\Lib\\site-packages\\plotly\\basedatatypes.py:833\u001b[39m, in \u001b[36mBaseFigure._ipython_display_\u001b[39m\u001b[34m(self)\u001b[39m\n\u001b[32m    830\u001b[39m \u001b[38;5;28;01mimport\u001b[39;00m \u001b[34;01mplotly\u001b[39;00m\u001b[34;01m.\u001b[39;00m\u001b[34;01mio\u001b[39;00m \u001b[38;5;28;01mas\u001b[39;00m \u001b[34;01mpio\u001b[39;00m\n\u001b[32m    832\u001b[39m \u001b[38;5;28;01mif\u001b[39;00m pio.renderers.render_on_display \u001b[38;5;129;01mand\u001b[39;00m pio.renderers.default:\n\u001b[32m--> \u001b[39m\u001b[32m833\u001b[39m     \u001b[43mpio\u001b[49m\u001b[43m.\u001b[49m\u001b[43mshow\u001b[49m\u001b[43m(\u001b[49m\u001b[38;5;28;43mself\u001b[39;49m\u001b[43m)\u001b[49m\n\u001b[32m    834\u001b[39m \u001b[38;5;28;01melse\u001b[39;00m:\n\u001b[32m    835\u001b[39m     \u001b[38;5;28mprint\u001b[39m(\u001b[38;5;28mrepr\u001b[39m(\u001b[38;5;28mself\u001b[39m))\n",
      "\u001b[36mFile \u001b[39m\u001b[32mc:\\Users\\57177\\AppData\\Local\\Programs\\Python\\Python312\\Lib\\site-packages\\plotly\\io\\_renderers.py:425\u001b[39m, in \u001b[36mshow\u001b[39m\u001b[34m(fig, renderer, validate, **kwargs)\u001b[39m\n\u001b[32m    420\u001b[39m     \u001b[38;5;28;01mraise\u001b[39;00m \u001b[38;5;167;01mValueError\u001b[39;00m(\n\u001b[32m    421\u001b[39m         \u001b[33m\"\u001b[39m\u001b[33mMime type rendering requires ipython but it is not installed\u001b[39m\u001b[33m\"\u001b[39m\n\u001b[32m    422\u001b[39m     )\n\u001b[32m    424\u001b[39m \u001b[38;5;28;01mif\u001b[39;00m \u001b[38;5;129;01mnot\u001b[39;00m nbformat \u001b[38;5;129;01mor\u001b[39;00m Version(nbformat.__version__) < Version(\u001b[33m\"\u001b[39m\u001b[33m4.2.0\u001b[39m\u001b[33m\"\u001b[39m):\n\u001b[32m--> \u001b[39m\u001b[32m425\u001b[39m     \u001b[38;5;28;01mraise\u001b[39;00m \u001b[38;5;167;01mValueError\u001b[39;00m(\n\u001b[32m    426\u001b[39m         \u001b[33m\"\u001b[39m\u001b[33mMime type rendering requires nbformat>=4.2.0 but it is not installed\u001b[39m\u001b[33m\"\u001b[39m\n\u001b[32m    427\u001b[39m     )\n\u001b[32m    429\u001b[39m display_jupyter_version_warnings()\n\u001b[32m    431\u001b[39m ipython_display.display(bundle, raw=\u001b[38;5;28;01mTrue\u001b[39;00m)\n",
      "\u001b[31mValueError\u001b[39m: Mime type rendering requires nbformat>=4.2.0 but it is not installed"
     ]
    },
    {
     "data": {
      "application/vnd.plotly.v1+json": {
       "config": {
        "plotlyServerURL": "https://plot.ly"
       },
       "data": [
        {
         "hovertemplate": "Floor=%{x}<br>Price=%{y}<extra></extra>",
         "legendgroup": "",
         "marker": {
          "color": "#636efa",
          "pattern": {
           "shape": ""
          }
         },
         "name": "",
         "orientation": "v",
         "showlegend": false,
         "textposition": "auto",
         "type": "bar",
         "x": [
          "高楼层",
          "底层",
          "中楼层",
          "低楼层",
          "顶层"
         ],
         "xaxis": "x",
         "y": {
          "bdata": "52URn0DafEAAAAAAAI58QHxNXt25fHxAt23bti1mfECHG2644UZ0QA==",
          "dtype": "f8"
         },
         "yaxis": "y"
        }
       ],
       "layout": {
        "barmode": "relative",
        "height": 600,
        "legend": {
         "tracegroupgap": 0
        },
        "template": {
         "data": {
          "bar": [
           {
            "error_x": {
             "color": "#2a3f5f"
            },
            "error_y": {
             "color": "#2a3f5f"
            },
            "marker": {
             "line": {
              "color": "#E5ECF6",
              "width": 0.5
             },
             "pattern": {
              "fillmode": "overlay",
              "size": 10,
              "solidity": 0.2
             }
            },
            "type": "bar"
           }
          ],
          "barpolar": [
           {
            "marker": {
             "line": {
              "color": "#E5ECF6",
              "width": 0.5
             },
             "pattern": {
              "fillmode": "overlay",
              "size": 10,
              "solidity": 0.2
             }
            },
            "type": "barpolar"
           }
          ],
          "carpet": [
           {
            "aaxis": {
             "endlinecolor": "#2a3f5f",
             "gridcolor": "white",
             "linecolor": "white",
             "minorgridcolor": "white",
             "startlinecolor": "#2a3f5f"
            },
            "baxis": {
             "endlinecolor": "#2a3f5f",
             "gridcolor": "white",
             "linecolor": "white",
             "minorgridcolor": "white",
             "startlinecolor": "#2a3f5f"
            },
            "type": "carpet"
           }
          ],
          "choropleth": [
           {
            "colorbar": {
             "outlinewidth": 0,
             "ticks": ""
            },
            "type": "choropleth"
           }
          ],
          "contour": [
           {
            "colorbar": {
             "outlinewidth": 0,
             "ticks": ""
            },
            "colorscale": [
             [
              0,
              "#0d0887"
             ],
             [
              0.1111111111111111,
              "#46039f"
             ],
             [
              0.2222222222222222,
              "#7201a8"
             ],
             [
              0.3333333333333333,
              "#9c179e"
             ],
             [
              0.4444444444444444,
              "#bd3786"
             ],
             [
              0.5555555555555556,
              "#d8576b"
             ],
             [
              0.6666666666666666,
              "#ed7953"
             ],
             [
              0.7777777777777778,
              "#fb9f3a"
             ],
             [
              0.8888888888888888,
              "#fdca26"
             ],
             [
              1,
              "#f0f921"
             ]
            ],
            "type": "contour"
           }
          ],
          "contourcarpet": [
           {
            "colorbar": {
             "outlinewidth": 0,
             "ticks": ""
            },
            "type": "contourcarpet"
           }
          ],
          "heatmap": [
           {
            "colorbar": {
             "outlinewidth": 0,
             "ticks": ""
            },
            "colorscale": [
             [
              0,
              "#0d0887"
             ],
             [
              0.1111111111111111,
              "#46039f"
             ],
             [
              0.2222222222222222,
              "#7201a8"
             ],
             [
              0.3333333333333333,
              "#9c179e"
             ],
             [
              0.4444444444444444,
              "#bd3786"
             ],
             [
              0.5555555555555556,
              "#d8576b"
             ],
             [
              0.6666666666666666,
              "#ed7953"
             ],
             [
              0.7777777777777778,
              "#fb9f3a"
             ],
             [
              0.8888888888888888,
              "#fdca26"
             ],
             [
              1,
              "#f0f921"
             ]
            ],
            "type": "heatmap"
           }
          ],
          "histogram": [
           {
            "marker": {
             "pattern": {
              "fillmode": "overlay",
              "size": 10,
              "solidity": 0.2
             }
            },
            "type": "histogram"
           }
          ],
          "histogram2d": [
           {
            "colorbar": {
             "outlinewidth": 0,
             "ticks": ""
            },
            "colorscale": [
             [
              0,
              "#0d0887"
             ],
             [
              0.1111111111111111,
              "#46039f"
             ],
             [
              0.2222222222222222,
              "#7201a8"
             ],
             [
              0.3333333333333333,
              "#9c179e"
             ],
             [
              0.4444444444444444,
              "#bd3786"
             ],
             [
              0.5555555555555556,
              "#d8576b"
             ],
             [
              0.6666666666666666,
              "#ed7953"
             ],
             [
              0.7777777777777778,
              "#fb9f3a"
             ],
             [
              0.8888888888888888,
              "#fdca26"
             ],
             [
              1,
              "#f0f921"
             ]
            ],
            "type": "histogram2d"
           }
          ],
          "histogram2dcontour": [
           {
            "colorbar": {
             "outlinewidth": 0,
             "ticks": ""
            },
            "colorscale": [
             [
              0,
              "#0d0887"
             ],
             [
              0.1111111111111111,
              "#46039f"
             ],
             [
              0.2222222222222222,
              "#7201a8"
             ],
             [
              0.3333333333333333,
              "#9c179e"
             ],
             [
              0.4444444444444444,
              "#bd3786"
             ],
             [
              0.5555555555555556,
              "#d8576b"
             ],
             [
              0.6666666666666666,
              "#ed7953"
             ],
             [
              0.7777777777777778,
              "#fb9f3a"
             ],
             [
              0.8888888888888888,
              "#fdca26"
             ],
             [
              1,
              "#f0f921"
             ]
            ],
            "type": "histogram2dcontour"
           }
          ],
          "mesh3d": [
           {
            "colorbar": {
             "outlinewidth": 0,
             "ticks": ""
            },
            "type": "mesh3d"
           }
          ],
          "parcoords": [
           {
            "line": {
             "colorbar": {
              "outlinewidth": 0,
              "ticks": ""
             }
            },
            "type": "parcoords"
           }
          ],
          "pie": [
           {
            "automargin": true,
            "type": "pie"
           }
          ],
          "scatter": [
           {
            "fillpattern": {
             "fillmode": "overlay",
             "size": 10,
             "solidity": 0.2
            },
            "type": "scatter"
           }
          ],
          "scatter3d": [
           {
            "line": {
             "colorbar": {
              "outlinewidth": 0,
              "ticks": ""
             }
            },
            "marker": {
             "colorbar": {
              "outlinewidth": 0,
              "ticks": ""
             }
            },
            "type": "scatter3d"
           }
          ],
          "scattercarpet": [
           {
            "marker": {
             "colorbar": {
              "outlinewidth": 0,
              "ticks": ""
             }
            },
            "type": "scattercarpet"
           }
          ],
          "scattergeo": [
           {
            "marker": {
             "colorbar": {
              "outlinewidth": 0,
              "ticks": ""
             }
            },
            "type": "scattergeo"
           }
          ],
          "scattergl": [
           {
            "marker": {
             "colorbar": {
              "outlinewidth": 0,
              "ticks": ""
             }
            },
            "type": "scattergl"
           }
          ],
          "scattermap": [
           {
            "marker": {
             "colorbar": {
              "outlinewidth": 0,
              "ticks": ""
             }
            },
            "type": "scattermap"
           }
          ],
          "scattermapbox": [
           {
            "marker": {
             "colorbar": {
              "outlinewidth": 0,
              "ticks": ""
             }
            },
            "type": "scattermapbox"
           }
          ],
          "scatterpolar": [
           {
            "marker": {
             "colorbar": {
              "outlinewidth": 0,
              "ticks": ""
             }
            },
            "type": "scatterpolar"
           }
          ],
          "scatterpolargl": [
           {
            "marker": {
             "colorbar": {
              "outlinewidth": 0,
              "ticks": ""
             }
            },
            "type": "scatterpolargl"
           }
          ],
          "scatterternary": [
           {
            "marker": {
             "colorbar": {
              "outlinewidth": 0,
              "ticks": ""
             }
            },
            "type": "scatterternary"
           }
          ],
          "surface": [
           {
            "colorbar": {
             "outlinewidth": 0,
             "ticks": ""
            },
            "colorscale": [
             [
              0,
              "#0d0887"
             ],
             [
              0.1111111111111111,
              "#46039f"
             ],
             [
              0.2222222222222222,
              "#7201a8"
             ],
             [
              0.3333333333333333,
              "#9c179e"
             ],
             [
              0.4444444444444444,
              "#bd3786"
             ],
             [
              0.5555555555555556,
              "#d8576b"
             ],
             [
              0.6666666666666666,
              "#ed7953"
             ],
             [
              0.7777777777777778,
              "#fb9f3a"
             ],
             [
              0.8888888888888888,
              "#fdca26"
             ],
             [
              1,
              "#f0f921"
             ]
            ],
            "type": "surface"
           }
          ],
          "table": [
           {
            "cells": {
             "fill": {
              "color": "#EBF0F8"
             },
             "line": {
              "color": "white"
             }
            },
            "header": {
             "fill": {
              "color": "#C8D4E3"
             },
             "line": {
              "color": "white"
             }
            },
            "type": "table"
           }
          ]
         },
         "layout": {
          "annotationdefaults": {
           "arrowcolor": "#2a3f5f",
           "arrowhead": 0,
           "arrowwidth": 1
          },
          "autotypenumbers": "strict",
          "coloraxis": {
           "colorbar": {
            "outlinewidth": 0,
            "ticks": ""
           }
          },
          "colorscale": {
           "diverging": [
            [
             0,
             "#8e0152"
            ],
            [
             0.1,
             "#c51b7d"
            ],
            [
             0.2,
             "#de77ae"
            ],
            [
             0.3,
             "#f1b6da"
            ],
            [
             0.4,
             "#fde0ef"
            ],
            [
             0.5,
             "#f7f7f7"
            ],
            [
             0.6,
             "#e6f5d0"
            ],
            [
             0.7,
             "#b8e186"
            ],
            [
             0.8,
             "#7fbc41"
            ],
            [
             0.9,
             "#4d9221"
            ],
            [
             1,
             "#276419"
            ]
           ],
           "sequential": [
            [
             0,
             "#0d0887"
            ],
            [
             0.1111111111111111,
             "#46039f"
            ],
            [
             0.2222222222222222,
             "#7201a8"
            ],
            [
             0.3333333333333333,
             "#9c179e"
            ],
            [
             0.4444444444444444,
             "#bd3786"
            ],
            [
             0.5555555555555556,
             "#d8576b"
            ],
            [
             0.6666666666666666,
             "#ed7953"
            ],
            [
             0.7777777777777778,
             "#fb9f3a"
            ],
            [
             0.8888888888888888,
             "#fdca26"
            ],
            [
             1,
             "#f0f921"
            ]
           ],
           "sequentialminus": [
            [
             0,
             "#0d0887"
            ],
            [
             0.1111111111111111,
             "#46039f"
            ],
            [
             0.2222222222222222,
             "#7201a8"
            ],
            [
             0.3333333333333333,
             "#9c179e"
            ],
            [
             0.4444444444444444,
             "#bd3786"
            ],
            [
             0.5555555555555556,
             "#d8576b"
            ],
            [
             0.6666666666666666,
             "#ed7953"
            ],
            [
             0.7777777777777778,
             "#fb9f3a"
            ],
            [
             0.8888888888888888,
             "#fdca26"
            ],
            [
             1,
             "#f0f921"
            ]
           ]
          },
          "colorway": [
           "#636efa",
           "#EF553B",
           "#00cc96",
           "#ab63fa",
           "#FFA15A",
           "#19d3f3",
           "#FF6692",
           "#B6E880",
           "#FF97FF",
           "#FECB52"
          ],
          "font": {
           "color": "#2a3f5f"
          },
          "geo": {
           "bgcolor": "white",
           "lakecolor": "white",
           "landcolor": "#E5ECF6",
           "showlakes": true,
           "showland": true,
           "subunitcolor": "white"
          },
          "hoverlabel": {
           "align": "left"
          },
          "hovermode": "closest",
          "mapbox": {
           "style": "light"
          },
          "paper_bgcolor": "white",
          "plot_bgcolor": "#E5ECF6",
          "polar": {
           "angularaxis": {
            "gridcolor": "white",
            "linecolor": "white",
            "ticks": ""
           },
           "bgcolor": "#E5ECF6",
           "radialaxis": {
            "gridcolor": "white",
            "linecolor": "white",
            "ticks": ""
           }
          },
          "scene": {
           "xaxis": {
            "backgroundcolor": "#E5ECF6",
            "gridcolor": "white",
            "gridwidth": 2,
            "linecolor": "white",
            "showbackground": true,
            "ticks": "",
            "zerolinecolor": "white"
           },
           "yaxis": {
            "backgroundcolor": "#E5ECF6",
            "gridcolor": "white",
            "gridwidth": 2,
            "linecolor": "white",
            "showbackground": true,
            "ticks": "",
            "zerolinecolor": "white"
           },
           "zaxis": {
            "backgroundcolor": "#E5ECF6",
            "gridcolor": "white",
            "gridwidth": 2,
            "linecolor": "white",
            "showbackground": true,
            "ticks": "",
            "zerolinecolor": "white"
           }
          },
          "shapedefaults": {
           "line": {
            "color": "#2a3f5f"
           }
          },
          "ternary": {
           "aaxis": {
            "gridcolor": "white",
            "linecolor": "white",
            "ticks": ""
           },
           "baxis": {
            "gridcolor": "white",
            "linecolor": "white",
            "ticks": ""
           },
           "bgcolor": "#E5ECF6",
           "caxis": {
            "gridcolor": "white",
            "linecolor": "white",
            "ticks": ""
           }
          },
          "title": {
           "x": 0.05
          },
          "xaxis": {
           "automargin": true,
           "gridcolor": "white",
           "linecolor": "white",
           "ticks": "",
           "title": {
            "standoff": 15
           },
           "zerolinecolor": "white",
           "zerolinewidth": 2
          },
          "yaxis": {
           "automargin": true,
           "gridcolor": "white",
           "linecolor": "white",
           "ticks": "",
           "title": {
            "standoff": 15
           },
           "zerolinecolor": "white",
           "zerolinewidth": 2
          }
         }
        },
        "title": {
         "text": "北京各大区二手房各楼层价格对比"
        },
        "width": 800,
        "xaxis": {
         "anchor": "y",
         "domain": [
          0,
          1
         ],
         "title": {
          "text": "Floor"
         }
        },
        "yaxis": {
         "anchor": "x",
         "domain": [
          0,
          1
         ],
         "title": {
          "text": "Price"
         }
        }
       }
      },
      "text/html": [
       "<div>                        <script type=\"text/javascript\">window.PlotlyConfig = {MathJaxConfig: 'local'};</script>\n",
       "        <script charset=\"utf-8\" src=\"https://cdn.plot.ly/plotly-3.0.1.min.js\"></script>                <div id=\"c817944e-5565-4586-88ca-35ca90b61cee\" class=\"plotly-graph-div\" style=\"height:600px; width:800px;\"></div>            <script type=\"text/javascript\">                window.PLOTLYENV=window.PLOTLYENV || {};                                if (document.getElementById(\"c817944e-5565-4586-88ca-35ca90b61cee\")) {                    Plotly.newPlot(                        \"c817944e-5565-4586-88ca-35ca90b61cee\",                        [{\"hovertemplate\":\"Floor=%{x}\\u003cbr\\u003ePrice=%{y}\\u003cextra\\u003e\\u003c\\u002fextra\\u003e\",\"legendgroup\":\"\",\"marker\":{\"color\":\"#636efa\",\"pattern\":{\"shape\":\"\"}},\"name\":\"\",\"orientation\":\"v\",\"showlegend\":false,\"textposition\":\"auto\",\"x\":[\"\\u9ad8\\u697c\\u5c42\",\"\\u5e95\\u5c42\",\"\\u4e2d\\u697c\\u5c42\",\"\\u4f4e\\u697c\\u5c42\",\"\\u9876\\u5c42\"],\"xaxis\":\"x\",\"y\":{\"dtype\":\"f8\",\"bdata\":\"52URn0DafEAAAAAAAI58QHxNXt25fHxAt23bti1mfECHG2644UZ0QA==\"},\"yaxis\":\"y\",\"type\":\"bar\"}],                        {\"template\":{\"data\":{\"histogram2dcontour\":[{\"type\":\"histogram2dcontour\",\"colorbar\":{\"outlinewidth\":0,\"ticks\":\"\"},\"colorscale\":[[0.0,\"#0d0887\"],[0.1111111111111111,\"#46039f\"],[0.2222222222222222,\"#7201a8\"],[0.3333333333333333,\"#9c179e\"],[0.4444444444444444,\"#bd3786\"],[0.5555555555555556,\"#d8576b\"],[0.6666666666666666,\"#ed7953\"],[0.7777777777777778,\"#fb9f3a\"],[0.8888888888888888,\"#fdca26\"],[1.0,\"#f0f921\"]]}],\"choropleth\":[{\"type\":\"choropleth\",\"colorbar\":{\"outlinewidth\":0,\"ticks\":\"\"}}],\"histogram2d\":[{\"type\":\"histogram2d\",\"colorbar\":{\"outlinewidth\":0,\"ticks\":\"\"},\"colorscale\":[[0.0,\"#0d0887\"],[0.1111111111111111,\"#46039f\"],[0.2222222222222222,\"#7201a8\"],[0.3333333333333333,\"#9c179e\"],[0.4444444444444444,\"#bd3786\"],[0.5555555555555556,\"#d8576b\"],[0.6666666666666666,\"#ed7953\"],[0.7777777777777778,\"#fb9f3a\"],[0.8888888888888888,\"#fdca26\"],[1.0,\"#f0f921\"]]}],\"heatmap\":[{\"type\":\"heatmap\",\"colorbar\":{\"outlinewidth\":0,\"ticks\":\"\"},\"colorscale\":[[0.0,\"#0d0887\"],[0.1111111111111111,\"#46039f\"],[0.2222222222222222,\"#7201a8\"],[0.3333333333333333,\"#9c179e\"],[0.4444444444444444,\"#bd3786\"],[0.5555555555555556,\"#d8576b\"],[0.6666666666666666,\"#ed7953\"],[0.7777777777777778,\"#fb9f3a\"],[0.8888888888888888,\"#fdca26\"],[1.0,\"#f0f921\"]]}],\"contourcarpet\":[{\"type\":\"contourcarpet\",\"colorbar\":{\"outlinewidth\":0,\"ticks\":\"\"}}],\"contour\":[{\"type\":\"contour\",\"colorbar\":{\"outlinewidth\":0,\"ticks\":\"\"},\"colorscale\":[[0.0,\"#0d0887\"],[0.1111111111111111,\"#46039f\"],[0.2222222222222222,\"#7201a8\"],[0.3333333333333333,\"#9c179e\"],[0.4444444444444444,\"#bd3786\"],[0.5555555555555556,\"#d8576b\"],[0.6666666666666666,\"#ed7953\"],[0.7777777777777778,\"#fb9f3a\"],[0.8888888888888888,\"#fdca26\"],[1.0,\"#f0f921\"]]}],\"surface\":[{\"type\":\"surface\",\"colorbar\":{\"outlinewidth\":0,\"ticks\":\"\"},\"colorscale\":[[0.0,\"#0d0887\"],[0.1111111111111111,\"#46039f\"],[0.2222222222222222,\"#7201a8\"],[0.3333333333333333,\"#9c179e\"],[0.4444444444444444,\"#bd3786\"],[0.5555555555555556,\"#d8576b\"],[0.6666666666666666,\"#ed7953\"],[0.7777777777777778,\"#fb9f3a\"],[0.8888888888888888,\"#fdca26\"],[1.0,\"#f0f921\"]]}],\"mesh3d\":[{\"type\":\"mesh3d\",\"colorbar\":{\"outlinewidth\":0,\"ticks\":\"\"}}],\"scatter\":[{\"fillpattern\":{\"fillmode\":\"overlay\",\"size\":10,\"solidity\":0.2},\"type\":\"scatter\"}],\"parcoords\":[{\"type\":\"parcoords\",\"line\":{\"colorbar\":{\"outlinewidth\":0,\"ticks\":\"\"}}}],\"scatterpolargl\":[{\"type\":\"scatterpolargl\",\"marker\":{\"colorbar\":{\"outlinewidth\":0,\"ticks\":\"\"}}}],\"bar\":[{\"error_x\":{\"color\":\"#2a3f5f\"},\"error_y\":{\"color\":\"#2a3f5f\"},\"marker\":{\"line\":{\"color\":\"#E5ECF6\",\"width\":0.5},\"pattern\":{\"fillmode\":\"overlay\",\"size\":10,\"solidity\":0.2}},\"type\":\"bar\"}],\"scattergeo\":[{\"type\":\"scattergeo\",\"marker\":{\"colorbar\":{\"outlinewidth\":0,\"ticks\":\"\"}}}],\"scatterpolar\":[{\"type\":\"scatterpolar\",\"marker\":{\"colorbar\":{\"outlinewidth\":0,\"ticks\":\"\"}}}],\"histogram\":[{\"marker\":{\"pattern\":{\"fillmode\":\"overlay\",\"size\":10,\"solidity\":0.2}},\"type\":\"histogram\"}],\"scattergl\":[{\"type\":\"scattergl\",\"marker\":{\"colorbar\":{\"outlinewidth\":0,\"ticks\":\"\"}}}],\"scatter3d\":[{\"type\":\"scatter3d\",\"line\":{\"colorbar\":{\"outlinewidth\":0,\"ticks\":\"\"}},\"marker\":{\"colorbar\":{\"outlinewidth\":0,\"ticks\":\"\"}}}],\"scattermap\":[{\"type\":\"scattermap\",\"marker\":{\"colorbar\":{\"outlinewidth\":0,\"ticks\":\"\"}}}],\"scattermapbox\":[{\"type\":\"scattermapbox\",\"marker\":{\"colorbar\":{\"outlinewidth\":0,\"ticks\":\"\"}}}],\"scatterternary\":[{\"type\":\"scatterternary\",\"marker\":{\"colorbar\":{\"outlinewidth\":0,\"ticks\":\"\"}}}],\"scattercarpet\":[{\"type\":\"scattercarpet\",\"marker\":{\"colorbar\":{\"outlinewidth\":0,\"ticks\":\"\"}}}],\"carpet\":[{\"aaxis\":{\"endlinecolor\":\"#2a3f5f\",\"gridcolor\":\"white\",\"linecolor\":\"white\",\"minorgridcolor\":\"white\",\"startlinecolor\":\"#2a3f5f\"},\"baxis\":{\"endlinecolor\":\"#2a3f5f\",\"gridcolor\":\"white\",\"linecolor\":\"white\",\"minorgridcolor\":\"white\",\"startlinecolor\":\"#2a3f5f\"},\"type\":\"carpet\"}],\"table\":[{\"cells\":{\"fill\":{\"color\":\"#EBF0F8\"},\"line\":{\"color\":\"white\"}},\"header\":{\"fill\":{\"color\":\"#C8D4E3\"},\"line\":{\"color\":\"white\"}},\"type\":\"table\"}],\"barpolar\":[{\"marker\":{\"line\":{\"color\":\"#E5ECF6\",\"width\":0.5},\"pattern\":{\"fillmode\":\"overlay\",\"size\":10,\"solidity\":0.2}},\"type\":\"barpolar\"}],\"pie\":[{\"automargin\":true,\"type\":\"pie\"}]},\"layout\":{\"autotypenumbers\":\"strict\",\"colorway\":[\"#636efa\",\"#EF553B\",\"#00cc96\",\"#ab63fa\",\"#FFA15A\",\"#19d3f3\",\"#FF6692\",\"#B6E880\",\"#FF97FF\",\"#FECB52\"],\"font\":{\"color\":\"#2a3f5f\"},\"hovermode\":\"closest\",\"hoverlabel\":{\"align\":\"left\"},\"paper_bgcolor\":\"white\",\"plot_bgcolor\":\"#E5ECF6\",\"polar\":{\"bgcolor\":\"#E5ECF6\",\"angularaxis\":{\"gridcolor\":\"white\",\"linecolor\":\"white\",\"ticks\":\"\"},\"radialaxis\":{\"gridcolor\":\"white\",\"linecolor\":\"white\",\"ticks\":\"\"}},\"ternary\":{\"bgcolor\":\"#E5ECF6\",\"aaxis\":{\"gridcolor\":\"white\",\"linecolor\":\"white\",\"ticks\":\"\"},\"baxis\":{\"gridcolor\":\"white\",\"linecolor\":\"white\",\"ticks\":\"\"},\"caxis\":{\"gridcolor\":\"white\",\"linecolor\":\"white\",\"ticks\":\"\"}},\"coloraxis\":{\"colorbar\":{\"outlinewidth\":0,\"ticks\":\"\"}},\"colorscale\":{\"sequential\":[[0.0,\"#0d0887\"],[0.1111111111111111,\"#46039f\"],[0.2222222222222222,\"#7201a8\"],[0.3333333333333333,\"#9c179e\"],[0.4444444444444444,\"#bd3786\"],[0.5555555555555556,\"#d8576b\"],[0.6666666666666666,\"#ed7953\"],[0.7777777777777778,\"#fb9f3a\"],[0.8888888888888888,\"#fdca26\"],[1.0,\"#f0f921\"]],\"sequentialminus\":[[0.0,\"#0d0887\"],[0.1111111111111111,\"#46039f\"],[0.2222222222222222,\"#7201a8\"],[0.3333333333333333,\"#9c179e\"],[0.4444444444444444,\"#bd3786\"],[0.5555555555555556,\"#d8576b\"],[0.6666666666666666,\"#ed7953\"],[0.7777777777777778,\"#fb9f3a\"],[0.8888888888888888,\"#fdca26\"],[1.0,\"#f0f921\"]],\"diverging\":[[0,\"#8e0152\"],[0.1,\"#c51b7d\"],[0.2,\"#de77ae\"],[0.3,\"#f1b6da\"],[0.4,\"#fde0ef\"],[0.5,\"#f7f7f7\"],[0.6,\"#e6f5d0\"],[0.7,\"#b8e186\"],[0.8,\"#7fbc41\"],[0.9,\"#4d9221\"],[1,\"#276419\"]]},\"xaxis\":{\"gridcolor\":\"white\",\"linecolor\":\"white\",\"ticks\":\"\",\"title\":{\"standoff\":15},\"zerolinecolor\":\"white\",\"automargin\":true,\"zerolinewidth\":2},\"yaxis\":{\"gridcolor\":\"white\",\"linecolor\":\"white\",\"ticks\":\"\",\"title\":{\"standoff\":15},\"zerolinecolor\":\"white\",\"automargin\":true,\"zerolinewidth\":2},\"scene\":{\"xaxis\":{\"backgroundcolor\":\"#E5ECF6\",\"gridcolor\":\"white\",\"linecolor\":\"white\",\"showbackground\":true,\"ticks\":\"\",\"zerolinecolor\":\"white\",\"gridwidth\":2},\"yaxis\":{\"backgroundcolor\":\"#E5ECF6\",\"gridcolor\":\"white\",\"linecolor\":\"white\",\"showbackground\":true,\"ticks\":\"\",\"zerolinecolor\":\"white\",\"gridwidth\":2},\"zaxis\":{\"backgroundcolor\":\"#E5ECF6\",\"gridcolor\":\"white\",\"linecolor\":\"white\",\"showbackground\":true,\"ticks\":\"\",\"zerolinecolor\":\"white\",\"gridwidth\":2}},\"shapedefaults\":{\"line\":{\"color\":\"#2a3f5f\"}},\"annotationdefaults\":{\"arrowcolor\":\"#2a3f5f\",\"arrowhead\":0,\"arrowwidth\":1},\"geo\":{\"bgcolor\":\"white\",\"landcolor\":\"#E5ECF6\",\"subunitcolor\":\"white\",\"showland\":true,\"showlakes\":true,\"lakecolor\":\"white\"},\"title\":{\"x\":0.05},\"mapbox\":{\"style\":\"light\"}}},\"xaxis\":{\"anchor\":\"y\",\"domain\":[0.0,1.0],\"title\":{\"text\":\"Floor\"}},\"yaxis\":{\"anchor\":\"x\",\"domain\":[0.0,1.0],\"title\":{\"text\":\"Price\"}},\"legend\":{\"tracegroupgap\":0},\"title\":{\"text\":\"\\u5317\\u4eac\\u5404\\u5927\\u533a\\u4e8c\\u624b\\u623f\\u5404\\u697c\\u5c42\\u4ef7\\u683c\\u5bf9\\u6bd4\"},\"barmode\":\"relative\",\"height\":600,\"width\":800},                        {\"responsive\": true}                    )                };            </script>        </div>"
      ],
      "text/plain": [
       "Figure({\n",
       "    'data': [{'hovertemplate': 'Floor=%{x}<br>Price=%{y}<extra></extra>',\n",
       "              'legendgroup': '',\n",
       "              'marker': {'color': '#636efa', 'pattern': {'shape': ''}},\n",
       "              'name': '',\n",
       "              'orientation': 'v',\n",
       "              'showlegend': False,\n",
       "              'textposition': 'auto',\n",
       "              'type': 'bar',\n",
       "              'x': array(['高楼层', '底层', '中楼层', '低楼层', '顶层'], dtype=object),\n",
       "              'xaxis': 'x',\n",
       "              'y': {'bdata': '52URn0DafEAAAAAAAI58QHxNXt25fHxAt23bti1mfECHG2644UZ0QA==', 'dtype': 'f8'},\n",
       "              'yaxis': 'y'}],\n",
       "    'layout': {'barmode': 'relative',\n",
       "               'height': 600,\n",
       "               'legend': {'tracegroupgap': 0},\n",
       "               'template': '...',\n",
       "               'title': {'text': '北京各大区二手房各楼层价格对比'},\n",
       "               'width': 800,\n",
       "               'xaxis': {'anchor': 'y', 'domain': [0.0, 1.0], 'title': {'text': 'Floor'}},\n",
       "               'yaxis': {'anchor': 'x', 'domain': [0.0, 1.0], 'title': {'text': 'Price'}}}\n",
       "})"
      ]
     },
     "execution_count": 33,
     "metadata": {},
     "output_type": "execute_result"
    }
   ],
   "source": [
    "dfFloorPrice = df.groupby(\"Floor\")['Price'].mean().sort_values(ascending=False).reset_index()\n",
    "print(dfFloorPrice)\n",
    "px.bar(data_frame=dfFloorPrice,x=\"Floor\",y=\"Price\",width=800,height=600,title=\"北京各大区二手房各楼层价格对比\")"
   ]
  },
  {
   "cell_type": "code",
   "execution_count": 34,
   "id": "bb047ff4",
   "metadata": {},
   "outputs": [
    {
     "ename": "ValueError",
     "evalue": "Mime type rendering requires nbformat>=4.2.0 but it is not installed",
     "output_type": "error",
     "traceback": [
      "\u001b[31m---------------------------------------------------------------------------\u001b[39m",
      "\u001b[31mValueError\u001b[39m                                Traceback (most recent call last)",
      "\u001b[36mFile \u001b[39m\u001b[32mc:\\Users\\57177\\AppData\\Local\\Programs\\Python\\Python312\\Lib\\site-packages\\IPython\\core\\formatters.py:984\u001b[39m, in \u001b[36mIPythonDisplayFormatter.__call__\u001b[39m\u001b[34m(self, obj)\u001b[39m\n\u001b[32m    982\u001b[39m method = get_real_method(obj, \u001b[38;5;28mself\u001b[39m.print_method)\n\u001b[32m    983\u001b[39m \u001b[38;5;28;01mif\u001b[39;00m method \u001b[38;5;129;01mis\u001b[39;00m \u001b[38;5;129;01mnot\u001b[39;00m \u001b[38;5;28;01mNone\u001b[39;00m:\n\u001b[32m--> \u001b[39m\u001b[32m984\u001b[39m     \u001b[43mmethod\u001b[49m\u001b[43m(\u001b[49m\u001b[43m)\u001b[49m\n\u001b[32m    985\u001b[39m     \u001b[38;5;28;01mreturn\u001b[39;00m \u001b[38;5;28;01mTrue\u001b[39;00m\n",
      "\u001b[36mFile \u001b[39m\u001b[32mc:\\Users\\57177\\AppData\\Local\\Programs\\Python\\Python312\\Lib\\site-packages\\plotly\\basedatatypes.py:833\u001b[39m, in \u001b[36mBaseFigure._ipython_display_\u001b[39m\u001b[34m(self)\u001b[39m\n\u001b[32m    830\u001b[39m \u001b[38;5;28;01mimport\u001b[39;00m \u001b[34;01mplotly\u001b[39;00m\u001b[34;01m.\u001b[39;00m\u001b[34;01mio\u001b[39;00m \u001b[38;5;28;01mas\u001b[39;00m \u001b[34;01mpio\u001b[39;00m\n\u001b[32m    832\u001b[39m \u001b[38;5;28;01mif\u001b[39;00m pio.renderers.render_on_display \u001b[38;5;129;01mand\u001b[39;00m pio.renderers.default:\n\u001b[32m--> \u001b[39m\u001b[32m833\u001b[39m     \u001b[43mpio\u001b[49m\u001b[43m.\u001b[49m\u001b[43mshow\u001b[49m\u001b[43m(\u001b[49m\u001b[38;5;28;43mself\u001b[39;49m\u001b[43m)\u001b[49m\n\u001b[32m    834\u001b[39m \u001b[38;5;28;01melse\u001b[39;00m:\n\u001b[32m    835\u001b[39m     \u001b[38;5;28mprint\u001b[39m(\u001b[38;5;28mrepr\u001b[39m(\u001b[38;5;28mself\u001b[39m))\n",
      "\u001b[36mFile \u001b[39m\u001b[32mc:\\Users\\57177\\AppData\\Local\\Programs\\Python\\Python312\\Lib\\site-packages\\plotly\\io\\_renderers.py:425\u001b[39m, in \u001b[36mshow\u001b[39m\u001b[34m(fig, renderer, validate, **kwargs)\u001b[39m\n\u001b[32m    420\u001b[39m     \u001b[38;5;28;01mraise\u001b[39;00m \u001b[38;5;167;01mValueError\u001b[39;00m(\n\u001b[32m    421\u001b[39m         \u001b[33m\"\u001b[39m\u001b[33mMime type rendering requires ipython but it is not installed\u001b[39m\u001b[33m\"\u001b[39m\n\u001b[32m    422\u001b[39m     )\n\u001b[32m    424\u001b[39m \u001b[38;5;28;01mif\u001b[39;00m \u001b[38;5;129;01mnot\u001b[39;00m nbformat \u001b[38;5;129;01mor\u001b[39;00m Version(nbformat.__version__) < Version(\u001b[33m\"\u001b[39m\u001b[33m4.2.0\u001b[39m\u001b[33m\"\u001b[39m):\n\u001b[32m--> \u001b[39m\u001b[32m425\u001b[39m     \u001b[38;5;28;01mraise\u001b[39;00m \u001b[38;5;167;01mValueError\u001b[39;00m(\n\u001b[32m    426\u001b[39m         \u001b[33m\"\u001b[39m\u001b[33mMime type rendering requires nbformat>=4.2.0 but it is not installed\u001b[39m\u001b[33m\"\u001b[39m\n\u001b[32m    427\u001b[39m     )\n\u001b[32m    429\u001b[39m display_jupyter_version_warnings()\n\u001b[32m    431\u001b[39m ipython_display.display(bundle, raw=\u001b[38;5;28;01mTrue\u001b[39;00m)\n",
      "\u001b[31mValueError\u001b[39m: Mime type rendering requires nbformat>=4.2.0 but it is not installed"
     ]
    },
    {
     "data": {
      "application/vnd.plotly.v1+json": {
       "config": {
        "plotlyServerURL": "https://plot.ly"
       },
       "data": [
        {
         "hovertemplate": "Elevator=%{x}<br>Price=%{y}<extra></extra>",
         "legendgroup": "",
         "marker": {
          "color": "#636efa",
          "pattern": {
           "shape": ""
          }
         },
         "name": "",
         "orientation": "v",
         "showlegend": false,
         "textposition": "auto",
         "type": "bar",
         "x": [
          "有",
          "无",
          "暂无数据"
         ],
         "xaxis": "x",
         "y": {
          "bdata": "fDzC+Hhcf0AQlwZLzCN3QNPS0tLSUmlA",
          "dtype": "f8"
         },
         "yaxis": "y"
        }
       ],
       "layout": {
        "barmode": "relative",
        "height": 600,
        "legend": {
         "tracegroupgap": 0
        },
        "template": {
         "data": {
          "bar": [
           {
            "error_x": {
             "color": "#2a3f5f"
            },
            "error_y": {
             "color": "#2a3f5f"
            },
            "marker": {
             "line": {
              "color": "#E5ECF6",
              "width": 0.5
             },
             "pattern": {
              "fillmode": "overlay",
              "size": 10,
              "solidity": 0.2
             }
            },
            "type": "bar"
           }
          ],
          "barpolar": [
           {
            "marker": {
             "line": {
              "color": "#E5ECF6",
              "width": 0.5
             },
             "pattern": {
              "fillmode": "overlay",
              "size": 10,
              "solidity": 0.2
             }
            },
            "type": "barpolar"
           }
          ],
          "carpet": [
           {
            "aaxis": {
             "endlinecolor": "#2a3f5f",
             "gridcolor": "white",
             "linecolor": "white",
             "minorgridcolor": "white",
             "startlinecolor": "#2a3f5f"
            },
            "baxis": {
             "endlinecolor": "#2a3f5f",
             "gridcolor": "white",
             "linecolor": "white",
             "minorgridcolor": "white",
             "startlinecolor": "#2a3f5f"
            },
            "type": "carpet"
           }
          ],
          "choropleth": [
           {
            "colorbar": {
             "outlinewidth": 0,
             "ticks": ""
            },
            "type": "choropleth"
           }
          ],
          "contour": [
           {
            "colorbar": {
             "outlinewidth": 0,
             "ticks": ""
            },
            "colorscale": [
             [
              0,
              "#0d0887"
             ],
             [
              0.1111111111111111,
              "#46039f"
             ],
             [
              0.2222222222222222,
              "#7201a8"
             ],
             [
              0.3333333333333333,
              "#9c179e"
             ],
             [
              0.4444444444444444,
              "#bd3786"
             ],
             [
              0.5555555555555556,
              "#d8576b"
             ],
             [
              0.6666666666666666,
              "#ed7953"
             ],
             [
              0.7777777777777778,
              "#fb9f3a"
             ],
             [
              0.8888888888888888,
              "#fdca26"
             ],
             [
              1,
              "#f0f921"
             ]
            ],
            "type": "contour"
           }
          ],
          "contourcarpet": [
           {
            "colorbar": {
             "outlinewidth": 0,
             "ticks": ""
            },
            "type": "contourcarpet"
           }
          ],
          "heatmap": [
           {
            "colorbar": {
             "outlinewidth": 0,
             "ticks": ""
            },
            "colorscale": [
             [
              0,
              "#0d0887"
             ],
             [
              0.1111111111111111,
              "#46039f"
             ],
             [
              0.2222222222222222,
              "#7201a8"
             ],
             [
              0.3333333333333333,
              "#9c179e"
             ],
             [
              0.4444444444444444,
              "#bd3786"
             ],
             [
              0.5555555555555556,
              "#d8576b"
             ],
             [
              0.6666666666666666,
              "#ed7953"
             ],
             [
              0.7777777777777778,
              "#fb9f3a"
             ],
             [
              0.8888888888888888,
              "#fdca26"
             ],
             [
              1,
              "#f0f921"
             ]
            ],
            "type": "heatmap"
           }
          ],
          "histogram": [
           {
            "marker": {
             "pattern": {
              "fillmode": "overlay",
              "size": 10,
              "solidity": 0.2
             }
            },
            "type": "histogram"
           }
          ],
          "histogram2d": [
           {
            "colorbar": {
             "outlinewidth": 0,
             "ticks": ""
            },
            "colorscale": [
             [
              0,
              "#0d0887"
             ],
             [
              0.1111111111111111,
              "#46039f"
             ],
             [
              0.2222222222222222,
              "#7201a8"
             ],
             [
              0.3333333333333333,
              "#9c179e"
             ],
             [
              0.4444444444444444,
              "#bd3786"
             ],
             [
              0.5555555555555556,
              "#d8576b"
             ],
             [
              0.6666666666666666,
              "#ed7953"
             ],
             [
              0.7777777777777778,
              "#fb9f3a"
             ],
             [
              0.8888888888888888,
              "#fdca26"
             ],
             [
              1,
              "#f0f921"
             ]
            ],
            "type": "histogram2d"
           }
          ],
          "histogram2dcontour": [
           {
            "colorbar": {
             "outlinewidth": 0,
             "ticks": ""
            },
            "colorscale": [
             [
              0,
              "#0d0887"
             ],
             [
              0.1111111111111111,
              "#46039f"
             ],
             [
              0.2222222222222222,
              "#7201a8"
             ],
             [
              0.3333333333333333,
              "#9c179e"
             ],
             [
              0.4444444444444444,
              "#bd3786"
             ],
             [
              0.5555555555555556,
              "#d8576b"
             ],
             [
              0.6666666666666666,
              "#ed7953"
             ],
             [
              0.7777777777777778,
              "#fb9f3a"
             ],
             [
              0.8888888888888888,
              "#fdca26"
             ],
             [
              1,
              "#f0f921"
             ]
            ],
            "type": "histogram2dcontour"
           }
          ],
          "mesh3d": [
           {
            "colorbar": {
             "outlinewidth": 0,
             "ticks": ""
            },
            "type": "mesh3d"
           }
          ],
          "parcoords": [
           {
            "line": {
             "colorbar": {
              "outlinewidth": 0,
              "ticks": ""
             }
            },
            "type": "parcoords"
           }
          ],
          "pie": [
           {
            "automargin": true,
            "type": "pie"
           }
          ],
          "scatter": [
           {
            "fillpattern": {
             "fillmode": "overlay",
             "size": 10,
             "solidity": 0.2
            },
            "type": "scatter"
           }
          ],
          "scatter3d": [
           {
            "line": {
             "colorbar": {
              "outlinewidth": 0,
              "ticks": ""
             }
            },
            "marker": {
             "colorbar": {
              "outlinewidth": 0,
              "ticks": ""
             }
            },
            "type": "scatter3d"
           }
          ],
          "scattercarpet": [
           {
            "marker": {
             "colorbar": {
              "outlinewidth": 0,
              "ticks": ""
             }
            },
            "type": "scattercarpet"
           }
          ],
          "scattergeo": [
           {
            "marker": {
             "colorbar": {
              "outlinewidth": 0,
              "ticks": ""
             }
            },
            "type": "scattergeo"
           }
          ],
          "scattergl": [
           {
            "marker": {
             "colorbar": {
              "outlinewidth": 0,
              "ticks": ""
             }
            },
            "type": "scattergl"
           }
          ],
          "scattermap": [
           {
            "marker": {
             "colorbar": {
              "outlinewidth": 0,
              "ticks": ""
             }
            },
            "type": "scattermap"
           }
          ],
          "scattermapbox": [
           {
            "marker": {
             "colorbar": {
              "outlinewidth": 0,
              "ticks": ""
             }
            },
            "type": "scattermapbox"
           }
          ],
          "scatterpolar": [
           {
            "marker": {
             "colorbar": {
              "outlinewidth": 0,
              "ticks": ""
             }
            },
            "type": "scatterpolar"
           }
          ],
          "scatterpolargl": [
           {
            "marker": {
             "colorbar": {
              "outlinewidth": 0,
              "ticks": ""
             }
            },
            "type": "scatterpolargl"
           }
          ],
          "scatterternary": [
           {
            "marker": {
             "colorbar": {
              "outlinewidth": 0,
              "ticks": ""
             }
            },
            "type": "scatterternary"
           }
          ],
          "surface": [
           {
            "colorbar": {
             "outlinewidth": 0,
             "ticks": ""
            },
            "colorscale": [
             [
              0,
              "#0d0887"
             ],
             [
              0.1111111111111111,
              "#46039f"
             ],
             [
              0.2222222222222222,
              "#7201a8"
             ],
             [
              0.3333333333333333,
              "#9c179e"
             ],
             [
              0.4444444444444444,
              "#bd3786"
             ],
             [
              0.5555555555555556,
              "#d8576b"
             ],
             [
              0.6666666666666666,
              "#ed7953"
             ],
             [
              0.7777777777777778,
              "#fb9f3a"
             ],
             [
              0.8888888888888888,
              "#fdca26"
             ],
             [
              1,
              "#f0f921"
             ]
            ],
            "type": "surface"
           }
          ],
          "table": [
           {
            "cells": {
             "fill": {
              "color": "#EBF0F8"
             },
             "line": {
              "color": "white"
             }
            },
            "header": {
             "fill": {
              "color": "#C8D4E3"
             },
             "line": {
              "color": "white"
             }
            },
            "type": "table"
           }
          ]
         },
         "layout": {
          "annotationdefaults": {
           "arrowcolor": "#2a3f5f",
           "arrowhead": 0,
           "arrowwidth": 1
          },
          "autotypenumbers": "strict",
          "coloraxis": {
           "colorbar": {
            "outlinewidth": 0,
            "ticks": ""
           }
          },
          "colorscale": {
           "diverging": [
            [
             0,
             "#8e0152"
            ],
            [
             0.1,
             "#c51b7d"
            ],
            [
             0.2,
             "#de77ae"
            ],
            [
             0.3,
             "#f1b6da"
            ],
            [
             0.4,
             "#fde0ef"
            ],
            [
             0.5,
             "#f7f7f7"
            ],
            [
             0.6,
             "#e6f5d0"
            ],
            [
             0.7,
             "#b8e186"
            ],
            [
             0.8,
             "#7fbc41"
            ],
            [
             0.9,
             "#4d9221"
            ],
            [
             1,
             "#276419"
            ]
           ],
           "sequential": [
            [
             0,
             "#0d0887"
            ],
            [
             0.1111111111111111,
             "#46039f"
            ],
            [
             0.2222222222222222,
             "#7201a8"
            ],
            [
             0.3333333333333333,
             "#9c179e"
            ],
            [
             0.4444444444444444,
             "#bd3786"
            ],
            [
             0.5555555555555556,
             "#d8576b"
            ],
            [
             0.6666666666666666,
             "#ed7953"
            ],
            [
             0.7777777777777778,
             "#fb9f3a"
            ],
            [
             0.8888888888888888,
             "#fdca26"
            ],
            [
             1,
             "#f0f921"
            ]
           ],
           "sequentialminus": [
            [
             0,
             "#0d0887"
            ],
            [
             0.1111111111111111,
             "#46039f"
            ],
            [
             0.2222222222222222,
             "#7201a8"
            ],
            [
             0.3333333333333333,
             "#9c179e"
            ],
            [
             0.4444444444444444,
             "#bd3786"
            ],
            [
             0.5555555555555556,
             "#d8576b"
            ],
            [
             0.6666666666666666,
             "#ed7953"
            ],
            [
             0.7777777777777778,
             "#fb9f3a"
            ],
            [
             0.8888888888888888,
             "#fdca26"
            ],
            [
             1,
             "#f0f921"
            ]
           ]
          },
          "colorway": [
           "#636efa",
           "#EF553B",
           "#00cc96",
           "#ab63fa",
           "#FFA15A",
           "#19d3f3",
           "#FF6692",
           "#B6E880",
           "#FF97FF",
           "#FECB52"
          ],
          "font": {
           "color": "#2a3f5f"
          },
          "geo": {
           "bgcolor": "white",
           "lakecolor": "white",
           "landcolor": "#E5ECF6",
           "showlakes": true,
           "showland": true,
           "subunitcolor": "white"
          },
          "hoverlabel": {
           "align": "left"
          },
          "hovermode": "closest",
          "mapbox": {
           "style": "light"
          },
          "paper_bgcolor": "white",
          "plot_bgcolor": "#E5ECF6",
          "polar": {
           "angularaxis": {
            "gridcolor": "white",
            "linecolor": "white",
            "ticks": ""
           },
           "bgcolor": "#E5ECF6",
           "radialaxis": {
            "gridcolor": "white",
            "linecolor": "white",
            "ticks": ""
           }
          },
          "scene": {
           "xaxis": {
            "backgroundcolor": "#E5ECF6",
            "gridcolor": "white",
            "gridwidth": 2,
            "linecolor": "white",
            "showbackground": true,
            "ticks": "",
            "zerolinecolor": "white"
           },
           "yaxis": {
            "backgroundcolor": "#E5ECF6",
            "gridcolor": "white",
            "gridwidth": 2,
            "linecolor": "white",
            "showbackground": true,
            "ticks": "",
            "zerolinecolor": "white"
           },
           "zaxis": {
            "backgroundcolor": "#E5ECF6",
            "gridcolor": "white",
            "gridwidth": 2,
            "linecolor": "white",
            "showbackground": true,
            "ticks": "",
            "zerolinecolor": "white"
           }
          },
          "shapedefaults": {
           "line": {
            "color": "#2a3f5f"
           }
          },
          "ternary": {
           "aaxis": {
            "gridcolor": "white",
            "linecolor": "white",
            "ticks": ""
           },
           "baxis": {
            "gridcolor": "white",
            "linecolor": "white",
            "ticks": ""
           },
           "bgcolor": "#E5ECF6",
           "caxis": {
            "gridcolor": "white",
            "linecolor": "white",
            "ticks": ""
           }
          },
          "title": {
           "x": 0.05
          },
          "xaxis": {
           "automargin": true,
           "gridcolor": "white",
           "linecolor": "white",
           "ticks": "",
           "title": {
            "standoff": 15
           },
           "zerolinecolor": "white",
           "zerolinewidth": 2
          },
          "yaxis": {
           "automargin": true,
           "gridcolor": "white",
           "linecolor": "white",
           "ticks": "",
           "title": {
            "standoff": 15
           },
           "zerolinecolor": "white",
           "zerolinewidth": 2
          }
         }
        },
        "title": {
         "text": "北京各大区二手房有无电梯价格对比"
        },
        "width": 800,
        "xaxis": {
         "anchor": "y",
         "domain": [
          0,
          1
         ],
         "title": {
          "text": "Elevator"
         }
        },
        "yaxis": {
         "anchor": "x",
         "domain": [
          0,
          1
         ],
         "title": {
          "text": "Price"
         }
        }
       }
      },
      "text/html": [
       "<div>                        <script type=\"text/javascript\">window.PlotlyConfig = {MathJaxConfig: 'local'};</script>\n",
       "        <script charset=\"utf-8\" src=\"https://cdn.plot.ly/plotly-3.0.1.min.js\"></script>                <div id=\"01fad68e-106c-4f15-bf03-0781d0652044\" class=\"plotly-graph-div\" style=\"height:600px; width:800px;\"></div>            <script type=\"text/javascript\">                window.PLOTLYENV=window.PLOTLYENV || {};                                if (document.getElementById(\"01fad68e-106c-4f15-bf03-0781d0652044\")) {                    Plotly.newPlot(                        \"01fad68e-106c-4f15-bf03-0781d0652044\",                        [{\"hovertemplate\":\"Elevator=%{x}\\u003cbr\\u003ePrice=%{y}\\u003cextra\\u003e\\u003c\\u002fextra\\u003e\",\"legendgroup\":\"\",\"marker\":{\"color\":\"#636efa\",\"pattern\":{\"shape\":\"\"}},\"name\":\"\",\"orientation\":\"v\",\"showlegend\":false,\"textposition\":\"auto\",\"x\":[\"\\u6709\",\"\\u65e0\",\"\\u6682\\u65e0\\u6570\\u636e\"],\"xaxis\":\"x\",\"y\":{\"dtype\":\"f8\",\"bdata\":\"fDzC+Hhcf0AQlwZLzCN3QNPS0tLSUmlA\"},\"yaxis\":\"y\",\"type\":\"bar\"}],                        {\"template\":{\"data\":{\"histogram2dcontour\":[{\"type\":\"histogram2dcontour\",\"colorbar\":{\"outlinewidth\":0,\"ticks\":\"\"},\"colorscale\":[[0.0,\"#0d0887\"],[0.1111111111111111,\"#46039f\"],[0.2222222222222222,\"#7201a8\"],[0.3333333333333333,\"#9c179e\"],[0.4444444444444444,\"#bd3786\"],[0.5555555555555556,\"#d8576b\"],[0.6666666666666666,\"#ed7953\"],[0.7777777777777778,\"#fb9f3a\"],[0.8888888888888888,\"#fdca26\"],[1.0,\"#f0f921\"]]}],\"choropleth\":[{\"type\":\"choropleth\",\"colorbar\":{\"outlinewidth\":0,\"ticks\":\"\"}}],\"histogram2d\":[{\"type\":\"histogram2d\",\"colorbar\":{\"outlinewidth\":0,\"ticks\":\"\"},\"colorscale\":[[0.0,\"#0d0887\"],[0.1111111111111111,\"#46039f\"],[0.2222222222222222,\"#7201a8\"],[0.3333333333333333,\"#9c179e\"],[0.4444444444444444,\"#bd3786\"],[0.5555555555555556,\"#d8576b\"],[0.6666666666666666,\"#ed7953\"],[0.7777777777777778,\"#fb9f3a\"],[0.8888888888888888,\"#fdca26\"],[1.0,\"#f0f921\"]]}],\"heatmap\":[{\"type\":\"heatmap\",\"colorbar\":{\"outlinewidth\":0,\"ticks\":\"\"},\"colorscale\":[[0.0,\"#0d0887\"],[0.1111111111111111,\"#46039f\"],[0.2222222222222222,\"#7201a8\"],[0.3333333333333333,\"#9c179e\"],[0.4444444444444444,\"#bd3786\"],[0.5555555555555556,\"#d8576b\"],[0.6666666666666666,\"#ed7953\"],[0.7777777777777778,\"#fb9f3a\"],[0.8888888888888888,\"#fdca26\"],[1.0,\"#f0f921\"]]}],\"contourcarpet\":[{\"type\":\"contourcarpet\",\"colorbar\":{\"outlinewidth\":0,\"ticks\":\"\"}}],\"contour\":[{\"type\":\"contour\",\"colorbar\":{\"outlinewidth\":0,\"ticks\":\"\"},\"colorscale\":[[0.0,\"#0d0887\"],[0.1111111111111111,\"#46039f\"],[0.2222222222222222,\"#7201a8\"],[0.3333333333333333,\"#9c179e\"],[0.4444444444444444,\"#bd3786\"],[0.5555555555555556,\"#d8576b\"],[0.6666666666666666,\"#ed7953\"],[0.7777777777777778,\"#fb9f3a\"],[0.8888888888888888,\"#fdca26\"],[1.0,\"#f0f921\"]]}],\"surface\":[{\"type\":\"surface\",\"colorbar\":{\"outlinewidth\":0,\"ticks\":\"\"},\"colorscale\":[[0.0,\"#0d0887\"],[0.1111111111111111,\"#46039f\"],[0.2222222222222222,\"#7201a8\"],[0.3333333333333333,\"#9c179e\"],[0.4444444444444444,\"#bd3786\"],[0.5555555555555556,\"#d8576b\"],[0.6666666666666666,\"#ed7953\"],[0.7777777777777778,\"#fb9f3a\"],[0.8888888888888888,\"#fdca26\"],[1.0,\"#f0f921\"]]}],\"mesh3d\":[{\"type\":\"mesh3d\",\"colorbar\":{\"outlinewidth\":0,\"ticks\":\"\"}}],\"scatter\":[{\"fillpattern\":{\"fillmode\":\"overlay\",\"size\":10,\"solidity\":0.2},\"type\":\"scatter\"}],\"parcoords\":[{\"type\":\"parcoords\",\"line\":{\"colorbar\":{\"outlinewidth\":0,\"ticks\":\"\"}}}],\"scatterpolargl\":[{\"type\":\"scatterpolargl\",\"marker\":{\"colorbar\":{\"outlinewidth\":0,\"ticks\":\"\"}}}],\"bar\":[{\"error_x\":{\"color\":\"#2a3f5f\"},\"error_y\":{\"color\":\"#2a3f5f\"},\"marker\":{\"line\":{\"color\":\"#E5ECF6\",\"width\":0.5},\"pattern\":{\"fillmode\":\"overlay\",\"size\":10,\"solidity\":0.2}},\"type\":\"bar\"}],\"scattergeo\":[{\"type\":\"scattergeo\",\"marker\":{\"colorbar\":{\"outlinewidth\":0,\"ticks\":\"\"}}}],\"scatterpolar\":[{\"type\":\"scatterpolar\",\"marker\":{\"colorbar\":{\"outlinewidth\":0,\"ticks\":\"\"}}}],\"histogram\":[{\"marker\":{\"pattern\":{\"fillmode\":\"overlay\",\"size\":10,\"solidity\":0.2}},\"type\":\"histogram\"}],\"scattergl\":[{\"type\":\"scattergl\",\"marker\":{\"colorbar\":{\"outlinewidth\":0,\"ticks\":\"\"}}}],\"scatter3d\":[{\"type\":\"scatter3d\",\"line\":{\"colorbar\":{\"outlinewidth\":0,\"ticks\":\"\"}},\"marker\":{\"colorbar\":{\"outlinewidth\":0,\"ticks\":\"\"}}}],\"scattermap\":[{\"type\":\"scattermap\",\"marker\":{\"colorbar\":{\"outlinewidth\":0,\"ticks\":\"\"}}}],\"scattermapbox\":[{\"type\":\"scattermapbox\",\"marker\":{\"colorbar\":{\"outlinewidth\":0,\"ticks\":\"\"}}}],\"scatterternary\":[{\"type\":\"scatterternary\",\"marker\":{\"colorbar\":{\"outlinewidth\":0,\"ticks\":\"\"}}}],\"scattercarpet\":[{\"type\":\"scattercarpet\",\"marker\":{\"colorbar\":{\"outlinewidth\":0,\"ticks\":\"\"}}}],\"carpet\":[{\"aaxis\":{\"endlinecolor\":\"#2a3f5f\",\"gridcolor\":\"white\",\"linecolor\":\"white\",\"minorgridcolor\":\"white\",\"startlinecolor\":\"#2a3f5f\"},\"baxis\":{\"endlinecolor\":\"#2a3f5f\",\"gridcolor\":\"white\",\"linecolor\":\"white\",\"minorgridcolor\":\"white\",\"startlinecolor\":\"#2a3f5f\"},\"type\":\"carpet\"}],\"table\":[{\"cells\":{\"fill\":{\"color\":\"#EBF0F8\"},\"line\":{\"color\":\"white\"}},\"header\":{\"fill\":{\"color\":\"#C8D4E3\"},\"line\":{\"color\":\"white\"}},\"type\":\"table\"}],\"barpolar\":[{\"marker\":{\"line\":{\"color\":\"#E5ECF6\",\"width\":0.5},\"pattern\":{\"fillmode\":\"overlay\",\"size\":10,\"solidity\":0.2}},\"type\":\"barpolar\"}],\"pie\":[{\"automargin\":true,\"type\":\"pie\"}]},\"layout\":{\"autotypenumbers\":\"strict\",\"colorway\":[\"#636efa\",\"#EF553B\",\"#00cc96\",\"#ab63fa\",\"#FFA15A\",\"#19d3f3\",\"#FF6692\",\"#B6E880\",\"#FF97FF\",\"#FECB52\"],\"font\":{\"color\":\"#2a3f5f\"},\"hovermode\":\"closest\",\"hoverlabel\":{\"align\":\"left\"},\"paper_bgcolor\":\"white\",\"plot_bgcolor\":\"#E5ECF6\",\"polar\":{\"bgcolor\":\"#E5ECF6\",\"angularaxis\":{\"gridcolor\":\"white\",\"linecolor\":\"white\",\"ticks\":\"\"},\"radialaxis\":{\"gridcolor\":\"white\",\"linecolor\":\"white\",\"ticks\":\"\"}},\"ternary\":{\"bgcolor\":\"#E5ECF6\",\"aaxis\":{\"gridcolor\":\"white\",\"linecolor\":\"white\",\"ticks\":\"\"},\"baxis\":{\"gridcolor\":\"white\",\"linecolor\":\"white\",\"ticks\":\"\"},\"caxis\":{\"gridcolor\":\"white\",\"linecolor\":\"white\",\"ticks\":\"\"}},\"coloraxis\":{\"colorbar\":{\"outlinewidth\":0,\"ticks\":\"\"}},\"colorscale\":{\"sequential\":[[0.0,\"#0d0887\"],[0.1111111111111111,\"#46039f\"],[0.2222222222222222,\"#7201a8\"],[0.3333333333333333,\"#9c179e\"],[0.4444444444444444,\"#bd3786\"],[0.5555555555555556,\"#d8576b\"],[0.6666666666666666,\"#ed7953\"],[0.7777777777777778,\"#fb9f3a\"],[0.8888888888888888,\"#fdca26\"],[1.0,\"#f0f921\"]],\"sequentialminus\":[[0.0,\"#0d0887\"],[0.1111111111111111,\"#46039f\"],[0.2222222222222222,\"#7201a8\"],[0.3333333333333333,\"#9c179e\"],[0.4444444444444444,\"#bd3786\"],[0.5555555555555556,\"#d8576b\"],[0.6666666666666666,\"#ed7953\"],[0.7777777777777778,\"#fb9f3a\"],[0.8888888888888888,\"#fdca26\"],[1.0,\"#f0f921\"]],\"diverging\":[[0,\"#8e0152\"],[0.1,\"#c51b7d\"],[0.2,\"#de77ae\"],[0.3,\"#f1b6da\"],[0.4,\"#fde0ef\"],[0.5,\"#f7f7f7\"],[0.6,\"#e6f5d0\"],[0.7,\"#b8e186\"],[0.8,\"#7fbc41\"],[0.9,\"#4d9221\"],[1,\"#276419\"]]},\"xaxis\":{\"gridcolor\":\"white\",\"linecolor\":\"white\",\"ticks\":\"\",\"title\":{\"standoff\":15},\"zerolinecolor\":\"white\",\"automargin\":true,\"zerolinewidth\":2},\"yaxis\":{\"gridcolor\":\"white\",\"linecolor\":\"white\",\"ticks\":\"\",\"title\":{\"standoff\":15},\"zerolinecolor\":\"white\",\"automargin\":true,\"zerolinewidth\":2},\"scene\":{\"xaxis\":{\"backgroundcolor\":\"#E5ECF6\",\"gridcolor\":\"white\",\"linecolor\":\"white\",\"showbackground\":true,\"ticks\":\"\",\"zerolinecolor\":\"white\",\"gridwidth\":2},\"yaxis\":{\"backgroundcolor\":\"#E5ECF6\",\"gridcolor\":\"white\",\"linecolor\":\"white\",\"showbackground\":true,\"ticks\":\"\",\"zerolinecolor\":\"white\",\"gridwidth\":2},\"zaxis\":{\"backgroundcolor\":\"#E5ECF6\",\"gridcolor\":\"white\",\"linecolor\":\"white\",\"showbackground\":true,\"ticks\":\"\",\"zerolinecolor\":\"white\",\"gridwidth\":2}},\"shapedefaults\":{\"line\":{\"color\":\"#2a3f5f\"}},\"annotationdefaults\":{\"arrowcolor\":\"#2a3f5f\",\"arrowhead\":0,\"arrowwidth\":1},\"geo\":{\"bgcolor\":\"white\",\"landcolor\":\"#E5ECF6\",\"subunitcolor\":\"white\",\"showland\":true,\"showlakes\":true,\"lakecolor\":\"white\"},\"title\":{\"x\":0.05},\"mapbox\":{\"style\":\"light\"}}},\"xaxis\":{\"anchor\":\"y\",\"domain\":[0.0,1.0],\"title\":{\"text\":\"Elevator\"}},\"yaxis\":{\"anchor\":\"x\",\"domain\":[0.0,1.0],\"title\":{\"text\":\"Price\"}},\"legend\":{\"tracegroupgap\":0},\"title\":{\"text\":\"\\u5317\\u4eac\\u5404\\u5927\\u533a\\u4e8c\\u624b\\u623f\\u6709\\u65e0\\u7535\\u68af\\u4ef7\\u683c\\u5bf9\\u6bd4\"},\"barmode\":\"relative\",\"height\":600,\"width\":800},                        {\"responsive\": true}                    )                };            </script>        </div>"
      ],
      "text/plain": [
       "Figure({\n",
       "    'data': [{'hovertemplate': 'Elevator=%{x}<br>Price=%{y}<extra></extra>',\n",
       "              'legendgroup': '',\n",
       "              'marker': {'color': '#636efa', 'pattern': {'shape': ''}},\n",
       "              'name': '',\n",
       "              'orientation': 'v',\n",
       "              'showlegend': False,\n",
       "              'textposition': 'auto',\n",
       "              'type': 'bar',\n",
       "              'x': array(['有', '无', '暂无数据'], dtype=object),\n",
       "              'xaxis': 'x',\n",
       "              'y': {'bdata': 'fDzC+Hhcf0AQlwZLzCN3QNPS0tLSUmlA', 'dtype': 'f8'},\n",
       "              'yaxis': 'y'}],\n",
       "    'layout': {'barmode': 'relative',\n",
       "               'height': 600,\n",
       "               'legend': {'tracegroupgap': 0},\n",
       "               'template': '...',\n",
       "               'title': {'text': '北京各大区二手房有无电梯价格对比'},\n",
       "               'width': 800,\n",
       "               'xaxis': {'anchor': 'y', 'domain': [0.0, 1.0], 'title': {'text': 'Elevator'}},\n",
       "               'yaxis': {'anchor': 'x', 'domain': [0.0, 1.0], 'title': {'text': 'Price'}}}\n",
       "})"
      ]
     },
     "execution_count": 34,
     "metadata": {},
     "output_type": "execute_result"
    }
   ],
   "source": [
    "dfElevator = df.groupby(\"Elevator\")[\"Price\"].mean().sort_values(ascending=False).reset_index()\n",
    "dfElevator\n",
    "px.bar(data_frame=dfElevator,x=\"Elevator\",y=\"Price\",width=800,height=600,title=\"北京各大区二手房有无电梯价格对比\")"
   ]
  },
  {
   "cell_type": "code",
   "execution_count": 35,
   "id": "787742a6",
   "metadata": {},
   "outputs": [
    {
     "ename": "ValueError",
     "evalue": "Mime type rendering requires nbformat>=4.2.0 but it is not installed",
     "output_type": "error",
     "traceback": [
      "\u001b[31m---------------------------------------------------------------------------\u001b[39m",
      "\u001b[31mValueError\u001b[39m                                Traceback (most recent call last)",
      "\u001b[36mFile \u001b[39m\u001b[32mc:\\Users\\57177\\AppData\\Local\\Programs\\Python\\Python312\\Lib\\site-packages\\IPython\\core\\formatters.py:984\u001b[39m, in \u001b[36mIPythonDisplayFormatter.__call__\u001b[39m\u001b[34m(self, obj)\u001b[39m\n\u001b[32m    982\u001b[39m method = get_real_method(obj, \u001b[38;5;28mself\u001b[39m.print_method)\n\u001b[32m    983\u001b[39m \u001b[38;5;28;01mif\u001b[39;00m method \u001b[38;5;129;01mis\u001b[39;00m \u001b[38;5;129;01mnot\u001b[39;00m \u001b[38;5;28;01mNone\u001b[39;00m:\n\u001b[32m--> \u001b[39m\u001b[32m984\u001b[39m     \u001b[43mmethod\u001b[49m\u001b[43m(\u001b[49m\u001b[43m)\u001b[49m\n\u001b[32m    985\u001b[39m     \u001b[38;5;28;01mreturn\u001b[39;00m \u001b[38;5;28;01mTrue\u001b[39;00m\n",
      "\u001b[36mFile \u001b[39m\u001b[32mc:\\Users\\57177\\AppData\\Local\\Programs\\Python\\Python312\\Lib\\site-packages\\plotly\\basedatatypes.py:833\u001b[39m, in \u001b[36mBaseFigure._ipython_display_\u001b[39m\u001b[34m(self)\u001b[39m\n\u001b[32m    830\u001b[39m \u001b[38;5;28;01mimport\u001b[39;00m \u001b[34;01mplotly\u001b[39;00m\u001b[34;01m.\u001b[39;00m\u001b[34;01mio\u001b[39;00m \u001b[38;5;28;01mas\u001b[39;00m \u001b[34;01mpio\u001b[39;00m\n\u001b[32m    832\u001b[39m \u001b[38;5;28;01mif\u001b[39;00m pio.renderers.render_on_display \u001b[38;5;129;01mand\u001b[39;00m pio.renderers.default:\n\u001b[32m--> \u001b[39m\u001b[32m833\u001b[39m     \u001b[43mpio\u001b[49m\u001b[43m.\u001b[49m\u001b[43mshow\u001b[49m\u001b[43m(\u001b[49m\u001b[38;5;28;43mself\u001b[39;49m\u001b[43m)\u001b[49m\n\u001b[32m    834\u001b[39m \u001b[38;5;28;01melse\u001b[39;00m:\n\u001b[32m    835\u001b[39m     \u001b[38;5;28mprint\u001b[39m(\u001b[38;5;28mrepr\u001b[39m(\u001b[38;5;28mself\u001b[39m))\n",
      "\u001b[36mFile \u001b[39m\u001b[32mc:\\Users\\57177\\AppData\\Local\\Programs\\Python\\Python312\\Lib\\site-packages\\plotly\\io\\_renderers.py:425\u001b[39m, in \u001b[36mshow\u001b[39m\u001b[34m(fig, renderer, validate, **kwargs)\u001b[39m\n\u001b[32m    420\u001b[39m     \u001b[38;5;28;01mraise\u001b[39;00m \u001b[38;5;167;01mValueError\u001b[39;00m(\n\u001b[32m    421\u001b[39m         \u001b[33m\"\u001b[39m\u001b[33mMime type rendering requires ipython but it is not installed\u001b[39m\u001b[33m\"\u001b[39m\n\u001b[32m    422\u001b[39m     )\n\u001b[32m    424\u001b[39m \u001b[38;5;28;01mif\u001b[39;00m \u001b[38;5;129;01mnot\u001b[39;00m nbformat \u001b[38;5;129;01mor\u001b[39;00m Version(nbformat.__version__) < Version(\u001b[33m\"\u001b[39m\u001b[33m4.2.0\u001b[39m\u001b[33m\"\u001b[39m):\n\u001b[32m--> \u001b[39m\u001b[32m425\u001b[39m     \u001b[38;5;28;01mraise\u001b[39;00m \u001b[38;5;167;01mValueError\u001b[39;00m(\n\u001b[32m    426\u001b[39m         \u001b[33m\"\u001b[39m\u001b[33mMime type rendering requires nbformat>=4.2.0 but it is not installed\u001b[39m\u001b[33m\"\u001b[39m\n\u001b[32m    427\u001b[39m     )\n\u001b[32m    429\u001b[39m display_jupyter_version_warnings()\n\u001b[32m    431\u001b[39m ipython_display.display(bundle, raw=\u001b[38;5;28;01mTrue\u001b[39;00m)\n",
      "\u001b[31mValueError\u001b[39m: Mime type rendering requires nbformat>=4.2.0 but it is not installed"
     ]
    },
    {
     "data": {
      "application/vnd.plotly.v1+json": {
       "config": {
        "plotlyServerURL": "https://plot.ly"
       },
       "data": [
        {
         "hovertemplate": "Elevator=有<br>Renovation=简装<br>Year=%{x}<br>Price=%{y}<extra></extra>",
         "legendgroup": "有",
         "marker": {
          "color": "#636efa",
          "symbol": "circle"
         },
         "mode": "markers",
         "name": "有",
         "showlegend": true,
         "type": "scattergl",
         "x": {
          "bdata": "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",
          "dtype": "f8"
         },
         "xaxis": "x9",
         "y": {
          "bdata": "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",
          "dtype": "f8"
         },
         "yaxis": "y9"
        },
        {
         "hovertemplate": "Elevator=有<br>Renovation=精装<br>Year=%{x}<br>Price=%{y}<extra></extra>",
         "legendgroup": "有",
         "marker": {
          "color": "#636efa",
          "symbol": "circle"
         },
         "mode": "markers",
         "name": "有",
         "showlegend": false,
         "type": "scattergl",
         "x": {
          "bdata": "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",
          "dtype": "f8"
         },
         "xaxis": "x10",
         "y": {
          "bdata": "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",
          "dtype": "f8"
         },
         "yaxis": "y10"
        },
        {
         "hovertemplate": "Elevator=有<br>Renovation=毛坯<br>Year=%{x}<br>Price=%{y}<extra></extra>",
         "legendgroup": "有",
         "marker": {
          "color": "#636efa",
          "symbol": "circle"
         },
         "mode": "markers",
         "name": "有",
         "showlegend": false,
         "type": "scattergl",
         "x": {
          "bdata": "AAAAAACQn0AAAAAAAHifQAAAAAAAjJ9AAAAAAABQn0AAAAAAAHSfQAAAAAAAeJ9AAAAAAAD8nkAAAAAAAHifQAAAAAAAgJ9AAAAAAACUn0A=",
          "dtype": "f8"
         },
         "xaxis": "x11",
         "y": {
          "bdata": "AAAAAABwckAAAAAAAEBrQAAAAAAAAG5AAAAAAACghEAAAAAAAEBnQAAAAAAAAGVAAAAAAADAhkAAAAAAADB2QAAAAAAAsIJAAAAAAABgbEA=",
          "dtype": "f8"
         },
         "yaxis": "y11"
        },
        {
         "hovertemplate": "Elevator=有<br>Renovation=其他<br>Year=%{x}<br>Price=%{y}<extra></extra>",
         "legendgroup": "有",
         "marker": {
          "color": "#636efa",
          "symbol": "circle"
         },
         "mode": "markers",
         "name": "有",
         "showlegend": false,
         "type": "scattergl",
         "x": {
          "bdata": "AAAAAABQn0AAAAAAAHifQAAAAAAAeJ9AAAAAAABcn0AAAAAAAIifQAAAAAAAZJ9AAAAAAAAwn0AAAAAAAHCfQAAAAAAA/J5AAAAAAABMn0AAAAAAAHSfQAAAAAAALJ9A",
          "dtype": "f8"
         },
         "xaxis": "x12",
         "y": {
          "bdata": "AAAAAADQgEAAAAAAAOBjQAAAAAAAQHVAAAAAAACAi0AAAAAAAABRQAAAAAAAkHRAAAAAAAAoh0AAAAAAABB8QAAAAAAAsIJAAAAAAADohEAAAAAAAMBsQAAAAAAAQGhA",
          "dtype": "f8"
         },
         "yaxis": "y12"
        },
        {
         "hovertemplate": "Elevator=无<br>Renovation=简装<br>Year=%{x}<br>Price=%{y}<extra></extra>",
         "legendgroup": "无",
         "marker": {
          "color": "#EF553B",
          "symbol": "circle"
         },
         "mode": "markers",
         "name": "无",
         "showlegend": true,
         "type": "scattergl",
         "x": {
          "bdata": "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",
          "dtype": "f8"
         },
         "xaxis": "x5",
         "y": {
          "bdata": "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",
          "dtype": "f8"
         },
         "yaxis": "y5"
        },
        {
         "hovertemplate": "Elevator=无<br>Renovation=精装<br>Year=%{x}<br>Price=%{y}<extra></extra>",
         "legendgroup": "无",
         "marker": {
          "color": "#EF553B",
          "symbol": "circle"
         },
         "mode": "markers",
         "name": "无",
         "showlegend": false,
         "type": "scattergl",
         "x": {
          "bdata": "AAAAAAAsn0AAAAAAACyfQAAAAAAACJ9AAAAAAAAUn0AAAAAAAACfQAAAAAAA9J5AAAAAAAAgn0AAAAAAAAyfQAAAAAAAFJ9AAAAAAADgnkAAAAAAAACfQAAAAAAAEJ9AAAAAAAAcn0AAAAAAACifQAAAAAAAMJ9AAAAAAABUn0AAAAAAAGCfQAAAAAAAaJ9AAAAAAAAMn0AAAAAAABSfQAAAAAAAOJ9AAAAAAAA0n0AAAAAAACSfQAAAAAAANJ9AAAAAAAA8n0AAAAAAANyeQAAAAAAACJ9AAAAAAACwnkAAAAAAAFCfQAAAAAAA8J5AAAAAAAAcn0AAAAAAABCfQAAAAAAALJ9AAAAAAAAYn0AAAAAAAFCfQAAAAAAAZJ9AAAAAAADwnkAAAAAAAAyfQAAAAAAAIJ9AAAAAAABUn0AAAAAAAFSfQAAAAAAAOJ9AAAAAAAA8n0AAAAAAACCfQAAAAAAA7J5AAAAAAABEn0AAAAAAACSfQAAAAAAAFJ9AAAAAAABsn0AAAAAAABifQAAAAAAAMJ9AAAAAAABEn0AAAAAAAGCfQAAAAAAATJ9AAAAAAAD4nkAAAAAAAHCfQAAAAAAAOJ9AAAAAAAA4n0AAAAAAADifQAAAAAAAGJ9AAAAAAAD8nkAAAAAAACSfQAAAAAAA+J5AAAAAAAAYn0AAAAAAAPyeQAAAAAAAEJ9AAAAAAABcn0AAAAAAAFSfQAAAAAAAJJ9AAAAAAABMn0AAAAAAACifQAAAAAAARJ9AAAAAAADwnkAAAAAAABifQAAAAAAAJJ9AAAAAAAAwn0AAAAAAAByfQAAAAAAA+J5AAAAAAABYn0AAAAAAACSfQAAAAAAAKJ9AAAAAAAAgn0AAAAAAACifQAAAAAAAJJ9AAAAAAAAUn0AAAAAAAPyeQAAAAAAATJ9AAAAAAAAgn0AAAAAAAEyfQAAAAAAAOJ9AAAAAAAAon0AAAAAAADyfQAAAAAAAHJ9AAAAAAAA8n0AAAAAAADSfQAAAAAAAPJ9AAAAAAAAYn0AAAAAAAFCfQAAAAAAACJ9AAAAAAABUn0AAAAAAAEyfQAAAAAAANJ9AAAAAAABMn0AAAAAAAPSeQAAAAAAANJ9AAAAAAAAAn0AAAAAAADyfQAAAAAAABJ9AAAAAAADgnkAAAAAAAPCeQAAAAAAAYJ9AAAAAAAAon0AAAAAAAGSfQAAAAAAAOJ9AAAAAAAAIn0AAAAAAAFyfQAAAAAAAPJ9AAAAAAABcn0AAAAAAADCfQAAAAAAANJ9AAAAAAAAgn0AAAAAAACifQAAAAAAARJ9AAAAAAABQn0AAAAAAACSfQAAAAAAA9J5AAAAAAAD0nkAAAAAAADCfQAAAAAAAIJ9AAAAAAABQn0AAAAAAADyfQAAAAAAANJ9AAAAAAABYn0AAAAAAAFSfQAAAAAAADJ9AAAAAAAAgn0AAAAAAADifQAAAAAAAFJ9AAAAAAABYn0AAAAAAANCeQAAAAAAACJ9AAAAAAAD8nkAAAAAAADifQAAAAAAANJ9AAAAAAABYn0AAAAAAADifQAAAAAAAPJ9AAAAAAABUn0AAAAAAAFCfQAAAAAAAYJ9AAAAAAAAgn0AAAAAAACSfQAAAAAAAAJ9AAAAAAAAwn0AAAAAAACSfQAAAAAAALJ9AAAAAAAAAn0AAAAAAADCfQAAAAAAAXJ9AAAAAAABYn0AAAAAAAFSfQAAAAAAAWJ9AAAAAAAA8n0AAAAAAAEifQAAAAAAAJJ9AAAAAAAA8n0AAAAAAADifQAAAAAAA+J5AAAAAAAAkn0AAAAAAADSfQAAAAAAAEJ9AAAAAAAAYn0AAAAAAAEifQAAAAAAAVJ9AAAAAAAAkn0AAAAAAAByfQAAAAAAAKJ9AAAAAAAAgn0AAAAAAAPCeQAAAAAAA8J5AAAAAAABgn0AAAAAAAFyfQAAAAAAANJ9AAAAAAAAYn0AAAAAAADyfQAAAAAAASJ9AAAAAAAAkn0AAAAAAAASfQAAAAAAABJ9AAAAAAACgnkAAAAAAABifQAAAAAAAKJ9AAAAAAADsnkAAAAAAANSeQAAAAAAANJ9AAAAAAAAsn0AAAAAAACSfQAAAAAAALJ9A",
          "dtype": "f8"
         },
         "xaxis": "x6",
         "y": {
          "bdata": "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",
          "dtype": "f8"
         },
         "yaxis": "y6"
        },
        {
         "hovertemplate": "Elevator=无<br>Renovation=毛坯<br>Year=%{x}<br>Price=%{y}<extra></extra>",
         "legendgroup": "无",
         "marker": {
          "color": "#EF553B",
          "symbol": "circle"
         },
         "mode": "markers",
         "name": "无",
         "showlegend": false,
         "type": "scattergl",
         "x": {
          "bdata": "AAAAAAD4nkAAAAAAADCfQAAAAAAA7J5AAAAAAAAAn0AAAAAAAPieQAAAAAAA9J5AAAAAAACwnkAAAAAAAPyeQAAAAAAA9J5AAAAAAAAYn0AAAAAAAOyeQA==",
          "dtype": "f8"
         },
         "xaxis": "x7",
         "y": {
          "bdata": "AAAAAABAUEAAAAAAABB3QAAAAAAAsHJAAAAAAAA4gEAAAAAAAFB0QAAAAAAAAFtAAAAAAADwiUAAAAAAAMBrQAAAAAAAgGtAAAAAAAAAjkAAAAAAAGBsQA==",
          "dtype": "f8"
         },
         "yaxis": "y7"
        },
        {
         "hovertemplate": "Elevator=无<br>Renovation=其他<br>Year=%{x}<br>Price=%{y}<extra></extra>",
         "legendgroup": "无",
         "marker": {
          "color": "#EF553B",
          "symbol": "circle"
         },
         "mode": "markers",
         "name": "无",
         "showlegend": false,
         "type": "scattergl",
         "x": {
          "bdata": "AAAAAABUn0AAAAAAAEyfQAAAAAAAaJ9AAAAAAADonkAAAAAAAPCeQAAAAAAAPJ9AAAAAAAAUn0A=",
          "dtype": "f8"
         },
         "xaxis": "x8",
         "y": {
          "bdata": "AAAAAADgakAAAAAAACB1QAAAAAAAAGRAAAAAAABAa0AAAAAAAKB5QAAAAAAA0IVAAAAAAABgY0A=",
          "dtype": "f8"
         },
         "yaxis": "y8"
        },
        {
         "hovertemplate": "Elevator=暂无数据<br>Renovation=简装<br>Year=%{x}<br>Price=%{y}<extra></extra>",
         "legendgroup": "暂无数据",
         "marker": {
          "color": "#00cc96",
          "symbol": "circle"
         },
         "mode": "markers",
         "name": "暂无数据",
         "showlegend": true,
         "type": "scattergl",
         "x": {
          "bdata": "AAAAAACEn0AAAAAAADifQAAAAAAATJ9AAAAAAAAMn0AAAAAAAEifQAAAAAAAgJ9AAAAAAABkn0AAAAAAACyfQA==",
          "dtype": "f8"
         },
         "xaxis": "x",
         "y": {
          "bdata": "AAAAAACgZEAAAAAAAGBvQAAAAAAAQGJAAAAAAAAAWEAAAAAAAIBYQAAAAAAA4HVAAAAAAAAAXkAAAAAAACBqQA==",
          "dtype": "f8"
         },
         "yaxis": "y"
        },
        {
         "hovertemplate": "Elevator=暂无数据<br>Renovation=精装<br>Year=%{x}<br>Price=%{y}<extra></extra>",
         "legendgroup": "暂无数据",
         "marker": {
          "color": "#00cc96",
          "symbol": "circle"
         },
         "mode": "markers",
         "name": "暂无数据",
         "showlegend": false,
         "type": "scattergl",
         "x": {
          "bdata": "AAAAAABkn0AAAAAAAHSeQAAAAAAAbJ9AAAAAAACIn0AAAAAAAFifQAAAAAAAbJ9AAAAAAAB4n0AAAAAAAGifQAAAAAAAdJ9A",
          "dtype": "f8"
         },
         "xaxis": "x2",
         "y": {
          "bdata": "AAAAAABgaEAAAAAAAOBuQAAAAAAAgGFAAAAAAAAgb0AAAAAAAABYQAAAAAAA0HVAAAAAAABgY0AAAAAAAEB6QAAAAAAAwGNA",
          "dtype": "f8"
         },
         "yaxis": "y2"
        }
       ],
       "layout": {
        "annotations": [
         {
          "font": {},
          "showarrow": false,
          "text": "Renovation=简装",
          "x": 0.11499999999999999,
          "xanchor": "center",
          "xref": "paper",
          "y": 0.9999999999999998,
          "yanchor": "bottom",
          "yref": "paper"
         },
         {
          "font": {},
          "showarrow": false,
          "text": "Renovation=精装",
          "x": 0.365,
          "xanchor": "center",
          "xref": "paper",
          "y": 0.9999999999999998,
          "yanchor": "bottom",
          "yref": "paper"
         },
         {
          "font": {},
          "showarrow": false,
          "text": "Renovation=毛坯",
          "x": 0.615,
          "xanchor": "center",
          "xref": "paper",
          "y": 0.9999999999999998,
          "yanchor": "bottom",
          "yref": "paper"
         },
         {
          "font": {},
          "showarrow": false,
          "text": "Renovation=其他",
          "x": 0.865,
          "xanchor": "center",
          "xref": "paper",
          "y": 0.9999999999999998,
          "yanchor": "bottom",
          "yref": "paper"
         },
         {
          "font": {},
          "showarrow": false,
          "text": "Elevator=暂无数据",
          "textangle": 90,
          "x": 0.98,
          "xanchor": "left",
          "xref": "paper",
          "y": 0.15666666666666665,
          "yanchor": "middle",
          "yref": "paper"
         },
         {
          "font": {},
          "showarrow": false,
          "text": "Elevator=无",
          "textangle": 90,
          "x": 0.98,
          "xanchor": "left",
          "xref": "paper",
          "y": 0.4999999999999999,
          "yanchor": "middle",
          "yref": "paper"
         },
         {
          "font": {},
          "showarrow": false,
          "text": "Elevator=有",
          "textangle": 90,
          "x": 0.98,
          "xanchor": "left",
          "xref": "paper",
          "y": 0.8433333333333332,
          "yanchor": "middle",
          "yref": "paper"
         }
        ],
        "height": 600,
        "legend": {
         "title": {
          "text": "Elevator"
         },
         "tracegroupgap": 0
        },
        "margin": {
         "t": 60
        },
        "template": {
         "data": {
          "bar": [
           {
            "error_x": {
             "color": "#2a3f5f"
            },
            "error_y": {
             "color": "#2a3f5f"
            },
            "marker": {
             "line": {
              "color": "#E5ECF6",
              "width": 0.5
             },
             "pattern": {
              "fillmode": "overlay",
              "size": 10,
              "solidity": 0.2
             }
            },
            "type": "bar"
           }
          ],
          "barpolar": [
           {
            "marker": {
             "line": {
              "color": "#E5ECF6",
              "width": 0.5
             },
             "pattern": {
              "fillmode": "overlay",
              "size": 10,
              "solidity": 0.2
             }
            },
            "type": "barpolar"
           }
          ],
          "carpet": [
           {
            "aaxis": {
             "endlinecolor": "#2a3f5f",
             "gridcolor": "white",
             "linecolor": "white",
             "minorgridcolor": "white",
             "startlinecolor": "#2a3f5f"
            },
            "baxis": {
             "endlinecolor": "#2a3f5f",
             "gridcolor": "white",
             "linecolor": "white",
             "minorgridcolor": "white",
             "startlinecolor": "#2a3f5f"
            },
            "type": "carpet"
           }
          ],
          "choropleth": [
           {
            "colorbar": {
             "outlinewidth": 0,
             "ticks": ""
            },
            "type": "choropleth"
           }
          ],
          "contour": [
           {
            "colorbar": {
             "outlinewidth": 0,
             "ticks": ""
            },
            "colorscale": [
             [
              0,
              "#0d0887"
             ],
             [
              0.1111111111111111,
              "#46039f"
             ],
             [
              0.2222222222222222,
              "#7201a8"
             ],
             [
              0.3333333333333333,
              "#9c179e"
             ],
             [
              0.4444444444444444,
              "#bd3786"
             ],
             [
              0.5555555555555556,
              "#d8576b"
             ],
             [
              0.6666666666666666,
              "#ed7953"
             ],
             [
              0.7777777777777778,
              "#fb9f3a"
             ],
             [
              0.8888888888888888,
              "#fdca26"
             ],
             [
              1,
              "#f0f921"
             ]
            ],
            "type": "contour"
           }
          ],
          "contourcarpet": [
           {
            "colorbar": {
             "outlinewidth": 0,
             "ticks": ""
            },
            "type": "contourcarpet"
           }
          ],
          "heatmap": [
           {
            "colorbar": {
             "outlinewidth": 0,
             "ticks": ""
            },
            "colorscale": [
             [
              0,
              "#0d0887"
             ],
             [
              0.1111111111111111,
              "#46039f"
             ],
             [
              0.2222222222222222,
              "#7201a8"
             ],
             [
              0.3333333333333333,
              "#9c179e"
             ],
             [
              0.4444444444444444,
              "#bd3786"
             ],
             [
              0.5555555555555556,
              "#d8576b"
             ],
             [
              0.6666666666666666,
              "#ed7953"
             ],
             [
              0.7777777777777778,
              "#fb9f3a"
             ],
             [
              0.8888888888888888,
              "#fdca26"
             ],
             [
              1,
              "#f0f921"
             ]
            ],
            "type": "heatmap"
           }
          ],
          "histogram": [
           {
            "marker": {
             "pattern": {
              "fillmode": "overlay",
              "size": 10,
              "solidity": 0.2
             }
            },
            "type": "histogram"
           }
          ],
          "histogram2d": [
           {
            "colorbar": {
             "outlinewidth": 0,
             "ticks": ""
            },
            "colorscale": [
             [
              0,
              "#0d0887"
             ],
             [
              0.1111111111111111,
              "#46039f"
             ],
             [
              0.2222222222222222,
              "#7201a8"
             ],
             [
              0.3333333333333333,
              "#9c179e"
             ],
             [
              0.4444444444444444,
              "#bd3786"
             ],
             [
              0.5555555555555556,
              "#d8576b"
             ],
             [
              0.6666666666666666,
              "#ed7953"
             ],
             [
              0.7777777777777778,
              "#fb9f3a"
             ],
             [
              0.8888888888888888,
              "#fdca26"
             ],
             [
              1,
              "#f0f921"
             ]
            ],
            "type": "histogram2d"
           }
          ],
          "histogram2dcontour": [
           {
            "colorbar": {
             "outlinewidth": 0,
             "ticks": ""
            },
            "colorscale": [
             [
              0,
              "#0d0887"
             ],
             [
              0.1111111111111111,
              "#46039f"
             ],
             [
              0.2222222222222222,
              "#7201a8"
             ],
             [
              0.3333333333333333,
              "#9c179e"
             ],
             [
              0.4444444444444444,
              "#bd3786"
             ],
             [
              0.5555555555555556,
              "#d8576b"
             ],
             [
              0.6666666666666666,
              "#ed7953"
             ],
             [
              0.7777777777777778,
              "#fb9f3a"
             ],
             [
              0.8888888888888888,
              "#fdca26"
             ],
             [
              1,
              "#f0f921"
             ]
            ],
            "type": "histogram2dcontour"
           }
          ],
          "mesh3d": [
           {
            "colorbar": {
             "outlinewidth": 0,
             "ticks": ""
            },
            "type": "mesh3d"
           }
          ],
          "parcoords": [
           {
            "line": {
             "colorbar": {
              "outlinewidth": 0,
              "ticks": ""
             }
            },
            "type": "parcoords"
           }
          ],
          "pie": [
           {
            "automargin": true,
            "type": "pie"
           }
          ],
          "scatter": [
           {
            "fillpattern": {
             "fillmode": "overlay",
             "size": 10,
             "solidity": 0.2
            },
            "type": "scatter"
           }
          ],
          "scatter3d": [
           {
            "line": {
             "colorbar": {
              "outlinewidth": 0,
              "ticks": ""
             }
            },
            "marker": {
             "colorbar": {
              "outlinewidth": 0,
              "ticks": ""
             }
            },
            "type": "scatter3d"
           }
          ],
          "scattercarpet": [
           {
            "marker": {
             "colorbar": {
              "outlinewidth": 0,
              "ticks": ""
             }
            },
            "type": "scattercarpet"
           }
          ],
          "scattergeo": [
           {
            "marker": {
             "colorbar": {
              "outlinewidth": 0,
              "ticks": ""
             }
            },
            "type": "scattergeo"
           }
          ],
          "scattergl": [
           {
            "marker": {
             "colorbar": {
              "outlinewidth": 0,
              "ticks": ""
             }
            },
            "type": "scattergl"
           }
          ],
          "scattermap": [
           {
            "marker": {
             "colorbar": {
              "outlinewidth": 0,
              "ticks": ""
             }
            },
            "type": "scattermap"
           }
          ],
          "scattermapbox": [
           {
            "marker": {
             "colorbar": {
              "outlinewidth": 0,
              "ticks": ""
             }
            },
            "type": "scattermapbox"
           }
          ],
          "scatterpolar": [
           {
            "marker": {
             "colorbar": {
              "outlinewidth": 0,
              "ticks": ""
             }
            },
            "type": "scatterpolar"
           }
          ],
          "scatterpolargl": [
           {
            "marker": {
             "colorbar": {
              "outlinewidth": 0,
              "ticks": ""
             }
            },
            "type": "scatterpolargl"
           }
          ],
          "scatterternary": [
           {
            "marker": {
             "colorbar": {
              "outlinewidth": 0,
              "ticks": ""
             }
            },
            "type": "scatterternary"
           }
          ],
          "surface": [
           {
            "colorbar": {
             "outlinewidth": 0,
             "ticks": ""
            },
            "colorscale": [
             [
              0,
              "#0d0887"
             ],
             [
              0.1111111111111111,
              "#46039f"
             ],
             [
              0.2222222222222222,
              "#7201a8"
             ],
             [
              0.3333333333333333,
              "#9c179e"
             ],
             [
              0.4444444444444444,
              "#bd3786"
             ],
             [
              0.5555555555555556,
              "#d8576b"
             ],
             [
              0.6666666666666666,
              "#ed7953"
             ],
             [
              0.7777777777777778,
              "#fb9f3a"
             ],
             [
              0.8888888888888888,
              "#fdca26"
             ],
             [
              1,
              "#f0f921"
             ]
            ],
            "type": "surface"
           }
          ],
          "table": [
           {
            "cells": {
             "fill": {
              "color": "#EBF0F8"
             },
             "line": {
              "color": "white"
             }
            },
            "header": {
             "fill": {
              "color": "#C8D4E3"
             },
             "line": {
              "color": "white"
             }
            },
            "type": "table"
           }
          ]
         },
         "layout": {
          "annotationdefaults": {
           "arrowcolor": "#2a3f5f",
           "arrowhead": 0,
           "arrowwidth": 1
          },
          "autotypenumbers": "strict",
          "coloraxis": {
           "colorbar": {
            "outlinewidth": 0,
            "ticks": ""
           }
          },
          "colorscale": {
           "diverging": [
            [
             0,
             "#8e0152"
            ],
            [
             0.1,
             "#c51b7d"
            ],
            [
             0.2,
             "#de77ae"
            ],
            [
             0.3,
             "#f1b6da"
            ],
            [
             0.4,
             "#fde0ef"
            ],
            [
             0.5,
             "#f7f7f7"
            ],
            [
             0.6,
             "#e6f5d0"
            ],
            [
             0.7,
             "#b8e186"
            ],
            [
             0.8,
             "#7fbc41"
            ],
            [
             0.9,
             "#4d9221"
            ],
            [
             1,
             "#276419"
            ]
           ],
           "sequential": [
            [
             0,
             "#0d0887"
            ],
            [
             0.1111111111111111,
             "#46039f"
            ],
            [
             0.2222222222222222,
             "#7201a8"
            ],
            [
             0.3333333333333333,
             "#9c179e"
            ],
            [
             0.4444444444444444,
             "#bd3786"
            ],
            [
             0.5555555555555556,
             "#d8576b"
            ],
            [
             0.6666666666666666,
             "#ed7953"
            ],
            [
             0.7777777777777778,
             "#fb9f3a"
            ],
            [
             0.8888888888888888,
             "#fdca26"
            ],
            [
             1,
             "#f0f921"
            ]
           ],
           "sequentialminus": [
            [
             0,
             "#0d0887"
            ],
            [
             0.1111111111111111,
             "#46039f"
            ],
            [
             0.2222222222222222,
             "#7201a8"
            ],
            [
             0.3333333333333333,
             "#9c179e"
            ],
            [
             0.4444444444444444,
             "#bd3786"
            ],
            [
             0.5555555555555556,
             "#d8576b"
            ],
            [
             0.6666666666666666,
             "#ed7953"
            ],
            [
             0.7777777777777778,
             "#fb9f3a"
            ],
            [
             0.8888888888888888,
             "#fdca26"
            ],
            [
             1,
             "#f0f921"
            ]
           ]
          },
          "colorway": [
           "#636efa",
           "#EF553B",
           "#00cc96",
           "#ab63fa",
           "#FFA15A",
           "#19d3f3",
           "#FF6692",
           "#B6E880",
           "#FF97FF",
           "#FECB52"
          ],
          "font": {
           "color": "#2a3f5f"
          },
          "geo": {
           "bgcolor": "white",
           "lakecolor": "white",
           "landcolor": "#E5ECF6",
           "showlakes": true,
           "showland": true,
           "subunitcolor": "white"
          },
          "hoverlabel": {
           "align": "left"
          },
          "hovermode": "closest",
          "mapbox": {
           "style": "light"
          },
          "paper_bgcolor": "white",
          "plot_bgcolor": "#E5ECF6",
          "polar": {
           "angularaxis": {
            "gridcolor": "white",
            "linecolor": "white",
            "ticks": ""
           },
           "bgcolor": "#E5ECF6",
           "radialaxis": {
            "gridcolor": "white",
            "linecolor": "white",
            "ticks": ""
           }
          },
          "scene": {
           "xaxis": {
            "backgroundcolor": "#E5ECF6",
            "gridcolor": "white",
            "gridwidth": 2,
            "linecolor": "white",
            "showbackground": true,
            "ticks": "",
            "zerolinecolor": "white"
           },
           "yaxis": {
            "backgroundcolor": "#E5ECF6",
            "gridcolor": "white",
            "gridwidth": 2,
            "linecolor": "white",
            "showbackground": true,
            "ticks": "",
            "zerolinecolor": "white"
           },
           "zaxis": {
            "backgroundcolor": "#E5ECF6",
            "gridcolor": "white",
            "gridwidth": 2,
            "linecolor": "white",
            "showbackground": true,
            "ticks": "",
            "zerolinecolor": "white"
           }
          },
          "shapedefaults": {
           "line": {
            "color": "#2a3f5f"
           }
          },
          "ternary": {
           "aaxis": {
            "gridcolor": "white",
            "linecolor": "white",
            "ticks": ""
           },
           "baxis": {
            "gridcolor": "white",
            "linecolor": "white",
            "ticks": ""
           },
           "bgcolor": "#E5ECF6",
           "caxis": {
            "gridcolor": "white",
            "linecolor": "white",
            "ticks": ""
           }
          },
          "title": {
           "x": 0.05
          },
          "xaxis": {
           "automargin": true,
           "gridcolor": "white",
           "linecolor": "white",
           "ticks": "",
           "title": {
            "standoff": 15
           },
           "zerolinecolor": "white",
           "zerolinewidth": 2
          },
          "yaxis": {
           "automargin": true,
           "gridcolor": "white",
           "linecolor": "white",
           "ticks": "",
           "title": {
            "standoff": 15
           },
           "zerolinecolor": "white",
           "zerolinewidth": 2
          }
         }
        },
        "width": 1600,
        "xaxis": {
         "anchor": "y",
         "domain": [
          0,
          0.22999999999999998
         ],
         "title": {
          "text": "Year"
         }
        },
        "xaxis10": {
         "anchor": "y10",
         "domain": [
          0.24999999999999997,
          0.48
         ],
         "matches": "x",
         "showticklabels": false
        },
        "xaxis11": {
         "anchor": "y11",
         "domain": [
          0.49999999999999994,
          0.73
         ],
         "matches": "x",
         "showticklabels": false
        },
        "xaxis12": {
         "anchor": "y12",
         "domain": [
          0.75,
          0.98
         ],
         "matches": "x",
         "showticklabels": false
        },
        "xaxis2": {
         "anchor": "y2",
         "domain": [
          0.24999999999999997,
          0.48
         ],
         "matches": "x",
         "title": {
          "text": "Year"
         }
        },
        "xaxis3": {
         "anchor": "y3",
         "domain": [
          0.49999999999999994,
          0.73
         ],
         "matches": "x",
         "title": {
          "text": "Year"
         }
        },
        "xaxis4": {
         "anchor": "y4",
         "domain": [
          0.75,
          0.98
         ],
         "matches": "x",
         "title": {
          "text": "Year"
         }
        },
        "xaxis5": {
         "anchor": "y5",
         "domain": [
          0,
          0.22999999999999998
         ],
         "matches": "x",
         "showticklabels": false
        },
        "xaxis6": {
         "anchor": "y6",
         "domain": [
          0.24999999999999997,
          0.48
         ],
         "matches": "x",
         "showticklabels": false
        },
        "xaxis7": {
         "anchor": "y7",
         "domain": [
          0.49999999999999994,
          0.73
         ],
         "matches": "x",
         "showticklabels": false
        },
        "xaxis8": {
         "anchor": "y8",
         "domain": [
          0.75,
          0.98
         ],
         "matches": "x",
         "showticklabels": false
        },
        "xaxis9": {
         "anchor": "y9",
         "domain": [
          0,
          0.22999999999999998
         ],
         "matches": "x",
         "showticklabels": false
        },
        "yaxis": {
         "anchor": "x",
         "domain": [
          0,
          0.3133333333333333
         ],
         "title": {
          "text": "Price"
         }
        },
        "yaxis10": {
         "anchor": "x10",
         "domain": [
          0.6866666666666665,
          0.9999999999999998
         ],
         "matches": "y",
         "showticklabels": false
        },
        "yaxis11": {
         "anchor": "x11",
         "domain": [
          0.6866666666666665,
          0.9999999999999998
         ],
         "matches": "y",
         "showticklabels": false
        },
        "yaxis12": {
         "anchor": "x12",
         "domain": [
          0.6866666666666665,
          0.9999999999999998
         ],
         "matches": "y",
         "showticklabels": false
        },
        "yaxis2": {
         "anchor": "x2",
         "domain": [
          0,
          0.3133333333333333
         ],
         "matches": "y",
         "showticklabels": false
        },
        "yaxis3": {
         "anchor": "x3",
         "domain": [
          0,
          0.3133333333333333
         ],
         "matches": "y",
         "showticklabels": false
        },
        "yaxis4": {
         "anchor": "x4",
         "domain": [
          0,
          0.3133333333333333
         ],
         "matches": "y",
         "showticklabels": false
        },
        "yaxis5": {
         "anchor": "x5",
         "domain": [
          0.34333333333333327,
          0.6566666666666665
         ],
         "matches": "y",
         "title": {
          "text": "Price"
         }
        },
        "yaxis6": {
         "anchor": "x6",
         "domain": [
          0.34333333333333327,
          0.6566666666666665
         ],
         "matches": "y",
         "showticklabels": false
        },
        "yaxis7": {
         "anchor": "x7",
         "domain": [
          0.34333333333333327,
          0.6566666666666665
         ],
         "matches": "y",
         "showticklabels": false
        },
        "yaxis8": {
         "anchor": "x8",
         "domain": [
          0.34333333333333327,
          0.6566666666666665
         ],
         "matches": "y",
         "showticklabels": false
        },
        "yaxis9": {
         "anchor": "x9",
         "domain": [
          0.6866666666666665,
          0.9999999999999998
         ],
         "matches": "y",
         "title": {
          "text": "Price"
         }
        }
       }
      },
      "text/html": [
       "<div>                        <script type=\"text/javascript\">window.PlotlyConfig = {MathJaxConfig: 'local'};</script>\n",
       "        <script charset=\"utf-8\" src=\"https://cdn.plot.ly/plotly-3.0.1.min.js\"></script>                <div id=\"9c7151c7-b0cc-4347-99c6-b901377c267d\" class=\"plotly-graph-div\" style=\"height:600px; width:1600px;\"></div>            <script type=\"text/javascript\">                window.PLOTLYENV=window.PLOTLYENV || {};                                if (document.getElementById(\"9c7151c7-b0cc-4347-99c6-b901377c267d\")) {                    Plotly.newPlot(                        \"9c7151c7-b0cc-4347-99c6-b901377c267d\",                        [{\"hovertemplate\":\"Elevator=\\u6709\\u003cbr\\u003eRenovation=\\u7b80\\u88c5\\u003cbr\\u003eYear=%{x}\\u003cbr\\u003ePrice=%{y}\\u003cextra\\u003e\\u003c\\u002fextra\\u003e\",\"legendgroup\":\"\\u6709\",\"marker\":{\"color\":\"#636efa\",\"symbol\":\"circle\"},\"mode\":\"markers\",\"name\":\"\\u6709\",\"showlegend\":true,\"x\":{\"dtype\":\"f8\",\"bdata\":\"AAAAAAB0n0AAAAAAAISfQAAAAAAAgJ9AAAAAAABkn0AAAAAAAFifQAAAAAAALJ9AAAAAAABQn0AAAAAAAFCfQAAAAAAAQJ9AAAAAAAB8n0AAAAAAABCfQAAAAAAATJ9AAAAAAABQn0AAAAAAAGCfQAAAAAAATJ9AAAAAAAB4n0AAAAAAAAifQAAAAAAAcJ9AAAAAAABsn0AAAAAAAECfQAAAAAAAPJ9AAAAAAABon0AAAAAAAECfQAAAAAAAVJ9AAAAAAABUn0AAAAAAAHifQAAAAAAAEJ9AAAAAAAAsn0AAAAAAAFCfQAAAAAAAdJ9AAAAAAADwnkAAAAAAAESfQAAAAAAAFJ9AAAAAAABUn0AAAAAAAASfQAAAAAAAGJ9AAAAAAABQn0AAAAAAAHSfQAAAAAAAVJ9AAAAAAABYn0AAAAAAAHifQAAAAAAAbJ9AAAAAAABsn0AAAAAAAHSfQAAAAAAAfJ9AAAAAAABwn0AAAAAAAHCfQAAAAAAASJ9AAAAAAACEn0AAAAAAAESfQAAAAAAAHJ9AAAAAAABon0AAAAAAAFyfQAAAAAAAWJ9AAAAAAABQn0AAAAAAABifQAAAAAAAeJ9AAAAAAABcn0AAAAAAAACfQAAAAAAAVJ9AAAAAAAB4n0AAAAAAAHifQAAAAAAAOJ9AAAAAAABwn0AAAAAAAEyfQAAAAAAAdJ9AAAAAAABkn0AAAAAAADSfQAAAAAAANJ9AAAAAAACAn0AAAAAAAEyfQAAAAAAACJ9AAAAAAAAIn0AAAAAAABifQAAAAAAAUJ9AAAAAAABQn0AAAAAAAFCfQAAAAAAARJ9AAAAAAABQn0AAAAAAAESfQAAAAAAAgJ9AAAAAAAAYn0AAAAAAAHSfQAAAAAAAPJ9AAAAAAACUn0AAAAAAAFSfQAAAAAAAYJ9AAAAAAAAkn0AAAAAAAFyfQAAAAAAAVJ9AAAAAAABon0AAAAAAABifQAAAAAAAeJ9AAAAAAABkn0AAAAAAAFSfQAAAAAAAfJ9AAAAAAABMn0AAAAAAAJCfQAAAAAAAWJ9AAAAAAABsn0AAAAAAAJSfQAAAAAAAQJ9AAAAAAABon0AAAAAAAFCfQAAAAAAADJ9AAAAAAABwn0AAAAAAADifQAAAAAAALJ9AAAAAAABQn0AAAAAAAGCfQAAAAAAAWJ9AAAAAAABcn0AAAAAAAICfQAAAAAAAgJ9AAAAAAABgn0AAAAAAAByfQAAAAAAAKJ9AAAAAAABkn0AAAAAAAHifQAAAAAAAOJ9AAAAAAAB4n0AAAAAAAFSfQAAAAAAATJ9AAAAAAACEn0AAAAAAAPCeQAAAAAAAUJ9AAAAAAAB4n0AAAAAAAEyfQAAAAAAAMJ9AAAAAAABsn0AAAAAAADifQAAAAAAAXJ9AAAAAAABkn0AAAAAAAHCfQAAAAAAABJ9AAAAAAAA8n0AAAAAAAFyfQAAAAAAAIJ9AAAAAAAB8n0AAAAAAAHSfQAAAAAAAFJ9AAAAAAABEn0AAAAAAAHCfQAAAAAAATJ9AAAAAAAAYn0AAAAAAAESfQAAAAAAA9J5AAAAAAABYn0AAAAAAAFCfQAAAAAAARJ9AAAAAAABAn0AAAAAAAGSfQAAAAAAAAJ9AAAAAAAA4n0AAAAAAAGyfQAAAAAAAZJ9AAAAAAABgn0AAAAAAAHifQAAAAAAAUJ9AAAAAAAAcn0AAAAAAAFifQAAAAAAAOJ9AAAAAAAA4n0AAAAAAABSfQAAAAAAAbJ9AAAAAAABon0AAAAAAAFifQAAAAAAAfJ9AAAAAAABsn0AAAAAAAGSfQAAAAAAAUJ9AAAAAAAD8nkAAAAAAADifQAAAAAAAKJ9AAAAAAABEn0AAAAAAAAifQAAAAAAAlJ9AAAAAAABgn0AAAAAAAESfQAAAAAAAcJ9AAAAAAABkn0AAAAAAADSfQAAAAAAASJ9AAAAAAABIn0AAAAAAAHCfQAAAAAAAbJ9AAAAAAABon0AAAAAAAGSfQAAAAAAAVJ9AAAAAAAAcn0AAAAAAAFifQAAAAAAAUJ9AAAAAAAAsn0AAAAAAAJSfQAAAAAAAVJ9AAAAAAAB8n0AAAAAAAFifQAAAAAAAgJ9AAAAAAAAUn0AAAAAAAFifQAAAAAAAWJ9AAAAAAABgn0AAAAAAAHyfQAAAAAAAPJ9AAAAAAACUn0AAAAAAAFifQAAAAAAAUJ9AAAAAAABsn0AAAAAAAGSfQAAAAAAAaJ9AAAAAAABIn0AAAAAAACCfQAAAAAAAXJ9AAAAAAABgn0AAAAAAADSfQAAAAAAAWJ9AAAAAAABAn0AAAAAAAJSfQAAAAAAAcJ9AAAAAAABsn0AAAAAAAFCfQAAAAAAAdJ9AAAAAAAB0n0AAAAAAAEyfQAAAAAAAFJ9AAAAAAABUn0AAAAAAAFyfQAAAAAAAWJ9A\"},\"xaxis\":\"x9\",\"y\":{\"dtype\":\"f8\",\"bdata\":\"AAAAAABQhEAAAAAAALCCQAAAAAAAYHRAAAAAAAAgfUAAAAAAACBlQAAAAAAAaIBAAAAAAABwe0AAAAAAADCRQAAAAAAAgGxAAAAAAAAgYkAAAAAAAKiGQAAAAAAAcHxAAAAAAABAgEAAAAAAAFB+QAAAAAAAkIBAAAAAAAAAb0AAAAAAADB2QAAAAAAAcHFAAAAAAACAZkAAAAAAAOBqQAAAAAAAQH9AAAAAAACgfEAAAAAAANCGQAAAAAAAOJNAAAAAAADgZUAAAAAAAKBgQAAAAAAAUHlAAAAAAACgeUAAAAAAAMCSQAAAAAAAcHtAAAAAAADAfEAAAAAAAAB+QAAAAAAAsHhAAAAAAACwg0AAAAAAAOCFQAAAAAAAoHJAAAAAAABIgkAAAAAAAOBtQAAAAAAAQGpAAAAAAADYhUAAAAAAACBxQAAAAAAAgGBAAAAAAAAwcUAAAAAAAJBwQAAAAAAAYG1AAAAAAAAgYEAAAAAAAGB4QAAAAAAAsIdAAAAAAACQcEAAAAAAAMB8QAAAAAAAAHJAAAAAAACQd0AAAAAAAKCOQAAAAAAAgGxAAAAAAABwgkAAAAAAAFiDQAAAAAAAGIVAAAAAAACokUAAAAAAANB1QAAAAAAAIGxAAAAAAABgZkAAAAAAAGBoQAAAAAAAoIRAAAAAAAAQd0AAAAAAAAB0QAAAAAAAMH9AAAAAAAAskUAAAAAAAKB+QAAAAAAAkIpAAAAAAACgeUAAAAAAABiFQAAAAAAA4HVAAAAAAACAe0AAAAAAANBxQAAAAAAAgG1AAAAAAABgeEAAAAAAAKiTQAAAAAAAkIBAAAAAAABIh0AAAAAAABByQAAAAAAA8HhAAAAAAABgdkAAAAAAAOBtQAAAAAAAOJhAAAAAAADQcEAAAAAAAIiTQAAAAAAAIGpAAAAAAACog0AAAAAAACynQAAAAAAAYHpAAAAAAACAbUAAAAAAAPB4QAAAAAAAIHdAAAAAAABAeEAAAAAAAKBkQAAAAAAAAHBAAAAAAADgc0AAAAAAACBvQAAAAAAAoGRAAAAAAAAAYUAAAAAAAPB0QAAAAAAAcIFAAAAAAACAakAAAAAAAOB9QAAAAAAAKIFAAAAAAADwdEAAAAAAAIB+QAAAAAAA0IFAAAAAAAAAckAAAAAAALB9QAAAAAAAoG5AAAAAAACwgUAAAAAAAJB6QAAAAAAA0HpAAAAAAACQdEAAAAAAALiAQAAAAAAAEHJAAAAAAACgckAAAAAAAEBlQAAAAAAAMIdAAAAAAACgZEAAAAAAANB6QAAAAAAAIHdAAAAAAACIj0AAAAAAAIBfQAAAAAAAwHdAAAAAAADQcEAAAAAAADB\\u002fQAAAAAAAgItAAAAAAADgYEAAAAAAAAB1QAAAAAAAyIRAAAAAAABAc0AAAAAAAGBtQAAAAAAAIIJAAAAAAADgekAAAAAAAIBzQAAAAAAAWIFAAAAAAACgd0AAAAAAAIBfQAAAAAAAwH1AAAAAAAAwe0AAAAAAAIBrQAAAAAAAKIFAAAAAAACgeUAAAAAAAFCDQAAAAAAAQIVAAAAAAABAakAAAAAAABCBQAAAAAAA4G9AAAAAAADAcEAAAAAAAEBzQAAAAAAAwHBAAAAAAACgd0AAAAAAAOB1QAAAAAAAMHtAAAAAAAA4gEAAAAAAADBgQAAAAAAACJFAAAAAAACAgUAAAAAAAFB9QAAAAAAAQHVAAAAAAADgf0AAAAAAANB2QAAAAAAA4G1AAAAAAACwckAAAAAAAACDQAAAAAAA8HhAAAAAAACQeUAAAAAAAABvQAAAAAAAYH1AAAAAAABQeEAAAAAAAKB8QAAAAAAAcHtAAAAAAABAd0AAAAAAADB7QAAAAAAAgHFAAAAAAAAgekAAAAAAABB2QAAAAAAAIGVAAAAAAAAAbkAAAAAAAMBjQAAAAAAA4HhAAAAAAACgjkAAAAAAANBxQAAAAAAAMHFAAAAAAAAAfkAAAAAAAPB4QAAAAAAAUHhAAAAAAABAiEAAAAAAANB9QAAAAAAA4HNAAAAAAADgc0AAAAAAAMBnQAAAAAAA8IlAAAAAAABgdkAAAAAAACBsQAAAAAAAOIBAAAAAAACAdEAAAAAAAECSQAAAAAAAwIZAAAAAAAAQeEAAAAAAAJiEQAAAAAAAAHRAAAAAAAAwcEAAAAAAACBqQAAAAAAAkIVAAAAAAAAgZ0AAAAAAAEB2QAAAAAAALJBAAAAAAABogkAAAAAAAMBwQAAAAAAAMHVAAAAAAACAe0AAAAAAAFiDQAAAAAAAyIFAAAAAAAAQd0AAAAAAAIBxQAAAAAAAQIBAAAAAAAAAbkAAAAAAAIBsQAAAAAAAsHhAAAAAAACAdEAAAAAAABiFQAAAAAAA0HlAAAAAAADgakAAAAAAAFiBQAAAAAAAsHRA\"},\"yaxis\":\"y9\",\"type\":\"scattergl\"},{\"hovertemplate\":\"Elevator=\\u6709\\u003cbr\\u003eRenovation=\\u7cbe\\u88c5\\u003cbr\\u003eYear=%{x}\\u003cbr\\u003ePrice=%{y}\\u003cextra\\u003e\\u003c\\u002fextra\\u003e\",\"legendgroup\":\"\\u6709\",\"marker\":{\"color\":\"#636efa\",\"symbol\":\"circle\"},\"mode\":\"markers\",\"name\":\"\\u6709\",\"showlegend\":false,\"x\":{\"dtype\":\"f8\",\"bdata\":\"AAAAAABYn0AAAAAAAECfQAAAAAAAbJ9AAAAAAABQn0AAAAAAAISfQAAAAAAAVJ9AAAAAAABAn0AAAAAAAGyfQAAAAAAAlJ9AAAAAAACAn0AAAAAAAFifQAAAAAAADJ9AAAAAAABsn0AAAAAAAGyfQAAAAAAAgJ9AAAAAAABYn0AAAAAAAHyfQAAAAAAAVJ9AAAAAAABwn0AAAAAAAHCfQAAAAAAAZJ9AAAAAAAB0n0AAAAAAAJifQAAAAAAARJ9AAAAAAABIn0AAAAAAAHyfQAAAAAAARJ9AAAAAAABQn0AAAAAAAFSfQAAAAAAAaJ9AAAAAAABon0AAAAAAAHSfQAAAAAAAXJ9AAAAAAAB8n0AAAAAAAJCfQAAAAAAAUJ9AAAAAAABIn0AAAAAAAPieQAAAAAAAcJ9AAAAAAABQn0AAAAAAAFCfQAAAAAAAUJ9AAAAAAABon0AAAAAAADifQAAAAAAAHJ9AAAAAAABUn0AAAAAAAGyfQAAAAAAAVJ9AAAAAAADInkAAAAAAAHSfQAAAAAAAdJ9AAAAAAABgn0AAAAAAAICfQAAAAAAAeJ9AAAAAAAB4n0AAAAAAAGCfQAAAAAAAOJ9AAAAAAACMn0AAAAAAAHCfQAAAAAAAWJ9AAAAAAABwn0AAAAAAAISfQAAAAAAATJ9AAAAAAABAn0AAAAAAAJCfQAAAAAAACJ9AAAAAAABwn0AAAAAAAEyfQAAAAAAAeJ9AAAAAAABYn0AAAAAAAByfQAAAAAAAeJ9AAAAAAACYn0AAAAAAAFSfQAAAAAAAdJ9AAAAAAABUn0AAAAAAACifQAAAAAAAWJ9AAAAAAACEn0AAAAAAAHifQAAAAAAAdJ9AAAAAAAB8n0AAAAAAAICfQAAAAAAAeJ9AAAAAAACEn0AAAAAAAGifQAAAAAAAXJ9AAAAAAABQn0AAAAAAAGifQAAAAAAAWJ9AAAAAAABwn0AAAAAAAICfQAAAAAAAPJ9AAAAAAABQn0AAAAAAAGSfQAAAAAAASJ9AAAAAAAAUn0AAAAAAAHCfQAAAAAAAeJ9AAAAAAABQn0AAAAAAADyfQAAAAAAAgJ9AAAAAAACQn0AAAAAAAFSfQAAAAAAASJ9AAAAAAAB8n0AAAAAAAICfQAAAAAAAPJ9AAAAAAAA0n0AAAAAAAAifQAAAAAAAgJ9AAAAAAABUn0AAAAAAAEyfQAAAAAAAeJ9AAAAAAABwn0AAAAAAAFSfQAAAAAAAfJ9AAAAAAAB4n0AAAAAAAFifQAAAAAAAYJ9AAAAAAABUn0AAAAAAAHyfQAAAAAAAfJ9AAAAAAABwn0AAAAAAAByfQAAAAAAATJ9AAAAAAABYn0AAAAAAAHCfQAAAAAAAeJ9AAAAAAABgn0AAAAAAAHifQAAAAAAAWJ9AAAAAAAA0n0AAAAAAAGSfQAAAAAAAZJ9AAAAAAACAn0AAAAAAAEifQAAAAAAAVJ9AAAAAAAAQn0AAAAAAADCfQAAAAAAAjJ9AAAAAAABAn0AAAAAAAGCfQAAAAAAAgJ9AAAAAAAAcn0AAAAAAAIyfQAAAAAAAjJ9AAAAAAABsn0AAAAAAAHCfQAAAAAAAeJ9AAAAAAAB8n0AAAAAAAFyfQAAAAAAAWJ9AAAAAAACEn0AAAAAAAICfQAAAAAAALJ9AAAAAAABgn0AAAAAAAHyfQAAAAAAAgJ9AAAAAAABYn0AAAAAAAFSfQAAAAAAAbJ9AAAAAAABQn0AAAAAAAGyfQAAAAAAAdJ9AAAAAAABMn0AAAAAAAGSfQAAAAAAAHJ9AAAAAAABQn0AAAAAAAICfQAAAAAAAVJ9AAAAAAAB4n0AAAAAAAHifQAAAAAAARJ9AAAAAAABsn0AAAAAAAGSfQAAAAAAAfJ9AAAAAAAB8n0AAAAAAAHCfQAAAAAAAgJ9AAAAAAAAon0AAAAAAAGifQAAAAAAAVJ9AAAAAAAAQn0AAAAAAAFyfQAAAAAAAOJ9AAAAAAABgn0AAAAAAADyfQAAAAAAAhJ9AAAAAAAA4n0AAAAAAAGifQAAAAAAAgJ9AAAAAAAAUn0AAAAAAAEyfQAAAAAAATJ9AAAAAAABMn0AAAAAAAICfQAAAAAAAZJ9AAAAAAABcn0AAAAAAAHifQAAAAAAAcJ9AAAAAAABYn0AAAAAAAEyfQAAAAAAAUJ9AAAAAAABUn0AAAAAAAHyfQAAAAAAAeJ9AAAAAAACAn0AAAAAAAEifQAAAAAAAcJ9AAAAAAABIn0AAAAAAAESfQAAAAAAAMJ9AAAAAAABgn0AAAAAAAGCfQAAAAAAAaJ9AAAAAAABgn0AAAAAAAGifQAAAAAAAeJ9AAAAAAACAn0AAAAAAAHyfQAAAAAAAbJ9AAAAAAABEn0AAAAAAAFifQAAAAAAAgJ9AAAAAAAAkn0AAAAAAAEifQAAAAAAAJJ9AAAAAAAB4n0AAAAAAAFSfQAAAAAAAUJ9AAAAAAABwn0AAAAAAAGifQAAAAAAAeJ9AAAAAAABUn0AAAAAAAHSfQAAAAAAAeJ9AAAAAAAB0n0AAAAAAAGyfQAAAAAAADJ9AAAAAAAB8n0AAAAAAADCfQAAAAAAASJ9AAAAAAABwn0AAAAAAACCfQAAAAAAAUJ9AAAAAAABgn0AAAAAAAFifQAAAAAAAXJ9AAAAAAABgn0AAAAAAAFSfQAAAAAAAdJ9AAAAAAABgn0AAAAAAAFSfQAAAAAAASJ9AAAAAAABsn0AAAAAAAFSfQAAAAAAAAJ9AAAAAAAB4n0AAAAAAADCfQAAAAAAAXJ9AAAAAAABYn0AAAAAAAHifQAAAAAAAOJ9AAAAAAABkn0AAAAAAAFCfQAAAAAAAdJ9AAAAAAAB4n0AAAAAAAHifQAAAAAAAeJ9AAAAAAAB4n0AAAAAAAICfQAAAAAAAUJ9AAAAAAABUn0AAAAAAAFSfQAAAAAAAaJ9AAAAAAACAn0AAAAAAAHyfQAAAAAAAaJ9AAAAAAAB0n0AAAAAAAGifQAAAAAAAgJ9AAAAAAACMn0AAAAAAAHyfQAAAAAAAfJ9AAAAAAABYn0AAAAAAAGSfQAAAAAAAbJ9AAAAAAAA8n0AAAAAAAGSfQAAAAAAAXJ9AAAAAAACAn0AAAAAAAGSfQAAAAAAAUJ9AAAAAAAA4n0AAAAAAAHifQAAAAAAAgJ9AAAAAAAAIn0AAAAAAAGyfQAAAAAAAXJ9AAAAAAABsn0AAAAAAAFSfQAAAAAAAaJ9AAAAAAAB4n0AAAAAAAFifQAAAAAAAUJ9AAAAAAABon0AAAAAAAESfQAAAAAAAeJ9AAAAAAABsn0AAAAAAAHCfQAAAAAAAYJ9AAAAAAABgn0AAAAAAAFSfQAAAAAAAUJ9AAAAAAABcn0AAAAAAAFyfQAAAAAAAXJ9AAAAAAAAUn0AAAAAAAHCfQAAAAAAAUJ9AAAAAAABwn0AAAAAAAFCfQAAAAAAAZJ9AAAAAAAAon0AAAAAAAJifQAAAAAAAgJ9AAAAAAABEn0AAAAAAAHifQAAAAAAAbJ9AAAAAAAA4n0AAAAAAAFyfQAAAAAAAcJ9AAAAAAABon0AAAAAAAHyfQAAAAAAAYJ9AAAAAAABwn0AAAAAAAGSfQAAAAAAAVJ9AAAAAAAAwn0AAAAAAAHCfQAAAAAAAcJ9AAAAAAABwn0AAAAAAABifQAAAAAAAaJ9AAAAAAAA0n0AAAAAAAFSfQAAAAAAAKJ9AAAAAAACEn0AAAAAAAGyfQAAAAAAAfJ9A\"},\"xaxis\":\"x10\",\"y\":{\"dtype\":\"f8\",\"bdata\":\"AAAAAABAekAAAAAAANSSQAAAAAAAwHJAAAAAAAAAlEAAAAAAAOB6QAAAAAAAcIJAAAAAAADgfUAAAAAAAMBeQAAAAAAAcHdAAAAAAABAaUAAAAAAAGCDQAAAAAAA4HpAAAAAAAAwe0AAAAAAAKB\\u002fQAAAAAAAYGZAAAAAAABYlUAAAAAAAIBmQAAAAAAAKIRAAAAAAACohkAAAAAAAKB6QAAAAAAAYIdAAAAAAAAwcEAAAAAAALiAQAAAAAAAIH9AAAAAAACwnUAAAAAAAJB0QAAAAAAAuIBAAAAAAABwfEAAAAAAACBwQAAAAAAAoHdAAAAAAAAYkEAAAAAAAHB2QAAAAAAAoJFAAAAAAACgZEAAAAAAAGBmQAAAAAAA0HFAAAAAAAAAiEAAAAAAAIBxQAAAAAAA0HZAAAAAAACAckAAAAAAACBhQAAAAAAAgGtAAAAAAABgYUAAAAAAAJB\\u002fQAAAAAAAgHFAAAAAAADIlEAAAAAAAJiAQAAAAAAA0HZAAAAAAACQgkAAAAAAANBwQAAAAAAA4HNAAAAAAADgakAAAAAAADB2QAAAAAAAAGVAAAAAAACweEAAAAAAAPB9QAAAAAAAkIRAAAAAAAAYlUAAAAAAAMB1QAAAAAAASIJAAAAAAACAeUAAAAAAAOBjQAAAAAAAMIFAAAAAAAAwi0AAAAAAAGBmQAAAAAAA0HZAAAAAAACAbUAAAAAAAMiUQAAAAAAA6IdAAAAAAADAhkAAAAAAAOBvQAAAAAAAAGlAAAAAAACopkAAAAAAAJB\\u002fQAAAAAAAQHpAAAAAAADQdkAAAAAAANB1QAAAAAAAMHVAAAAAAAAgb0AAAAAAAGBmQAAAAAAAeIRAAAAAAAAAYEAAAAAAANB6QAAAAAAAUIRAAAAAAABgfUAAAAAAACB3QAAAAAAAGJJAAAAAAACAakAAAAAAAIBvQAAAAAAA4GhAAAAAAABAdUAAAAAAAOBoQAAAAAAAQIBAAAAAAACAnUAAAAAAANB5QAAAAAAAYJpAAAAAAACgfEAAAAAAAAB0QAAAAAAAYHFAAAAAAADgcEAAAAAAALCTQAAAAAAAQIBAAAAAAAAwgUAAAAAAAJB6QAAAAAAAyJRAAAAAAACgekAAAAAAACiBQAAAAAAA0ItAAAAAAADQdkAAAAAAAEB4QAAAAAAAMHpAAAAAAACghEAAAAAAANCBQAAAAAAAoGlAAAAAAAC4gEAAAAAAAKiWQAAAAAAAgGZAAAAAAADQcUAAAAAAADCLQAAAAAAAkH5AAAAAAACYhEAAAAAAAIBtQAAAAAAAoHlAAAAAAADQekAAAAAAAHB3QAAAAAAAQI9AAAAAAADAcEAAAAAAAOBzQAAAAAAAsH1AAAAAAAAYpUAAAAAAAABvQAAAAAAAuIBAAAAAAADQdkAAAAAAANiAQAAAAAAAAHRAAAAAAADgZkAAAAAAADiAQAAAAAAAAHJAAAAAAACwfEAAAAAAAIBxQAAAAAAAaIZAAAAAAABQhEAAAAAAANB4QAAAAAAAOIBAAAAAAADgc0AAAAAAAEiEQAAAAAAAiINAAAAAAAAAcEAAAAAAAKiBQAAAAAAAIGdAAAAAAACwfEAAAAAAAFB+QAAAAAAA0JtAAAAAAADQgUAAAAAAAKiQQAAAAAAAAGhAAAAAAAAQckAAAAAAAMB8QAAAAAAAwGRAAAAAAAAgekAAAAAAAICBQAAAAAAA0HFAAAAAAAB8pUAAAAAAAFB9QAAAAAAAYGtAAAAAAAD0oUAAAAAAAGiFQAAAAAAAgIFAAAAAAABQfUAAAAAAAFiBQAAAAAAAkIpAAAAAAABgY0AAAAAAAGBmQAAAAAAAEHdAAAAAAAAwf0AAAAAAAOiCQAAAAAAAAH9AAAAAAAAQfUAAAAAAAKB8QAAAAAAA8H1AAAAAAACAgEAAAAAAANB2QAAAAAAAuIJAAAAAAADgc0AAAAAAAHB7QAAAAAAA8HlAAAAAAAAQdEAAAAAAADiPQAAAAAAAwGNAAAAAAADAfEAAAAAAAGBrQAAAAAAAQIFAAAAAAACwhkAAAAAAAOCAQAAAAAAAQIBAAAAAAAB8pUAAAAAAAKBzQAAAAAAAYIhAAAAAAAAwhEAAAAAAANB6QAAAAAAAkIpAAAAAAABIhEAAAAAAAHCHQAAAAAAAwHhAAAAAAAAggkAAAAAAAHiBQAAAAAAAEHdAAAAAAAAwdUAAAAAAAKCCQAAAAAAAAHJAAAAAAAD4hkAAAAAAAKB\\u002fQAAAAAAAAH5AAAAAAADAekAAAAAAAPB4QAAAAAAAoIRAAAAAAAAgf0AAAAAAAKBnQAAAAAAAsHJAAAAAAACkn0AAAAAAAEBqQAAAAAAAiIVAAAAAAACAe0AAAAAAADB6QAAAAAAAIG9AAAAAAAD4iEAAAAAAAPihQAAAAAAA4IpAAAAAAADQcUAAAAAAAACEQAAAAAAAgGdAAAAAAADgYEAAAAAAADByQAAAAAAAgGdAAAAAAADweUAAAAAAAMCEQAAAAAAAwIJAAAAAAACAcUAAAAAAAPiIQAAAAAAAEHJAAAAAAADAdUAAAAAAADBxQAAAAAAA0IFAAAAAAACgdEAAAAAAAKB0QAAAAAAAgHtAAAAAAABAc0AAAAAAAEiCQAAAAAAAgHxAAAAAAADwc0AAAAAAACB6QAAAAAAA4HBAAAAAAABgl0AAAAAAAABqQAAAAAAAYHFAAAAAAAAgbEAAAAAAAGiAQAAAAAAAkHVAAAAAAABgZEAAAAAAAECFQAAAAAAAEIJAAAAAAAC4ikAAAAAAAGCNQAAAAAAAwHhAAAAAAABgdUAAAAAAAPB4QAAAAAAAoI5AAAAAAADAZEAAAAAAAGBwQAAAAAAAwGhAAAAAAADAZ0AAAAAAAFBzQAAAAAAAYJ1AAAAAAACgiUAAAAAAADiFQAAAAAAAYHtAAAAAAAAAdUAAAAAAAKBnQAAAAAAAoHJAAAAAAACgbEAAAAAAAHByQAAAAAAAMHFAAAAAAABIgkAAAAAAACBnQAAAAAAA4GpAAAAAAAAAf0AAAAAAAIiIQAAAAAAAQGpAAAAAAABQeEAAAAAAAACDQAAAAAAAJJZAAAAAAADAY0AAAAAAALB3QAAAAAAA2JVAAAAAAADgkEAAAAAAAOB1QAAAAAAA0IFAAAAAAADAbEAAAAAAAOB6QAAAAAAA8HhAAAAAAAColkAAAAAAABiFQAAAAAAAwHBAAAAAAADAYUAAAAAAAKCJQAAAAAAAoHRAAAAAAACAaUAAAAAAAKB8QAAAAAAAUHRAAAAAAAAAeUAAAAAAAAB5QAAAAAAAuIVAAAAAAADQf0AAAAAAANCEQAAAAAAAIG9AAAAAAADAfkAAAAAAABB4QAAAAAAAcHtAAAAAAACghEAAAAAAAECAQAAAAAAAeI5AAAAAAADgckAAAAAAADBzQAAAAAAAYHFAAAAAAABAdUAAAAAAAECEQAAAAAAAOIdAAAAAAABwkkAAAAAAAEB1QAAAAAAAoGxAAAAAAAAgf0AAAAAAAAiBQAAAAAAAQGVAAAAAAAAQfUAAAAAAALB4QAAAAAAAiJNAAAAAAAAwcEAAAAAAANCEQAAAAAAAEHdAAAAAAADQe0AAAAAAAKB2QAAAAAAA0HVAAAAAAACgeUAAAAAAAGBzQAAAAAAAAGZAAAAAAAAwhUAAAAAAALiCQAAAAAAAqIFAAAAAAAAwgUAAAAAAAMB6QAAAAAAA4H1A\"},\"yaxis\":\"y10\",\"type\":\"scattergl\"},{\"hovertemplate\":\"Elevator=\\u6709\\u003cbr\\u003eRenovation=\\u6bdb\\u576f\\u003cbr\\u003eYear=%{x}\\u003cbr\\u003ePrice=%{y}\\u003cextra\\u003e\\u003c\\u002fextra\\u003e\",\"legendgroup\":\"\\u6709\",\"marker\":{\"color\":\"#636efa\",\"symbol\":\"circle\"},\"mode\":\"markers\",\"name\":\"\\u6709\",\"showlegend\":false,\"x\":{\"dtype\":\"f8\",\"bdata\":\"AAAAAACQn0AAAAAAAHifQAAAAAAAjJ9AAAAAAABQn0AAAAAAAHSfQAAAAAAAeJ9AAAAAAAD8nkAAAAAAAHifQAAAAAAAgJ9AAAAAAACUn0A=\"},\"xaxis\":\"x11\",\"y\":{\"dtype\":\"f8\",\"bdata\":\"AAAAAABwckAAAAAAAEBrQAAAAAAAAG5AAAAAAACghEAAAAAAAEBnQAAAAAAAAGVAAAAAAADAhkAAAAAAADB2QAAAAAAAsIJAAAAAAABgbEA=\"},\"yaxis\":\"y11\",\"type\":\"scattergl\"},{\"hovertemplate\":\"Elevator=\\u6709\\u003cbr\\u003eRenovation=\\u5176\\u4ed6\\u003cbr\\u003eYear=%{x}\\u003cbr\\u003ePrice=%{y}\\u003cextra\\u003e\\u003c\\u002fextra\\u003e\",\"legendgroup\":\"\\u6709\",\"marker\":{\"color\":\"#636efa\",\"symbol\":\"circle\"},\"mode\":\"markers\",\"name\":\"\\u6709\",\"showlegend\":false,\"x\":{\"dtype\":\"f8\",\"bdata\":\"AAAAAABQn0AAAAAAAHifQAAAAAAAeJ9AAAAAAABcn0AAAAAAAIifQAAAAAAAZJ9AAAAAAAAwn0AAAAAAAHCfQAAAAAAA\\u002fJ5AAAAAAABMn0AAAAAAAHSfQAAAAAAALJ9A\"},\"xaxis\":\"x12\",\"y\":{\"dtype\":\"f8\",\"bdata\":\"AAAAAADQgEAAAAAAAOBjQAAAAAAAQHVAAAAAAACAi0AAAAAAAABRQAAAAAAAkHRAAAAAAAAoh0AAAAAAABB8QAAAAAAAsIJAAAAAAADohEAAAAAAAMBsQAAAAAAAQGhA\"},\"yaxis\":\"y12\",\"type\":\"scattergl\"},{\"hovertemplate\":\"Elevator=\\u65e0\\u003cbr\\u003eRenovation=\\u7b80\\u88c5\\u003cbr\\u003eYear=%{x}\\u003cbr\\u003ePrice=%{y}\\u003cextra\\u003e\\u003c\\u002fextra\\u003e\",\"legendgroup\":\"\\u65e0\",\"marker\":{\"color\":\"#EF553B\",\"symbol\":\"circle\"},\"mode\":\"markers\",\"name\":\"\\u65e0\",\"showlegend\":true,\"x\":{\"dtype\":\"f8\",\"bdata\":\"AAAAAADwnkAAAAAAABCfQAAAAAAACJ9AAAAAAADwnkAAAAAAABifQAAAAAAAIJ9AAAAAAABMn0AAAAAAACCfQAAAAAAAUJ9AAAAAAAAkn0AAAAAAAEyfQAAAAAAAKJ9AAAAAAAAQn0AAAAAAADSfQAAAAAAACJ9AAAAAAABQn0AAAAAAACSfQAAAAAAANJ9AAAAAAADknkAAAAAAADCfQAAAAAAATJ9AAAAAAAA4n0AAAAAAAECfQAAAAAAA\\u002fJ5AAAAAAAAYn0AAAAAAAPCeQAAAAAAAMJ9AAAAAAAAMn0AAAAAAADSfQAAAAAAAPJ9AAAAAAAA4n0AAAAAAAOyeQAAAAAAATJ9AAAAAAAAkn0AAAAAAAEifQAAAAAAANJ9AAAAAAABUn0AAAAAAADyfQAAAAAAACJ9AAAAAAABIn0AAAAAAAEifQAAAAAAALJ9AAAAAAAAQn0AAAAAAAPSeQAAAAAAAFJ9AAAAAAABEn0AAAAAAACSfQAAAAAAAJJ9AAAAAAAAsn0AAAAAAAFCfQAAAAAAAKJ9AAAAAAAAUn0AAAAAAAFCfQAAAAAAAKJ9AAAAAAAAwn0AAAAAAACifQAAAAAAAOJ9AAAAAAABAn0AAAAAAAOCeQAAAAAAAGJ9AAAAAAAAkn0AAAAAAABCfQAAAAAAAOJ9AAAAAAAD8nkAAAAAAAEyfQAAAAAAAJJ9AAAAAAABAn0AAAAAAAEyfQAAAAAAA8J5AAAAAAAAkn0AAAAAAAPCeQAAAAAAAIJ9AAAAAAADsnkAAAAAAAFyfQAAAAAAABJ9AAAAAAAAEn0AAAAAAAGCfQAAAAAAARJ9AAAAAAAAIn0AAAAAAADifQAAAAAAAIJ9AAAAAAAAAn0AAAAAAADCfQAAAAAAAXJ9AAAAAAAAAn0AAAAAAACyfQAAAAAAAPJ9AAAAAAADwnkAAAAAAAAyfQAAAAAAAMJ9AAAAAAABgn0AAAAAAAPCeQAAAAAAA5J5AAAAAAABQn0AAAAAAAFifQAAAAAAAHJ9AAAAAAABMn0AAAAAAADyfQAAAAAAA\\u002fJ5AAAAAAADonkAAAAAAACSfQAAAAAAAGJ9AAAAAAAAUn0AAAAAAADyfQAAAAAAAJJ9AAAAAAABIn0AAAAAAAAyfQAAAAAAAVJ9AAAAAAAAEn0AAAAAAAECfQAAAAAAACJ9AAAAAAABEn0AAAAAAAOieQAAAAAAASJ9AAAAAAAAYn0AAAAAAAByfQAAAAAAAAJ9AAAAAAABIn0AAAAAAADSfQAAAAAAADJ9AAAAAAADwnkAAAAAAALSeQAAAAAAAOJ9AAAAAAAD4nkAAAAAAADyfQAAAAAAARJ9AAAAAAADwnkAAAAAAAPCeQAAAAAAA8J5AAAAAAABMn0AAAAAAAAifQAAAAAAAVJ9AAAAAAAAkn0AAAAAAAIifQAAAAAAATJ9AAAAAAABsn0AAAAAAAEifQAAAAAAABJ9AAAAAAAAIn0AAAAAAAOyeQAAAAAAAAJ9AAAAAAAAsn0AAAAAAACyfQAAAAAAAtJ5AAAAAAABAn0AAAAAAAEyfQAAAAAAAKJ9AAAAAAAD8nkAAAAAAAAyfQAAAAAAA\\u002fJ5AAAAAAADknkAAAAAAAGCfQAAAAAAALJ9AAAAAAADwnkAAAAAAACSfQAAAAAAAQJ9AAAAAAAAQn0AAAAAAADSfQAAAAAAA+J5AAAAAAAA8n0AAAAAAAASfQAAAAAAADJ9AAAAAAABQn0AAAAAAACCfQAAAAAAAFJ9AAAAAAAA4n0AAAAAAADCfQAAAAAAAEJ9AAAAAAAAkn0AAAAAAAASfQAAAAAAAQJ9AAAAAAAAsn0AAAAAAAACfQAAAAAAA9J5AAAAAAAAkn0AAAAAAAPSeQAAAAAAACJ9AAAAAAAAYn0AAAAAAAEyfQAAAAAAAHJ9AAAAAAAAAn0AAAAAAACifQAAAAAAAOJ9AAAAAAAAUn0AAAAAAADifQAAAAAAADJ9AAAAAAAAIn0AAAAAAAEifQA==\"},\"xaxis\":\"x5\",\"y\":{\"dtype\":\"f8\",\"bdata\":\"AAAAAADQcUAAAAAAAOBgQAAAAAAAkHlAAAAAAABQg0AAAAAAAABcQAAAAAAAUHFAAAAAAADgcEAAAAAAAGBrQAAAAAAAUHNAAAAAAACgdEAAAAAAALByQAAAAAAAIGxAAAAAAAAQc0AAAAAAAAiBQAAAAAAAwFxAAAAAAADQhkAAAAAAAPB4QAAAAAAAcHJAAAAAAADgY0AAAAAAAMBuQAAAAAAAEHFAAAAAAABQc0AAAAAAADB1QAAAAAAAQHpAAAAAAABAakAAAAAAACBvQAAAAAAAQHhAAAAAAAAAd0AAAAAAAECAQAAAAAAAAGlAAAAAAABAaEAAAAAAAMBzQAAAAAAAYHZAAAAAAAAgbUAAAAAAAMBjQAAAAAAAQGpAAAAAAACAa0AAAAAAAMB6QAAAAAAA8HNAAAAAAADgekAAAAAAADB1QAAAAAAA4HpAAAAAAACwg0AAAAAAAPByQAAAAAAAAGRAAAAAAADgb0AAAAAAAABsQAAAAAAA0IBAAAAAAAAgcEAAAAAAAJB6QAAAAAAAwGNAAAAAAADQhEAAAAAAAEByQAAAAAAAwGlAAAAAAACgbUAAAAAAAABkQAAAAAAAIHJAAAAAAADwd0AAAAAAAMBkQAAAAAAAMHZAzczMzMz8aEAAAAAAAKBnQAAAAAAA4G5AAAAAAADAXEAAAAAAAIB2QAAAAAAAgHFAAAAAAAAgdUAAAAAAAABpQAAAAAAAcHJAAAAAAAAgZUAAAAAAAPB4QAAAAAAAkHVAAAAAAABga0AAAAAAADB7QAAAAAAA4H1AAAAAAACwckAAAAAAANiFQAAAAAAAQH9AAAAAAAAgdUAAAAAAAAByQAAAAAAAsH1AAAAAAABAakAAAAAAAJB1QAAAAAAAcHdAAAAAAADAd0AAAAAAACBqQAAAAAAAkH9AAAAAAABQdEAAAAAAAABwQAAAAAAAYHNAAAAAAACggkAAAAAAAMB3QAAAAAAAIG9AAAAAAACgd0AAAAAAAEBsQAAAAAAAQIRAAAAAAACwgkAAAAAAAEBvQAAAAAAAYHNAAAAAAADAfEAAAAAAAPBzQAAAAAAA8HhAAAAAAABgeEAAAAAAAOBuQAAAAAAAMHVAAAAAAACQdEAAAAAAAKBiQAAAAAAAoGxAAAAAAABwgEAAAAAAAGCdQAAAAAAAoHJAAAAAAAAgbkAAAAAAAEiEQAAAAAAAgGtAAAAAAAAAaUAAAAAAACBqQAAAAAAAoGRAAAAAAACgiUAAAAAAAABoQAAAAAAAcHxAAAAAAAAAdEAAAAAAALBzQAAAAAAAQGZAAAAAAACgZEAAAAAAAKB5QAAAAAAAQHNAAAAAAADgdUAAAAAAAPB0QAAAAAAAkHBAAAAAAACYgkAAAAAAANCLQAAAAAAAsH9AAAAAAABwckAAAAAAAABlQAAAAAAAYHZAAAAAAAAQcUAAAAAAAOBgQAAAAAAAuIVAAAAAAADgY0AAAAAAAIBjQAAAAAAAEHxAAAAAAACAbEAAAAAAAOB6QAAAAAAAIHxAAAAAAADMkEAAAAAAAEB0QAAAAAAAoIRAAAAAAACgbkAAAAAAAGBtQAAAAAAAIHxAAAAAAADgc0AAAAAAACB8QAAAAAAAaIBAAAAAAACAaEAAAAAAAIBtQAAAAAAAQHVAAAAAAADQcUAAAAAAALBzQAAAAAAAgGtAAAAAAACAgUAAAAAAAOB\\u002fQAAAAAAAwGlAAAAAAACgfkAAAAAAAEB\\u002fQAAAAAAA0IBAAAAAAACAUkAAAAAAACBvQAAAAAAAwIBAAAAAAAAwdkAAAAAAAEBhQAAAAAAAAH5AAAAAAADAdEAAAAAAAIB+QAAAAAAAQHJAAAAAAAAAfkAAAAAAAAB0QAAAAAAAQGVAAAAAAACgY0AAAAAAANB7QAAAAAAAwGhAAAAAAACwckAAAAAAAKBsQAAAAAAAoHJAAAAAAAAgb0AAAAAAADBwQAAAAAAAcIBAAAAAAAD4iEAAAAAAAGiHQA==\"},\"yaxis\":\"y5\",\"type\":\"scattergl\"},{\"hovertemplate\":\"Elevator=\\u65e0\\u003cbr\\u003eRenovation=\\u7cbe\\u88c5\\u003cbr\\u003eYear=%{x}\\u003cbr\\u003ePrice=%{y}\\u003cextra\\u003e\\u003c\\u002fextra\\u003e\",\"legendgroup\":\"\\u65e0\",\"marker\":{\"color\":\"#EF553B\",\"symbol\":\"circle\"},\"mode\":\"markers\",\"name\":\"\\u65e0\",\"showlegend\":false,\"x\":{\"dtype\":\"f8\",\"bdata\":\"AAAAAAAsn0AAAAAAACyfQAAAAAAACJ9AAAAAAAAUn0AAAAAAAACfQAAAAAAA9J5AAAAAAAAgn0AAAAAAAAyfQAAAAAAAFJ9AAAAAAADgnkAAAAAAAACfQAAAAAAAEJ9AAAAAAAAcn0AAAAAAACifQAAAAAAAMJ9AAAAAAABUn0AAAAAAAGCfQAAAAAAAaJ9AAAAAAAAMn0AAAAAAABSfQAAAAAAAOJ9AAAAAAAA0n0AAAAAAACSfQAAAAAAANJ9AAAAAAAA8n0AAAAAAANyeQAAAAAAACJ9AAAAAAACwnkAAAAAAAFCfQAAAAAAA8J5AAAAAAAAcn0AAAAAAABCfQAAAAAAALJ9AAAAAAAAYn0AAAAAAAFCfQAAAAAAAZJ9AAAAAAADwnkAAAAAAAAyfQAAAAAAAIJ9AAAAAAABUn0AAAAAAAFSfQAAAAAAAOJ9AAAAAAAA8n0AAAAAAACCfQAAAAAAA7J5AAAAAAABEn0AAAAAAACSfQAAAAAAAFJ9AAAAAAABsn0AAAAAAABifQAAAAAAAMJ9AAAAAAABEn0AAAAAAAGCfQAAAAAAATJ9AAAAAAAD4nkAAAAAAAHCfQAAAAAAAOJ9AAAAAAAA4n0AAAAAAADifQAAAAAAAGJ9AAAAAAAD8nkAAAAAAACSfQAAAAAAA+J5AAAAAAAAYn0AAAAAAAPyeQAAAAAAAEJ9AAAAAAABcn0AAAAAAAFSfQAAAAAAAJJ9AAAAAAABMn0AAAAAAACifQAAAAAAARJ9AAAAAAADwnkAAAAAAABifQAAAAAAAJJ9AAAAAAAAwn0AAAAAAAByfQAAAAAAA+J5AAAAAAABYn0AAAAAAACSfQAAAAAAAKJ9AAAAAAAAgn0AAAAAAACifQAAAAAAAJJ9AAAAAAAAUn0AAAAAAAPyeQAAAAAAATJ9AAAAAAAAgn0AAAAAAAEyfQAAAAAAAOJ9AAAAAAAAon0AAAAAAADyfQAAAAAAAHJ9AAAAAAAA8n0AAAAAAADSfQAAAAAAAPJ9AAAAAAAAYn0AAAAAAAFCfQAAAAAAACJ9AAAAAAABUn0AAAAAAAEyfQAAAAAAANJ9AAAAAAABMn0AAAAAAAPSeQAAAAAAANJ9AAAAAAAAAn0AAAAAAADyfQAAAAAAABJ9AAAAAAADgnkAAAAAAAPCeQAAAAAAAYJ9AAAAAAAAon0AAAAAAAGSfQAAAAAAAOJ9AAAAAAAAIn0AAAAAAAFyfQAAAAAAAPJ9AAAAAAABcn0AAAAAAADCfQAAAAAAANJ9AAAAAAAAgn0AAAAAAACifQAAAAAAARJ9AAAAAAABQn0AAAAAAACSfQAAAAAAA9J5AAAAAAAD0nkAAAAAAADCfQAAAAAAAIJ9AAAAAAABQn0AAAAAAADyfQAAAAAAANJ9AAAAAAABYn0AAAAAAAFSfQAAAAAAADJ9AAAAAAAAgn0AAAAAAADifQAAAAAAAFJ9AAAAAAABYn0AAAAAAANCeQAAAAAAACJ9AAAAAAAD8nkAAAAAAADifQAAAAAAANJ9AAAAAAABYn0AAAAAAADifQAAAAAAAPJ9AAAAAAABUn0AAAAAAAFCfQAAAAAAAYJ9AAAAAAAAgn0AAAAAAACSfQAAAAAAAAJ9AAAAAAAAwn0AAAAAAACSfQAAAAAAALJ9AAAAAAAAAn0AAAAAAADCfQAAAAAAAXJ9AAAAAAABYn0AAAAAAAFSfQAAAAAAAWJ9AAAAAAAA8n0AAAAAAAEifQAAAAAAAJJ9AAAAAAAA8n0AAAAAAADifQAAAAAAA+J5AAAAAAAAkn0AAAAAAADSfQAAAAAAAEJ9AAAAAAAAYn0AAAAAAAEifQAAAAAAAVJ9AAAAAAAAkn0AAAAAAAByfQAAAAAAAKJ9AAAAAAAAgn0AAAAAAAPCeQAAAAAAA8J5AAAAAAABgn0AAAAAAAFyfQAAAAAAANJ9AAAAAAAAYn0AAAAAAADyfQAAAAAAASJ9AAAAAAAAkn0AAAAAAAASfQAAAAAAABJ9AAAAAAACgnkAAAAAAABifQAAAAAAAKJ9AAAAAAADsnkAAAAAAANSeQAAAAAAANJ9AAAAAAAAsn0AAAAAAACSfQAAAAAAALJ9A\"},\"xaxis\":\"x6\",\"y\":{\"dtype\":\"f8\",\"bdata\":\"AAAAAACQgEAAAAAAAIBsQAAAAAAA4HVAAAAAAAAQiEAAAAAAAOBoQAAAAAAAMHZAAAAAAACAZkAAAAAAAFBzQAAAAAAAgHFAAAAAAADgakAAAAAAAJB0QAAAAAAAwHpAAAAAAABgbUAAAAAAAIBsQAAAAAAA0IRAAAAAAADweUAAAAAAAABhQAAAAAAAYHNAAAAAAABge0AAAAAAAJB1QAAAAAAA0HBAAAAAAAAQcUAAAAAAAFB0QAAAAAAAAHdAAAAAAADgdUAAAAAAADiFQAAAAAAAMHZAAAAAAACwckAAAAAAALB4QAAAAAAAAH5AAAAAAADweEAAAAAAABCDQAAAAAAAoGRAAAAAAADAbkAAAAAAAIB3QAAAAAAAoG5AAAAAAABQc0AAAAAAALByQAAAAAAAEHlAAAAAAAAQd0AAAAAAAMBsQAAAAAAAYGtAAAAAAABAc0AAAAAAAABrQAAAAAAAoHRAAAAAAABAf0AAAAAAAMB8QAAAAAAAgGtAAAAAAACAY0AAAAAAAIBrQAAAAAAAAGlAAAAAAADgeEAAAAAAAICFQAAAAAAAYIZAAAAAAACwckAAAAAAACBoQAAAAAAAgIZAAAAAAABAhUAAAAAAAOB6QAAAAAAAoIlAAAAAAABwd0AAAAAAAIBrQAAAAAAAsHNAAAAAAADweUAAAAAAALCCQAAAAAAA4GhAAAAAAADAfUAAAAAAAABvQAAAAAAAsH1AAAAAAABQeUAAAAAAAAB3QAAAAAAAIGJAAAAAAABwfEAAAAAAAGBxQAAAAAAAIGdAAAAAAABAhUAAAAAAALB3QAAAAAAA2IdAAAAAAAAgfUAAAAAAAKySQAAAAAAACIZAAAAAAAAgf0AAAAAAAOBoQAAAAAAA4HZAAAAAAABAekAAAAAAAPB4QAAAAAAAwHxAAAAAAAAAdEAAAAAAANB1QAAAAAAAYG1AAAAAAAAgakAAAAAAAPB4QAAAAAAA0HtAAAAAAAAwcUAAAAAAADB7QAAAAAAAwHRAAAAAAADAaEAAAAAAAGB2QAAAAAAAcHxAAAAAAAAgekAAAAAAAIBxQAAAAAAAWIFAAAAAAABQdEAAAAAAAGBhQAAAAAAAwHxAAAAAAABge0AAAAAAADChQAAAAAAA0ItAAAAAAACgaUAAAAAAAAB+QAAAAAAAsIhAAAAAAAAskUAAAAAAACBgQAAAAAAA4GpAAAAAAADAckAAAAAAAHBxQAAAAAAAwGxAAAAAAAAwdkAAAAAAAABwQAAAAAAAQG5AAAAAAACQikAAAAAAAPBzQAAAAAAAAGpAAAAAAABAfUAAAAAAAOBvQAAAAAAAsHJAAAAAAACgfkAAAAAAAKBkQAAAAAAAIGVAAAAAAABAekAAAAAAABB9QAAAAAAAAHFAAAAAAADQe0AAAAAAAKBkQAAAAAAAIG1AAAAAAADAhkAAAAAAAAB3QAAAAAAAsHdAAAAAAADAf0AAAAAAAMBiQAAAAAAAwGxAAAAAAABwekAAAAAAAPiIQAAAAAAAoHRAAAAAAACQgEAAAAAAAOBtQAAAAAAAgItAAAAAAAAga0AAAAAAAGBzQAAAAAAAwHdAAAAAAABQeEAAAAAAAGB2QAAAAAAAwGZAAAAAAABAakAAAAAAAEBpQAAAAAAAYGNAAAAAAABAb0AAAAAAALB4QAAAAAAA8IlAAAAAAABQfkAAAAAAABCIQAAAAAAA0HBAAAAAAACQgEAAAAAAADB\\u002fQAAAAAAAYH1AAAAAAADgfUAAAAAAAAB5QAAAAAAAYH5AAAAAAADgcEAAAAAAAIBqQAAAAAAAsHxAAAAAAADQcEAAAAAAAOB2QAAAAAAA0IpAAAAAAAAgbEAAAAAAAKBkQAAAAAAAwGxAAAAAAACAZEAAAAAAAOBlQAAAAAAAMH9AAAAAAACwc0AAAAAAAIBdQAAAAAAA4GhAAAAAAAAgdUAAAAAAAMBmQAAAAAAAgG9AAAAAAAAAZEAAAAAAACBwQAAAAAAAUHNAAAAAAADAeUAAAAAAAEBqQAAAAAAA0IBAAAAAAAAAdkAAAAAAAOCFQAAAAAAAQHdAAAAAAADgZUAAAAAAAAByQAAAAAAAEIZA\"},\"yaxis\":\"y6\",\"type\":\"scattergl\"},{\"hovertemplate\":\"Elevator=\\u65e0\\u003cbr\\u003eRenovation=\\u6bdb\\u576f\\u003cbr\\u003eYear=%{x}\\u003cbr\\u003ePrice=%{y}\\u003cextra\\u003e\\u003c\\u002fextra\\u003e\",\"legendgroup\":\"\\u65e0\",\"marker\":{\"color\":\"#EF553B\",\"symbol\":\"circle\"},\"mode\":\"markers\",\"name\":\"\\u65e0\",\"showlegend\":false,\"x\":{\"dtype\":\"f8\",\"bdata\":\"AAAAAAD4nkAAAAAAADCfQAAAAAAA7J5AAAAAAAAAn0AAAAAAAPieQAAAAAAA9J5AAAAAAACwnkAAAAAAAPyeQAAAAAAA9J5AAAAAAAAYn0AAAAAAAOyeQA==\"},\"xaxis\":\"x7\",\"y\":{\"dtype\":\"f8\",\"bdata\":\"AAAAAABAUEAAAAAAABB3QAAAAAAAsHJAAAAAAAA4gEAAAAAAAFB0QAAAAAAAAFtAAAAAAADwiUAAAAAAAMBrQAAAAAAAgGtAAAAAAAAAjkAAAAAAAGBsQA==\"},\"yaxis\":\"y7\",\"type\":\"scattergl\"},{\"hovertemplate\":\"Elevator=\\u65e0\\u003cbr\\u003eRenovation=\\u5176\\u4ed6\\u003cbr\\u003eYear=%{x}\\u003cbr\\u003ePrice=%{y}\\u003cextra\\u003e\\u003c\\u002fextra\\u003e\",\"legendgroup\":\"\\u65e0\",\"marker\":{\"color\":\"#EF553B\",\"symbol\":\"circle\"},\"mode\":\"markers\",\"name\":\"\\u65e0\",\"showlegend\":false,\"x\":{\"dtype\":\"f8\",\"bdata\":\"AAAAAABUn0AAAAAAAEyfQAAAAAAAaJ9AAAAAAADonkAAAAAAAPCeQAAAAAAAPJ9AAAAAAAAUn0A=\"},\"xaxis\":\"x8\",\"y\":{\"dtype\":\"f8\",\"bdata\":\"AAAAAADgakAAAAAAACB1QAAAAAAAAGRAAAAAAABAa0AAAAAAAKB5QAAAAAAA0IVAAAAAAABgY0A=\"},\"yaxis\":\"y8\",\"type\":\"scattergl\"},{\"hovertemplate\":\"Elevator=\\u6682\\u65e0\\u6570\\u636e\\u003cbr\\u003eRenovation=\\u7b80\\u88c5\\u003cbr\\u003eYear=%{x}\\u003cbr\\u003ePrice=%{y}\\u003cextra\\u003e\\u003c\\u002fextra\\u003e\",\"legendgroup\":\"\\u6682\\u65e0\\u6570\\u636e\",\"marker\":{\"color\":\"#00cc96\",\"symbol\":\"circle\"},\"mode\":\"markers\",\"name\":\"\\u6682\\u65e0\\u6570\\u636e\",\"showlegend\":true,\"x\":{\"dtype\":\"f8\",\"bdata\":\"AAAAAACEn0AAAAAAADifQAAAAAAATJ9AAAAAAAAMn0AAAAAAAEifQAAAAAAAgJ9AAAAAAABkn0AAAAAAACyfQA==\"},\"xaxis\":\"x\",\"y\":{\"dtype\":\"f8\",\"bdata\":\"AAAAAACgZEAAAAAAAGBvQAAAAAAAQGJAAAAAAAAAWEAAAAAAAIBYQAAAAAAA4HVAAAAAAAAAXkAAAAAAACBqQA==\"},\"yaxis\":\"y\",\"type\":\"scattergl\"},{\"hovertemplate\":\"Elevator=\\u6682\\u65e0\\u6570\\u636e\\u003cbr\\u003eRenovation=\\u7cbe\\u88c5\\u003cbr\\u003eYear=%{x}\\u003cbr\\u003ePrice=%{y}\\u003cextra\\u003e\\u003c\\u002fextra\\u003e\",\"legendgroup\":\"\\u6682\\u65e0\\u6570\\u636e\",\"marker\":{\"color\":\"#00cc96\",\"symbol\":\"circle\"},\"mode\":\"markers\",\"name\":\"\\u6682\\u65e0\\u6570\\u636e\",\"showlegend\":false,\"x\":{\"dtype\":\"f8\",\"bdata\":\"AAAAAABkn0AAAAAAAHSeQAAAAAAAbJ9AAAAAAACIn0AAAAAAAFifQAAAAAAAbJ9AAAAAAAB4n0AAAAAAAGifQAAAAAAAdJ9A\"},\"xaxis\":\"x2\",\"y\":{\"dtype\":\"f8\",\"bdata\":\"AAAAAABgaEAAAAAAAOBuQAAAAAAAgGFAAAAAAAAgb0AAAAAAAABYQAAAAAAA0HVAAAAAAABgY0AAAAAAAEB6QAAAAAAAwGNA\"},\"yaxis\":\"y2\",\"type\":\"scattergl\"}],                        {\"template\":{\"data\":{\"histogram2dcontour\":[{\"type\":\"histogram2dcontour\",\"colorbar\":{\"outlinewidth\":0,\"ticks\":\"\"},\"colorscale\":[[0.0,\"#0d0887\"],[0.1111111111111111,\"#46039f\"],[0.2222222222222222,\"#7201a8\"],[0.3333333333333333,\"#9c179e\"],[0.4444444444444444,\"#bd3786\"],[0.5555555555555556,\"#d8576b\"],[0.6666666666666666,\"#ed7953\"],[0.7777777777777778,\"#fb9f3a\"],[0.8888888888888888,\"#fdca26\"],[1.0,\"#f0f921\"]]}],\"choropleth\":[{\"type\":\"choropleth\",\"colorbar\":{\"outlinewidth\":0,\"ticks\":\"\"}}],\"histogram2d\":[{\"type\":\"histogram2d\",\"colorbar\":{\"outlinewidth\":0,\"ticks\":\"\"},\"colorscale\":[[0.0,\"#0d0887\"],[0.1111111111111111,\"#46039f\"],[0.2222222222222222,\"#7201a8\"],[0.3333333333333333,\"#9c179e\"],[0.4444444444444444,\"#bd3786\"],[0.5555555555555556,\"#d8576b\"],[0.6666666666666666,\"#ed7953\"],[0.7777777777777778,\"#fb9f3a\"],[0.8888888888888888,\"#fdca26\"],[1.0,\"#f0f921\"]]}],\"heatmap\":[{\"type\":\"heatmap\",\"colorbar\":{\"outlinewidth\":0,\"ticks\":\"\"},\"colorscale\":[[0.0,\"#0d0887\"],[0.1111111111111111,\"#46039f\"],[0.2222222222222222,\"#7201a8\"],[0.3333333333333333,\"#9c179e\"],[0.4444444444444444,\"#bd3786\"],[0.5555555555555556,\"#d8576b\"],[0.6666666666666666,\"#ed7953\"],[0.7777777777777778,\"#fb9f3a\"],[0.8888888888888888,\"#fdca26\"],[1.0,\"#f0f921\"]]}],\"contourcarpet\":[{\"type\":\"contourcarpet\",\"colorbar\":{\"outlinewidth\":0,\"ticks\":\"\"}}],\"contour\":[{\"type\":\"contour\",\"colorbar\":{\"outlinewidth\":0,\"ticks\":\"\"},\"colorscale\":[[0.0,\"#0d0887\"],[0.1111111111111111,\"#46039f\"],[0.2222222222222222,\"#7201a8\"],[0.3333333333333333,\"#9c179e\"],[0.4444444444444444,\"#bd3786\"],[0.5555555555555556,\"#d8576b\"],[0.6666666666666666,\"#ed7953\"],[0.7777777777777778,\"#fb9f3a\"],[0.8888888888888888,\"#fdca26\"],[1.0,\"#f0f921\"]]}],\"surface\":[{\"type\":\"surface\",\"colorbar\":{\"outlinewidth\":0,\"ticks\":\"\"},\"colorscale\":[[0.0,\"#0d0887\"],[0.1111111111111111,\"#46039f\"],[0.2222222222222222,\"#7201a8\"],[0.3333333333333333,\"#9c179e\"],[0.4444444444444444,\"#bd3786\"],[0.5555555555555556,\"#d8576b\"],[0.6666666666666666,\"#ed7953\"],[0.7777777777777778,\"#fb9f3a\"],[0.8888888888888888,\"#fdca26\"],[1.0,\"#f0f921\"]]}],\"mesh3d\":[{\"type\":\"mesh3d\",\"colorbar\":{\"outlinewidth\":0,\"ticks\":\"\"}}],\"scatter\":[{\"fillpattern\":{\"fillmode\":\"overlay\",\"size\":10,\"solidity\":0.2},\"type\":\"scatter\"}],\"parcoords\":[{\"type\":\"parcoords\",\"line\":{\"colorbar\":{\"outlinewidth\":0,\"ticks\":\"\"}}}],\"scatterpolargl\":[{\"type\":\"scatterpolargl\",\"marker\":{\"colorbar\":{\"outlinewidth\":0,\"ticks\":\"\"}}}],\"bar\":[{\"error_x\":{\"color\":\"#2a3f5f\"},\"error_y\":{\"color\":\"#2a3f5f\"},\"marker\":{\"line\":{\"color\":\"#E5ECF6\",\"width\":0.5},\"pattern\":{\"fillmode\":\"overlay\",\"size\":10,\"solidity\":0.2}},\"type\":\"bar\"}],\"scattergeo\":[{\"type\":\"scattergeo\",\"marker\":{\"colorbar\":{\"outlinewidth\":0,\"ticks\":\"\"}}}],\"scatterpolar\":[{\"type\":\"scatterpolar\",\"marker\":{\"colorbar\":{\"outlinewidth\":0,\"ticks\":\"\"}}}],\"histogram\":[{\"marker\":{\"pattern\":{\"fillmode\":\"overlay\",\"size\":10,\"solidity\":0.2}},\"type\":\"histogram\"}],\"scattergl\":[{\"type\":\"scattergl\",\"marker\":{\"colorbar\":{\"outlinewidth\":0,\"ticks\":\"\"}}}],\"scatter3d\":[{\"type\":\"scatter3d\",\"line\":{\"colorbar\":{\"outlinewidth\":0,\"ticks\":\"\"}},\"marker\":{\"colorbar\":{\"outlinewidth\":0,\"ticks\":\"\"}}}],\"scattermap\":[{\"type\":\"scattermap\",\"marker\":{\"colorbar\":{\"outlinewidth\":0,\"ticks\":\"\"}}}],\"scattermapbox\":[{\"type\":\"scattermapbox\",\"marker\":{\"colorbar\":{\"outlinewidth\":0,\"ticks\":\"\"}}}],\"scatterternary\":[{\"type\":\"scatterternary\",\"marker\":{\"colorbar\":{\"outlinewidth\":0,\"ticks\":\"\"}}}],\"scattercarpet\":[{\"type\":\"scattercarpet\",\"marker\":{\"colorbar\":{\"outlinewidth\":0,\"ticks\":\"\"}}}],\"carpet\":[{\"aaxis\":{\"endlinecolor\":\"#2a3f5f\",\"gridcolor\":\"white\",\"linecolor\":\"white\",\"minorgridcolor\":\"white\",\"startlinecolor\":\"#2a3f5f\"},\"baxis\":{\"endlinecolor\":\"#2a3f5f\",\"gridcolor\":\"white\",\"linecolor\":\"white\",\"minorgridcolor\":\"white\",\"startlinecolor\":\"#2a3f5f\"},\"type\":\"carpet\"}],\"table\":[{\"cells\":{\"fill\":{\"color\":\"#EBF0F8\"},\"line\":{\"color\":\"white\"}},\"header\":{\"fill\":{\"color\":\"#C8D4E3\"},\"line\":{\"color\":\"white\"}},\"type\":\"table\"}],\"barpolar\":[{\"marker\":{\"line\":{\"color\":\"#E5ECF6\",\"width\":0.5},\"pattern\":{\"fillmode\":\"overlay\",\"size\":10,\"solidity\":0.2}},\"type\":\"barpolar\"}],\"pie\":[{\"automargin\":true,\"type\":\"pie\"}]},\"layout\":{\"autotypenumbers\":\"strict\",\"colorway\":[\"#636efa\",\"#EF553B\",\"#00cc96\",\"#ab63fa\",\"#FFA15A\",\"#19d3f3\",\"#FF6692\",\"#B6E880\",\"#FF97FF\",\"#FECB52\"],\"font\":{\"color\":\"#2a3f5f\"},\"hovermode\":\"closest\",\"hoverlabel\":{\"align\":\"left\"},\"paper_bgcolor\":\"white\",\"plot_bgcolor\":\"#E5ECF6\",\"polar\":{\"bgcolor\":\"#E5ECF6\",\"angularaxis\":{\"gridcolor\":\"white\",\"linecolor\":\"white\",\"ticks\":\"\"},\"radialaxis\":{\"gridcolor\":\"white\",\"linecolor\":\"white\",\"ticks\":\"\"}},\"ternary\":{\"bgcolor\":\"#E5ECF6\",\"aaxis\":{\"gridcolor\":\"white\",\"linecolor\":\"white\",\"ticks\":\"\"},\"baxis\":{\"gridcolor\":\"white\",\"linecolor\":\"white\",\"ticks\":\"\"},\"caxis\":{\"gridcolor\":\"white\",\"linecolor\":\"white\",\"ticks\":\"\"}},\"coloraxis\":{\"colorbar\":{\"outlinewidth\":0,\"ticks\":\"\"}},\"colorscale\":{\"sequential\":[[0.0,\"#0d0887\"],[0.1111111111111111,\"#46039f\"],[0.2222222222222222,\"#7201a8\"],[0.3333333333333333,\"#9c179e\"],[0.4444444444444444,\"#bd3786\"],[0.5555555555555556,\"#d8576b\"],[0.6666666666666666,\"#ed7953\"],[0.7777777777777778,\"#fb9f3a\"],[0.8888888888888888,\"#fdca26\"],[1.0,\"#f0f921\"]],\"sequentialminus\":[[0.0,\"#0d0887\"],[0.1111111111111111,\"#46039f\"],[0.2222222222222222,\"#7201a8\"],[0.3333333333333333,\"#9c179e\"],[0.4444444444444444,\"#bd3786\"],[0.5555555555555556,\"#d8576b\"],[0.6666666666666666,\"#ed7953\"],[0.7777777777777778,\"#fb9f3a\"],[0.8888888888888888,\"#fdca26\"],[1.0,\"#f0f921\"]],\"diverging\":[[0,\"#8e0152\"],[0.1,\"#c51b7d\"],[0.2,\"#de77ae\"],[0.3,\"#f1b6da\"],[0.4,\"#fde0ef\"],[0.5,\"#f7f7f7\"],[0.6,\"#e6f5d0\"],[0.7,\"#b8e186\"],[0.8,\"#7fbc41\"],[0.9,\"#4d9221\"],[1,\"#276419\"]]},\"xaxis\":{\"gridcolor\":\"white\",\"linecolor\":\"white\",\"ticks\":\"\",\"title\":{\"standoff\":15},\"zerolinecolor\":\"white\",\"automargin\":true,\"zerolinewidth\":2},\"yaxis\":{\"gridcolor\":\"white\",\"linecolor\":\"white\",\"ticks\":\"\",\"title\":{\"standoff\":15},\"zerolinecolor\":\"white\",\"automargin\":true,\"zerolinewidth\":2},\"scene\":{\"xaxis\":{\"backgroundcolor\":\"#E5ECF6\",\"gridcolor\":\"white\",\"linecolor\":\"white\",\"showbackground\":true,\"ticks\":\"\",\"zerolinecolor\":\"white\",\"gridwidth\":2},\"yaxis\":{\"backgroundcolor\":\"#E5ECF6\",\"gridcolor\":\"white\",\"linecolor\":\"white\",\"showbackground\":true,\"ticks\":\"\",\"zerolinecolor\":\"white\",\"gridwidth\":2},\"zaxis\":{\"backgroundcolor\":\"#E5ECF6\",\"gridcolor\":\"white\",\"linecolor\":\"white\",\"showbackground\":true,\"ticks\":\"\",\"zerolinecolor\":\"white\",\"gridwidth\":2}},\"shapedefaults\":{\"line\":{\"color\":\"#2a3f5f\"}},\"annotationdefaults\":{\"arrowcolor\":\"#2a3f5f\",\"arrowhead\":0,\"arrowwidth\":1},\"geo\":{\"bgcolor\":\"white\",\"landcolor\":\"#E5ECF6\",\"subunitcolor\":\"white\",\"showland\":true,\"showlakes\":true,\"lakecolor\":\"white\"},\"title\":{\"x\":0.05},\"mapbox\":{\"style\":\"light\"}}},\"xaxis\":{\"anchor\":\"y\",\"domain\":[0.0,0.22999999999999998],\"title\":{\"text\":\"Year\"}},\"yaxis\":{\"anchor\":\"x\",\"domain\":[0.0,0.3133333333333333],\"title\":{\"text\":\"Price\"}},\"xaxis2\":{\"anchor\":\"y2\",\"domain\":[0.24999999999999997,0.48],\"matches\":\"x\",\"title\":{\"text\":\"Year\"}},\"yaxis2\":{\"anchor\":\"x2\",\"domain\":[0.0,0.3133333333333333],\"matches\":\"y\",\"showticklabels\":false},\"xaxis3\":{\"anchor\":\"y3\",\"domain\":[0.49999999999999994,0.73],\"matches\":\"x\",\"title\":{\"text\":\"Year\"}},\"yaxis3\":{\"anchor\":\"x3\",\"domain\":[0.0,0.3133333333333333],\"matches\":\"y\",\"showticklabels\":false},\"xaxis4\":{\"anchor\":\"y4\",\"domain\":[0.75,0.98],\"matches\":\"x\",\"title\":{\"text\":\"Year\"}},\"yaxis4\":{\"anchor\":\"x4\",\"domain\":[0.0,0.3133333333333333],\"matches\":\"y\",\"showticklabels\":false},\"xaxis5\":{\"anchor\":\"y5\",\"domain\":[0.0,0.22999999999999998],\"matches\":\"x\",\"showticklabels\":false},\"yaxis5\":{\"anchor\":\"x5\",\"domain\":[0.34333333333333327,0.6566666666666665],\"matches\":\"y\",\"title\":{\"text\":\"Price\"}},\"xaxis6\":{\"anchor\":\"y6\",\"domain\":[0.24999999999999997,0.48],\"matches\":\"x\",\"showticklabels\":false},\"yaxis6\":{\"anchor\":\"x6\",\"domain\":[0.34333333333333327,0.6566666666666665],\"matches\":\"y\",\"showticklabels\":false},\"xaxis7\":{\"anchor\":\"y7\",\"domain\":[0.49999999999999994,0.73],\"matches\":\"x\",\"showticklabels\":false},\"yaxis7\":{\"anchor\":\"x7\",\"domain\":[0.34333333333333327,0.6566666666666665],\"matches\":\"y\",\"showticklabels\":false},\"xaxis8\":{\"anchor\":\"y8\",\"domain\":[0.75,0.98],\"matches\":\"x\",\"showticklabels\":false},\"yaxis8\":{\"anchor\":\"x8\",\"domain\":[0.34333333333333327,0.6566666666666665],\"matches\":\"y\",\"showticklabels\":false},\"xaxis9\":{\"anchor\":\"y9\",\"domain\":[0.0,0.22999999999999998],\"matches\":\"x\",\"showticklabels\":false},\"yaxis9\":{\"anchor\":\"x9\",\"domain\":[0.6866666666666665,0.9999999999999998],\"matches\":\"y\",\"title\":{\"text\":\"Price\"}},\"xaxis10\":{\"anchor\":\"y10\",\"domain\":[0.24999999999999997,0.48],\"matches\":\"x\",\"showticklabels\":false},\"yaxis10\":{\"anchor\":\"x10\",\"domain\":[0.6866666666666665,0.9999999999999998],\"matches\":\"y\",\"showticklabels\":false},\"xaxis11\":{\"anchor\":\"y11\",\"domain\":[0.49999999999999994,0.73],\"matches\":\"x\",\"showticklabels\":false},\"yaxis11\":{\"anchor\":\"x11\",\"domain\":[0.6866666666666665,0.9999999999999998],\"matches\":\"y\",\"showticklabels\":false},\"xaxis12\":{\"anchor\":\"y12\",\"domain\":[0.75,0.98],\"matches\":\"x\",\"showticklabels\":false},\"yaxis12\":{\"anchor\":\"x12\",\"domain\":[0.6866666666666665,0.9999999999999998],\"matches\":\"y\",\"showticklabels\":false},\"annotations\":[{\"font\":{},\"showarrow\":false,\"text\":\"Renovation=\\u7b80\\u88c5\",\"x\":0.11499999999999999,\"xanchor\":\"center\",\"xref\":\"paper\",\"y\":0.9999999999999998,\"yanchor\":\"bottom\",\"yref\":\"paper\"},{\"font\":{},\"showarrow\":false,\"text\":\"Renovation=\\u7cbe\\u88c5\",\"x\":0.365,\"xanchor\":\"center\",\"xref\":\"paper\",\"y\":0.9999999999999998,\"yanchor\":\"bottom\",\"yref\":\"paper\"},{\"font\":{},\"showarrow\":false,\"text\":\"Renovation=\\u6bdb\\u576f\",\"x\":0.615,\"xanchor\":\"center\",\"xref\":\"paper\",\"y\":0.9999999999999998,\"yanchor\":\"bottom\",\"yref\":\"paper\"},{\"font\":{},\"showarrow\":false,\"text\":\"Renovation=\\u5176\\u4ed6\",\"x\":0.865,\"xanchor\":\"center\",\"xref\":\"paper\",\"y\":0.9999999999999998,\"yanchor\":\"bottom\",\"yref\":\"paper\"},{\"font\":{},\"showarrow\":false,\"text\":\"Elevator=\\u6682\\u65e0\\u6570\\u636e\",\"textangle\":90,\"x\":0.98,\"xanchor\":\"left\",\"xref\":\"paper\",\"y\":0.15666666666666665,\"yanchor\":\"middle\",\"yref\":\"paper\"},{\"font\":{},\"showarrow\":false,\"text\":\"Elevator=\\u65e0\",\"textangle\":90,\"x\":0.98,\"xanchor\":\"left\",\"xref\":\"paper\",\"y\":0.4999999999999999,\"yanchor\":\"middle\",\"yref\":\"paper\"},{\"font\":{},\"showarrow\":false,\"text\":\"Elevator=\\u6709\",\"textangle\":90,\"x\":0.98,\"xanchor\":\"left\",\"xref\":\"paper\",\"y\":0.8433333333333332,\"yanchor\":\"middle\",\"yref\":\"paper\"}],\"legend\":{\"title\":{\"text\":\"Elevator\"},\"tracegroupgap\":0},\"margin\":{\"t\":60},\"height\":600,\"width\":1600},                        {\"responsive\": true}                    )                };            </script>        </div>"
      ],
      "text/plain": [
       "Figure({\n",
       "    'data': [{'hovertemplate': 'Elevator=有<br>Renovation=简装<br>Year=%{x}<br>Price=%{y}<extra></extra>',\n",
       "              'legendgroup': '有',\n",
       "              'marker': {'color': '#636efa', 'symbol': 'circle'},\n",
       "              'mode': 'markers',\n",
       "              'name': '有',\n",
       "              'showlegend': True,\n",
       "              'type': 'scattergl',\n",
       "              'x': {'bdata': ('AAAAAAB0n0AAAAAAAISfQAAAAAAAgJ' ... 'AAAABUn0AAAAAAAFyfQAAAAAAAWJ9A'),\n",
       "                    'dtype': 'f8'},\n",
       "              'xaxis': 'x9',\n",
       "              'y': {'bdata': ('AAAAAABQhEAAAAAAALCCQAAAAAAAYH' ... 'AAAADgakAAAAAAAFiBQAAAAAAAsHRA'),\n",
       "                    'dtype': 'f8'},\n",
       "              'yaxis': 'y9'},\n",
       "             {'hovertemplate': 'Elevator=有<br>Renovation=精装<br>Year=%{x}<br>Price=%{y}<extra></extra>',\n",
       "              'legendgroup': '有',\n",
       "              'marker': {'color': '#636efa', 'symbol': 'circle'},\n",
       "              'mode': 'markers',\n",
       "              'name': '有',\n",
       "              'showlegend': False,\n",
       "              'type': 'scattergl',\n",
       "              'x': {'bdata': ('AAAAAABYn0AAAAAAAECfQAAAAAAAbJ' ... 'AAAACEn0AAAAAAAGyfQAAAAAAAfJ9A'),\n",
       "                    'dtype': 'f8'},\n",
       "              'xaxis': 'x10',\n",
       "              'y': {'bdata': ('AAAAAABAekAAAAAAANSSQAAAAAAAwH' ... 'AAAAAwgUAAAAAAAMB6QAAAAAAA4H1A'),\n",
       "                    'dtype': 'f8'},\n",
       "              'yaxis': 'y10'},\n",
       "             {'hovertemplate': 'Elevator=有<br>Renovation=毛坯<br>Year=%{x}<br>Price=%{y}<extra></extra>',\n",
       "              'legendgroup': '有',\n",
       "              'marker': {'color': '#636efa', 'symbol': 'circle'},\n",
       "              'mode': 'markers',\n",
       "              'name': '有',\n",
       "              'showlegend': False,\n",
       "              'type': 'scattergl',\n",
       "              'x': {'bdata': ('AAAAAACQn0AAAAAAAHifQAAAAAAAjJ' ... 'AAAHifQAAAAAAAgJ9AAAAAAACUn0A='),\n",
       "                    'dtype': 'f8'},\n",
       "              'xaxis': 'x11',\n",
       "              'y': {'bdata': ('AAAAAABwckAAAAAAAEBrQAAAAAAAAG' ... 'AAADB2QAAAAAAAsIJAAAAAAABgbEA='),\n",
       "                    'dtype': 'f8'},\n",
       "              'yaxis': 'y11'},\n",
       "             {'hovertemplate': 'Elevator=有<br>Renovation=其他<br>Year=%{x}<br>Price=%{y}<extra></extra>',\n",
       "              'legendgroup': '有',\n",
       "              'marker': {'color': '#636efa', 'symbol': 'circle'},\n",
       "              'mode': 'markers',\n",
       "              'name': '有',\n",
       "              'showlegend': False,\n",
       "              'type': 'scattergl',\n",
       "              'x': {'bdata': ('AAAAAABQn0AAAAAAAHifQAAAAAAAeJ' ... 'AAAABMn0AAAAAAAHSfQAAAAAAALJ9A'),\n",
       "                    'dtype': 'f8'},\n",
       "              'xaxis': 'x12',\n",
       "              'y': {'bdata': ('AAAAAADQgEAAAAAAAOBjQAAAAAAAQH' ... 'AAAADohEAAAAAAAMBsQAAAAAAAQGhA'),\n",
       "                    'dtype': 'f8'},\n",
       "              'yaxis': 'y12'},\n",
       "             {'hovertemplate': 'Elevator=无<br>Renovation=简装<br>Year=%{x}<br>Price=%{y}<extra></extra>',\n",
       "              'legendgroup': '无',\n",
       "              'marker': {'color': '#EF553B', 'symbol': 'circle'},\n",
       "              'mode': 'markers',\n",
       "              'name': '无',\n",
       "              'showlegend': True,\n",
       "              'type': 'scattergl',\n",
       "              'x': {'bdata': ('AAAAAADwnkAAAAAAABCfQAAAAAAACJ' ... 'AADJ9AAAAAAAAIn0AAAAAAAEifQA=='),\n",
       "                    'dtype': 'f8'},\n",
       "              'xaxis': 'x5',\n",
       "              'y': {'bdata': ('AAAAAADQcUAAAAAAAOBgQAAAAAAAkH' ... 'AAcIBAAAAAAAD4iEAAAAAAAGiHQA=='),\n",
       "                    'dtype': 'f8'},\n",
       "              'yaxis': 'y5'},\n",
       "             {'hovertemplate': 'Elevator=无<br>Renovation=精装<br>Year=%{x}<br>Price=%{y}<extra></extra>',\n",
       "              'legendgroup': '无',\n",
       "              'marker': {'color': '#EF553B', 'symbol': 'circle'},\n",
       "              'mode': 'markers',\n",
       "              'name': '无',\n",
       "              'showlegend': False,\n",
       "              'type': 'scattergl',\n",
       "              'x': {'bdata': ('AAAAAAAsn0AAAAAAACyfQAAAAAAACJ' ... 'AAAAAsn0AAAAAAACSfQAAAAAAALJ9A'),\n",
       "                    'dtype': 'f8'},\n",
       "              'xaxis': 'x6',\n",
       "              'y': {'bdata': ('AAAAAACQgEAAAAAAAIBsQAAAAAAA4H' ... 'AAAADgZUAAAAAAAAByQAAAAAAAEIZA'),\n",
       "                    'dtype': 'f8'},\n",
       "              'yaxis': 'y6'},\n",
       "             {'hovertemplate': 'Elevator=无<br>Renovation=毛坯<br>Year=%{x}<br>Price=%{y}<extra></extra>',\n",
       "              'legendgroup': '无',\n",
       "              'marker': {'color': '#EF553B', 'symbol': 'circle'},\n",
       "              'mode': 'markers',\n",
       "              'name': '无',\n",
       "              'showlegend': False,\n",
       "              'type': 'scattergl',\n",
       "              'x': {'bdata': ('AAAAAAD4nkAAAAAAADCfQAAAAAAA7J' ... 'AA9J5AAAAAAAAYn0AAAAAAAOyeQA=='),\n",
       "                    'dtype': 'f8'},\n",
       "              'xaxis': 'x7',\n",
       "              'y': {'bdata': ('AAAAAABAUEAAAAAAABB3QAAAAAAAsH' ... 'AAgGtAAAAAAAAAjkAAAAAAAGBsQA=='),\n",
       "                    'dtype': 'f8'},\n",
       "              'yaxis': 'y7'},\n",
       "             {'hovertemplate': 'Elevator=无<br>Renovation=其他<br>Year=%{x}<br>Price=%{y}<extra></extra>',\n",
       "              'legendgroup': '无',\n",
       "              'marker': {'color': '#EF553B', 'symbol': 'circle'},\n",
       "              'mode': 'markers',\n",
       "              'name': '无',\n",
       "              'showlegend': False,\n",
       "              'type': 'scattergl',\n",
       "              'x': {'bdata': 'AAAAAABUn0AAAAAAAEyfQAAAAAAAaJ9AAAAAAADonkAAAAAAAPCeQAAAAAAAPJ9AAAAAAAAUn0A=',\n",
       "                    'dtype': 'f8'},\n",
       "              'xaxis': 'x8',\n",
       "              'y': {'bdata': 'AAAAAADgakAAAAAAACB1QAAAAAAAAGRAAAAAAABAa0AAAAAAAKB5QAAAAAAA0IVAAAAAAABgY0A=',\n",
       "                    'dtype': 'f8'},\n",
       "              'yaxis': 'y8'},\n",
       "             {'hovertemplate': 'Elevator=暂无数据<br>Renovation=简装<br>Year=%{x}<br>Price=%{y}<extra></extra>',\n",
       "              'legendgroup': '暂无数据',\n",
       "              'marker': {'color': '#00cc96', 'symbol': 'circle'},\n",
       "              'mode': 'markers',\n",
       "              'name': '暂无数据',\n",
       "              'showlegend': True,\n",
       "              'type': 'scattergl',\n",
       "              'x': {'bdata': ('AAAAAACEn0AAAAAAADifQAAAAAAATJ' ... 'AAgJ9AAAAAAABkn0AAAAAAACyfQA=='),\n",
       "                    'dtype': 'f8'},\n",
       "              'xaxis': 'x',\n",
       "              'y': {'bdata': ('AAAAAACgZEAAAAAAAGBvQAAAAAAAQG' ... 'AA4HVAAAAAAAAAXkAAAAAAACBqQA=='),\n",
       "                    'dtype': 'f8'},\n",
       "              'yaxis': 'y'},\n",
       "             {'hovertemplate': 'Elevator=暂无数据<br>Renovation=精装<br>Year=%{x}<br>Price=%{y}<extra></extra>',\n",
       "              'legendgroup': '暂无数据',\n",
       "              'marker': {'color': '#00cc96', 'symbol': 'circle'},\n",
       "              'mode': 'markers',\n",
       "              'name': '暂无数据',\n",
       "              'showlegend': False,\n",
       "              'type': 'scattergl',\n",
       "              'x': {'bdata': ('AAAAAABkn0AAAAAAAHSeQAAAAAAAbJ' ... 'AAAAB4n0AAAAAAAGifQAAAAAAAdJ9A'),\n",
       "                    'dtype': 'f8'},\n",
       "              'xaxis': 'x2',\n",
       "              'y': {'bdata': ('AAAAAABgaEAAAAAAAOBuQAAAAAAAgG' ... 'AAAABgY0AAAAAAAEB6QAAAAAAAwGNA'),\n",
       "                    'dtype': 'f8'},\n",
       "              'yaxis': 'y2'}],\n",
       "    'layout': {'annotations': [{'font': {},\n",
       "                                'showarrow': False,\n",
       "                                'text': 'Renovation=简装',\n",
       "                                'x': 0.11499999999999999,\n",
       "                                'xanchor': 'center',\n",
       "                                'xref': 'paper',\n",
       "                                'y': 0.9999999999999998,\n",
       "                                'yanchor': 'bottom',\n",
       "                                'yref': 'paper'},\n",
       "                               {'font': {},\n",
       "                                'showarrow': False,\n",
       "                                'text': 'Renovation=精装',\n",
       "                                'x': 0.365,\n",
       "                                'xanchor': 'center',\n",
       "                                'xref': 'paper',\n",
       "                                'y': 0.9999999999999998,\n",
       "                                'yanchor': 'bottom',\n",
       "                                'yref': 'paper'},\n",
       "                               {'font': {},\n",
       "                                'showarrow': False,\n",
       "                                'text': 'Renovation=毛坯',\n",
       "                                'x': 0.615,\n",
       "                                'xanchor': 'center',\n",
       "                                'xref': 'paper',\n",
       "                                'y': 0.9999999999999998,\n",
       "                                'yanchor': 'bottom',\n",
       "                                'yref': 'paper'},\n",
       "                               {'font': {},\n",
       "                                'showarrow': False,\n",
       "                                'text': 'Renovation=其他',\n",
       "                                'x': 0.865,\n",
       "                                'xanchor': 'center',\n",
       "                                'xref': 'paper',\n",
       "                                'y': 0.9999999999999998,\n",
       "                                'yanchor': 'bottom',\n",
       "                                'yref': 'paper'},\n",
       "                               {'font': {},\n",
       "                                'showarrow': False,\n",
       "                                'text': 'Elevator=暂无数据',\n",
       "                                'textangle': 90,\n",
       "                                'x': 0.98,\n",
       "                                'xanchor': 'left',\n",
       "                                'xref': 'paper',\n",
       "                                'y': 0.15666666666666665,\n",
       "                                'yanchor': 'middle',\n",
       "                                'yref': 'paper'},\n",
       "                               {'font': {},\n",
       "                                'showarrow': False,\n",
       "                                'text': 'Elevator=无',\n",
       "                                'textangle': 90,\n",
       "                                'x': 0.98,\n",
       "                                'xanchor': 'left',\n",
       "                                'xref': 'paper',\n",
       "                                'y': 0.4999999999999999,\n",
       "                                'yanchor': 'middle',\n",
       "                                'yref': 'paper'},\n",
       "                               {'font': {},\n",
       "                                'showarrow': False,\n",
       "                                'text': 'Elevator=有',\n",
       "                                'textangle': 90,\n",
       "                                'x': 0.98,\n",
       "                                'xanchor': 'left',\n",
       "                                'xref': 'paper',\n",
       "                                'y': 0.8433333333333332,\n",
       "                                'yanchor': 'middle',\n",
       "                                'yref': 'paper'}],\n",
       "               'height': 600,\n",
       "               'legend': {'title': {'text': 'Elevator'}, 'tracegroupgap': 0},\n",
       "               'margin': {'t': 60},\n",
       "               'template': '...',\n",
       "               'width': 1600,\n",
       "               'xaxis': {'anchor': 'y', 'domain': [0.0, 0.22999999999999998], 'title': {'text': 'Year'}},\n",
       "               'xaxis10': {'anchor': 'y10',\n",
       "                           'domain': [0.24999999999999997, 0.48],\n",
       "                           'matches': 'x',\n",
       "                           'showticklabels': False},\n",
       "               'xaxis11': {'anchor': 'y11',\n",
       "                           'domain': [0.49999999999999994, 0.73],\n",
       "                           'matches': 'x',\n",
       "                           'showticklabels': False},\n",
       "               'xaxis12': {'anchor': 'y12', 'domain': [0.75, 0.98], 'matches': 'x', 'showticklabels': False},\n",
       "               'xaxis2': {'anchor': 'y2',\n",
       "                          'domain': [0.24999999999999997, 0.48],\n",
       "                          'matches': 'x',\n",
       "                          'title': {'text': 'Year'}},\n",
       "               'xaxis3': {'anchor': 'y3',\n",
       "                          'domain': [0.49999999999999994, 0.73],\n",
       "                          'matches': 'x',\n",
       "                          'title': {'text': 'Year'}},\n",
       "               'xaxis4': {'anchor': 'y4', 'domain': [0.75, 0.98], 'matches': 'x', 'title': {'text': 'Year'}},\n",
       "               'xaxis5': {'anchor': 'y5', 'domain': [0.0, 0.22999999999999998], 'matches': 'x', 'showticklabels': False},\n",
       "               'xaxis6': {'anchor': 'y6', 'domain': [0.24999999999999997, 0.48], 'matches': 'x', 'showticklabels': False},\n",
       "               'xaxis7': {'anchor': 'y7', 'domain': [0.49999999999999994, 0.73], 'matches': 'x', 'showticklabels': False},\n",
       "               'xaxis8': {'anchor': 'y8', 'domain': [0.75, 0.98], 'matches': 'x', 'showticklabels': False},\n",
       "               'xaxis9': {'anchor': 'y9', 'domain': [0.0, 0.22999999999999998], 'matches': 'x', 'showticklabels': False},\n",
       "               'yaxis': {'anchor': 'x', 'domain': [0.0, 0.3133333333333333], 'title': {'text': 'Price'}},\n",
       "               'yaxis10': {'anchor': 'x10',\n",
       "                           'domain': [0.6866666666666665, 0.9999999999999998],\n",
       "                           'matches': 'y',\n",
       "                           'showticklabels': False},\n",
       "               'yaxis11': {'anchor': 'x11',\n",
       "                           'domain': [0.6866666666666665, 0.9999999999999998],\n",
       "                           'matches': 'y',\n",
       "                           'showticklabels': False},\n",
       "               'yaxis12': {'anchor': 'x12',\n",
       "                           'domain': [0.6866666666666665, 0.9999999999999998],\n",
       "                           'matches': 'y',\n",
       "                           'showticklabels': False},\n",
       "               'yaxis2': {'anchor': 'x2', 'domain': [0.0, 0.3133333333333333], 'matches': 'y', 'showticklabels': False},\n",
       "               'yaxis3': {'anchor': 'x3', 'domain': [0.0, 0.3133333333333333], 'matches': 'y', 'showticklabels': False},\n",
       "               'yaxis4': {'anchor': 'x4', 'domain': [0.0, 0.3133333333333333], 'matches': 'y', 'showticklabels': False},\n",
       "               'yaxis5': {'anchor': 'x5',\n",
       "                          'domain': [0.34333333333333327, 0.6566666666666665],\n",
       "                          'matches': 'y',\n",
       "                          'title': {'text': 'Price'}},\n",
       "               'yaxis6': {'anchor': 'x6',\n",
       "                          'domain': [0.34333333333333327, 0.6566666666666665],\n",
       "                          'matches': 'y',\n",
       "                          'showticklabels': False},\n",
       "               'yaxis7': {'anchor': 'x7',\n",
       "                          'domain': [0.34333333333333327, 0.6566666666666665],\n",
       "                          'matches': 'y',\n",
       "                          'showticklabels': False},\n",
       "               'yaxis8': {'anchor': 'x8',\n",
       "                          'domain': [0.34333333333333327, 0.6566666666666665],\n",
       "                          'matches': 'y',\n",
       "                          'showticklabels': False},\n",
       "               'yaxis9': {'anchor': 'x9',\n",
       "                          'domain': [0.6866666666666665, 0.9999999999999998],\n",
       "                          'matches': 'y',\n",
       "                          'title': {'text': 'Price'}}}\n",
       "})"
      ]
     },
     "execution_count": 35,
     "metadata": {},
     "output_type": "execute_result"
    }
   ],
   "source": [
    "px.scatter(df,x=\"Year\",y=\"Price\",facet_row=\"Elevator\",facet_col=\"Renovation\",color=\"Elevator\",width=1600,height=600)"
   ]
  },
  {
   "cell_type": "markdown",
   "id": "753c7bfb",
   "metadata": {},
   "source": [
    "# 7. 模型建立与评估\n",
    "预测房屋价格\n",
    "\n",
    ">注：对有模型预测的题目，请写明数据库划分的方法、模型的选择、模型的评估及预测的结论。如没有预测，此部分可不写。"
   ]
  },
  {
   "cell_type": "code",
   "execution_count": 37,
   "id": "e78cb471",
   "metadata": {},
   "outputs": [],
   "source": [
    "encoder = LabelEncoder()\n",
    "y = df.Price\n",
    "region = encoder.fit(df.Region.unique()).transform(df.Region) # 区域\n",
    "community = encoder.fit(df.Community.unique()).transform(df.Community) # 小区\n",
    "elevator = encoder.fit(df.Elevator.unique()).transform(df.Elevator) # 有无电梯\n",
    "direction = encoder.fit(df.Direction.unique()).transform(df.Direction) # 房屋朝向\n",
    "floor = encoder.fit(df.Floor.unique()).transform(df.Floor) # 所在楼层\n",
    "layout = encoder.fit(df.Layout.unique()).transform(df.Layout) # 房屋布局(几室几厅）\n",
    "size = df.Size # 房屋面积\n",
    "renovation = encoder.fit(df.Renovation.unique()).transform(df.Renovation) # 房屋装修状况\n",
    "year = encoder.fit_transform(df.Year)\n",
    "x = np.mat([size,year,layout,floor,elevator,renovation,direction,region,community]).T\n",
    "x = np.array(x)"
   ]
  },
  {
   "cell_type": "code",
   "execution_count": 38,
   "id": "a1b0af84",
   "metadata": {},
   "outputs": [
    {
     "name": "stdout",
     "output_type": "stream",
     "text": [
      "(715, 9) (715,)\n",
      "(307, 9) (307,)\n"
     ]
    }
   ],
   "source": [
    "train_x,test_x,train_y,test_y = train_test_split(x,y,test_size=0.3, random_state=0)\n",
    "print(train_x.shape,train_y.shape)\n",
    "print(test_x.shape,test_y.shape)"
   ]
  },
  {
   "cell_type": "code",
   "execution_count": 39,
   "id": "9e0a556e",
   "metadata": {},
   "outputs": [
    {
     "name": "stdout",
     "output_type": "stream",
     "text": [
      "Fitting 2 folds for each of 20 candidates, totalling 40 fits\n",
      "[CV] END bootstrap=True, criterion=squared_error, max_depth=80, max_features=3, min_samples_leaf=1, min_samples_split=2, n_estimators=1118; total time=   0.9s\n",
      "[CV] END bootstrap=True, criterion=squared_error, max_depth=80, max_features=3, min_samples_leaf=1, min_samples_split=2, n_estimators=1118; total time=   0.9s\n",
      "[CV] END bootstrap=True, criterion=squared_error, max_depth=10, max_features=5, min_samples_leaf=4, min_samples_split=10, n_estimators=404; total time=   0.2s\n",
      "[CV] END bootstrap=True, criterion=squared_error, max_depth=10, max_features=5, min_samples_leaf=4, min_samples_split=10, n_estimators=404; total time=   0.2s\n",
      "[CV] END bootstrap=False, criterion=poisson, max_depth=20, max_features=3, min_samples_leaf=4, min_samples_split=2, n_estimators=608; total time=   0.3s\n",
      "[CV] END bootstrap=False, criterion=poisson, max_depth=20, max_features=3, min_samples_leaf=4, min_samples_split=2, n_estimators=608; total time=   0.3s\n",
      "[CV] END bootstrap=False, criterion=squared_error, max_depth=30, max_features=5, min_samples_leaf=4, min_samples_split=10, n_estimators=934; total time=   0.6s\n",
      "[CV] END bootstrap=False, criterion=squared_error, max_depth=30, max_features=5, min_samples_leaf=4, min_samples_split=10, n_estimators=934; total time=   0.6s\n",
      "[CV] END bootstrap=True, criterion=squared_error, max_depth=30, max_features=sqrt, min_samples_leaf=4, min_samples_split=10, n_estimators=506; total time=   0.3s\n",
      "[CV] END bootstrap=True, criterion=squared_error, max_depth=30, max_features=sqrt, min_samples_leaf=4, min_samples_split=10, n_estimators=506; total time=   0.2s\n",
      "[CV] END bootstrap=False, criterion=poisson, max_depth=40, max_features=sqrt, min_samples_leaf=1, min_samples_split=2, n_estimators=934; total time=   1.0s\n",
      "[CV] END bootstrap=False, criterion=poisson, max_depth=40, max_features=sqrt, min_samples_leaf=1, min_samples_split=2, n_estimators=934; total time=   0.9s\n",
      "[CV] END bootstrap=True, criterion=poisson, max_depth=60, max_features=8, min_samples_leaf=2, min_samples_split=10, n_estimators=1097; total time=   1.0s\n",
      "[CV] END bootstrap=True, criterion=poisson, max_depth=60, max_features=8, min_samples_leaf=2, min_samples_split=10, n_estimators=1097; total time=   1.1s\n",
      "[CV] END bootstrap=False, criterion=poisson, max_depth=60, max_features=log2, min_samples_leaf=2, min_samples_split=2, n_estimators=1179; total time=   0.9s\n",
      "[CV] END bootstrap=False, criterion=poisson, max_depth=60, max_features=log2, min_samples_leaf=2, min_samples_split=2, n_estimators=1179; total time=   0.9s\n",
      "[CV] END bootstrap=True, criterion=poisson, max_depth=90, max_features=sqrt, min_samples_leaf=1, min_samples_split=2, n_estimators=832; total time=   0.7s\n",
      "[CV] END bootstrap=True, criterion=poisson, max_depth=90, max_features=sqrt, min_samples_leaf=1, min_samples_split=2, n_estimators=832; total time=   0.7s\n",
      "[CV] END bootstrap=False, criterion=squared_error, max_depth=50, max_features=sqrt, min_samples_leaf=4, min_samples_split=10, n_estimators=465; total time=   0.2s\n",
      "[CV] END bootstrap=False, criterion=squared_error, max_depth=50, max_features=sqrt, min_samples_leaf=4, min_samples_split=10, n_estimators=465; total time=   0.2s\n",
      "[CV] END bootstrap=True, criterion=squared_error, max_depth=80, max_features=3, min_samples_leaf=2, min_samples_split=10, n_estimators=669; total time=   0.3s\n",
      "[CV] END bootstrap=True, criterion=squared_error, max_depth=80, max_features=3, min_samples_leaf=2, min_samples_split=10, n_estimators=669; total time=   0.3s\n",
      "[CV] END bootstrap=True, criterion=poisson, max_depth=80, max_features=5, min_samples_leaf=1, min_samples_split=10, n_estimators=1016; total time=   1.0s\n",
      "[CV] END bootstrap=True, criterion=poisson, max_depth=80, max_features=5, min_samples_leaf=1, min_samples_split=10, n_estimators=1016; total time=   0.8s\n",
      "[CV] END bootstrap=False, criterion=squared_error, max_depth=80, max_features=log2, min_samples_leaf=2, min_samples_split=2, n_estimators=628; total time=   0.3s\n",
      "[CV] END bootstrap=False, criterion=squared_error, max_depth=80, max_features=log2, min_samples_leaf=2, min_samples_split=2, n_estimators=628; total time=   0.3s\n",
      "[CV] END bootstrap=False, criterion=squared_error, max_depth=70, max_features=log2, min_samples_leaf=1, min_samples_split=2, n_estimators=608; total time=   0.4s\n",
      "[CV] END bootstrap=False, criterion=squared_error, max_depth=70, max_features=log2, min_samples_leaf=1, min_samples_split=2, n_estimators=608; total time=   0.4s\n",
      "[CV] END bootstrap=True, criterion=squared_error, max_depth=10, max_features=5, min_samples_leaf=4, min_samples_split=2, n_estimators=587; total time=   0.4s\n",
      "[CV] END bootstrap=True, criterion=squared_error, max_depth=10, max_features=5, min_samples_leaf=4, min_samples_split=2, n_estimators=587; total time=   0.4s\n",
      "[CV] END bootstrap=False, criterion=squared_error, max_depth=50, max_features=8, min_samples_leaf=4, min_samples_split=2, n_estimators=914; total time=   0.8s\n",
      "[CV] END bootstrap=False, criterion=squared_error, max_depth=50, max_features=8, min_samples_leaf=4, min_samples_split=2, n_estimators=914; total time=   0.9s\n",
      "[CV] END bootstrap=False, criterion=squared_error, max_depth=60, max_features=log2, min_samples_leaf=4, min_samples_split=10, n_estimators=302; total time=   0.1s\n",
      "[CV] END bootstrap=False, criterion=squared_error, max_depth=60, max_features=log2, min_samples_leaf=4, min_samples_split=10, n_estimators=302; total time=   0.1s\n",
      "[CV] END bootstrap=False, criterion=squared_error, max_depth=70, max_features=log2, min_samples_leaf=1, min_samples_split=10, n_estimators=710; total time=   0.4s\n",
      "[CV] END bootstrap=False, criterion=squared_error, max_depth=70, max_features=log2, min_samples_leaf=1, min_samples_split=10, n_estimators=710; total time=   0.3s\n",
      "[CV] END bootstrap=False, criterion=squared_error, max_depth=90, max_features=5, min_samples_leaf=1, min_samples_split=2, n_estimators=587; total time=   0.6s\n",
      "[CV] END bootstrap=False, criterion=squared_error, max_depth=90, max_features=5, min_samples_leaf=1, min_samples_split=2, n_estimators=587; total time=   0.5s\n",
      "[CV] END bootstrap=True, criterion=squared_error, max_depth=30, max_features=5, min_samples_leaf=4, min_samples_split=5, n_estimators=424; total time=   0.3s\n",
      "[CV] END bootstrap=True, criterion=squared_error, max_depth=30, max_features=5, min_samples_leaf=4, min_samples_split=5, n_estimators=424; total time=   0.2s\n",
      "{'n_estimators': 587, 'min_samples_split': 2, 'min_samples_leaf': 1, 'max_features': 5, 'max_depth': 90, 'criterion': 'squared_error', 'bootstrap': False}\n"
     ]
    }
   ],
   "source": [
    "n_estimators = [int(x) for x in np.linspace(start=200, stop=1200, num=50)]\n",
    "max_features = ['auto', 'sqrt']\n",
    "max_depth = [int(x) for x in np.linspace(10, 100, num=10)]\n",
    "max_depth.append(None)\n",
    "min_samples_split = [2, 5, 10]\n",
    "min_samples_leaf = [1, 2, 4]\n",
    "bootstrap = [True, False]\n",
    "random_grid = {\n",
    "        'criterion': [\"squared_error\",\"poisson\"],\n",
    "       'n_estimators': n_estimators,\n",
    "       'max_features': [3, 5, 8, 'sqrt', 'log2'],\n",
    "       'max_depth': max_depth,\n",
    "       'min_samples_split': min_samples_split,\n",
    "       'min_samples_leaf': min_samples_leaf,\n",
    "       'bootstrap': bootstrap\n",
    "    }\n",
    "# 构建模型\n",
    "clf = RandomForestRegressor()\n",
    "clf_random = RandomizedSearchCV(estimator=clf, param_distributions=random_grid,n_iter=20,cv=2, verbose=2, random_state=42, n_jobs=1)\n",
    "# 回归\n",
    "clf_random.fit(train_x, train_y)\n",
    "print(clf_random.best_params_)"
   ]
  },
  {
   "cell_type": "code",
   "execution_count": 44,
   "id": "fe746622",
   "metadata": {},
   "outputs": [
    {
     "name": "stdout",
     "output_type": "stream",
     "text": [
      "[0.44120121 0.07357975 0.18467578 0.02401468 0.02784104 0.02815223\n",
      " 0.01891946 0.13545046 0.06616538]\n",
      "决策树模型评估--训练集：\n",
      "训练r^2: 0.969078014804104\n",
      "均方差 3449.6992169569867\n",
      "绝对差 32.621419093618\n",
      "解释度 0.969078014804104\n",
      "决策树模型评估--验证集：\n",
      "验证r^2: 0.6726269984879591\n",
      "均方差 32296.695892159216\n",
      "绝对差 113.39094570184523\n",
      "解释度 0.6726889524438477\n",
      "  Community Region    Size  Year Layout Floor Elevator Renovation Direction  \\\n",
      "0  草桥东路16号楼     丰台   63.45   NaN   2室1厅   中楼层        有         简装        南北   \n",
      "1    富力惠兰美居     通州   77.73   NaN   2室1厅   高楼层        有         精装       东西北   \n",
      "2     田家园小区     房山  116.97   NaN   3室2厅   中楼层        无         精装        南北   \n",
      "3   八里庄北里小区     朝阳   82.78   NaN   3室1厅   中楼层        有         精装        东西   \n",
      "4    世纪星城三期     通州   99.51   NaN   2室2厅   高楼层        有         精装        南北   \n",
      "\n",
      "   Price  PrePrice  \n",
      "0  386.0    370.14  \n",
      "1  239.0    507.37  \n",
      "2  142.0    455.27  \n",
      "3  369.0    374.56  \n",
      "4  459.0    564.43  \n"
     ]
    }
   ],
   "source": [
    "rf = RandomForestRegressor(n_estimators=853, min_samples_split=2, min_samples_leaf=2,max_features='log2',max_depth=90, bootstrap=False)\n",
    "rf.fit(train_x,train_y)\n",
    "train_y_pred = rf.predict(train_x)\n",
    "test_y_pred = rf.predict(test_x)\n",
    "print(rf.feature_importances_)\n",
    "print(\"决策树模型评估--训练集：\")\n",
    "print('训练r^2:', rf.score(train_x, train_y))\n",
    "print('均方差', mean_squared_error(train_y, train_y_pred))\n",
    "print('绝对差', mean_absolute_error(train_y, train_y_pred))\n",
    "print('解释度', explained_variance_score(train_y, train_y_pred))\n",
    "\n",
    "print(\"决策树模型评估--验证集：\")\n",
    "print('验证r^2:', rf.score(test_x, test_y))\n",
    "print('均方差', mean_squared_error(test_y, test_y_pred))\n",
    "print('绝对差', mean_absolute_error(test_y, test_y_pred))\n",
    "print('解释度', explained_variance_score(test_y, test_y_pred))\n",
    "df_pre = pd.read_csv(\"pre-checkpoint.csv\")\n",
    "region = encoder.fit(df_pre.Region.unique()).transform(df_pre.Region)  # 区域\n",
    "community = encoder.fit(df_pre.Community.unique()).transform(df_pre.Community)  # 小区\n",
    "elevator = encoder.fit(df_pre.Elevator.unique()).transform(df_pre.Elevator)  # 有无电梯\n",
    "direction = encoder.fit(df_pre.Direction.unique()).transform(df_pre.Direction)  # 房屋朝向\n",
    "floor = encoder.fit(df_pre.Floor.unique()).transform(df_pre.Floor)  # 所在楼层\n",
    "layout = encoder.fit(df_pre.Layout.unique()).transform(df_pre.Layout)  # 房屋布局(几室几厅）\n",
    "size = df_pre.Size  # 房屋面积\n",
    "renovation = encoder.fit(df_pre.Renovation.unique()).transform(df_pre.Renovation)  # 房屋装修状况\n",
    "year = encoder.fit_transform(df_pre.Year)\n",
    "x_pre = np.mat([size, year, layout, floor, elevator, renovation, direction, region, community]).T\n",
    "x_pre = np.array(x_pre)\n",
    "y_pred = rf.predict(x_pre)\n",
    "result = pd.DataFrame()\n",
    "result['Community'] = df_pre.Community\n",
    "result[\"Region\"] = df_pre.Region\n",
    "result[\"Size\"] = df_pre.Size\n",
    "result[\"Year\"] = df_pre.Year\n",
    "result[\"Layout\"] = df_pre.Layout\n",
    "result[\"Floor\"] = df_pre.Floor\n",
    "result[\"Elevator\"] = df_pre.Elevator\n",
    "result[\"Renovation\"] = df_pre.Renovation\n",
    "result[\"Direction\"] = df_pre.Direction\n",
    "result[\"Price\"] = df_pre.Price\n",
    "result[\"PrePrice\"] = y_pred.round(2)\n",
    "print(result.head())\n",
    "result.to_csv(\"result-checkpoint.csv\", index=False,encoding=\"utf-8\")"
   ]
  },
  {
   "cell_type": "code",
   "execution_count": 45,
   "id": "4126e398",
   "metadata": {},
   "outputs": [
    {
     "data": {
      "text/html": [
       "<div>\n",
       "<style scoped>\n",
       "    .dataframe tbody tr th:only-of-type {\n",
       "        vertical-align: middle;\n",
       "    }\n",
       "\n",
       "    .dataframe tbody tr th {\n",
       "        vertical-align: top;\n",
       "    }\n",
       "\n",
       "    .dataframe thead th {\n",
       "        text-align: right;\n",
       "    }\n",
       "</style>\n",
       "<table border=\"1\" class=\"dataframe\">\n",
       "  <thead>\n",
       "    <tr style=\"text-align: right;\">\n",
       "      <th></th>\n",
       "      <th>ID</th>\n",
       "      <th>Direction</th>\n",
       "      <th>Community</th>\n",
       "      <th>Elevator</th>\n",
       "      <th>Floor</th>\n",
       "      <th>TotalFloor</th>\n",
       "      <th>Layout</th>\n",
       "      <th>Price</th>\n",
       "      <th>Region</th>\n",
       "      <th>Renovation</th>\n",
       "      <th>Size</th>\n",
       "      <th>Year</th>\n",
       "      <th>PerPrice</th>\n",
       "    </tr>\n",
       "  </thead>\n",
       "  <tbody>\n",
       "    <tr>\n",
       "      <th>0</th>\n",
       "      <td>101122188414</td>\n",
       "      <td>南北</td>\n",
       "      <td>首开常青藤二期</td>\n",
       "      <td>有</td>\n",
       "      <td>低楼层</td>\n",
       "      <td>6</td>\n",
       "      <td>3室1厅</td>\n",
       "      <td>650.0</td>\n",
       "      <td>朝阳</td>\n",
       "      <td>简装</td>\n",
       "      <td>91.19</td>\n",
       "      <td>2013.0</td>\n",
       "      <td>71279.745586</td>\n",
       "    </tr>\n",
       "    <tr>\n",
       "      <th>2</th>\n",
       "      <td>101121548718</td>\n",
       "      <td>西</td>\n",
       "      <td>万年花城三期</td>\n",
       "      <td>有</td>\n",
       "      <td>底层</td>\n",
       "      <td>16</td>\n",
       "      <td>2室1厅</td>\n",
       "      <td>420.0</td>\n",
       "      <td>丰台</td>\n",
       "      <td>精装</td>\n",
       "      <td>79.89</td>\n",
       "      <td>2006.0</td>\n",
       "      <td>52572.286894</td>\n",
       "    </tr>\n",
       "    <tr>\n",
       "      <th>3</th>\n",
       "      <td>101123385956</td>\n",
       "      <td>南</td>\n",
       "      <td>中海金玺公馆</td>\n",
       "      <td>有</td>\n",
       "      <td>高楼层</td>\n",
       "      <td>15</td>\n",
       "      <td>2室1厅</td>\n",
       "      <td>598.0</td>\n",
       "      <td>石景山</td>\n",
       "      <td>简装</td>\n",
       "      <td>89.78</td>\n",
       "      <td>2017.0</td>\n",
       "      <td>66607.262196</td>\n",
       "    </tr>\n",
       "    <tr>\n",
       "      <th>5</th>\n",
       "      <td>101123004780</td>\n",
       "      <td>南北</td>\n",
       "      <td>看丹路10号院</td>\n",
       "      <td>无</td>\n",
       "      <td>底层</td>\n",
       "      <td>6</td>\n",
       "      <td>3室1厅</td>\n",
       "      <td>285.0</td>\n",
       "      <td>丰台</td>\n",
       "      <td>简装</td>\n",
       "      <td>60.08</td>\n",
       "      <td>1980.0</td>\n",
       "      <td>47436.750999</td>\n",
       "    </tr>\n",
       "    <tr>\n",
       "      <th>7</th>\n",
       "      <td>101123799030</td>\n",
       "      <td>西南北</td>\n",
       "      <td>恒兴大厦</td>\n",
       "      <td>有</td>\n",
       "      <td>低楼层</td>\n",
       "      <td>25</td>\n",
       "      <td>3室1厅</td>\n",
       "      <td>1205.0</td>\n",
       "      <td>海淀</td>\n",
       "      <td>精装</td>\n",
       "      <td>143.92</td>\n",
       "      <td>2000.0</td>\n",
       "      <td>83727.070595</td>\n",
       "    </tr>\n",
       "  </tbody>\n",
       "</table>\n",
       "</div>"
      ],
      "text/plain": [
       "             ID Direction Community Elevator Floor  TotalFloor Layout   Price  \\\n",
       "0  101122188414        南北   首开常青藤二期        有   低楼层           6   3室1厅   650.0   \n",
       "2  101121548718         西    万年花城三期        有    底层          16   2室1厅   420.0   \n",
       "3  101123385956         南    中海金玺公馆        有   高楼层          15   2室1厅   598.0   \n",
       "5  101123004780        南北   看丹路10号院        无    底层           6   3室1厅   285.0   \n",
       "7  101123799030       西南北      恒兴大厦        有   低楼层          25   3室1厅  1205.0   \n",
       "\n",
       "  Region Renovation    Size    Year      PerPrice  \n",
       "0     朝阳         简装   91.19  2013.0  71279.745586  \n",
       "2     丰台         精装   79.89  2006.0  52572.286894  \n",
       "3    石景山         简装   89.78  2017.0  66607.262196  \n",
       "5     丰台         简装   60.08  1980.0  47436.750999  \n",
       "7     海淀         精装  143.92  2000.0  83727.070595  "
      ]
     },
     "execution_count": 45,
     "metadata": {},
     "output_type": "execute_result"
    }
   ],
   "source": [
    "df.head()"
   ]
  },
  {
   "cell_type": "code",
   "execution_count": 46,
   "id": "484bcc83",
   "metadata": {},
   "outputs": [
    {
     "data": {
      "text/plain": [
       "[10, 20, 30, 40, 50, 60, 70, 80, 90, 100, 'sqrt', 'log2']"
      ]
     },
     "execution_count": 46,
     "metadata": {},
     "output_type": "execute_result"
    }
   ],
   "source": [
    "max_features = [int(x) for x in np.linspace(10, 100, num = 10)]\n",
    "max_features.append('sqrt')\n",
    "max_features.append('log2')\n",
    "max_features"
   ]
  },
  {
   "cell_type": "markdown",
   "id": "40c8803b",
   "metadata": {},
   "source": [
    "# 8. 总结\n"
   ]
  },
  {
   "cell_type": "code",
   "execution_count": null,
   "id": "bc552299",
   "metadata": {},
   "outputs": [],
   "source": []
  }
 ],
 "metadata": {
  "kernelspec": {
   "display_name": "Python 3",
   "language": "python",
   "name": "python3"
  },
  "language_info": {
   "codemirror_mode": {
    "name": "ipython",
    "version": 3
   },
   "file_extension": ".py",
   "mimetype": "text/x-python",
   "name": "python",
   "nbconvert_exporter": "python",
   "pygments_lexer": "ipython3",
   "version": "3.12.2"
  },
  "toc": {
   "base_numbering": 1,
   "nav_menu": {},
   "number_sections": false,
   "sideBar": false,
   "skip_h1_title": false,
   "title_cell": "Table of Contents",
   "title_sidebar": "Contents",
   "toc_cell": false,
   "toc_position": {},
   "toc_section_display": true,
   "toc_window_display": false
  }
 },
 "nbformat": 4,
 "nbformat_minor": 5
}
